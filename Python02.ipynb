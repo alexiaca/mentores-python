{
  "nbformat": 4,
  "nbformat_minor": 0,
  "metadata": {
    "colab": {
      "name": "Python01.ipynb",
      "provenance": [],
      "toc_visible": true,
      "authorship_tag": "ABX9TyN4pYWyzpQzvlo1LKf8I6hj",
      "include_colab_link": true
    },
    "kernelspec": {
      "name": "python3",
      "display_name": "Python 3"
    }
  },
  "cells": [
    {
      "cell_type": "markdown",
      "metadata": {
        "id": "view-in-github",
        "colab_type": "text"
      },
      "source": [
        "<a href=\"https://colab.research.google.com/github/alexiaca/mentores-python/blob/master/Python02.ipynb\" target=\"_parent\"><img src=\"https://colab.research.google.com/assets/colab-badge.svg\" alt=\"Open In Colab\"/></a>"
      ]
    },
    {
      "cell_type": "markdown",
      "metadata": {
        "id": "bHIlw65UJh59",
        "colab_type": "text"
      },
      "source": [
        "# Introdução à Linguagem de Programação Python\n",
        "Python é uma linguagem de programação fácil de aprender, que possui uma leitura fácil e consequentemente uma fácil compreensão do seu código quando comparado a outras linguagens de programação. É utilizada em diversas universidades ao redor do mundo em cursos introdutórios à programação de computadores."
      ]
    },
    {
      "cell_type": "markdown",
      "metadata": {
        "id": "pH17PKkN6Tnk",
        "colab_type": "text"
      },
      "source": [
        "## Por que aprender a programar computadores?\n",
        "\n",
        "Programação promove a criatividade, o raciocínio e a solução de problemas. O programador tem a oportunidade de criar alguma coisa do nada, usando a lógica para construindo um programa que o computador pode executar e quando as coisas não funcionarem como esperado, ele pode usar a solução de problemas para descobrir o que deu errado. Programar é uma atividade divertida, às vezes desafiadora e ocasionalmente frustrante. As habilidades aprendidas com ela podem ser úteis tanto na escola como no trabalho, mesmo que sua carreira não tenha nada a ver com computadores."
      ]
    },
    {
      "cell_type": "markdown",
      "metadata": {
        "id": "molFxCf-Avgn",
        "colab_type": "text"
      },
      "source": [
        "##Como aprender a programar?\n",
        "\n",
        "Como qualquer coisa que você tenta pela primeira vez, é sempre melhor começar com o básico. \n",
        "Experimente cada um dos exemplos disponibilizados no curso, para que você possa ver como funcionam. Lembre-se de quando melhor você aprender o básico, mais fácil fica entender os conceitos mais complicados.\n",
        "\n",
        "Quando você achar alguma coisa frustrante ou muito difícil, tente isso:\n",
        "1. Divida o problema em partes menores. Tente entender o que um pequeno pedaço do código faz ou pense somente sobre pedaço difícil do código (tente se concentrar em uma pequena parte do código ao invés de tentar entender tudo de uma vez).\n",
        "2. Se isso não te ajudar, as vezes é melhor deixar de lado por um tempo e retomar em um outro momento.\n",
        "3. Lembre-se, aprender a programar é um maravilhoso exercício mental e os resultados podem ser muito gratificantes."
      ]
    },
    {
      "cell_type": "markdown",
      "metadata": {
        "id": "kj7XzKgmCGNg",
        "colab_type": "text"
      },
      "source": [
        "#Começando com Python\n",
        "\n",
        "**Nota:** Como estamos usando o ambiente Colab para aprender a programar em Python, precisamos saber que ao criar um novo *Colab notebook*, por padrão, ele será criado para a versão 3.0 da linguagem Python.\n",
        "Você pode verificar isso, clicando no menu *Edit*, na opção *Notebook settings*.\n",
        "\n",
        "Grande parte dos programadores, quando estão aprendendo uma nova linguagem de programação, cameçam com um \"Hello \n",
        "world!\". Basicamente, é uma trandição quando se está iniciando em uma nova linguagem de programação. \n",
        "Então, não vamos mudar está tradição."
      ]
    },
    {
      "cell_type": "code",
      "metadata": {
        "id": "W2rk4l6yCzO5",
        "colab_type": "code",
        "colab": {
          "base_uri": "https://localhost:8080/",
          "height": 35
        },
        "outputId": "9f174cda-665e-4302-82fe-9cbec0c44e11"
      },
      "source": [
        "print (\"Hello World!\")"
      ],
      "execution_count": 2,
      "outputs": [
        {
          "output_type": "stream",
          "text": [
            "Hello World!\n"
          ],
          "name": "stdout"
        }
      ]
    },
    {
      "cell_type": "markdown",
      "metadata": {
        "id": "ff5KB-WODM3Y",
        "colab_type": "text"
      },
      "source": [
        "Se você executar está única linha de código, poderá ver na sua saída a mensagem que está entre aspas.\n",
        "Depois que você executar, mude o código do programa para que ele imprima a mensagem: \n",
        "*Projeto Mentores - Linguagem de programação Python para soluções de problemas*"
      ]
    },
    {
      "cell_type": "markdown",
      "metadata": {
        "id": "RNfKUIB4K5uq",
        "colab_type": "text"
      },
      "source": [
        "#Operações matemáticas básicas\n",
        "Python pode ser usado como uma calculadora, fazendo cálculos simples. Basta digitar uma expressão matemática e o Python realizará o cálculo para você. Você pode realizar **adições** e **subtrações** utilizando os operadores **“+”** e **“-”**.\n",
        "Vejamos alguns exemplos:"
      ]
    },
    {
      "cell_type": "code",
      "metadata": {
        "id": "q0arsyiEYzLY",
        "colab_type": "code",
        "colab": {
          "base_uri": "https://localhost:8080/",
          "height": 35
        },
        "outputId": "2d072ccb-f752-4061-97cb-7827726a2e48"
      },
      "source": [
        "1 + 3"
      ],
      "execution_count": 2,
      "outputs": [
        {
          "output_type": "execute_result",
          "data": {
            "text/plain": [
              "4"
            ]
          },
          "metadata": {
            "tags": []
          },
          "execution_count": 2
        }
      ]
    },
    {
      "cell_type": "code",
      "metadata": {
        "id": "dERPWR6qZHos",
        "colab_type": "code",
        "colab": {
          "base_uri": "https://localhost:8080/",
          "height": 35
        },
        "outputId": "3a9970d8-775c-4111-d624-8ec57986b209"
      },
      "source": [
        "4567 + 345"
      ],
      "execution_count": 3,
      "outputs": [
        {
          "output_type": "execute_result",
          "data": {
            "text/plain": [
              "4912"
            ]
          },
          "metadata": {
            "tags": []
          },
          "execution_count": 3
        }
      ]
    },
    {
      "cell_type": "code",
      "metadata": {
        "id": "5EvVzdLVZKFT",
        "colab_type": "code",
        "colab": {
          "base_uri": "https://localhost:8080/",
          "height": 35
        },
        "outputId": "8017f38d-bd77-4471-e037-908e2577801f"
      },
      "source": [
        "827 - 27"
      ],
      "execution_count": 4,
      "outputs": [
        {
          "output_type": "execute_result",
          "data": {
            "text/plain": [
              "800"
            ]
          },
          "metadata": {
            "tags": []
          },
          "execution_count": 4
        }
      ]
    },
    {
      "cell_type": "code",
      "metadata": {
        "id": "z17SDIDIZMH4",
        "colab_type": "code",
        "colab": {
          "base_uri": "https://localhost:8080/",
          "height": 35
        },
        "outputId": "84d8e3f3-6b39-474e-d280-65d5cf3fd0a6"
      },
      "source": [
        "827 - 27 + 45"
      ],
      "execution_count": 5,
      "outputs": [
        {
          "output_type": "execute_result",
          "data": {
            "text/plain": [
              "845"
            ]
          },
          "metadata": {
            "tags": []
          },
          "execution_count": 5
        }
      ]
    },
    {
      "cell_type": "markdown",
      "metadata": {
        "id": "3kcv3TxJZVEF",
        "colab_type": "text"
      },
      "source": [
        "**Dica:** Para resolver as questões proprostas, selecione a célula texto referente a questão e em seguida clique no botão **+Code**, localizado no topo esquerdo da barra de ferramentas. Será adicionado uma célula código, onde você deverá escrever o código para a resolução do problema.\n",
        "\n",
        "**Observação:** Os problemas a seguir foram retirados da apostila disponível no site da OBMEP, Iniciação à Aritmética de Abramo Hefez.\n",
        "\n",
        "Agora, resolva esses problemas:"
      ]
    },
    {
      "cell_type": "markdown",
      "metadata": {
        "id": "ldjaDea0bkz-",
        "colab_type": "text"
      },
      "source": [
        " 1. Quantos números naturais existem maiores ou iguais a 37 e menores ou iguais a 72?"
      ]
    },
    {
      "cell_type": "code",
      "metadata": {
        "id": "ts-8o_aGRQG9",
        "colab_type": "code",
        "colab": {}
      },
      "source": [
        ""
      ],
      "execution_count": 0,
      "outputs": []
    },
    {
      "cell_type": "markdown",
      "metadata": {
        "id": "vZ7KnxyrbnYg",
        "colab_type": "text"
      },
      "source": [
        "2. Quantos números naturais existem em cada um dos intervalos (32, 75], [32, 75) e (32, 75)?"
      ]
    },
    {
      "cell_type": "code",
      "metadata": {
        "id": "0W498ZWDRRSd",
        "colab_type": "code",
        "colab": {}
      },
      "source": [
        ""
      ],
      "execution_count": 0,
      "outputs": []
    },
    {
      "cell_type": "markdown",
      "metadata": {
        "id": "J0JkeAhsfoNF",
        "colab_type": "text"
      },
      "source": [
        "3. Descubra quantos múltiplos de 7 existem entre 14 e 7 000, inclusive."
      ]
    },
    {
      "cell_type": "code",
      "metadata": {
        "id": "-gj7FBf-RSD2",
        "colab_type": "code",
        "colab": {}
      },
      "source": [
        ""
      ],
      "execution_count": 0,
      "outputs": []
    },
    {
      "cell_type": "markdown",
      "metadata": {
        "id": "5858lzJye0Jy",
        "colab_type": "text"
      },
      "source": [
        "Para multiplicar, use o operador de **multiplicação (*)**."
      ]
    },
    {
      "cell_type": "code",
      "metadata": {
        "id": "KENjEmfZe34l",
        "colab_type": "code",
        "colab": {
          "base_uri": "https://localhost:8080/",
          "height": 35
        },
        "outputId": "a6d8d9a1-f124-441c-9bbf-21b338df40b2"
      },
      "source": [
        "3 * 2"
      ],
      "execution_count": 6,
      "outputs": [
        {
          "output_type": "execute_result",
          "data": {
            "text/plain": [
              "6"
            ]
          },
          "metadata": {
            "tags": []
          },
          "execution_count": 6
        }
      ]
    },
    {
      "cell_type": "code",
      "metadata": {
        "id": "SjUT91r0e8kl",
        "colab_type": "code",
        "colab": {
          "base_uri": "https://localhost:8080/",
          "height": 35
        },
        "outputId": "bebc2ae4-25c1-4c66-dc87-5dafd4f2bc69"
      },
      "source": [
        "3.5 * 1.5"
      ],
      "execution_count": 7,
      "outputs": [
        {
          "output_type": "execute_result",
          "data": {
            "text/plain": [
              "5.25"
            ]
          },
          "metadata": {
            "tags": []
          },
          "execution_count": 7
        }
      ]
    },
    {
      "cell_type": "markdown",
      "metadata": {
        "id": "rOFdM8urfG5X",
        "colab_type": "text"
      },
      "source": [
        "Agora, resolva esse problema:"
      ]
    },
    {
      "cell_type": "markdown",
      "metadata": {
        "id": "R1XOYNebfIYN",
        "colab_type": "text"
      },
      "source": [
        "4.Considere dois múltiplos de um mesmo número natural, por exemplo 6 × 12 e 3 × 12, qual é o resultado da soma desses dois números?"
      ]
    },
    {
      "cell_type": "code",
      "metadata": {
        "id": "cqULsBf3RUA6",
        "colab_type": "code",
        "colab": {}
      },
      "source": [
        ""
      ],
      "execution_count": 0,
      "outputs": []
    },
    {
      "cell_type": "markdown",
      "metadata": {
        "id": "AXbVg6wn9mBL",
        "colab_type": "text"
      },
      "source": [
        "Para dividir, use o operador de **divisão (/)**."
      ]
    },
    {
      "cell_type": "code",
      "metadata": {
        "id": "nbqZxiZY9vYU",
        "colab_type": "code",
        "colab": {
          "base_uri": "https://localhost:8080/",
          "height": 35
        },
        "outputId": "7859d5af-4a9b-4916-be06-dfa60f4b03f1"
      },
      "source": [
        "3 / 2"
      ],
      "execution_count": 8,
      "outputs": [
        {
          "output_type": "execute_result",
          "data": {
            "text/plain": [
              "1.5"
            ]
          },
          "metadata": {
            "tags": []
          },
          "execution_count": 8
        }
      ]
    },
    {
      "cell_type": "code",
      "metadata": {
        "id": "cnRrVZd69zTQ",
        "colab_type": "code",
        "colab": {
          "base_uri": "https://localhost:8080/",
          "height": 35
        },
        "outputId": "4eeaa624-ee48-40ab-f393-e556bca66d66"
      },
      "source": [
        "4 / 2"
      ],
      "execution_count": 9,
      "outputs": [
        {
          "output_type": "execute_result",
          "data": {
            "text/plain": [
              "2.0"
            ]
          },
          "metadata": {
            "tags": []
          },
          "execution_count": 9
        }
      ]
    },
    {
      "cell_type": "markdown",
      "metadata": {
        "id": "DcbKxRUf-h9E",
        "colab_type": "text"
      },
      "source": [
        "Como você pode ver, quando pedimos ao Python para realizar uma divisão, ele retorna a parte fracionada dos números. Se você quiser que o resultado seja um inteiro, com qualquer valor decimal removido, você pode usar o operador **parte inteira (//)**.\n"
      ]
    },
    {
      "cell_type": "code",
      "metadata": {
        "id": "qaUXjjv8-jcJ",
        "colab_type": "code",
        "colab": {
          "base_uri": "https://localhost:8080/",
          "height": 35
        },
        "outputId": "851dc6eb-e2ae-4d28-a4bb-73d3aa8880b5"
      },
      "source": [
        "3 // 2"
      ],
      "execution_count": 10,
      "outputs": [
        {
          "output_type": "execute_result",
          "data": {
            "text/plain": [
              "1"
            ]
          },
          "metadata": {
            "tags": []
          },
          "execution_count": 10
        }
      ]
    },
    {
      "cell_type": "markdown",
      "metadata": {
        "id": "20FfWGOa_m_f",
        "colab_type": "text"
      },
      "source": [
        "O operador **parte inteira** divide o primeiro número pelo segundo número e arredonda para baixo o resultado. Isto fica interessante quando um dos números é negativo. Por exemplo: "
      ]
    },
    {
      "cell_type": "code",
      "metadata": {
        "id": "M3wEcoJ1AAtK",
        "colab_type": "code",
        "colab": {
          "base_uri": "https://localhost:8080/",
          "height": 35
        },
        "outputId": "63809490-8b7e-45ca-f91c-36f09f73d15b"
      },
      "source": [
        "-3 // 2"
      ],
      "execution_count": 20,
      "outputs": [
        {
          "output_type": "execute_result",
          "data": {
            "text/plain": [
              "-2"
            ]
          },
          "metadata": {
            "tags": []
          },
          "execution_count": 20
        }
      ]
    },
    {
      "cell_type": "markdown",
      "metadata": {
        "id": "7t04bpEsAm10",
        "colab_type": "text"
      },
      "source": [
        "Agora, se você quiser o resto de uma divisão é só usar o operador **módulo (%)**."
      ]
    },
    {
      "cell_type": "code",
      "metadata": {
        "id": "SzGH5H5XAsMx",
        "colab_type": "code",
        "colab": {
          "base_uri": "https://localhost:8080/",
          "height": 35
        },
        "outputId": "c1069b80-4711-4a32-ded9-e47cd36f976f"
      },
      "source": [
        "9 % 2"
      ],
      "execution_count": 13,
      "outputs": [
        {
          "output_type": "execute_result",
          "data": {
            "text/plain": [
              "1"
            ]
          },
          "metadata": {
            "tags": []
          },
          "execution_count": 13
        }
      ]
    },
    {
      "cell_type": "markdown",
      "metadata": {
        "id": "R_60hUwwBGQf",
        "colab_type": "text"
      },
      "source": [
        "Para calcular o valor exponencial de um número, use o operador de **exponenciação ($**$)**."
      ]
    },
    {
      "cell_type": "code",
      "metadata": {
        "id": "7DVe6WztBx5p",
        "colab_type": "code",
        "colab": {
          "base_uri": "https://localhost:8080/",
          "height": 35
        },
        "outputId": "7f7c4780-b927-422c-fbec-6e83f74f0897"
      },
      "source": [
        "2 ** 2"
      ],
      "execution_count": 14,
      "outputs": [
        {
          "output_type": "execute_result",
          "data": {
            "text/plain": [
              "4"
            ]
          },
          "metadata": {
            "tags": []
          },
          "execution_count": 14
        }
      ]
    },
    {
      "cell_type": "code",
      "metadata": {
        "id": "-Ok7qZujB0Cz",
        "colab_type": "code",
        "colab": {
          "base_uri": "https://localhost:8080/",
          "height": 35
        },
        "outputId": "f89d0056-d872-40cf-8b51-c70eb0852e55"
      },
      "source": [
        "2 ** 10"
      ],
      "execution_count": 15,
      "outputs": [
        {
          "output_type": "execute_result",
          "data": {
            "text/plain": [
              "1024"
            ]
          },
          "metadata": {
            "tags": []
          },
          "execution_count": 15
        }
      ]
    },
    {
      "cell_type": "markdown",
      "metadata": {
        "id": "qJyvVC6CCqzw",
        "colab_type": "text"
      },
      "source": [
        "Podemos usar o operador de exponenciação para calcular uma exponenciação de um número elevado a um valor menor do que 1.\n",
        "Por exemplo, para calcular a raiz quadrada de n, podemos ter a expressão $n^{\\frac {1}{2}}$ e a raiz cúbica como $n^{\\frac{1}{3}}$."
      ]
    },
    {
      "cell_type": "code",
      "metadata": {
        "id": "CzZs3h-vJt0n",
        "colab_type": "code",
        "colab": {
          "base_uri": "https://localhost:8080/",
          "height": 35
        },
        "outputId": "a839dee8-14cb-4f93-ab1c-f6ce2ba2742b"
      },
      "source": [
        "4 ** (1/2)"
      ],
      "execution_count": 18,
      "outputs": [
        {
          "output_type": "execute_result",
          "data": {
            "text/plain": [
              "2.0"
            ]
          },
          "metadata": {
            "tags": []
          },
          "execution_count": 18
        }
      ]
    },
    {
      "cell_type": "code",
      "metadata": {
        "id": "ne5bXJgCJylC",
        "colab_type": "code",
        "colab": {
          "base_uri": "https://localhost:8080/",
          "height": 35
        },
        "outputId": "3d037b4b-3249-48ae-b8d5-475c90ebc5f9"
      },
      "source": [
        "8 ** (1/3)"
      ],
      "execution_count": 19,
      "outputs": [
        {
          "output_type": "execute_result",
          "data": {
            "text/plain": [
              "2.0"
            ]
          },
          "metadata": {
            "tags": []
          },
          "execution_count": 19
        }
      ]
    },
    {
      "cell_type": "markdown",
      "metadata": {
        "id": "nO7BGPsTLWz3",
        "colab_type": "text"
      },
      "source": [
        "Como mostra o exemplo acima, você pode usar parênteses para combinar operações matemáticas dentro de uma expressão complicada. O Python calculará a expressão seguindo as regras do padrão PEMDAS para ordenar os cálculos – parênteses, expoentes, multiplicação, divisão, adição e subtração. Observe a seguinte expressão – com e sem parênteses:"
      ]
    },
    {
      "cell_type": "code",
      "metadata": {
        "id": "-WwhWRW0LcvS",
        "colab_type": "code",
        "colab": {
          "base_uri": "https://localhost:8080/",
          "height": 35
        },
        "outputId": "ec799c96-b943-4387-c697-d9f189ec2dc8"
      },
      "source": [
        "5 + 5 * 5"
      ],
      "execution_count": 21,
      "outputs": [
        {
          "output_type": "execute_result",
          "data": {
            "text/plain": [
              "30"
            ]
          },
          "metadata": {
            "tags": []
          },
          "execution_count": 21
        }
      ]
    },
    {
      "cell_type": "code",
      "metadata": {
        "id": "htCOlauqL4dD",
        "colab_type": "code",
        "colab": {
          "base_uri": "https://localhost:8080/",
          "height": 35
        },
        "outputId": "27533b54-84c1-447f-b6c5-c8bb72776f0e"
      },
      "source": [
        "(5 + 5) * 5"
      ],
      "execution_count": 22,
      "outputs": [
        {
          "output_type": "execute_result",
          "data": {
            "text/plain": [
              "50"
            ]
          },
          "metadata": {
            "tags": []
          },
          "execution_count": 22
        }
      ]
    },
    {
      "cell_type": "markdown",
      "metadata": {
        "id": "NnvC-sWokWO_",
        "colab_type": "text"
      },
      "source": [
        "##Operadores aritméticos\n",
        "\n"
      ]
    },
    {
      "cell_type": "markdown",
      "metadata": {
        "id": "SfZhB_55lsLD",
        "colab_type": "text"
      },
      "source": [
        "#Variáveis em Python\n",
        "\n",
        "Variável é um espaço de memória que reservamos para armazenar valores temporários que estão sendo processados ou manipulados. Toda variável possui um tipo que é definido no momento que atribuímos um valor à variável. Uma variável pode ter o seu valor alterado a qualquer momento, porém, não é possível alterar o seu tipo durante a execução.\n",
        "\n",
        "##Nome da variável\n",
        "Devemos pensar nas variáveis como sendo espaços físicos, como casas em uma rua. Cada espaço (ou casa) possui um número que o identifica. Então, quando declaramos uma variável, estamos reservamos um espaço físico para guardar informações temporariamente e damos um nome a esse espaço para que possamos fazer referência a essa variável. utilizando seu nome ao invés do número que a identifica.\n",
        "\n",
        "Toda vez que utilizamos o nome de uma variável, podemos, ler o valor armazenado nela ou atribuir quaisquer outro valor, desde que o tipo seja o mesmo.\n",
        "\n",
        "##Tipo de variável\n",
        "\n",
        "O tipo de uma variável funciona como uma espécie de classificação das informações, ou seja, o tipo informa com antecedência qual informação podemos esperar de determinada variável. Toda variável declarada será, obrigatoriamente de algum tipo. O tipo da variável será armazenado junto com o valor que ela estará armazenando.\n",
        "\n",
        "**Dica**: Para executar os códigos a seguir, primeiro execute a caixa de código onde as variáveis estão sendo declaradas."
      ]
    },
    {
      "cell_type": "code",
      "metadata": {
        "id": "2z5qo6q4qgHc",
        "colab_type": "code",
        "colab": {}
      },
      "source": [
        "idade = 25\n",
        "peso = 67.5 \n",
        "nome = \"Fulano\""
      ],
      "execution_count": 0,
      "outputs": []
    },
    {
      "cell_type": "code",
      "metadata": {
        "id": "gbCIYTrsqyOV",
        "colab_type": "code",
        "colab": {
          "base_uri": "https://localhost:8080/",
          "height": 35
        },
        "outputId": "9b0a46aa-f903-47ce-c22c-7ec36c57ef8b"
      },
      "source": [
        "print (\"Idade: \",idade)"
      ],
      "execution_count": 42,
      "outputs": [
        {
          "output_type": "stream",
          "text": [
            "Idade:  25\n"
          ],
          "name": "stdout"
        }
      ]
    },
    {
      "cell_type": "code",
      "metadata": {
        "id": "JV3fHp9zrRI7",
        "colab_type": "code",
        "colab": {
          "base_uri": "https://localhost:8080/",
          "height": 35
        },
        "outputId": "7adaeb69-c2cb-485d-be7b-e28691b02843"
      },
      "source": [
        "print (\"Peso: \",peso)"
      ],
      "execution_count": 43,
      "outputs": [
        {
          "output_type": "stream",
          "text": [
            "Peso:  67.5\n"
          ],
          "name": "stdout"
        }
      ]
    },
    {
      "cell_type": "code",
      "metadata": {
        "id": "MYWSdCUIrUqC",
        "colab_type": "code",
        "colab": {
          "base_uri": "https://localhost:8080/",
          "height": 35
        },
        "outputId": "82f90508-eb10-4abd-a20b-567370dac9cb"
      },
      "source": [
        "print (\"Nome: \",nome)"
      ],
      "execution_count": 44,
      "outputs": [
        {
          "output_type": "stream",
          "text": [
            "Nome:  Fulano de Tal\n"
          ],
          "name": "stdout"
        }
      ]
    },
    {
      "cell_type": "code",
      "metadata": {
        "id": "1xchC0qBsC4P",
        "colab_type": "code",
        "colab": {
          "base_uri": "https://localhost:8080/",
          "height": 35
        },
        "outputId": "a759ca8f-aa0e-4a02-d0ae-0be65566daea"
      },
      "source": [
        "print (nome + \" de Tal\") #concatenação de strings"
      ],
      "execution_count": 34,
      "outputs": [
        {
          "output_type": "stream",
          "text": [
            "Fulano de Tal\n"
          ],
          "name": "stdout"
        }
      ]
    },
    {
      "cell_type": "markdown",
      "metadata": {
        "id": "DSavVKKZhg0i",
        "colab_type": "text"
      },
      "source": [
        "**Nota:** O texto com uma cerquilha (#) na frente é o modo como se comenta um código em Python. Todo texto que está a frente desse caractere deve ser ignorado pelo interpretador do Python."
      ]
    },
    {
      "cell_type": "code",
      "metadata": {
        "id": "yyCDpMwjsSl5",
        "colab_type": "code",
        "colab": {
          "base_uri": "https://localhost:8080/",
          "height": 35
        },
        "outputId": "b0ad30a0-0c09-4751-e429-d0fe8533ecfc"
      },
      "source": [
        "nome = \"Fulano\"\n",
        "nome = nome + \" de Tal\"\n",
        "print (nome)"
      ],
      "execution_count": 40,
      "outputs": [
        {
          "output_type": "stream",
          "text": [
            "Fulano de Tal\n"
          ],
          "name": "stdout"
        }
      ]
    },
    {
      "cell_type": "code",
      "metadata": {
        "id": "TJ1n7mXtrXCX",
        "colab_type": "code",
        "colab": {
          "base_uri": "https://localhost:8080/",
          "height": 35
        },
        "outputId": "3b66a32e-7deb-4f10-ec67-f21350867d42"
      },
      "source": [
        "print (nome + \" tem \", idade, \"anos e pesa \", peso, \"quilos.\")"
      ],
      "execution_count": 41,
      "outputs": [
        {
          "output_type": "stream",
          "text": [
            "Fulano de Tal tem  25 anos e pesa  67.5 quilos.\n"
          ],
          "name": "stdout"
        }
      ]
    },
    {
      "cell_type": "markdown",
      "metadata": {
        "id": "o-bMz41OZvjW",
        "colab_type": "text"
      },
      "source": [
        "Você deve ter notado que usei dois tipos de números para demonstrar as operações matemáticas – números sem casas decimais (int ou inteiros) e números com casas decimais (float ou reais). Nós humanos, não temos problema em identificar e trabalhar com números, tanto faz se estão escritos na forma inteira ou na decimal, fracionária ou numerais romanos. Mas, na hora de escrevermos nossos códigos, devemos dar atenção ao tipo de números que estamos usando, verificando se ao atribuirmos este número a uma variável, ele realmente é do tipo que queremos.\n",
        "\n",
        "A linguagem Python diferencia os números inteiros (int) dos reais (float), isto é as variáveis que recebem esses números serão de tipos diferentes. Podemos usar a função type() para saber o tipo da variável. Por exemplo: "
      ]
    },
    {
      "cell_type": "code",
      "metadata": {
        "id": "MdYbrUQ6bb5C",
        "colab_type": "code",
        "colab": {
          "base_uri": "https://localhost:8080/",
          "height": 35
        },
        "outputId": "b0ee48f2-654f-4007-8450-5a1031e27a20"
      },
      "source": [
        "type(3)"
      ],
      "execution_count": 1,
      "outputs": [
        {
          "output_type": "execute_result",
          "data": {
            "text/plain": [
              "int"
            ]
          },
          "metadata": {
            "tags": []
          },
          "execution_count": 1
        }
      ]
    },
    {
      "cell_type": "code",
      "metadata": {
        "id": "TPFsRh1MbkIr",
        "colab_type": "code",
        "colab": {
          "base_uri": "https://localhost:8080/",
          "height": 35
        },
        "outputId": "b77ea1b1-24da-45c9-fc09-f60d3d400e0b"
      },
      "source": [
        "type(3.0)"
      ],
      "execution_count": 2,
      "outputs": [
        {
          "output_type": "execute_result",
          "data": {
            "text/plain": [
              "float"
            ]
          },
          "metadata": {
            "tags": []
          },
          "execution_count": 2
        }
      ]
    },
    {
      "cell_type": "code",
      "metadata": {
        "id": "payWNeoJbolU",
        "colab_type": "code",
        "colab": {
          "base_uri": "https://localhost:8080/",
          "height": 35
        },
        "outputId": "37f72328-fd8b-4555-f1fd-e43f85f119e8"
      },
      "source": [
        "type(idade)"
      ],
      "execution_count": 5,
      "outputs": [
        {
          "output_type": "execute_result",
          "data": {
            "text/plain": [
              "int"
            ]
          },
          "metadata": {
            "tags": []
          },
          "execution_count": 5
        }
      ]
    },
    {
      "cell_type": "code",
      "metadata": {
        "id": "dtprW0tcbyEP",
        "colab_type": "code",
        "colab": {
          "base_uri": "https://localhost:8080/",
          "height": 35
        },
        "outputId": "93b51420-2ccd-46dc-f98a-c7f93656e2d9"
      },
      "source": [
        "type(peso)"
      ],
      "execution_count": 6,
      "outputs": [
        {
          "output_type": "execute_result",
          "data": {
            "text/plain": [
              "float"
            ]
          },
          "metadata": {
            "tags": []
          },
          "execution_count": 6
        }
      ]
    },
    {
      "cell_type": "code",
      "metadata": {
        "id": "d1sLtuAfb1Wp",
        "colab_type": "code",
        "colab": {
          "base_uri": "https://localhost:8080/",
          "height": 35
        },
        "outputId": "8374ef85-1ac2-418a-f07b-93349badfb8a"
      },
      "source": [
        "type(nome)"
      ],
      "execution_count": 7,
      "outputs": [
        {
          "output_type": "execute_result",
          "data": {
            "text/plain": [
              "str"
            ]
          },
          "metadata": {
            "tags": []
          },
          "execution_count": 7
        }
      ]
    },
    {
      "cell_type": "markdown",
      "metadata": {
        "id": "jNBd78D6b50k",
        "colab_type": "text"
      },
      "source": [
        "**Nota**: Lembre-se de executar a caixa de código onde as variáveis estão sendo declaradas, ao dar continuidade aos estudos. As variáveis ficam na memória do computador e são apagadas assim que o seu notebook é desconectado.\n",
        "\n",
        "**int** é um valor do tipo inteiro.\n",
        "\n",
        "**float** é um valor do tipo real.\n",
        "\n",
        "**str** é uma cadeia de caracteres, também conhecida como **string**."
      ]
    },
    {
      "cell_type": "markdown",
      "metadata": {
        "id": "SZf_L1n4eTgb",
        "colab_type": "text"
      },
      "source": [
        "Como você pode ver, para o Python, o número 3 é diferente do número 3.0. Matematicamente, sabemos que ambos são equivalentes, mas em muitas situações o Python trata esses números de forma diferente porque eles são de tipos diferentes.\n",
        "Existe uma função em Python que converte um número de um tipo para outro:"
      ]
    },
    {
      "cell_type": "code",
      "metadata": {
        "id": "YAEcUbS6eYWa",
        "colab_type": "code",
        "colab": {
          "base_uri": "https://localhost:8080/",
          "height": 35
        },
        "outputId": "2702dc0a-bb80-4312-d3aa-edf7598f99a9"
      },
      "source": [
        "int(3.8)"
      ],
      "execution_count": 8,
      "outputs": [
        {
          "output_type": "execute_result",
          "data": {
            "text/plain": [
              "3"
            ]
          },
          "metadata": {
            "tags": []
          },
          "execution_count": 8
        }
      ]
    },
    {
      "cell_type": "code",
      "metadata": {
        "id": "NL5P8WbiecRV",
        "colab_type": "code",
        "colab": {
          "base_uri": "https://localhost:8080/",
          "height": 35
        },
        "outputId": "ecb3285c-0144-49ef-d859-a108945e5535"
      },
      "source": [
        "int(3.0)"
      ],
      "execution_count": 9,
      "outputs": [
        {
          "output_type": "execute_result",
          "data": {
            "text/plain": [
              "3"
            ]
          },
          "metadata": {
            "tags": []
          },
          "execution_count": 9
        }
      ]
    },
    {
      "cell_type": "markdown",
      "metadata": {
        "id": "Yerfxx7If3YJ",
        "colab_type": "text"
      },
      "source": [
        "A função int() pega um número do tipo *float* e retorna somente a parte inteira desde número. A função *float()* trabalha de maneira parecida, convertendo um número do tipo *int* em *float*:"
      ]
    },
    {
      "cell_type": "code",
      "metadata": {
        "id": "_5hT0gyWgGD2",
        "colab_type": "code",
        "colab": {
          "base_uri": "https://localhost:8080/",
          "height": 35
        },
        "outputId": "3f469ac8-94ba-4a24-ca2d-e8a5f7d55abb"
      },
      "source": [
        "float(3)"
      ],
      "execution_count": 11,
      "outputs": [
        {
          "output_type": "execute_result",
          "data": {
            "text/plain": [
              "3.0"
            ]
          },
          "metadata": {
            "tags": []
          },
          "execution_count": 11
        }
      ]
    },
    {
      "cell_type": "markdown",
      "metadata": {
        "id": "kuK1nIplwXCT",
        "colab_type": "text"
      },
      "source": [
        "#Qual a utilidade dos comentários em um programa\n",
        "Os comentários ajudam tanto ao programador quanto a quem fará a manutenção ou reutilização do código a lembrar e saber o que determinada parte do código faz, quais são as informações importantes entre outras funções que possam ajudar a entender o código. O uso de comentários é recomendado para fins de documentação do programa.\n",
        "No Python, existem dois tipos de comentários – linha simples (*inline*) ou múltiplas linhas (*multilines*).\n",
        "O comentário *inline* é iniciado com o caractere cerquilha (#) em frente do comentário. Já para os comentários *multilines*, podemos demarcar o início e o fim do conjunto de linhas a serem ignoradas pelo interpretador utilizando três aspas simples (‘’’) ou três aspas duplas (“””).\n",
        "\n",
        "\n"
      ]
    },
    {
      "cell_type": "code",
      "metadata": {
        "id": "9EnbFQ2Y5VNZ",
        "colab_type": "code",
        "colab": {
          "base_uri": "https://localhost:8080/",
          "height": 35
        },
        "outputId": "74636e22-f5e7-439a-a2b9-7703eed22ed3"
      },
      "source": [
        "# este é um comentário inline\n",
        "'''\n",
        "Este\n",
        "é\n",
        "um\n",
        "comentário\n",
        "multilines\n",
        "'''\n",
        "print (\"Os textos escritos acima serão ignorada pelo interpretador Python.\")"
      ],
      "execution_count": 19,
      "outputs": [
        {
          "output_type": "stream",
          "text": [
            "Os textos escritos acima serão ignorada pelo interpretador Python.\n"
          ],
          "name": "stdout"
        }
      ]
    },
    {
      "cell_type": "markdown",
      "metadata": {
        "id": "2DnrMjPHqSR2",
        "colab_type": "text"
      },
      "source": [
        "#Pegando dados de entrada do usuário\n",
        "Até agora, só trabalhamos com dados atribuídos as variáveis no momento de sua declaração. Vamos experimentar agora, o uso das variáveis para receber os dados fornecidos pelo usuário. O Python possui a funcão *input()*, que permite a entrada de dados através do teclado. Então, vamos escrever um programa que solicite ao usuário que ele forneça um valor de entrada, usaremos este valor para realizar um cálculo e exibiremos o resultado da operação. \n",
        "Vamos lá."
      ]
    },
    {
      "cell_type": "code",
      "metadata": {
        "id": "3QKsUZG0r0Uc",
        "colab_type": "code",
        "colab": {
          "base_uri": "https://localhost:8080/",
          "height": 35
        },
        "outputId": "fbbe2729-7dd6-4e71-ceaf-432d559b3d22"
      },
      "source": [
        "idade = input()"
      ],
      "execution_count": 27,
      "outputs": [
        {
          "output_type": "stream",
          "text": [
            "27\n"
          ],
          "name": "stdout"
        }
      ]
    },
    {
      "cell_type": "code",
      "metadata": {
        "id": "X7UX5Pnfr79R",
        "colab_type": "code",
        "colab": {
          "base_uri": "https://localhost:8080/",
          "height": 35
        },
        "outputId": "77d92552-911b-468d-b4dd-9cedf6c24c5c"
      },
      "source": [
        "print(\"Idade: \", idade)"
      ],
      "execution_count": 28,
      "outputs": [
        {
          "output_type": "stream",
          "text": [
            "Idade:  27\n"
          ],
          "name": "stdout"
        }
      ]
    },
    {
      "cell_type": "code",
      "metadata": {
        "id": "m9zsx0z7sQhJ",
        "colab_type": "code",
        "colab": {
          "base_uri": "https://localhost:8080/",
          "height": 35
        },
        "outputId": "baacc96b-07dd-41d2-c2c4-b1bb96815e0e"
      },
      "source": [
        "type(idade)"
      ],
      "execution_count": 29,
      "outputs": [
        {
          "output_type": "execute_result",
          "data": {
            "text/plain": [
              "str"
            ]
          },
          "metadata": {
            "tags": []
          },
          "execution_count": 29
        }
      ]
    },
    {
      "cell_type": "markdown",
      "metadata": {
        "id": "nDrr5yIStCqm",
        "colab_type": "text"
      },
      "source": [
        "Observe que a função *input()* retorna um valor do tipo *string*. Em Python, toda entrada é considerada uma *string*, isto é, uma cadeia de caracteres.\n",
        "\n",
        "Então, uma vez que os caracteres em uma *string* são números, o Python não pode tratar essa *string* como números. Antes de realizarmos qualquer operação matemática, temos que converter esses dados para o tipo de valor desejado. Uma *string* pode ser convertida para um *int* ou *float* usando as funções *int()* ou *float()*."
      ]
    },
    {
      "cell_type": "code",
      "metadata": {
        "id": "K_SDWQMlucFW",
        "colab_type": "code",
        "colab": {
          "base_uri": "https://localhost:8080/",
          "height": 69
        },
        "outputId": "e585b815-6465-4fb1-d279-751ffaa10b60"
      },
      "source": [
        "idade = input()\n",
        "idade = int(idade) + 10\n",
        "print (\"Idade: \", idade)\n",
        "type(idade)"
      ],
      "execution_count": 38,
      "outputs": [
        {
          "output_type": "stream",
          "text": [
            "23\n",
            "Idade:  33\n"
          ],
          "name": "stdout"
        },
        {
          "output_type": "execute_result",
          "data": {
            "text/plain": [
              "int"
            ]
          },
          "metadata": {
            "tags": []
          },
          "execution_count": 38
        }
      ]
    },
    {
      "cell_type": "code",
      "metadata": {
        "id": "-g_sNKW-vY3Q",
        "colab_type": "code",
        "colab": {
          "base_uri": "https://localhost:8080/",
          "height": 69
        },
        "outputId": "7c662482-584b-4b2f-e68c-bd4969d484fc"
      },
      "source": [
        "peso = input()\n",
        "peso = float(peso) + 10\n",
        "print (\"Peso: \", peso)\n",
        "type(peso)"
      ],
      "execution_count": 40,
      "outputs": [
        {
          "output_type": "stream",
          "text": [
            "67.5\n",
            "Peso:  77.5\n"
          ],
          "name": "stdout"
        },
        {
          "output_type": "execute_result",
          "data": {
            "text/plain": [
              "float"
            ]
          },
          "metadata": {
            "tags": []
          },
          "execution_count": 40
        }
      ]
    },
    {
      "cell_type": "markdown",
      "metadata": {
        "id": "mPWALthLzwyh",
        "colab_type": "text"
      },
      "source": [
        "Estas são as mesmas funções *int()* e *float()* que já vimos, mas ao invés de converter um número de um tipo para outro, elas pegam uma entrada do tipo *string* e retornam um número. É importante observar que a função *int()* não converte uma *string* contendo um valor *float* para um *int*. Se você tentar converter uma *string* que possui um número do tipo *float* (como “2.5”) para um tipo *int*, você terá como resultado, uma mensagem de erro:"
      ]
    },
    {
      "cell_type": "code",
      "metadata": {
        "id": "whKoIp4H0FtS",
        "colab_type": "code",
        "colab": {
          "base_uri": "https://localhost:8080/",
          "height": 165
        },
        "outputId": "61e2173f-c36e-4ba5-ca82-b98f92b29164"
      },
      "source": [
        "int(\"2.0\")"
      ],
      "execution_count": 41,
      "outputs": [
        {
          "output_type": "error",
          "ename": "ValueError",
          "evalue": "ignored",
          "traceback": [
            "\u001b[0;31m---------------------------------------------------------------------------\u001b[0m",
            "\u001b[0;31mValueError\u001b[0m                                Traceback (most recent call last)",
            "\u001b[0;32m<ipython-input-41-b8c5cc4be956>\u001b[0m in \u001b[0;36m<module>\u001b[0;34m()\u001b[0m\n\u001b[0;32m----> 1\u001b[0;31m \u001b[0mint\u001b[0m\u001b[0;34m(\u001b[0m\u001b[0;34m\"2.0\"\u001b[0m\u001b[0;34m)\u001b[0m\u001b[0;34m\u001b[0m\u001b[0;34m\u001b[0m\u001b[0m\n\u001b[0m",
            "\u001b[0;31mValueError\u001b[0m: invalid literal for int() with base 10: '2.0'"
          ]
        }
      ]
    },
    {
      "cell_type": "markdown",
      "metadata": {
        "id": "k2IsPFnA14Xl",
        "colab_type": "text"
      },
      "source": [
        "Este é um exemplo de exceção. É a forma como o Python lhe informa que não pode continuar a executar seu programa porque encontrou um erro. Neste caso, a exceção é do tipo *ValueError*. \n",
        "É importante, em um programa, que você trate os possíveis erros, como no caso do usuário entrar com um valor inválido. Para isso, o Python fornece o bloco *try...except* para que você possa manipular suas exceções e avisar ao usuário que o programa encontrou uma entrada de dados inválida."
      ]
    },
    {
      "cell_type": "markdown",
      "metadata": {
        "id": "z07-c-7_2Qwn",
        "colab_type": "text"
      },
      "source": [
        "#Tratamento de exceções em Python\n",
        "\n"
      ]
    },
    {
      "cell_type": "markdown",
      "metadata": {
        "id": "URfyLq499uwF",
        "colab_type": "text"
      },
      "source": [
        "## Plotando um gráfico\n",
        "\n",
        "Com o Colab, você pode aproveitar todo o poder das bibliotecas Python para analisar e visualizar datos. O código da célula abaixo usa **numpy** para gerar alguns dados aleatórios e usa **matplotlib** para visualizá-los."
      ]
    },
    {
      "cell_type": "code",
      "metadata": {
        "id": "PljC-VM4-ic0",
        "colab_type": "code",
        "outputId": "0bf507ee-69e3-4533-cad4-22f545a28e6f",
        "colab": {
          "base_uri": "https://localhost:8080/",
          "height": 281
        }
      },
      "source": [
        "import numpy as np\n",
        "from matplotlib import pyplot as plt\n",
        "\n",
        "ys = 200 + np.random.randn(100)\n",
        "x = [x for x in range(len(ys))]\n",
        "\n",
        "plt.plot(x, ys, '-')\n",
        "plt.fill_between(x, ys, 195, where=(ys > 195), facecolor='g', alpha=0.6)\n",
        "\n",
        "plt.title(\"Sample Visualization\")\n",
        "plt.show()"
      ],
      "execution_count": 0,
      "outputs": [
        {
          "output_type": "display_data",
          "data": {
            "image/png": "[encoded data removed]",
            "text/plain": [
              "<Figure size 432x288 with 1 Axes>"
            ]
          },
          "metadata": {
            "tags": []
          }
        }
      ]
    },
    {
      "cell_type": "markdown",
      "metadata": {
        "id": "5QlLn1VS_yzs",
        "colab_type": "text"
      },
      "source": [
        "#Trabalhando com Python\n",
        "Longos processos em Python que estão sendo executados podem ser interrompidos. Execute a célula seguinte e selecione Runtime -> Interrupt execution (Atalho no teclado: Comand/Ctrl-M I) para parar a execução."
      ]
    },
    {
      "cell_type": "code",
      "metadata": {
        "id": "jBvtZduhL8GI",
        "colab_type": "code",
        "colab": {}
      },
      "source": [
        ""
      ],
      "execution_count": 0,
      "outputs": []
    },
    {
      "cell_type": "code",
      "metadata": {
        "id": "k31ozdniA3qi",
        "colab_type": "code",
        "outputId": "d52aa41b-bb3d-4279-86b5-ae0301de2abd",
        "colab": {
          "base_uri": "https://localhost:8080/",
          "height": 235
        }
      },
      "source": [
        "import time\n",
        "print(\"Sleeping\")\n",
        "time.sleep(30) # sleep for a while; interrupt me!\n",
        "print(\"Done Sleeping\")"
      ],
      "execution_count": 0,
      "outputs": [
        {
          "output_type": "stream",
          "text": [
            "Sleeping\n"
          ],
          "name": "stdout"
        },
        {
          "output_type": "error",
          "ename": "KeyboardInterrupt",
          "evalue": "ignored",
          "traceback": [
            "\u001b[0;31m---------------------------------------------------------------------------\u001b[0m",
            "\u001b[0;31mKeyboardInterrupt\u001b[0m                         Traceback (most recent call last)",
            "\u001b[0;32m<ipython-input-3-fb6d98dc021a>\u001b[0m in \u001b[0;36m<module>\u001b[0;34m()\u001b[0m\n\u001b[1;32m      1\u001b[0m \u001b[0;32mimport\u001b[0m \u001b[0mtime\u001b[0m\u001b[0;34m\u001b[0m\u001b[0;34m\u001b[0m\u001b[0m\n\u001b[1;32m      2\u001b[0m \u001b[0mprint\u001b[0m\u001b[0;34m(\u001b[0m\u001b[0;34m\"Sleeping\"\u001b[0m\u001b[0;34m)\u001b[0m\u001b[0;34m\u001b[0m\u001b[0;34m\u001b[0m\u001b[0m\n\u001b[0;32m----> 3\u001b[0;31m \u001b[0mtime\u001b[0m\u001b[0;34m.\u001b[0m\u001b[0msleep\u001b[0m\u001b[0;34m(\u001b[0m\u001b[0;36m30\u001b[0m\u001b[0;34m)\u001b[0m \u001b[0;31m# sleep for a while; interrupt me!\u001b[0m\u001b[0;34m\u001b[0m\u001b[0;34m\u001b[0m\u001b[0m\n\u001b[0m\u001b[1;32m      4\u001b[0m \u001b[0mprint\u001b[0m\u001b[0;34m(\u001b[0m\u001b[0;34m\"Done Sleeping\"\u001b[0m\u001b[0;34m)\u001b[0m\u001b[0;34m\u001b[0m\u001b[0;34m\u001b[0m\u001b[0m\n",
            "\u001b[0;31mKeyboardInterrupt\u001b[0m: "
          ]
        }
      ]
    }
  ]
}