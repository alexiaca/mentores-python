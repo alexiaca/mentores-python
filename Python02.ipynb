{
  "nbformat": 4,
  "nbformat_minor": 0,
  "metadata": {
    "colab": {
      "name": "Python02.ipynb",
      "provenance": [],
      "toc_visible": true,
      "authorship_tag": "ABX9TyPwtQsHI3fydzhXMiGxjnXH",
      "include_colab_link": true
    },
    "kernelspec": {
      "name": "python3",
      "display_name": "Python 3"
    }
  },
  "cells": [
    {
      "cell_type": "markdown",
      "metadata": {
        "id": "view-in-github",
        "colab_type": "text"
      },
      "source": [
        "<a href=\"https://colab.research.google.com/github/alexiaca/mentores-python/blob/master/Python02.ipynb\" target=\"_parent\"><img src=\"https://colab.research.google.com/assets/colab-badge.svg\" alt=\"Open In Colab\"/></a>"
      ]
    },
    {
      "cell_type": "markdown",
      "metadata": {
        "id": "SfZhB_55lsLD",
        "colab_type": "text"
      },
      "source": [
        "#Variáveis em Python\n",
        "\n",
        "Variável é um espaço de memória que reservamos para armazenar valores temporários que estão sendo processados ou manipulados. Toda variável possui um tipo que é definido no momento que atribuímos um valor à variável. Uma variável pode ter o seu valor alterado a qualquer momento, porém, não é possível alterar o seu tipo durante a execução.\n",
        "\n",
        "##Nome da variável\n",
        "Devemos pensar nas variáveis como sendo espaços físicos, como casas em uma rua. Cada espaço (ou casa) possui um número que o identifica. Então, quando declaramos uma variável, estamos reservamos um espaço físico para guardar informações temporariamente e damos um nome a esse espaço para que possamos fazer referência a essa variável. utilizando seu nome ao invés do número que a identifica.\n",
        "\n",
        "Toda vez que utilizamos o nome de uma variável, podemos ler o valor armazenado nela ou atribuir quaisquer outro valor, desde que o tipo seja o mesmo.\n",
        "\n",
        "Os nomes das variáveis não podem ser os mesmos nomes já existentes no Python, como por exemplo int, print, string.\n",
        "\n",
        "Existem algumas regras para um nome de variável. Os nomes das variáveis devem ter semântica e ao mesmo tempo documentar o código. Os nomes podem ser bem longos, podem conter letras e números. É uma convenção entre os programadores Python começar a variável com letras minúsculas e utilizar o underscore (_) para separar palavras como: valor_total, numero_de_cadastro. Esse padrão é chamado de snake case. Variáveis também podem começar com underscore (_) mas deve ser evitado e utilizado em casos mais específicos."
      ]
    },
    {
      "cell_type": "code",
      "metadata": {
        "id": "crx4ypN_2I7K",
        "colab_type": "code",
        "outputId": "892127c7-9b11-4c2f-f430-a222b26f9c52",
        "colab": {
          "base_uri": "https://localhost:8080/",
          "height": 131
        }
      },
      "source": [
        "x = 2\n",
        "valor_total = 120\n",
        "_1x = 10\n",
        "1x = 10"
      ],
      "execution_count": 0,
      "outputs": [
        {
          "output_type": "error",
          "ename": "SyntaxError",
          "evalue": "ignored",
          "traceback": [
            "\u001b[0;36m  File \u001b[0;32m\"<ipython-input-2-9709322ac8df>\"\u001b[0;36m, line \u001b[0;32m4\u001b[0m\n\u001b[0;31m    1x = 10\u001b[0m\n\u001b[0m     ^\u001b[0m\n\u001b[0;31mSyntaxError\u001b[0m\u001b[0;31m:\u001b[0m invalid syntax\n"
          ]
        }
      ]
    },
    {
      "cell_type": "markdown",
      "metadata": {
        "id": "SslkHool2WMQ",
        "colab_type": "text"
      },
      "source": [
        "##Tipo de variável\n",
        "\n",
        "O tipo de uma variável funciona como uma espécie de classificação das informações, ou seja, o tipo informa com antecedência qual informação podemos esperar de determinada variável. Toda variável declarada será, obrigatoriamente de algum tipo. O tipo da variável será armazenado junto com o valor que ela estará armazenando.\n",
        "\n",
        "**Dica**: Para executar os códigos a seguir, primeiro execute a caixa de código onde as variáveis estão sendo declaradas."
      ]
    },
    {
      "cell_type": "code",
      "metadata": {
        "id": "2z5qo6q4qgHc",
        "colab_type": "code",
        "colab": {}
      },
      "source": [
        "idade = 25\n",
        "peso = 67.5 \n",
        "nome = \"Fulano\""
      ],
      "execution_count": 0,
      "outputs": []
    },
    {
      "cell_type": "code",
      "metadata": {
        "id": "gbCIYTrsqyOV",
        "colab_type": "code",
        "colab": {}
      },
      "source": [
        "print (\"Idade: \",idade)"
      ],
      "execution_count": 0,
      "outputs": []
    },
    {
      "cell_type": "code",
      "metadata": {
        "id": "JV3fHp9zrRI7",
        "colab_type": "code",
        "colab": {}
      },
      "source": [
        "print (\"Peso: \",peso)"
      ],
      "execution_count": 0,
      "outputs": []
    },
    {
      "cell_type": "code",
      "metadata": {
        "id": "MYWSdCUIrUqC",
        "colab_type": "code",
        "colab": {}
      },
      "source": [
        "print (\"Nome: \",nome)"
      ],
      "execution_count": 0,
      "outputs": []
    },
    {
      "cell_type": "code",
      "metadata": {
        "id": "1xchC0qBsC4P",
        "colab_type": "code",
        "colab": {}
      },
      "source": [
        "print (nome + \" de Tal\") #concatenação de strings"
      ],
      "execution_count": 0,
      "outputs": []
    },
    {
      "cell_type": "markdown",
      "metadata": {
        "id": "DSavVKKZhg0i",
        "colab_type": "text"
      },
      "source": [
        "**Nota:** O texto com uma cerquilha (#) na frente é o modo como se comenta um código em Python. Todo texto que está a frente desse caractere deve ser ignorado pelo interpretador do Python."
      ]
    },
    {
      "cell_type": "code",
      "metadata": {
        "id": "yyCDpMwjsSl5",
        "colab_type": "code",
        "colab": {}
      },
      "source": [
        "nome = \"Fulano\"\n",
        "nome = nome + \" de Tal\"\n",
        "print (nome)"
      ],
      "execution_count": 0,
      "outputs": []
    },
    {
      "cell_type": "code",
      "metadata": {
        "id": "TJ1n7mXtrXCX",
        "colab_type": "code",
        "colab": {}
      },
      "source": [
        "print (nome + \" tem \", idade, \"anos e pesa \", peso, \"quilos.\")"
      ],
      "execution_count": 0,
      "outputs": []
    },
    {
      "cell_type": "markdown",
      "metadata": {
        "id": "o-bMz41OZvjW",
        "colab_type": "text"
      },
      "source": [
        "Você deve ter notado que usei dois tipos de números para demonstrar as operações matemáticas – números sem casas decimais (int ou inteiros) e números com casas decimais (float ou reais). Nós humanos, não temos problema em identificar e trabalhar com números, tanto faz se estão escritos na forma inteira ou na decimal, fracionária ou numerais romanos. Mas, na hora de escrevermos nossos códigos, devemos dar atenção ao tipo de números que estamos usando, verificando se ao atribuirmos este número a uma variável, ele realmente é do tipo que queremos.\n",
        "\n",
        "A linguagem Python diferencia os números inteiros (int) dos reais (float), isto é as variáveis que recebem esses números serão de tipos diferentes. Podemos usar a função type() para saber o tipo da variável. Por exemplo: "
      ]
    },
    {
      "cell_type": "code",
      "metadata": {
        "id": "MdYbrUQ6bb5C",
        "colab_type": "code",
        "colab": {}
      },
      "source": [
        "type(3)"
      ],
      "execution_count": 0,
      "outputs": []
    },
    {
      "cell_type": "code",
      "metadata": {
        "id": "TPFsRh1MbkIr",
        "colab_type": "code",
        "colab": {}
      },
      "source": [
        "type(3.0)"
      ],
      "execution_count": 0,
      "outputs": []
    },
    {
      "cell_type": "code",
      "metadata": {
        "id": "payWNeoJbolU",
        "colab_type": "code",
        "colab": {}
      },
      "source": [
        "type(idade)"
      ],
      "execution_count": 0,
      "outputs": []
    },
    {
      "cell_type": "code",
      "metadata": {
        "id": "dtprW0tcbyEP",
        "colab_type": "code",
        "colab": {}
      },
      "source": [
        "type(peso)"
      ],
      "execution_count": 0,
      "outputs": []
    },
    {
      "cell_type": "code",
      "metadata": {
        "id": "d1sLtuAfb1Wp",
        "colab_type": "code",
        "colab": {}
      },
      "source": [
        "type(nome)"
      ],
      "execution_count": 0,
      "outputs": []
    },
    {
      "cell_type": "markdown",
      "metadata": {
        "id": "jNBd78D6b50k",
        "colab_type": "text"
      },
      "source": [
        "**Nota**: Lembre-se de executar a caixa de código onde as variáveis estão sendo declaradas, ao dar continuidade aos estudos. As variáveis ficam na memória do computador e são apagadas assim que o seu notebook é desconectado.\n",
        "\n",
        "**int** é um valor do tipo inteiro.\n",
        "\n",
        "**float** é um valor do tipo real.\n",
        "\n",
        "**str** é uma cadeia de caracteres, também conhecida como **string**."
      ]
    },
    {
      "cell_type": "markdown",
      "metadata": {
        "id": "SZf_L1n4eTgb",
        "colab_type": "text"
      },
      "source": [
        "Como você pode ver, para o Python, o número 3 é diferente do número 3.0. Matematicamente, sabemos que ambos são equivalentes, mas em muitas situações o Python trata esses números de forma diferente porque eles são de tipos diferentes.\n",
        "Existe uma função em Python que converte um número de um tipo para outro:"
      ]
    },
    {
      "cell_type": "code",
      "metadata": {
        "id": "YAEcUbS6eYWa",
        "colab_type": "code",
        "colab": {}
      },
      "source": [
        "int(3.8)"
      ],
      "execution_count": 0,
      "outputs": []
    },
    {
      "cell_type": "code",
      "metadata": {
        "id": "NL5P8WbiecRV",
        "colab_type": "code",
        "colab": {}
      },
      "source": [
        "int(3.0)"
      ],
      "execution_count": 0,
      "outputs": []
    },
    {
      "cell_type": "markdown",
      "metadata": {
        "id": "Yerfxx7If3YJ",
        "colab_type": "text"
      },
      "source": [
        "A função int() pega um número do tipo *float* e retorna somente a parte inteira desde número. A função *float()* trabalha de maneira parecida, convertendo um número do tipo *int* em *float*:"
      ]
    },
    {
      "cell_type": "code",
      "metadata": {
        "id": "_5hT0gyWgGD2",
        "colab_type": "code",
        "colab": {}
      },
      "source": [
        "float(3)"
      ],
      "execution_count": 0,
      "outputs": []
    },
    {
      "cell_type": "markdown",
      "metadata": {
        "id": "kuK1nIplwXCT",
        "colab_type": "text"
      },
      "source": [
        "#Qual a utilidade dos comentários em um programa\n",
        "Os comentários ajudam tanto ao programador quanto a quem fará a manutenção ou reutilização do código a lembrar e saber o que determinada parte do código faz, quais são as informações importantes entre outras funções que possam ajudar a entender o código. O uso de comentários é recomendado para fins de documentação do programa.\n",
        "No Python, existem dois tipos de comentários – linha simples (*inline*) ou múltiplas linhas (*multilines*).\n",
        "O comentário *inline* é iniciado com o caractere cerquilha (#) em frente do comentário. Já para os comentários *multilines*, podemos demarcar o início e o fim do conjunto de linhas a serem ignoradas pelo interpretador utilizando três aspas simples (‘’’) ou três aspas duplas (“””).\n",
        "\n",
        "\n"
      ]
    },
    {
      "cell_type": "code",
      "metadata": {
        "id": "9EnbFQ2Y5VNZ",
        "colab_type": "code",
        "colab": {}
      },
      "source": [
        "# este é um comentário inline\n",
        "\"\"\"\n",
        "Este\n",
        "é\n",
        "um\n",
        "comentário\n",
        "multilines\n",
        "\"\"\"\n",
        "print (\"Os textos escritos acima serão ignorada pelo interpretador Python.\")"
      ],
      "execution_count": 0,
      "outputs": []
    },
    {
      "cell_type": "code",
      "metadata": {
        "id": "Q4P6th_CndMO",
        "colab_type": "code",
        "colab": {}
      },
      "source": [
        ""
      ],
      "execution_count": 0,
      "outputs": []
    },
    {
      "cell_type": "markdown",
      "metadata": {
        "id": "qM4J1teV0j81",
        "colab_type": "text"
      },
      "source": [
        "#O tipo string (str) - Manipulação de texto\n",
        "O operador **+** também funciona com *strings* de uma maneira diferente dos números. Ele funciona concatenando *strings*, ou seja, juntando duas *strings*:\n"
      ]
    },
    {
      "cell_type": "code",
      "metadata": {
        "id": "NEeA_zrg3cfi",
        "colab_type": "code",
        "colab": {}
      },
      "source": [
        "\"a\" + \"b\""
      ],
      "execution_count": 0,
      "outputs": []
    },
    {
      "cell_type": "code",
      "metadata": {
        "id": "-b6UilAg3pKx",
        "colab_type": "code",
        "colab": {}
      },
      "source": [
        "a = \"Um milhao de reais \"\n",
        "b = \"em barras de ouro, \"\n",
        "a+b"
      ],
      "execution_count": 0,
      "outputs": []
    },
    {
      "cell_type": "code",
      "metadata": {
        "id": "534Hejgt4C73",
        "colab_type": "code",
        "colab": {}
      },
      "source": [
        "c = 'que vale mais do que dinheiro'\n",
        "a+b+c"
      ],
      "execution_count": 0,
      "outputs": []
    },
    {
      "cell_type": "markdown",
      "metadata": {
        "id": "HU347cGO4NAS",
        "colab_type": "text"
      },
      "source": [
        "Outro operador que também funciona com strings é o * (multiplicação), multiplicando seu conteúdo por um inteiro. Vamos checar esse resultado:"
      ]
    },
    {
      "cell_type": "code",
      "metadata": {
        "id": "zGLkD0an4Zuq",
        "colab_type": "code",
        "colab": {}
      },
      "source": [
        "3 * \"a\""
      ],
      "execution_count": 0,
      "outputs": []
    },
    {
      "cell_type": "code",
      "metadata": {
        "id": "KUYTvvGE4lr0",
        "colab_type": "code",
        "colab": {}
      },
      "source": [
        "10 * \"hue\""
      ],
      "execution_count": 0,
      "outputs": []
    },
    {
      "cell_type": "code",
      "metadata": {
        "id": "hMapVha74tzS",
        "colab_type": "code",
        "colab": {}
      },
      "source": [
        "10 * \"hue\"+ \"br\""
      ],
      "execution_count": 0,
      "outputs": []
    },
    {
      "cell_type": "markdown",
      "metadata": {
        "id": "2DnrMjPHqSR2",
        "colab_type": "text"
      },
      "source": [
        "#Pegando dados de entrada do usuário\n",
        "Até agora, só trabalhamos com dados atribuídos as variáveis no momento de sua declaração. Vamos experimentar agora, o uso das variáveis para receber os dados fornecidos pelo usuário. O Python possui a funcão *input()*, que permite a entrada de dados através do teclado. Então, vamos escrever um programa que solicite ao usuário que ele forneça um valor de entrada, usaremos este valor para realizar um cálculo e exibiremos o resultado da operação. \n",
        "Vamos lá."
      ]
    },
    {
      "cell_type": "code",
      "metadata": {
        "id": "3QKsUZG0r0Uc",
        "colab_type": "code",
        "colab": {}
      },
      "source": [
        "idade = input()"
      ],
      "execution_count": 0,
      "outputs": []
    },
    {
      "cell_type": "code",
      "metadata": {
        "id": "X7UX5Pnfr79R",
        "colab_type": "code",
        "colab": {}
      },
      "source": [
        "print(\"Idade: \", idade)"
      ],
      "execution_count": 0,
      "outputs": []
    },
    {
      "cell_type": "code",
      "metadata": {
        "id": "m9zsx0z7sQhJ",
        "colab_type": "code",
        "colab": {}
      },
      "source": [
        "type(idade)"
      ],
      "execution_count": 0,
      "outputs": []
    },
    {
      "cell_type": "markdown",
      "metadata": {
        "id": "nDrr5yIStCqm",
        "colab_type": "text"
      },
      "source": [
        "Observe que a função *input()* retorna um valor do tipo *string*. Em Python, toda entrada é considerada uma *string*, isto é, uma cadeia de caracteres.\n",
        "\n",
        "Então, uma vez que os caracteres em uma *string* são números, o Python não pode tratar essa *string* como números. Antes de realizarmos qualquer operação matemática, temos que converter esses dados para o tipo de valor desejado. Uma *string* pode ser convertida para um *int* ou *float* usando as funções *int()* ou *float()*."
      ]
    },
    {
      "cell_type": "code",
      "metadata": {
        "id": "K_SDWQMlucFW",
        "colab_type": "code",
        "colab": {}
      },
      "source": [
        "idade = input()\n",
        "idade = int(idade) + 10\n",
        "print (\"Idade: \", idade)\n",
        "type(idade)"
      ],
      "execution_count": 0,
      "outputs": []
    },
    {
      "cell_type": "code",
      "metadata": {
        "id": "-g_sNKW-vY3Q",
        "colab_type": "code",
        "colab": {}
      },
      "source": [
        "peso = input()\n",
        "peso = float(peso) + 10\n",
        "print (\"Peso: \", peso)\n",
        "type(peso)"
      ],
      "execution_count": 0,
      "outputs": []
    },
    {
      "cell_type": "markdown",
      "metadata": {
        "id": "mPWALthLzwyh",
        "colab_type": "text"
      },
      "source": [
        "Estas são as mesmas funções *int()* e *float()* que já vimos, mas ao invés de converter um número de um tipo para outro, elas pegam uma entrada do tipo *string* e retornam um número. É importante observar que a função *int()* não converte uma *string* contendo um valor *float* para um *int*. Se você tentar converter uma *string* que possui um número do tipo *float* (como “2.5”) para um tipo *int*, você terá como resultado, uma mensagem de erro:"
      ]
    },
    {
      "cell_type": "code",
      "metadata": {
        "id": "whKoIp4H0FtS",
        "colab_type": "code",
        "colab": {}
      },
      "source": [
        "int (\"2.0\")"
      ],
      "execution_count": 0,
      "outputs": []
    },
    {
      "cell_type": "markdown",
      "metadata": {
        "id": "k2IsPFnA14Xl",
        "colab_type": "text"
      },
      "source": [
        "Este é um exemplo de exceção. É a forma como o Python lhe informa que não pode continuar a executar seu programa porque encontrou um erro. Neste caso, a exceção é do tipo *ValueError*. \n",
        "É importante, em um programa, que você trate os possíveis erros, como no caso do usuário entrar com um valor inválido. Para isso, o Python fornece o bloco *try...except* para que você possa manipular suas exceções e avisar ao usuário que o programa encontrou uma entrada de dados inválida."
      ]
    },
    {
      "cell_type": "markdown",
      "metadata": {
        "id": "z07-c-7_2Qwn",
        "colab_type": "text"
      },
      "source": [
        "#Tratamento de exceções em Python\n",
        "\n",
        "Quando você executa  uma ou mais instruções que estão dentro de um bloco try...except e ocorre um erro, seu programa não irá travar e imprimir uma mensagem que o usuário não irá entender, como a do exemplo acima. Ao invés disso, você pode tratar esses erros, imprimindo uma mensagem apropriada ou tentando outra coisa, como solicitar ao usuário que entre com os dados corretos.\n",
        "\n",
        "No programa abaixo, execute várias vezes e entre com números inteiros, reais, usando o separador de casas decimas com ponto e com vírgula.\n",
        "Ex.: 1 - 1.0 - 5.0 - 3,5\n",
        "\n",
        "Isto é o que você deve fazer ao usar um bloco  *try...except*, tratando um erro de entrada de dados inválida, fornecendo uma mensagem útil para o usuário:\n",
        "\n"
      ]
    },
    {
      "cell_type": "code",
      "metadata": {
        "id": "LZdOAWW9orye",
        "colab_type": "code",
        "colab": {}
      },
      "source": [
        "try:\n",
        "  num = float(input('Informe um número: '))\n",
        "  print (\"O número informado foi: \", num)\n",
        "except ValueError:\n",
        "  print ('Você informou um número inválido.')"
      ],
      "execution_count": 0,
      "outputs": []
    },
    {
      "cell_type": "markdown",
      "metadata": {
        "id": "AfSxQcOsTVcl",
        "colab_type": "text"
      },
      "source": [
        "Neste caso, como estamos convertendo a entrada para *float*, todo número inteiro será convertido para *float* e o programa não apresentará erro. Mas, quando usamos o serapador de casa decimais vírgula(,) ao invés do ponto(.), o programa não reconhece como um número. Porque, por padrão, todos os números com casas decimais, usam o ponto(.) como separador.\n",
        "\n",
        "Outra questão é que precisamos especificar o tipo de exceção que queremos tratar. Neste caso, queremos tratar a exceção do tipo *ValueError*, então especificamos como uma exceção do tipo *ValueError*. Quando pedimos para digitar um número, será aceito tanto um número *int* quanto um *float*.\n",
        "Mas, se fornecemos uma entrada inválida, como por exemplo ¾, é necessário exibir uma mensagem de erro como mostrado abaixo.\n",
        "\n",
        "**Nota:** Execute o programa e entre com números do tipo *int* e do tipo *float* e veja o que acontece."
      ]
    },
    {
      "cell_type": "code",
      "metadata": {
        "id": "dhIbJT4GZvhy",
        "colab_type": "code",
        "colab": {}
      },
      "source": [
        "try:\n",
        "  num = int(input(\"Entre com um número: \"))\n",
        "  print (\"O número que você entrou foi: \", num )\n",
        "except ValueError:\n",
        "  print (\"Você entrou com um número inválido.\")"
      ],
      "execution_count": 0,
      "outputs": []
    },
    {
      "cell_type": "markdown",
      "metadata": {
        "id": "wXnKhdetdt4r",
        "colab_type": "text"
      },
      "source": [
        "Para melhor instruir o usuário e evitar erros desse tipo, você pode, ao solicitar a entrada, especificar o tipo que você deseja.\n",
        "\n",
        "Por exemplo:"
      ]
    },
    {
      "cell_type": "code",
      "metadata": {
        "id": "mSPAVSdDd6Il",
        "colab_type": "code",
        "colab": {}
      },
      "source": [
        "try:\n",
        "  num = int(input(\"Entre com um número inteiro: \"))\n",
        "  print (\"O núemro que você entrou foi: \", num)\n",
        "except ValueError:\n",
        "  print (\"Você entrou com um número errado.\")"
      ],
      "execution_count": 0,
      "outputs": []
    },
    {
      "cell_type": "markdown",
      "metadata": {
        "id": "bfhb7wy4ghH_",
        "colab_type": "text"
      },
      "source": [
        "Em muitos programas, solicitamos ao usuário que entre com um número, então, temos que garantir que cuidamos da conversão antes de realizarmos quaisquer tipos de operações com esses números. Para isso, podemos combinar a entrada com o tipo de conversão em uma única instrução e garantir que estamos convertendo a entrada do usuário no valor desejado."
      ]
    },
    {
      "cell_type": "code",
      "metadata": {
        "id": "lQULT7rXgnEC",
        "colab_type": "code",
        "colab": {}
      },
      "source": [
        "try:\n",
        "  num = int(input(\"Entre com um número inteiro: \"))\n",
        "  num = num + 1\n",
        "  print (\"O resultado é: \", num)\n",
        "except ValueError:\n",
        "  print (\"Você entrou com um número errado.\")"
      ],
      "execution_count": 0,
      "outputs": []
    },
    {
      "cell_type": "markdown",
      "metadata": {
        "id": "MURt6h57f1Ap",
        "colab_type": "text"
      },
      "source": [
        "Agora, resolva os quatro exercícios seguintes, simplificando as expressões utilizado variáveis.\n",
        "\n",
        "Nota: Os exercícios 1 ao 4 foram retirados do material disponibilizado pelo [Prof. Leonardo de Oliveira Carvalho](http://lattes.cnpq.br/./3754078390316976) da Universidade Federal Fluminense."
      ]
    },
    {
      "cell_type": "markdown",
      "metadata": {
        "id": "OTas4wttf6aB",
        "colab_type": "text"
      },
      "source": [
        "#Exercício 1:\n",
        "64.4819\\*\\*2  -  2\\*64.4819 \\* 137.8974 + 137.8974\\*\\*2"
      ]
    },
    {
      "cell_type": "markdown",
      "metadata": {
        "id": "1OcOp87vi2_G",
        "colab_type": "text"
      },
      "source": [
        "#Exercício 2:\n",
        "64.4819 * (137.8974 + 654.98748) / (64.4819 - 654.98748)"
      ]
    },
    {
      "cell_type": "markdown",
      "metadata": {
        "id": "P3-Bbj2ijKPy",
        "colab_type": "text"
      },
      "source": [
        "#Exercício 3:\n",
        "(64.4819 - 137.8974 * 654.98748) * (654.98748**0.5)"
      ]
    },
    {
      "cell_type": "markdown",
      "metadata": {
        "id": "we-PBX2hje29",
        "colab_type": "text"
      },
      "source": [
        "#Exercício 4:\n",
        "(2 * 137.8974 + 654.98748 * 4 - 64.4819*137.8974 * 654.98748)"
      ]
    },
    {
      "cell_type": "markdown",
      "metadata": {
        "id": "83RGXJXbhn2W",
        "colab_type": "text"
      },
      "source": [
        "\n",
        "#Exercício 5:\n",
        "Dentre as inúmeras formas de avaliar as condições físicas de uma pessoa, o Índice de Massa Corporal (IMC) é uma das mais diretas, simples e conhecidas.O IMC é um índice aceito pela Organização Mundial de Saúde (OMS), que estabelece as faixas de índice que indicam se uma pessoa está ou não dentro do peso considerado ideal.Muitos nutricionistas e educadores físicos gostam de calcular IMC e o usam como ferramenta primária para identificar problemas de peso de uma pessoa, por causa da facilidade de cálculo.O IMC assume que existe uma faixa de peso ideal para sua altura. A partir de uma conta que usa seu peso e sua altura, encontra-se um valor (índice). Para calcular o **IMC** você dese utilizar a fórmula a seguir:\n",
        "IMC = $\\frac{peso}{altura^2}$, onde o peso é em quilograma e a altura é em metros.\n",
        "Faça um programa que aceite como entrada o peso e a altura de uma pessoa e exiba na saída o seu IMC. Faça o tratamento de erros para que o programa não quebre na sua execução.\n",
        "\n",
        "**Nota:** As informações foram retiradas do site [Indústria Hoje](https://industriahoje.com.br/calcular-imc).\n",
        "\n"
      ]
    },
    {
      "cell_type": "code",
      "metadata": {
        "id": "m-rE-tdbrTGV",
        "colab_type": "code",
        "colab": {}
      },
      "source": [
        ""
      ],
      "execution_count": 0,
      "outputs": []
    },
    {
      "cell_type": "markdown",
      "metadata": {
        "id": "mjguXsNyrUH2",
        "colab_type": "text"
      },
      "source": [
        "#Exercício 6:\n",
        "A Matemática Financeira está presente em diversas situações do dia a dia, abrangendo investimentos e financiamentos de bens de consumo. Sempre que financiamos um valor, pagamos juros que são contabilizados nas prestações estabelecidas. As taxas de juros cobradas variam de acordo com cada instituição financeira.Através da fórmula CF = $\\frac{i}{1-(1+i)^{-n}}$, onde **i** se refere a taxa de juros e **n** ao período, é possível demonstrar o cálculo a ser feito em um financiamento.   \n",
        "Suponha que uma pessoa queira financiar um carro no valor de R$ 10.000,00 (dez mil reais), financiado à taxa de 1,5% a.m. durante 12 meses. Qual o valor mensal da prestação?\n",
        "**Nota:** As informações foram retiradas do site [Mundo Educação](https://mundoeducacao.bol.uol.com.br/matematica/calculo-financiamento.htm)."
      ]
    },
    {
      "cell_type": "code",
      "metadata": {
        "id": "TLydxC7LrmmV",
        "colab_type": "code",
        "colab": {}
      },
      "source": [
        ""
      ],
      "execution_count": 0,
      "outputs": []
    },
    {
      "cell_type": "markdown",
      "metadata": {
        "id": "iqlj_Iz4rnFt",
        "colab_type": "text"
      },
      "source": [
        "#Exercício 7: \n",
        "A partir do problema acima, calcule o total que a pessoa pagará ao final das prestações, pelo valor financiado de R$10.000,00."
      ]
    },
    {
      "cell_type": "markdown",
      "metadata": {
        "id": "sexYnv8PrspZ",
        "colab_type": "text"
      },
      "source": [
        "\n",
        "#Exercício 8:\n",
        "Refaça o exercício 2, pedindo como entrada de dados, o valor do carro, a taxa de juros e a quantidade de prestações e forneça como saída o valor das prestações e o valor total a ser pago ao final do financiamento. Faça o tratamento de erros para que o programa não quebre na sua execução."
      ]
    },
    {
      "cell_type": "markdown",
      "metadata": {
        "id": "TvpidsBxkkEs",
        "colab_type": "text"
      },
      "source": [
        "Nota: Os exercícios 9 ao 36 foram retirados do material disponibilizado pelo [Prof. Leonardo de Oliveira Carvalho](http://lattes.cnpq.br/./3754078390316976) da Universidade Federal Fluminense.\n",
        "\n",
        "Sabendo que o perímetro de um triângulo é calculado pela fórmula: $p = \n",
        "\\frac {a + b + c}{2}$ e a área do triângulo é calculada pela fórmula $\\sqrt{p(p-a)(p-b)(p-c)}$:\n",
        "#Exercício 9:\n",
        "Calcule a área do triângulo, dado o tamanho de cada lado.\n",
        "\n",
        "![alt text](https://github.com/alexiaca/mentores-python/blob/master/t01.png?raw=true)"
      ]
    },
    {
      "cell_type": "markdown",
      "metadata": {
        "id": "OiReSyNzp-3o",
        "colab_type": "text"
      },
      "source": [
        "#Exercício 10:\n",
        "Calcule a área do triângulo, dado o tamanho de cada lado.\n",
        "![alt text](https://github.com/alexiaca/mentores-python/blob/master/t02.png?raw=true)"
      ]
    },
    {
      "cell_type": "markdown",
      "metadata": {
        "id": "-9-hfX7LqMBu",
        "colab_type": "text"
      },
      "source": [
        "#Exercício 11:\n",
        "Calcule a área do triângulo, dado o tamanho de cada lado.\n",
        "![alt text](https://github.com/alexiaca/mentores-python/blob/master/t03.png?raw=true)"
      ]
    },
    {
      "cell_type": "markdown",
      "metadata": {
        "id": "mWbYxDfRqaSj",
        "colab_type": "text"
      },
      "source": [
        "#Exercício 12:\n",
        "Calcule a área do triângulo, dado o tamanho de cada lado.\n",
        "\n",
        "![alt text](https://github.com/alexiaca/mentores-python/blob/master/t04.png?raw=true)"
      ]
    },
    {
      "cell_type": "markdown",
      "metadata": {
        "id": "1Ay_abXIqiuS",
        "colab_type": "text"
      },
      "source": [
        "#Exercício 13:\n",
        "Calcule a área do triângulo, dado o tamanho de cada lado.\n",
        "![alt text](https://github.com/alexiaca/mentores-python/blob/master/t05.png?raw=true)"
      ]
    },
    {
      "cell_type": "code",
      "metadata": {
        "id": "dGSFiQvit9qB",
        "colab_type": "code",
        "colab": {
          "base_uri": "https://localhost:8080/",
          "height": 35
        },
        "outputId": "b94c87a1-16a5-4af3-e94c-3f6c3415ca58"
      },
      "source": [
        "a = 2.14\n",
        "b = 3.49\n",
        "c = 1.96\n",
        "p = (a+b+c)/2.0\n",
        "(p*(p-a)*(p-b)*(p-c))**(1/2)"
      ],
      "execution_count": 13,
      "outputs": [
        {
          "output_type": "execute_result",
          "data": {
            "text/plain": [
              "1.8748772664830633"
            ]
          },
          "metadata": {
            "tags": []
          },
          "execution_count": 13
        }
      ]
    },
    {
      "cell_type": "markdown",
      "metadata": {
        "id": "gXrCoUGrv-gU",
        "colab_type": "text"
      },
      "source": [
        "#Exercício 14:\n",
        "Calcule a área do polígono, dado o tamanho de cada lado.![alt text](https://github.com/alexiaca/mentores-python/blob/master/p01.png?raw=true)"
      ]
    },
    {
      "cell_type": "markdown",
      "metadata": {
        "id": "cNswnOTtw-49",
        "colab_type": "text"
      },
      "source": [
        "#Exercício 15:\n",
        "Calcule a área do polígono, dado o tamanho de cada lado.\n",
        "\n",
        "![alt text](https://github.com/alexiaca/mentores-python/blob/master/p02.png?raw=true)"
      ]
    },
    {
      "cell_type": "markdown",
      "metadata": {
        "id": "1-x_2vKoxI4u",
        "colab_type": "text"
      },
      "source": [
        "#Exercício 16:\n",
        "Calcule a área do polígono, dado o tamanho de cada lado.\n",
        "\n",
        "![alt text](https://github.com/alexiaca/mentores-python/blob/master/p03.png?raw=true)"
      ]
    },
    {
      "cell_type": "markdown",
      "metadata": {
        "id": "O36-KcOVyWFA",
        "colab_type": "text"
      },
      "source": [
        "#Exercício 17:\n",
        "Calcule o discriminante (Δ = b² - 4ac) da equação:\n",
        "\n",
        "$1.41x^2 - 4.74x - 5.58 = 0$\n"
      ]
    },
    {
      "cell_type": "markdown",
      "metadata": {
        "id": "rIgWh6T0zPJG",
        "colab_type": "text"
      },
      "source": [
        "#Exercício 18:\n",
        "Calcule o discriminante (Δ = b² - 4ac) da equação:\n",
        "\n",
        "$7.77x^2 + 4.68x + 5.1 = 0$"
      ]
    },
    {
      "cell_type": "markdown",
      "metadata": {
        "id": "I7Ag_Q1TzWgD",
        "colab_type": "text"
      },
      "source": [
        "#Exercício 19:\n",
        "Calcule o discriminante (Δ = b² - 4ac) da equação:\n",
        "\n",
        "$3.83x^2 - 2.91x + 0.07 = 0$"
      ]
    },
    {
      "cell_type": "markdown",
      "metadata": {
        "id": "WsFrg4u4zhWO",
        "colab_type": "text"
      },
      "source": [
        "#Exercício 20:\n",
        "Calcule o discriminante (Δ = b² - 4ac) da equação:\n",
        "\n",
        "$-3.76x^2 + 0.19x + 4.19 = 0$"
      ]
    },
    {
      "cell_type": "markdown",
      "metadata": {
        "id": "E18m_tITzqJm",
        "colab_type": "text"
      },
      "source": [
        "#Exercício 21:\n",
        "Calcule o discriminante (Δ = b² - 4ac) da equação:\n",
        "\n",
        "$-2.34x^2 + 3.87x - 8.58 = 0$"
      ]
    },
    {
      "cell_type": "markdown",
      "metadata": {
        "id": "wtcp_1oazyjN",
        "colab_type": "text"
      },
      "source": [
        "#Exercício 22:\n",
        "Calcule o discriminante (Δ = b² - 4ac) da equação:\n",
        "\n",
        "$-0.35x^2 - 0.79x - 9.8 = 0$"
      ]
    },
    {
      "cell_type": "markdown",
      "metadata": {
        "id": "pdr26PHc0dDE",
        "colab_type": "text"
      },
      "source": [
        "#Exercício 23:\n",
        "Calcule o discriminante (Δ = b² - 4ac) da equação:\n",
        "\n",
        "$-1.19x^2 + 5.83x - 5.72 = 0$"
      ]
    },
    {
      "cell_type": "markdown",
      "metadata": {
        "id": "vhq-Vg2n0msg",
        "colab_type": "text"
      },
      "source": [
        "#Exercício 24:\n",
        "Calcule o discriminante (Δ = b² - 4ac) da equação:\n",
        "\n",
        "$-2.55x^2 + 7.21x - 5.7 = 0$"
      ]
    },
    {
      "cell_type": "markdown",
      "metadata": {
        "id": "-FSEEu-M10wV",
        "colab_type": "text"
      },
      "source": [
        "Calcule as soluções reais das equações abaixo, se existir solução.\n",
        "\n",
        "#Exercício 25:\n",
        "$1.41x^2 - 4.74x - 5.58 = 0$"
      ]
    },
    {
      "cell_type": "markdown",
      "metadata": {
        "id": "kSY_C41-1880",
        "colab_type": "text"
      },
      "source": [
        "#Exercício 26:\n",
        "$7.77x^2 + 4.68x + 5.1 = 0$"
      ]
    },
    {
      "cell_type": "markdown",
      "metadata": {
        "id": "E3VWkvpO2CST",
        "colab_type": "text"
      },
      "source": [
        "#Exercício 27:\n",
        "$3.83x^2 - 2.91x + 0.07 = 0$"
      ]
    },
    {
      "cell_type": "markdown",
      "metadata": {
        "id": "FcRoVeQm2HTn",
        "colab_type": "text"
      },
      "source": [
        "#Exercício 28:\n",
        "$-3.76x^2 + 0.19x + 4.19 = 0$"
      ]
    },
    {
      "cell_type": "markdown",
      "metadata": {
        "id": "Qnh26Nna2MSP",
        "colab_type": "text"
      },
      "source": [
        "#Exercício 29:\n",
        "$-2.34x^2 + 3.87x - 8.58 = 0$"
      ]
    },
    {
      "cell_type": "markdown",
      "metadata": {
        "id": "MUQGWNR42Qom",
        "colab_type": "text"
      },
      "source": [
        "#Exercício 30:\n",
        "$-0.35x^2 - 0.79x - 9.8 = 0$"
      ]
    },
    {
      "cell_type": "markdown",
      "metadata": {
        "id": "g4XOuBtm2VTs",
        "colab_type": "text"
      },
      "source": [
        "#Exercício 31:\n",
        "$-1.19x^2 + 5.83x - 5.72 = 0$"
      ]
    },
    {
      "cell_type": "markdown",
      "metadata": {
        "id": "pkBHg8q-2Y46",
        "colab_type": "text"
      },
      "source": [
        "#Exercício 32:\n",
        "$-2.55x^2 + 7.21x - 5.7 = 0$"
      ]
    },
    {
      "cell_type": "markdown",
      "metadata": {
        "id": "dQoYMUer216F",
        "colab_type": "text"
      },
      "source": [
        "Pra descontrair, crie as strings digitando o mínimo possível:\n",
        "#Exercício 33:\n",
        "![alt text](https://github.com/alexiaca/mentores-python/blob/master/casa.png?raw=true)"
      ]
    },
    {
      "cell_type": "markdown",
      "metadata": {
        "id": "su8FidA94Jzq",
        "colab_type": "text"
      },
      "source": [
        "#Exercício 34:\n",
        "![alt text](https://github.com/alexiaca/mentores-python/blob/master/hihihi.png?raw=true)"
      ]
    },
    {
      "cell_type": "markdown",
      "metadata": {
        "id": "mYRICCid3TWm",
        "colab_type": "text"
      },
      "source": [
        "#Exercício 35:\n",
        "![alt text](https://github.com/alexiaca/mentores-python/blob/master/rarara.png?raw=true)"
      ]
    },
    {
      "cell_type": "markdown",
      "metadata": {
        "id": "EP3SY_T-4gxY",
        "colab_type": "text"
      },
      "source": [
        "#Exercício 36:\n",
        "![alt text](https://github.com/alexiaca/mentores-python/blob/master/ae%20ae%20ae.png?raw=true)"
      ]
    }
  ]
}