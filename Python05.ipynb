{
  "nbformat": 4,
  "nbformat_minor": 0,
  "metadata": {
    "colab": {
      "name": "Python05.ipynb",
      "provenance": [],
      "toc_visible": true,
      "authorship_tag": "ABX9TyM2Wogaq4EE9Ww3/ubtPE9b",
      "include_colab_link": true
    },
    "kernelspec": {
      "name": "python3",
      "display_name": "Python 3"
    }
  },
  "cells": [
    {
      "cell_type": "markdown",
      "metadata": {
        "id": "view-in-github",
        "colab_type": "text"
      },
      "source": [
        "<a href=\"https://colab.research.google.com/github/alexiaca/mentores-python/blob/master/Python05.ipynb\" target=\"_parent\"><img src=\"https://colab.research.google.com/assets/colab-badge.svg\" alt=\"Open In Colab\"/></a>"
      ]
    },
    {
      "cell_type": "markdown",
      "metadata": {
        "id": "YrX2TSwB90dy",
        "colab_type": "text"
      },
      "source": [
        "#Estrutura de dados em Python"
      ]
    },
    {
      "cell_type": "markdown",
      "metadata": {
        "id": "B3aSJxFMRqaj",
        "colab_type": "text"
      },
      "source": [
        "##Introdução às listas\n",
        "Lista é uma sequência finita de elementos.\n",
        "\n",
        "A lista é uma estrutura de dados amplamente utilizada no desenvolvimento de software.\n",
        "\n",
        "Aparentemente, todas as listas são iguais, porém, isso não é verdade!\n",
        "\n",
        "As listas são classificadas conforme o ordenamento dado aos seus elementos. Então, podemos dizer que exitem infinitos tipos de listas, até porque, existem infinitas maneiras de ordenarmos e organizarmos os itens de uma lista, sejam eles iguais, sejam diferentes.\n",
        "\n",
        "O conceito de lista é intuitivo e a forma mais primitiva de organização de conjuntos de elementos. Todo dia temos uma lista de afazeres e no final do dia, uma lista de tarefas realizadas. Temos listas de telefone, de amigos, inimigos, de produtos a serem vendidos, listas do que deve ser comprado, do que pode e não pode ser feito e etc.\n",
        "\n",
        "Todo programa é uma lista de instruções que serão executados numa ordem determinado pelo programador. Por isso, a lista é um dos conceito mais utilizado na computação até porque, a principal tarefa do computador é processar listas."
      ]
    },
    {
      "cell_type": "markdown",
      "metadata": {
        "id": "tyQZLj2mSqQd",
        "colab_type": "text"
      },
      "source": [
        "##Princípios das listas\n",
        "Toda lista pode conter **0**, **n** ou infinitos elementos. A lista é uma Estrutura de Dados propriamente dita, e os elementos que a compõem, podem ser qualquer um, inclusive outras listas."
      ]
    },
    {
      "cell_type": "markdown",
      "metadata": {
        "id": "d7HyLuHYS73Q",
        "colab_type": "text"
      },
      "source": [
        "##Manipulação de listas\n",
        "A lista contém 4 conceitos fundamentais:\n",
        "\n",
        "* Adição\n",
        "* Alteração [da disposição dos elementos]\n",
        "* Exclusão\n",
        "* Leitura\n",
        "\n",
        "Nem toda lista permitirá a adição, alteração ou exclusão de itens, porém, a capacidade de leitura é obrigatória.\n",
        "\n",
        "É importante entender que a lista possui um conjunto de propriedades e funções que a definem e, todo elemento contido nesta lista também poderá ter um conjunto de funções."
      ]
    },
    {
      "cell_type": "markdown",
      "metadata": {
        "id": "moqdhcq5TMt5",
        "colab_type": "text"
      },
      "source": [
        "##Tipos de lista\n",
        "O conceito mais simples de lista é aquela onde temos uma série de elementos. Os vários tipos de definições de lista dizem respeito a forma como os elementos são organizados, ou então, as ações conjuntas ligadas a inclusão e remoção de elementos."
      ]
    }
  ]
}