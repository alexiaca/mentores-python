{
  "nbformat": 4,
  "nbformat_minor": 0,
  "metadata": {
    "colab": {
      "name": "Python05.ipynb",
      "provenance": [],
      "toc_visible": true,
      "authorship_tag": "ABX9TyO4jKNk/LfoPQOipPF/9+9r",
      "include_colab_link": true
    },
    "kernelspec": {
      "name": "python3",
      "display_name": "Python 3"
    }
  },
  "cells": [
    {
      "cell_type": "markdown",
      "metadata": {
        "id": "view-in-github",
        "colab_type": "text"
      },
      "source": [
        "<a href=\"https://colab.research.google.com/github/alexiaca/mentores-python/blob/master/Python05.ipynb\" target=\"_parent\"><img src=\"https://colab.research.google.com/assets/colab-badge.svg\" alt=\"Open In Colab\"/></a>"
      ]
    },
    {
      "cell_type": "markdown",
      "metadata": {
        "id": "8GkFdt8HyekW",
        "colab_type": "text"
      },
      "source": [
        "#Introdução às listas\n",
        "Uma Lista é uma estrutura que pode conter itens. Em Python temos um objeto do tipo *list* e todos os elementos que estiverem delimitados por colchetes, serão interpretados pela linguagem, como um conjunto de itens pertencentes a uma lista.\n",
        "Existem várias maneiras de criar uma nova lista; a mais simples é envolver os elementos em colchetes ([ e ]):"
      ]
    },
    {
      "cell_type": "code",
      "metadata": {
        "id": "bFiy9-doN0H8",
        "colab_type": "code",
        "outputId": "304ea805-de53-4f43-a3a8-7b1d3ed46719",
        "colab": {
          "base_uri": "https://localhost:8080/",
          "height": 35
        }
      },
      "source": [
        "[10, 20, 30, 40]"
      ],
      "execution_count": 0,
      "outputs": [
        {
          "output_type": "execute_result",
          "data": {
            "text/plain": [
              "[10, 20, 30, 40]"
            ]
          },
          "metadata": {
            "tags": []
          },
          "execution_count": 1
        }
      ]
    },
    {
      "cell_type": "code",
      "metadata": {
        "id": "zE_W_S8vOA0w",
        "colab_type": "code",
        "outputId": "6cfdbede-f7e6-44f9-9b2f-ec8049b8c495",
        "colab": {
          "base_uri": "https://localhost:8080/",
          "height": 35
        }
      },
      "source": [
        "[\"amarelo\", \"vermelho\", \"azul\"]"
      ],
      "execution_count": 0,
      "outputs": [
        {
          "output_type": "execute_result",
          "data": {
            "text/plain": [
              "['amarelo', 'vermelho', 'azul']"
            ]
          },
          "metadata": {
            "tags": []
          },
          "execution_count": 2
        }
      ]
    },
    {
      "cell_type": "markdown",
      "metadata": {
        "id": "sreiNKyGOKVY",
        "colab_type": "text"
      },
      "source": [
        "O primeiro exemplo á uma lista de quatro inteiros. O segundo é uma lista de três *strings*."
      ]
    },
    {
      "cell_type": "code",
      "metadata": {
        "id": "FlPovqpnOVbL",
        "colab_type": "code",
        "outputId": "1c21b0de-67bc-457a-a1d1-a4b6beb36fca",
        "colab": {
          "base_uri": "https://localhost:8080/",
          "height": 35
        }
      },
      "source": [
        "[\"amarelo\", 2.3, 20, [30, 40]]"
      ],
      "execution_count": 0,
      "outputs": [
        {
          "output_type": "execute_result",
          "data": {
            "text/plain": [
              "['amarelo', 2.3, 20, [30, 40]]"
            ]
          },
          "metadata": {
            "tags": []
          },
          "execution_count": 3
        }
      ]
    },
    {
      "cell_type": "markdown",
      "metadata": {
        "id": "eaeJ-7OfOgh0",
        "colab_type": "text"
      },
      "source": [
        "Os elementos de uma lista não necessitam ser do mesmo tipo. Neste exemplo a lista contém uma *string*, um valor *float*, um valor inteiro e uma outra lista.\n",
        "Uma lista dentro de outra lista é dita estar aninhada.\n",
        "Podemos atribuir uma lista a uma variável."
      ]
    },
    {
      "cell_type": "code",
      "metadata": {
        "id": "YKJziHcgVd67",
        "colab_type": "code",
        "outputId": "2d1bbfa6-0294-4887-f9c2-e5cfaf787d03",
        "colab": {
          "base_uri": "https://localhost:8080/",
          "height": 86
        }
      },
      "source": [
        "supermercado = [\"arroz\", \"feijao\", \"farinha\", \"sal\"]\n",
        "farmacia = [\"sabonete\", \"cotonete\", \"algodao\"]\n",
        "idade = [10, 12, 15]\n",
        "print (supermercado)\n",
        "print (farmacia)\n",
        "print (idade)\n",
        "print (supermercado, farmacia, idade)"
      ],
      "execution_count": 0,
      "outputs": [
        {
          "output_type": "stream",
          "text": [
            "['arroz', 'feijao', 'farinha', 'sal']\n",
            "['sabonete', 'cotonete', 'algodao']\n",
            "[10, 12, 15]\n",
            "['arroz', 'feijao', 'farinha', 'sal'] ['sabonete', 'cotonete', 'algodao'] [10, 12, 15]\n"
          ],
          "name": "stdout"
        }
      ]
    },
    {
      "cell_type": "markdown",
      "metadata": {
        "id": "TJ29xBLJWaGm",
        "colab_type": "text"
      },
      "source": [
        "###Alterando uma lista\n",
        "Podemos acessar os elementos de uma lista utilizando o operador de colchete. A expressão dentro dos colchetes especifica o índice e ele começa em 0 (zero)"
      ]
    },
    {
      "cell_type": "code",
      "metadata": {
        "id": "MAVC5MgdXI7N",
        "colab_type": "code",
        "outputId": "edaa9b51-e9d2-42cf-ced0-3c7532c557e6",
        "colab": {
          "base_uri": "https://localhost:8080/",
          "height": 35
        }
      },
      "source": [
        "supermercado[0]"
      ],
      "execution_count": 0,
      "outputs": [
        {
          "output_type": "execute_result",
          "data": {
            "text/plain": [
              "'arroz'"
            ]
          },
          "metadata": {
            "tags": []
          },
          "execution_count": 18
        }
      ]
    },
    {
      "cell_type": "code",
      "metadata": {
        "id": "Kyv0vN8AXhrx",
        "colab_type": "code",
        "outputId": "5dff82d4-1b47-45f3-ec99-e72f1c32b9d6",
        "colab": {
          "base_uri": "https://localhost:8080/",
          "height": 35
        }
      },
      "source": [
        "farmacia[2]"
      ],
      "execution_count": 0,
      "outputs": [
        {
          "output_type": "execute_result",
          "data": {
            "text/plain": [
              "'algodao'"
            ]
          },
          "metadata": {
            "tags": []
          },
          "execution_count": 19
        }
      ]
    },
    {
      "cell_type": "code",
      "metadata": {
        "id": "AJHJ2PJQXtjc",
        "colab_type": "code",
        "outputId": "829214da-fbf2-4226-c3fd-167abf25e3ef",
        "colab": {
          "base_uri": "https://localhost:8080/",
          "height": 35
        }
      },
      "source": [
        "supermercado[0] = \"macarrao\"\n",
        "print (supermercado)"
      ],
      "execution_count": 0,
      "outputs": [
        {
          "output_type": "stream",
          "text": [
            "['macarrao', 'feijao', 'farinha', 'sal']\n"
          ],
          "name": "stdout"
        }
      ]
    },
    {
      "cell_type": "markdown",
      "metadata": {
        "id": "J-BSc-xTZRwn",
        "colab_type": "text"
      },
      "source": [
        "###O operador *in*\n",
        "\n",
        "Se você quiser descobrir se algum elemento consta em uma lista, você pode usar o operador *in*."
      ]
    },
    {
      "cell_type": "code",
      "metadata": {
        "id": "Oa_iJjZPZbE7",
        "colab_type": "code",
        "outputId": "63460409-1bb4-4fa5-80ad-e97378bf6e40",
        "colab": {
          "base_uri": "https://localhost:8080/",
          "height": 35
        }
      },
      "source": [
        "\"algodao\" in farmacia"
      ],
      "execution_count": 0,
      "outputs": [
        {
          "output_type": "execute_result",
          "data": {
            "text/plain": [
              "True"
            ]
          },
          "metadata": {
            "tags": []
          },
          "execution_count": 22
        }
      ]
    },
    {
      "cell_type": "markdown",
      "metadata": {
        "id": "lpf6Q8maZo_T",
        "colab_type": "text"
      },
      "source": [
        "###Percorrendo uma lista\n",
        "A forma mais comum de percorrer os elementos em uma lista é com um *for*."
      ]
    },
    {
      "cell_type": "code",
      "metadata": {
        "id": "hTuzuAOpZ3Hv",
        "colab_type": "code",
        "outputId": "9b4a3f1f-1430-4f5f-8dde-ab8f8324c66c",
        "colab": {
          "base_uri": "https://localhost:8080/",
          "height": 86
        }
      },
      "source": [
        "for i in supermercado:\n",
        "  print (i)"
      ],
      "execution_count": 0,
      "outputs": [
        {
          "output_type": "stream",
          "text": [
            "macarrao\n",
            "feijao\n",
            "farinha\n",
            "sal\n"
          ],
          "name": "stdout"
        }
      ]
    },
    {
      "cell_type": "markdown",
      "metadata": {
        "id": "CsjXXcGIaM3Z",
        "colab_type": "text"
      },
      "source": [
        "Isto é útil para quando você só precisa ler os elementos da lista. Mas se você quer escrever ou atualizar os elementos, você precisa dos índices. Uma forma comum de fazer isso é combinar as funções integradas *range()* e *len()*."
      ]
    },
    {
      "cell_type": "code",
      "metadata": {
        "id": "cfxk1hUWa2Pk",
        "colab_type": "code",
        "outputId": "57a0388d-af69-4679-a4d7-27401e0bc17c",
        "colab": {
          "base_uri": "https://localhost:8080/",
          "height": 35
        }
      },
      "source": [
        "for i in range(len(supermercado)):\n",
        "  supermercado[i] = str(i) + supermercado[i]\n",
        "print (supermercado)"
      ],
      "execution_count": 0,
      "outputs": [
        {
          "output_type": "stream",
          "text": [
            "['0macarrao', '1feijao', '2farinha', '3sal']\n"
          ],
          "name": "stdout"
        }
      ]
    },
    {
      "cell_type": "markdown",
      "metadata": {
        "id": "AoMsAIzfcAV0",
        "colab_type": "text"
      },
      "source": [
        "Este *for* percorre a lista e atualiza cada elemento. A função *len( retorna o número de elementos na lista. A função *range* retorna uma lista de índices de 0 a n-1, em que **n** é o comprimento da lista. Cada vez que passa pelo loop, **i** recebe o índice do próximo elemento. A instrução de atribuição no corpo usa **i** para ler o valor antigo do elemento e atribuir o novo valor."
      ]
    },
    {
      "cell_type": "code",
      "metadata": {
        "id": "OaSmCyBkbqQo",
        "colab_type": "code",
        "outputId": "6850b45e-0902-4007-d7af-278f9f601eba",
        "colab": {
          "base_uri": "https://localhost:8080/",
          "height": 35
        }
      },
      "source": [
        "for i in range(len(idade)):\n",
        "  idade[i] *= 10\n",
        "print (idade)"
      ],
      "execution_count": 0,
      "outputs": [
        {
          "output_type": "stream",
          "text": [
            "[1000, 1200, 1500]\n"
          ],
          "name": "stdout"
        }
      ]
    },
    {
      "cell_type": "markdown",
      "metadata": {
        "id": "ABadTxREcYQ0",
        "colab_type": "text"
      },
      "source": [
        "Apesar de uma lista poder conter outra lista, a lista aninhada ainda conta como um único elemento."
      ]
    },
    {
      "cell_type": "code",
      "metadata": {
        "id": "f9rubbzqccEy",
        "colab_type": "code",
        "outputId": "667cae1f-1665-4683-9414-da5ef0685d93",
        "colab": {
          "base_uri": "https://localhost:8080/",
          "height": 35
        }
      },
      "source": [
        "casas = [15, 16, 17, [18, 19]]\n",
        "len (casas)"
      ],
      "execution_count": 0,
      "outputs": [
        {
          "output_type": "execute_result",
          "data": {
            "text/plain": [
              "4"
            ]
          },
          "metadata": {
            "tags": []
          },
          "execution_count": 29
        }
      ]
    },
    {
      "cell_type": "markdown",
      "metadata": {
        "id": "5n1AhVZqcsx5",
        "colab_type": "text"
      },
      "source": [
        "###Operações com listas\n",
        "O operador **+** concatena listas:"
      ]
    },
    {
      "cell_type": "code",
      "metadata": {
        "id": "aj2dE8Skc-qA",
        "colab_type": "code",
        "outputId": "a573975f-f791-4940-a7a1-626e5b6c351a",
        "colab": {
          "base_uri": "https://localhost:8080/",
          "height": 35
        }
      },
      "source": [
        "a = [1, 2, 3]\n",
        "b = [4, 5, 6]\n",
        "c = a + b\n",
        "c"
      ],
      "execution_count": 0,
      "outputs": [
        {
          "output_type": "execute_result",
          "data": {
            "text/plain": [
              "[1, 2, 3, 4, 5, 6]"
            ]
          },
          "metadata": {
            "tags": []
          },
          "execution_count": 30
        }
      ]
    },
    {
      "cell_type": "markdown",
      "metadata": {
        "id": "CBitAY3AdQ52",
        "colab_type": "text"
      },
      "source": [
        "O operador **\\*** repete a lista um dado número de vezes:"
      ]
    },
    {
      "cell_type": "code",
      "metadata": {
        "id": "oSQybqsBdWD6",
        "colab_type": "code",
        "outputId": "93656fc4-1e1c-46a8-80f6-07244d150ce3",
        "colab": {
          "base_uri": "https://localhost:8080/",
          "height": 35
        }
      },
      "source": [
        "[0] * 4"
      ],
      "execution_count": 0,
      "outputs": [
        {
          "output_type": "execute_result",
          "data": {
            "text/plain": [
              "[0, 0, 0, 0]"
            ]
          },
          "metadata": {
            "tags": []
          },
          "execution_count": 31
        }
      ]
    },
    {
      "cell_type": "code",
      "metadata": {
        "id": "7GYY_Amqdn8N",
        "colab_type": "code",
        "outputId": "a291b960-75d9-46ae-8645-2e3b1ad95d30",
        "colab": {
          "base_uri": "https://localhost:8080/",
          "height": 35
        }
      },
      "source": [
        "[\"pera\", \"uva\", \"maca\"] * 3"
      ],
      "execution_count": 0,
      "outputs": [
        {
          "output_type": "execute_result",
          "data": {
            "text/plain": [
              "['pera', 'uva', 'maca', 'pera', 'uva', 'maca', 'pera', 'uva', 'maca']"
            ]
          },
          "metadata": {
            "tags": []
          },
          "execution_count": 32
        }
      ]
    },
    {
      "cell_type": "markdown",
      "metadata": {
        "id": "L-9Ej8vCNHxq",
        "colab_type": "text"
      },
      "source": [
        "###Fatias de listas\n",
        "Você pode acessar um pedaço (fatia/slice) da sua lista."
      ]
    },
    {
      "cell_type": "code",
      "metadata": {
        "id": "_UxSOpyzN3fU",
        "colab_type": "code",
        "outputId": "110d05f0-6caf-44e5-fbf6-139f023888f4",
        "colab": {
          "base_uri": "https://localhost:8080/",
          "height": 35
        }
      },
      "source": [
        "vogais = [\"a\", \"e\", \"i\", \"o\", \"u\"]\n",
        "vogais[1:3]"
      ],
      "execution_count": 0,
      "outputs": [
        {
          "output_type": "execute_result",
          "data": {
            "text/plain": [
              "['e', 'i']"
            ]
          },
          "metadata": {
            "tags": []
          },
          "execution_count": 33
        }
      ]
    },
    {
      "cell_type": "code",
      "metadata": {
        "id": "vD9mV_q1OXbl",
        "colab_type": "code",
        "outputId": "196070a9-4996-46b6-c63d-f80d06d75b86",
        "colab": {
          "base_uri": "https://localhost:8080/",
          "height": 35
        }
      },
      "source": [
        "vogais[:4]"
      ],
      "execution_count": 0,
      "outputs": [
        {
          "output_type": "execute_result",
          "data": {
            "text/plain": [
              "['a', 'e', 'i', 'o']"
            ]
          },
          "metadata": {
            "tags": []
          },
          "execution_count": 34
        }
      ]
    },
    {
      "cell_type": "markdown",
      "metadata": {
        "id": "D625T8FlOxmw",
        "colab_type": "text"
      },
      "source": [
        "Se você omitir o primeiro índice, a fatia começa no início, que é o 0 (zero). Lembra?"
      ]
    },
    {
      "cell_type": "code",
      "metadata": {
        "id": "fVdtO-JGOc-u",
        "colab_type": "code",
        "outputId": "94f278c8-45e1-4ce6-82f1-97a1a412d8e3",
        "colab": {
          "base_uri": "https://localhost:8080/",
          "height": 35
        }
      },
      "source": [
        "vogais[3:]"
      ],
      "execution_count": 0,
      "outputs": [
        {
          "output_type": "execute_result",
          "data": {
            "text/plain": [
              "['o', 'u']"
            ]
          },
          "metadata": {
            "tags": []
          },
          "execution_count": 35
        }
      ]
    },
    {
      "cell_type": "markdown",
      "metadata": {
        "id": "gjSjGRCpO9WC",
        "colab_type": "text"
      },
      "source": [
        "Se você omitir o segundo, a fatia vai até o final, que neste caso é até o elemento de índice 4."
      ]
    },
    {
      "cell_type": "code",
      "metadata": {
        "id": "t6oZRSBtOmHe",
        "colab_type": "code",
        "outputId": "6b7d69a1-0467-41e9-cd8f-55e64e614919",
        "colab": {
          "base_uri": "https://localhost:8080/",
          "height": 35
        }
      },
      "source": [
        "vogais[:]"
      ],
      "execution_count": 0,
      "outputs": [
        {
          "output_type": "execute_result",
          "data": {
            "text/plain": [
              "['a', 'e', 'i', 'o', 'u']"
            ]
          },
          "metadata": {
            "tags": []
          },
          "execution_count": 37
        }
      ]
    },
    {
      "cell_type": "markdown",
      "metadata": {
        "id": "ROV-OjIROrzh",
        "colab_type": "text"
      },
      "source": [
        "Se você omitir ambos, a fatia é uma cópia da lista inteira.\n",
        "\n",
        "Como as listas são mutáveis, pode ser útil fazer uma cópia antes de executar operações que as alterem.\n",
        "\n",
        "Um operador de fatia à esquerda de uma atribuição pode atualizar vários elementos."
      ]
    },
    {
      "cell_type": "code",
      "metadata": {
        "id": "vhufzF9-Pb6R",
        "colab_type": "code",
        "outputId": "3bb8a491-0060-4c02-a4c7-bfde36e688cb",
        "colab": {
          "base_uri": "https://localhost:8080/",
          "height": 35
        }
      },
      "source": [
        "letras = [\"a\", \"b\", \"c\", \"d\", \"e\", \"f\"]\n",
        "letras [1:3] = [\"x\", \"y\"]\n",
        "letras"
      ],
      "execution_count": 0,
      "outputs": [
        {
          "output_type": "execute_result",
          "data": {
            "text/plain": [
              "['a', 'x', 'y', 'd', 'e', 'f']"
            ]
          },
          "metadata": {
            "tags": []
          },
          "execution_count": 38
        }
      ]
    },
    {
      "cell_type": "markdown",
      "metadata": {
        "id": "VmagCCsiPyFI",
        "colab_type": "text"
      },
      "source": [
        "Neste exemplo, os elementos de índice 1 e 2 foram substituídos."
      ]
    },
    {
      "cell_type": "markdown",
      "metadata": {
        "id": "oy4ogI0MP63e",
        "colab_type": "text"
      },
      "source": [
        "###Métodos de listas\n",
        "O Python oferece métodos que operam em listas. \n",
        "\n",
        "O método *append* adiciona um novo elemento ao fim de uma lista."
      ]
    },
    {
      "cell_type": "code",
      "metadata": {
        "id": "7svEB6RrQFlk",
        "colab_type": "code",
        "outputId": "118b5fe5-f816-4910-bb96-83b86f813f95",
        "colab": {
          "base_uri": "https://localhost:8080/",
          "height": 35
        }
      },
      "source": [
        "letras = [\"a\", \"b\", \"c\", \"d\", \"e\", \"f\"]\n",
        "letras.append(\"g\")\n",
        "letras"
      ],
      "execution_count": 0,
      "outputs": [
        {
          "output_type": "execute_result",
          "data": {
            "text/plain": [
              "['a', 'b', 'c', 'd', 'e', 'f', 'g']"
            ]
          },
          "metadata": {
            "tags": []
          },
          "execution_count": 39
        }
      ]
    },
    {
      "cell_type": "markdown",
      "metadata": {
        "id": "aLrAh5ZvQZqd",
        "colab_type": "text"
      },
      "source": [
        "O método *extend* toma uma lista como argumento e adiciona todos os seus elementos."
      ]
    },
    {
      "cell_type": "code",
      "metadata": {
        "id": "VEQDUYd_QgSR",
        "colab_type": "code",
        "outputId": "b1f89fb6-e72d-42d3-884a-4ca707b02900",
        "colab": {
          "base_uri": "https://localhost:8080/",
          "height": 35
        }
      },
      "source": [
        "letras = [\"a\", \"b\", \"c\", \"d\", \"e\", \"f\"]\n",
        "letras2 = [\"g\", \"h\"]\n",
        "letras.extend(letras2)\n",
        "letras"
      ],
      "execution_count": 0,
      "outputs": [
        {
          "output_type": "execute_result",
          "data": {
            "text/plain": [
              "['a', 'b', 'c', 'd', 'e', 'f', 'g', 'h']"
            ]
          },
          "metadata": {
            "tags": []
          },
          "execution_count": 43
        }
      ]
    },
    {
      "cell_type": "markdown",
      "metadata": {
        "id": "-4iXz_JiQ5mR",
        "colab_type": "text"
      },
      "source": [
        "O método *sort* classifica os elementos da lista em ordem ascendente."
      ]
    },
    {
      "cell_type": "code",
      "metadata": {
        "id": "X-D98NEZRBfD",
        "colab_type": "code",
        "outputId": "b7df6d6e-c063-49e1-bf2d-f7e3f6ca5824",
        "colab": {
          "base_uri": "https://localhost:8080/",
          "height": 35
        }
      },
      "source": [
        "letras = [\"f\", \"e\", \"d\", \"c\", \"b\", \"a\"]\n",
        "letras.sort()\n",
        "letras"
      ],
      "execution_count": 0,
      "outputs": [
        {
          "output_type": "execute_result",
          "data": {
            "text/plain": [
              "['a', 'b', 'c', 'd', 'e', 'f']"
            ]
          },
          "metadata": {
            "tags": []
          },
          "execution_count": 44
        }
      ]
    },
    {
      "cell_type": "code",
      "metadata": {
        "id": "O7X9PbpFRMB4",
        "colab_type": "code",
        "outputId": "48bc4797-05d3-4bd5-e816-165e1c2f0a45",
        "colab": {
          "base_uri": "https://localhost:8080/",
          "height": 35
        }
      },
      "source": [
        "numeros = [5, 4, 3, 2, 1]\n",
        "numeros.sort()\n",
        "numeros"
      ],
      "execution_count": 0,
      "outputs": [
        {
          "output_type": "execute_result",
          "data": {
            "text/plain": [
              "[1, 2, 3, 4, 5]"
            ]
          },
          "metadata": {
            "tags": []
          },
          "execution_count": 45
        }
      ]
    },
    {
      "cell_type": "markdown",
      "metadata": {
        "id": "q6p3FmAtRqf5",
        "colab_type": "text"
      },
      "source": [
        "Somar todos elementos de uma lista é uma operação tão comum que o Python a oferece a função *sum()*."
      ]
    },
    {
      "cell_type": "code",
      "metadata": {
        "id": "UHHM873rRwRN",
        "colab_type": "code",
        "outputId": "257201d0-6fbb-4061-e940-d7aafdcea192",
        "colab": {
          "base_uri": "https://localhost:8080/",
          "height": 35
        }
      },
      "source": [
        "numeros = [5, 4, 3, 2, 1]\n",
        "sum (numeros)"
      ],
      "execution_count": 0,
      "outputs": [
        {
          "output_type": "execute_result",
          "data": {
            "text/plain": [
              "15"
            ]
          },
          "metadata": {
            "tags": []
          },
          "execution_count": 46
        }
      ]
    },
    {
      "cell_type": "markdown",
      "metadata": {
        "id": "zX_Qoj47SE8m",
        "colab_type": "text"
      },
      "source": [
        "###Como excluir elementos de uma lista\n",
        "Há várias formas de excluir elementos de uma lista. \n",
        "\n",
        "Caso você saiba o índice do elemento que deseja remover, você pode usar o método *pop*."
      ]
    },
    {
      "cell_type": "code",
      "metadata": {
        "id": "s4qpf48lT8EL",
        "colab_type": "code",
        "outputId": "1080ff81-409a-43f6-f4ba-d3f7c83fd84e",
        "colab": {
          "base_uri": "https://localhost:8080/",
          "height": 35
        }
      },
      "source": [
        "letras = ['a', 'b', 'c']\n",
        "x = letras.pop(1)\n",
        "letras"
      ],
      "execution_count": 0,
      "outputs": [
        {
          "output_type": "execute_result",
          "data": {
            "text/plain": [
              "['a', 'c']"
            ]
          },
          "metadata": {
            "tags": []
          },
          "execution_count": 50
        }
      ]
    },
    {
      "cell_type": "markdown",
      "metadata": {
        "id": "EoD0e3wuUZLs",
        "colab_type": "text"
      },
      "source": [
        "O método *pop* altera a lista e retorna o elemento que foi excluído. Se você não incluir um índice, ele exclui e retorna o último elemento."
      ]
    },
    {
      "cell_type": "code",
      "metadata": {
        "id": "Ztv0M2khUtnX",
        "colab_type": "code",
        "outputId": "4ed826d6-28ee-42ef-dadb-bfdebff1a033",
        "colab": {
          "base_uri": "https://localhost:8080/",
          "height": 35
        }
      },
      "source": [
        "letras = ['a', 'b', 'c']\n",
        "x = letras.pop()\n",
        "letras"
      ],
      "execution_count": 0,
      "outputs": [
        {
          "output_type": "execute_result",
          "data": {
            "text/plain": [
              "['a', 'b']"
            ]
          },
          "metadata": {
            "tags": []
          },
          "execution_count": 51
        }
      ]
    },
    {
      "cell_type": "markdown",
      "metadata": {
        "id": "sHJvl-S1U2j_",
        "colab_type": "text"
      },
      "source": [
        "Se não precisar do valor removido, você pode usar a instrução *del*."
      ]
    },
    {
      "cell_type": "code",
      "metadata": {
        "id": "wM_5TAzQVdFl",
        "colab_type": "code",
        "outputId": "13aa6378-814a-429e-8ea3-730014f90ad1",
        "colab": {
          "base_uri": "https://localhost:8080/",
          "height": 35
        }
      },
      "source": [
        "letras = ['a', 'b', 'c']\n",
        "del letras[1]\n",
        "letras"
      ],
      "execution_count": 0,
      "outputs": [
        {
          "output_type": "execute_result",
          "data": {
            "text/plain": [
              "['a', 'c']"
            ]
          },
          "metadata": {
            "tags": []
          },
          "execution_count": 53
        }
      ]
    },
    {
      "cell_type": "markdown",
      "metadata": {
        "id": "nVFoDt4uV0rZ",
        "colab_type": "text"
      },
      "source": [
        "Se souber o elemento que quer excluir (mas não o índice), você pode usar *remove*."
      ]
    },
    {
      "cell_type": "code",
      "metadata": {
        "id": "OXUt1wm0V31D",
        "colab_type": "code",
        "outputId": "4f07da88-ff34-43f1-bd56-449eb881491e",
        "colab": {
          "base_uri": "https://localhost:8080/",
          "height": 35
        }
      },
      "source": [
        "letras = ['a', 'b', 'c']\n",
        "letras.remove(\"b\")\n",
        "letras"
      ],
      "execution_count": 0,
      "outputs": [
        {
          "output_type": "execute_result",
          "data": {
            "text/plain": [
              "['a', 'c']"
            ]
          },
          "metadata": {
            "tags": []
          },
          "execution_count": 54
        }
      ]
    },
    {
      "cell_type": "markdown",
      "metadata": {
        "id": "YsegfXzMWGs_",
        "colab_type": "text"
      },
      "source": [
        "Para remover mais de um elemento, você pode usar *del* com um índice de fatia."
      ]
    },
    {
      "cell_type": "code",
      "metadata": {
        "id": "z20WieSsWJX1",
        "colab_type": "code",
        "outputId": "dbbedc18-4428-418d-e5f8-6e814bc62b4d",
        "colab": {
          "base_uri": "https://localhost:8080/",
          "height": 35
        }
      },
      "source": [
        "letras = [\"a\", \"b\", \"c\", \"d\", \"e\", \"f\"]\n",
        "del letras[1:3]\n",
        "letras"
      ],
      "execution_count": 0,
      "outputs": [
        {
          "output_type": "execute_result",
          "data": {
            "text/plain": [
              "['a', 'd', 'e', 'f']"
            ]
          },
          "metadata": {
            "tags": []
          },
          "execution_count": 55
        }
      ]
    },
    {
      "cell_type": "markdown",
      "metadata": {
        "id": "zIezjIDqXQF4",
        "colab_type": "text"
      },
      "source": [
        "###Listas e *strings*\n",
        "Uma *string* é uma sequência de caracteres e uma lista é uma sequência de valores, mas uma lista de caracteres não é a mesma coisa que uma *string*. Para converter uma *string* em uma lista de caracteres, você pode usar a função *list()*."
      ]
    },
    {
      "cell_type": "code",
      "metadata": {
        "id": "_xW1VogpXdHg",
        "colab_type": "code",
        "outputId": "7d26bf07-6e57-4693-dc05-659a8fe0722c",
        "colab": {
          "base_uri": "https://localhost:8080/",
          "height": 35
        }
      },
      "source": [
        "cor = \"amarela\"\n",
        ">>> letras = list(cor)\n",
        ">>> letras"
      ],
      "execution_count": 0,
      "outputs": [
        {
          "output_type": "execute_result",
          "data": {
            "text/plain": [
              "['a', 'm', 'a', 'r', 'e', 'l', 'a']"
            ]
          },
          "metadata": {
            "tags": []
          },
          "execution_count": 58
        }
      ]
    },
    {
      "cell_type": "markdown",
      "metadata": {
        "id": "BiHiryZIX5xk",
        "colab_type": "text"
      },
      "source": [
        "Como vimos, a função *list()* quebra uma *string* em letras individuais. Se você quiser quebrar uma *string* em palavras, você pode usar o método *split*."
      ]
    },
    {
      "cell_type": "code",
      "metadata": {
        "id": "E_Z7rIpaYGnr",
        "colab_type": "code",
        "outputId": "95f90bfd-1b8f-4d8c-c4f6-2397d2acd098",
        "colab": {
          "base_uri": "https://localhost:8080/",
          "height": 35
        }
      },
      "source": [
        "frase = \"Em todos estes anos nesta industria vital\"\n",
        "frase.split()"
      ],
      "execution_count": 0,
      "outputs": [
        {
          "output_type": "execute_result",
          "data": {
            "text/plain": [
              "['Em', 'todos', 'estes', 'anos', 'nesta', 'industria', 'vital']"
            ]
          },
          "metadata": {
            "tags": []
          },
          "execution_count": 59
        }
      ]
    },
    {
      "cell_type": "markdown",
      "metadata": {
        "id": "-UQ6vzmHYmHC",
        "colab_type": "text"
      },
      "source": [
        "Um argumento opcional chamado *delimiter* especifica quais caracteres podem ser usados para demonstrar os limites das palavras. O exemplo seguinte usa uma vírgula como delimitador."
      ]
    },
    {
      "cell_type": "code",
      "metadata": {
        "id": "1sLJu7TiYUko",
        "colab_type": "code",
        "outputId": "0e8d79da-951c-4d48-9d16-df50aa563758",
        "colab": {
          "base_uri": "https://localhost:8080/",
          "height": 35
        }
      },
      "source": [
        "personagens = \"Cosmo, Wanda, Timmy Turner, Denzel Crocker\"\n",
        "personagens.split(\", \")"
      ],
      "execution_count": 0,
      "outputs": [
        {
          "output_type": "execute_result",
          "data": {
            "text/plain": [
              "['Cosmo', 'Wanda', 'Timmy Turner', 'Denzel Crocker']"
            ]
          },
          "metadata": {
            "tags": []
          },
          "execution_count": 60
        }
      ]
    },
    {
      "cell_type": "markdown",
      "metadata": {
        "id": "qvaD6rAJY4_D",
        "colab_type": "text"
      },
      "source": [
        "O método *join( é o contrário de *split*. Ele toma uma lista de *strings* e concatena os elementos. *join* é um método de *string*, então é preciso invocá-lo no delimitador e passar a lista como parâmetro."
      ]
    },
    {
      "cell_type": "code",
      "metadata": {
        "id": "Quq-NaY9ZCUx",
        "colab_type": "code",
        "outputId": "2f338791-45d0-4da3-fb95-bdbf0c945622",
        "colab": {
          "base_uri": "https://localhost:8080/",
          "height": 35
        }
      },
      "source": [
        "palavras = [\"Em\", \"todos\", \"estes\", \"anos\", \"nesta\", \"industria\", \"vital\"]\n",
        "separador = \" \"\n",
        "separador.join(palavras)"
      ],
      "execution_count": 0,
      "outputs": [
        {
          "output_type": "execute_result",
          "data": {
            "text/plain": [
              "'Em todos estes anos nesta industria vital'"
            ]
          },
          "metadata": {
            "tags": []
          },
          "execution_count": 62
        }
      ]
    },
    {
      "cell_type": "markdown",
      "metadata": {
        "id": "LXe9pQWAaCiV",
        "colab_type": "text"
      },
      "source": [
        "Nesse caso, o delimitador é um caractere de espaço, então *join* coloca um espaço entre as palavras. Para concatenar *strings* sem espaços, você pode usar a *string* vazia \"\", como delimitador."
      ]
    },
    {
      "cell_type": "code",
      "metadata": {
        "id": "zSghjamyZpwW",
        "colab_type": "code",
        "outputId": "ebb035dc-75b8-4561-a2a4-ea902d13a4bc",
        "colab": {
          "base_uri": "https://localhost:8080/",
          "height": 35
        }
      },
      "source": [
        "p = [\"Cosmo\", \"Wanda\", \"Timmy Turner\", \"Denzel Crocker\"]\n",
        "\", \".join(p)"
      ],
      "execution_count": 0,
      "outputs": [
        {
          "output_type": "execute_result",
          "data": {
            "text/plain": [
              "'Cosmo, Wanda, Timmy Turner, Denzel Crocker'"
            ]
          },
          "metadata": {
            "tags": []
          },
          "execution_count": 64
        }
      ]
    },
    {
      "cell_type": "markdown",
      "metadata": {
        "id": "FclomQFNpCL6",
        "colab_type": "text"
      },
      "source": [
        "#Exercício 1:\n",
        "Escreva uma função que recebe uma lista e um valor qualquer x, e se a lista não contém x, insere x na lista.\n",
        "\n",
        "Exemplo:\n",
        "\n",
        "L = [3, 1, 2]\n",
        "\n",
        "insere_condicional(L, 5)\n",
        "\n",
        "L\n",
        "\n",
        "[3, 1, 2, 5]"
      ]
    },
    {
      "cell_type": "markdown",
      "metadata": {
        "id": "aFPLVmZGpjmp",
        "colab_type": "text"
      },
      "source": [
        "#Exercício 2:\n",
        "Escreva uma função que recebe uma lista e um valor qualquer x, e se x aparece um número par de vezes na lista remova a primeira ocorrência de x da lista.\n",
        "\n",
        "Exemplo:\n",
        "\n",
        "L = [1, 3, 2, 4, 1, 2, 3]\n",
        "remove_condicional(L, 2)\n",
        "L\n",
        "[1, 3, 4, 1, 2, 3]"
      ]
    },
    {
      "cell_type": "markdown",
      "metadata": {
        "id": "yGtylD3SrPNb",
        "colab_type": "text"
      },
      "source": [
        "#Exercício 3:\n",
        "Escreva uma função que dada uma frase retorne uma outra frase que contenha as mesmas palavras da frase de entrada na ordem inversa.\n",
        "\n",
        "Exemplo:\n",
        "\n",
        "reverte_palavras(\"eu gosto de chocolate\")\n",
        "\n",
        "\"chocolate de gosto eu\""
      ]
    },
    {
      "cell_type": "markdown",
      "metadata": {
        "id": "oHWGWUOTsCi7",
        "colab_type": "text"
      },
      "source": [
        "#Exercício 4:\n",
        "Escreva uma função que recebe uma lista L de números e um valor x, e retorna a soma de todos os valores de L que sejam menores do que x.\n",
        "\n",
        "Exemplo:\n",
        "\n",
        "s = [24, 49, 31, 59, 28, 12, 30, 4] \n",
        "\n",
        "soma_menores(s, 30)\n",
        "\n",
        "68"
      ]
    },
    {
      "cell_type": "markdown",
      "metadata": {
        "id": "arcJMDbgskQ_",
        "colab_type": "text"
      },
      "source": [
        "#Exercício 5:\n",
        "Escreva uma função que recebe uma frase e retorna esta frase modificada, colocando todas as vogais antes dos demais caracteres.\n",
        "\n",
        "Exemplo:\n",
        "separa_vogais('Abacate')\n",
        "\n",
        "\"Aaaebct\""
      ]
    },
    {
      "cell_type": "markdown",
      "metadata": {
        "id": "z9wCgePLFFhE",
        "colab_type": "text"
      },
      "source": [
        "#Exercício 6:\n",
        "Crie uma função que recebe uma string L e um caractere x e retorna uma lista com todas as posições de x em L\n",
        "\n",
        "Exemplo:\n",
        "\n",
        "posicoes('Quem eh essa ai, papai?', 'a')\n",
        "[11, 13, 18, 20]\n",
        "\n",
        "posicoes('Ta cheio de assunto, hein?', ' ')\n",
        "[2, 8, 11, 20]\n",
        "\n",
        "posicoes('Ta cheio de assunto, hein?', 'e')\n",
        "[5, 10, 22]"
      ]
    }
  ]
}