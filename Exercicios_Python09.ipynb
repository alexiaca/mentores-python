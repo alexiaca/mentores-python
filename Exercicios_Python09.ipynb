{
  "nbformat": 4,
  "nbformat_minor": 0,
  "metadata": {
    "colab": {
      "name": "Exercicios-Python09.ipynb",
      "provenance": [],
      "collapsed_sections": [],
      "toc_visible": true,
      "include_colab_link": true
    },
    "kernelspec": {
      "name": "python3",
      "display_name": "Python 3"
    }
  },
  "cells": [
    {
      "cell_type": "markdown",
      "metadata": {
        "id": "view-in-github",
        "colab_type": "text"
      },
      "source": [
        "<a href=\"https://colab.research.google.com/github/alexiaca/mentores-python/blob/master/Exercicios_Python09.ipynb\" target=\"_parent\"><img src=\"https://colab.research.google.com/assets/colab-badge.svg\" alt=\"Open In Colab\"/></a>"
      ]
    },
    {
      "cell_type": "markdown",
      "metadata": {
        "id": "Cq5_zykRYXu1",
        "colab_type": "text"
      },
      "source": [
        "#Exercícios - Python 09"
      ]
    },
    {
      "cell_type": "markdown",
      "metadata": {
        "id": "_MREg2oyg27M",
        "colab_type": "text"
      },
      "source": [
        "#Exercício 1\n",
        "Escreva um programa que calcule a probabilidade de sair um número ímpar em uma jogada de um dado de 10 lados. Imprima o espaço amostral e o evento."
      ]
    },
    {
      "cell_type": "markdown",
      "metadata": {
        "id": "Po1qn_-EhenO",
        "colab_type": "text"
      },
      "source": [
        "#Exercício 2\n",
        "Escreva um programa que calcule a probabilidade de ao lançarmos dois dados ao mesmo tempo, sairem dois números iguais. Imprima o espaço amostral, o evento e seus respectivos tamanhos."
      ]
    },
    {
      "cell_type": "markdown",
      "metadata": {
        "id": "1rmmZTa-hx-q",
        "colab_type": "text"
      },
      "source": [
        "#Exercício 3\n",
        "Escreva um programa que calcule a probabilidade de ao sortear um número de 1 a 20, esse número seja múltiplo de 2. Imprima o espaço amostral e o evento."
      ]
    },
    {
      "cell_type": "markdown",
      "metadata": {
        "id": "DOue7UnZGMq5",
        "colab_type": "text"
      },
      "source": [
        "#Exercício 4\n",
        "Escreva um programa que calcule a probabilidade de uma moeda ser lançada 5 vezes e sair \"cara\" 3 vezes. Imprima o espaço amostral, o evento e seus respectivos tamanhos."
      ]
    }
  ]
}