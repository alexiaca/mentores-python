{
  "nbformat": 4,
  "nbformat_minor": 0,
  "metadata": {
    "colab": {
      "name": "Desafio06.ipynb",
      "provenance": [],
      "authorship_tag": "ABX9TyN/Y2401sk+TQwAHiqzacKr",
      "include_colab_link": true
    },
    "kernelspec": {
      "name": "python3",
      "display_name": "Python 3"
    }
  },
  "cells": [
    {
      "cell_type": "markdown",
      "metadata": {
        "id": "view-in-github",
        "colab_type": "text"
      },
      "source": [
        "<a href=\"https://colab.research.google.com/github/alexiaca/mentores-python/blob/master/Desafio06.ipynb\" target=\"_parent\"><img src=\"https://colab.research.google.com/assets/colab-badge.svg\" alt=\"Open In Colab\"/></a>"
      ]
    },
    {
      "cell_type": "markdown",
      "metadata": {
        "id": "pvITinNPliqG",
        "colab_type": "text"
      },
      "source": [
        "#Desafio 06\n",
        "1.Vamos explorar um problema da física. De acordo com uma das equações de movimento, a distância percorrida por um corpo em movimento com uma aceleração constante **a**, com uma velocidade inicial **u**, no tempo **t**, é dada por:\n",
        "\n",
        " $s = ut + \\frac{1}{2}at^2$.\n",
        "\n",
        "Dado **u** e **a**, no entanto, se você deseja encontrar o tempo necessário para percorrer uma determinada distância, é necessário primeiro expressar **t** em termos de outras variáveis. \n",
        "\n",
        "**Dica 1:** Veja como você pode fazer isso usando a função *solve ()* do *SymPy*.\n",
        "\n",
        "**Dica 2:** Lembrem-se que vimos anteriormente, que quando usamos o método *solve ()* em uma equação com mais de um símbolo, especificamos o símbolo a ser resolvido como o segundo argumento, que neste caso é o **t** e o terceiro argumento passa a especificar como queremos que os resultados sejam retornados, isto é, através de um dicionário Python.\n",
        "\n",
        "Escreva um programa que receba a equação acima como entrada pelo usuário, coloque a equação em função da variável **t** e imprima esse resultado. Em seguida, atribua valores às variáveis **s**, **u** e **a** para encontrar os dois valores possíveis de **t** e imprima os valores de t.\n",
        "\n",
        "**Dica 3:** Utilize o método *subs ()* para substituir os valores de **s**, **u** e **a**.\n",
        "\n",
        "**Dica 4:** Você pode ver como usar a função solve () para resolver **t**, tornando a equação igual a zero."
      ]
    }
  ]
}