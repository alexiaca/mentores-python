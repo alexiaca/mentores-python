{
  "nbformat": 4,
  "nbformat_minor": 0,
  "metadata": {
    "colab": {
      "name": "Exercícios - Python03.ipynb",
      "provenance": [],
      "toc_visible": true,
      "include_colab_link": true
    },
    "kernelspec": {
      "name": "python3",
      "display_name": "Python 3"
    }
  },
  "cells": [
    {
      "cell_type": "markdown",
      "metadata": {
        "id": "view-in-github",
        "colab_type": "text"
      },
      "source": [
        "<a href=\"https://colab.research.google.com/github/alexiaca/mentores-python/blob/master/Exerc%C3%ADcios_Python03.ipynb\" target=\"_parent\"><img src=\"https://colab.research.google.com/assets/colab-badge.svg\" alt=\"Open In Colab\"/></a>"
      ]
    },
    {
      "cell_type": "markdown",
      "metadata": {
        "id": "KSSITwjH75VZ",
        "colab_type": "text"
      },
      "source": [
        "#Exercícios - Python03"
      ]
    },
    {
      "cell_type": "markdown",
      "metadata": {
        "id": "jBr2z5AlfBS1",
        "colab_type": "text"
      },
      "source": [
        "#Exercício 1:\n",
        "Escreva um programa que imprima somente os valores que são múltiplos de 157. Esses são os valores a serem verificados e devem ser informados pelo usuário: 5751, 7379, 3103, 7520, 6028, 8780, 1056, 1050, 1256, 7222, 5846, 8380, 1884, 3413, 4867."
      ]
    },
    {
      "cell_type": "markdown",
      "metadata": {
        "id": "DU0VCUMeOt8R",
        "colab_type": "text"
      },
      "source": [
        "#Exercício 2:\n",
        "Escreva um programa que aceite dois números como entrada pelo usuário e verifique se este número está entre o intervalo fechado de 0 a 100."
      ]
    },
    {
      "cell_type": "markdown",
      "metadata": {
        "id": "VugS4qLGO-ap",
        "colab_type": "text"
      },
      "source": [
        "#Exercício 3:\n",
        "Escreva um programa que verifique se 147 é um fator de 360."
      ]
    },
    {
      "cell_type": "markdown",
      "metadata": {
        "id": "Ne6HS4zwPKTN",
        "colab_type": "text"
      },
      "source": [
        "#Exercício 4:\n",
        "Escreva um programa, sem utilizar as estruturas de repetição, que imprima 20 vezes a seguinte frase \"As estruturas de repetição são muito importantes!\"."
      ]
    },
    {
      "cell_type": "markdown",
      "metadata": {
        "id": "NEkJSO-TPOVD",
        "colab_type": "text"
      },
      "source": [
        "#Exercício 5:\n",
        "Achou fácil?\n",
        "Agora escreva um programa que imprima 1000 (mil) vezes a mesma frase a cima \"As estruturas de repetição são muito importantes!\". Também não é permitido utilizar as estruturas de repetição!"
      ]
    },
    {
      "cell_type": "markdown",
      "metadata": {
        "id": "GWa-YnR5Pe9A",
        "colab_type": "text"
      },
      "source": [
        "#Exercício 6:\n",
        "Resolva a sequinte questão: Como posso provar que tenho 20 linhas como saída no programa a cima, sem precisar contá-las?"
      ]
    },
    {
      "cell_type": "markdown",
      "metadata": {
        "id": "cFmH_jB8PuFj",
        "colab_type": "text"
      },
      "source": [
        "#Exercício 7:\n",
        "Escreva um programa que receba como entrada dois números,  **a** e **b** e verifique se **a** é um fator de **b**. O programa deverá receber de entrada dois valores inteiros e exibir na saída, independente do resultado ser verdadeiro ou falso, uma resposta ao usuário. Faça o tratamento de erros.\n"
      ]
    },
    {
      "cell_type": "markdown",
      "metadata": {
        "id": "fdi9LPpRP2Tc",
        "colab_type": "text"
      },
      "source": [
        "#Exercício 8:\n",
        "Escreva um programa que imprima a tabuada do 8.\n"
      ]
    },
    {
      "cell_type": "markdown",
      "metadata": {
        "id": "ugrY_YkYP6Pb",
        "colab_type": "text"
      },
      "source": [
        "#Exercício 9:\n",
        "Escreva um programa que receba um número de entrada e imprima a tabuada desse número. Faça o tratamento de erros. "
      ]
    },
    {
      "cell_type": "markdown",
      "metadata": {
        "id": "Z7Jr3PawP-pD",
        "colab_type": "text"
      },
      "source": [
        "#Exercício 10:\n",
        "Escreva um programa que receba um número como   entrada e determine se este número é par ou ímpar  e informe o resultado ao usuário.  Faça o tratamento de erros."
      ]
    },
    {
      "cell_type": "markdown",
      "metadata": {
        "id": "Cq7JOu4nQCYu",
        "colab_type": "text"
      },
      "source": [
        "#Exercício 11:\n",
        "Escreva um programa que imprima todos os números ímpares no intervalo aberto de 1 a 500."
      ]
    },
    {
      "cell_type": "markdown",
      "metadata": {
        "id": "rGN6Yq71QF3G",
        "colab_type": "text"
      },
      "source": [
        "#Exercício 12:\n",
        "Escreva um programa que receba um número como entrada pelo usuário e diga se esse número é par o ímpar. O progroma deverá continuar a ler esses números até que o usuário digite 0. Faça o tratamento de erros."
      ]
    }
  ]
}