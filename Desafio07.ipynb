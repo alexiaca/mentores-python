{
  "nbformat": 4,
  "nbformat_minor": 0,
  "metadata": {
    "colab": {
      "name": "Desafio07.ipynb",
      "provenance": [],
      "authorship_tag": "ABX9TyN1mrRfgGxPQB0tTWi8FsxO",
      "include_colab_link": true
    },
    "kernelspec": {
      "name": "python3",
      "display_name": "Python 3"
    }
  },
  "cells": [
    {
      "cell_type": "markdown",
      "metadata": {
        "id": "view-in-github",
        "colab_type": "text"
      },
      "source": [
        "<a href=\"https://colab.research.google.com/github/alexiaca/mentores-python/blob/master/Desafio07.ipynb\" target=\"_parent\"><img src=\"https://colab.research.google.com/assets/colab-badge.svg\" alt=\"Open In Colab\"/></a>"
      ]
    },
    {
      "cell_type": "markdown",
      "metadata": {
        "id": "nZGIgEVk3cip",
        "colab_type": "text"
      },
      "source": [
        "#Desafio 07\n",
        "Vamos imaginar que você participou de uma campanha de doação para ajudar alunos que não tem dinheiro para comprar o material escolar. Você recolheu valores de algumas pessoas e registrou em um caderno. Agora, vamos calcular a mediana desses valores.\n",
        "\n",
        "Primeiro, crie uma lista com os valores: 100, 60, 70, 900, 100, 200, 500, 500, 503, 600, 1000 e 1200.\n",
        "\n",
        "Escreva um programa que tenha uma função que calcule a mediana de um conjunto de valores e retorne esse valor na saída."
      ]
    }
  ]
}