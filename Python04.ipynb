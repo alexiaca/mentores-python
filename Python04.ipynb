{
  "nbformat": 4,
  "nbformat_minor": 0,
  "metadata": {
    "colab": {
      "name": "Python04.ipynb",
      "provenance": [],
      "authorship_tag": "ABX9TyNKpXZ/QQaz6Fbl24NRB4DK",
      "include_colab_link": true
    },
    "kernelspec": {
      "name": "python3",
      "display_name": "Python 3"
    }
  },
  "cells": [
    {
      "cell_type": "markdown",
      "metadata": {
        "id": "view-in-github",
        "colab_type": "text"
      },
      "source": [
        "<a href=\"https://colab.research.google.com/github/alexiaca/mentores-python/blob/master/Python04.ipynb\" target=\"_parent\"><img src=\"https://colab.research.google.com/assets/colab-badge.svg\" alt=\"Open In Colab\"/></a>"
      ]
    },
    {
      "cell_type": "markdown",
      "metadata": {
        "id": "lCieYRJ6QuqV",
        "colab_type": "text"
      },
      "source": [
        "#Reutilização de código\n",
        "##Funções\n",
        "As funções são as partes reutilizáveis do código que nos ajudam a organizar a estrutura do código. Criamos funções para que possamos executar um conjunto de instruções várias vezes em um programa, sem precisar repetir aquela mesma parte do código.\n"
      ]
    }
  ]
}