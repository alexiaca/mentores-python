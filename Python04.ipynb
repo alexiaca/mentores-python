{
  "nbformat": 4,
  "nbformat_minor": 0,
  "metadata": {
    "colab": {
      "name": "Python04.ipynb",
      "provenance": [],
      "collapsed_sections": [],
      "toc_visible": true,
      "authorship_tag": "ABX9TyM+h6XOpNlwJk9Hguq2zXmE",
      "include_colab_link": true
    },
    "kernelspec": {
      "name": "python3",
      "display_name": "Python 3"
    }
  },
  "cells": [
    {
      "cell_type": "markdown",
      "metadata": {
        "id": "view-in-github",
        "colab_type": "text"
      },
      "source": [
        "<a href=\"https://colab.research.google.com/github/alexiaca/mentores-python/blob/master/Python04.ipynb\" target=\"_parent\"><img src=\"https://colab.research.google.com/assets/colab-badge.svg\" alt=\"Open In Colab\"/></a>"
      ]
    },
    {
      "cell_type": "markdown",
      "metadata": {
        "id": "0pzP5L1B6PQ_",
        "colab_type": "text"
      },
      "source": [
        "#Reutilização de código"
      ]
    },
    {
      "cell_type": "markdown",
      "metadata": {
        "id": "lCieYRJ6QuqV",
        "colab_type": "text"
      },
      "source": [
        "##O que é uma função?\n",
        "As funções são as partes reutilizáveis do código que nos ajudam a organizar a estrutura do código. Criamos funções para que possamos executar um conjunto de instruções várias vezes em um programa, sem precisar repetir aquela mesma parte do código.\n",
        "\n",
        "O conceito de função é um dos mais importantes na matemática. Em computação, uma função é uma sequência de instruções que computa um ou mais resultados que chamamos de parâmetros. Nós vimos nas aulas anteriores algumas funções já prontas do Python como o print(), input() e type().\n",
        "\n",
        "Também podemos criar nossas próprias funções. Por exemplo, quando queremos calcular a razão do espaço pelo tempo podemos definir uma função recebendo estes parâmetros:\n",
        "\n",
        "    f(espaco, tempo) = espaco/tempo\n",
        "\n",
        "Essa razão do espaço pelo tempo é o que chamamos de velocidade média na física. Podemos então dar este nome a nossa função:\n",
        "\n",
        "    velocidade(espaco, tempo) = espaco/tempo\n",
        "\n",
        "Se um carro percorreu uma distância de 100 metros em 20 segundos podemos calcular sua velocidade média:\n",
        "\n",
        "    velocidade(100, 20) = 100/20 = 5 m/s\n",
        "\n",
        "O Python permite definirmos funções como essa da velocidade média. A sintaxe é muito parecida com a da matemática. Para definirmos uma função no Python utilizamos o comando def:\n",
        "\n",
        "\n"
      ]
    },
    {
      "cell_type": "code",
      "metadata": {
        "id": "3Yth6xANp_5y",
        "colab_type": "code",
        "colab": {}
      },
      "source": [
        "def velocidade(espaco, tempo):\n",
        "  v = espaco/tempo\n",
        "  print(\"velocidade: \", v, \"m/s\")"
      ],
      "execution_count": 0,
      "outputs": []
    },
    {
      "cell_type": "markdown",
      "metadata": {
        "id": "xrYQ0YEFpwen",
        "colab_type": "text"
      },
      "source": [
        "Logo após o def vem o nome da função e entre parêntese vêm os seus parâmetros. Uma função também tem um escopo, um bloco de instruções em que colocamos os cálculos.\n",
        "\n",
        "Agora, vamos testar nossa função!"
      ]
    },
    {
      "cell_type": "code",
      "metadata": {
        "id": "krfuJ-qMqaxn",
        "colab_type": "code",
        "outputId": "b94cfd10-a9a0-4c87-ef14-188a81cda214",
        "colab": {
          "base_uri": "https://localhost:8080/",
          "height": 35
        }
      },
      "source": [
        "velocidade(100,20)"
      ],
      "execution_count": 0,
      "outputs": [
        {
          "output_type": "stream",
          "text": [
            "velocidade: 5.0 m/s\n"
          ],
          "name": "stdout"
        }
      ]
    },
    {
      "cell_type": "markdown",
      "metadata": {
        "id": "bJbVpuL9vOS7",
        "colab_type": "text"
      },
      "source": [
        "De maneira geral, uma função é um estrutura para agrupar um conjunto de instruções que podem ser reutilizadas. Agora qualquer parte do nosso programa pode chamar a função velocidade quando precisar calcular a velocidade média de um veículo, por exemplo. E podemos chamá-la mais de uma vez, o que significa que não precisamos escrever o mesmo código novamente.\n",
        "\n",
        "Funções são conhecidas por diversos nomes em linguagens de programação como subrotinas, rotinas, procedimentos, métodos e subprogramas.\n",
        "\n",
        "Podemos ter funções sem parâmetros. Por exemplo, podemos ter uma função que diz 'oi' na tela:"
      ]
    },
    {
      "cell_type": "code",
      "metadata": {
        "id": "BPNSePgXvZj5",
        "colab_type": "code",
        "colab": {}
      },
      "source": [
        "def diz_oi():\n",
        "  print(\"oi\")"
      ],
      "execution_count": 0,
      "outputs": []
    },
    {
      "cell_type": "code",
      "metadata": {
        "id": "15PcRToyvhYw",
        "colab_type": "code",
        "outputId": "9db7f1e9-261d-4525-cb67-fd8df609ad8c",
        "colab": {
          "base_uri": "https://localhost:8080/",
          "height": 35
        }
      },
      "source": [
        "diz_oi()"
      ],
      "execution_count": 0,
      "outputs": [
        {
          "output_type": "stream",
          "text": [
            "oi\n"
          ],
          "name": "stdout"
        }
      ]
    },
    {
      "cell_type": "markdown",
      "metadata": {
        "id": "9ZYyn1OF6EeM",
        "colab_type": "text"
      },
      "source": [
        "##Parâmetros de funções\n",
        "Um conjunto de parâmetros consiste em uma lista com nenhum ou mais elementos que podem ser obrigatórios ou opcionais. Para um parâmetro ser opcional atribuímos um valor padrão (*default*) para ele - o mais comum é utilizar *None*. Por exemplo:"
      ]
    },
    {
      "cell_type": "code",
      "metadata": {
        "id": "XP7QkHFT7CBg",
        "colab_type": "code",
        "colab": {}
      },
      "source": [
        "def dados(nome, idade=None):\n",
        "        print(\"nome: \", nome)\n",
        "        if(idade is not None):\n",
        "            print(\"idade: \", idade)\n",
        "        else:\n",
        "            print(\"idade: não informada\")"
      ],
      "execution_count": 0,
      "outputs": []
    },
    {
      "cell_type": "code",
      "metadata": {
        "id": "ISxpAZq87WAX",
        "colab_type": "code",
        "outputId": "58f2e73a-a9c5-4f2e-f27a-078d334d0dcf",
        "colab": {
          "base_uri": "https://localhost:8080/",
          "height": 52
        }
      },
      "source": [
        "dados(\"Maria\")"
      ],
      "execution_count": 0,
      "outputs": [
        {
          "output_type": "stream",
          "text": [
            "nome:  Maria\n",
            "idade: não informada\n"
          ],
          "name": "stdout"
        }
      ]
    },
    {
      "cell_type": "code",
      "metadata": {
        "id": "YelbTA8u7cqE",
        "colab_type": "code",
        "outputId": "8f2e4c7a-d98e-4cc1-b567-bf649d656e61",
        "colab": {
          "base_uri": "https://localhost:8080/",
          "height": 52
        }
      },
      "source": [
        "dados(\"Helena\", 25)"
      ],
      "execution_count": 0,
      "outputs": [
        {
          "output_type": "stream",
          "text": [
            "nome:  Helena\n",
            "idade:  25\n"
          ],
          "name": "stdout"
        }
      ]
    },
    {
      "cell_type": "markdown",
      "metadata": {
        "id": "LDATl8qy7q0P",
        "colab_type": "text"
      },
      "source": [
        "#Exercício 1:\n",
        "O que acontece se passarmos somente a idade? Teste a função passando só a idade e explique o que você entendeu a partir do resultado."
      ]
    },
    {
      "cell_type": "markdown",
      "metadata": {
        "id": "65fLxFcu8qvf",
        "colab_type": "text"
      },
      "source": [
        "##Função com retono\n",
        "E se ao invés de apenas mostrar o resultado, quisermos utilizar a velocidade média para fazer outro cálculo, como calcular a aceleração? Da maneira como está, nossa função velocidade() não conseguimos utilizar seu resultado final para cálculos.\n",
        "\n",
        "    Exemplo: \n",
        "    aceleracao = velocidade(parametros) / tempo\n",
        "\n",
        "Para conseguirmos este comportamento, precisamos que nossa função retorne o valor calculado por ela. No Python, utilizamos o comando *return*:"
      ]
    },
    {
      "cell_type": "code",
      "metadata": {
        "id": "zdbyF-lw9Gmz",
        "colab_type": "code",
        "colab": {}
      },
      "source": [
        "def velocidade(espaco, tempo):\n",
        "  v = espaco/tempo\n",
        "  return v"
      ],
      "execution_count": 0,
      "outputs": []
    },
    {
      "cell_type": "code",
      "metadata": {
        "id": "7VfBNJGV9LpT",
        "colab_type": "code",
        "outputId": "8195a2cf-19a6-43e3-8fcc-9c02fa3dd636",
        "colab": {
          "base_uri": "https://localhost:8080/",
          "height": 35
        }
      },
      "source": [
        "velocidade (100,20)"
      ],
      "execution_count": 0,
      "outputs": [
        {
          "output_type": "execute_result",
          "data": {
            "text/plain": [
              "5.0"
            ]
          },
          "metadata": {
            "tags": []
          },
          "execution_count": 18
        }
      ]
    },
    {
      "cell_type": "markdown",
      "metadata": {
        "id": "KBmN4zmi9yS1",
        "colab_type": "text"
      },
      "source": [
        "Também podemos atrituir o valor de retorno da função a uma variável."
      ]
    },
    {
      "cell_type": "code",
      "metadata": {
        "id": "wNdSwQqT92wL",
        "colab_type": "code",
        "outputId": "4bd99fbd-cbd4-4e49-b82f-68ae0c3f7f12",
        "colab": {
          "base_uri": "https://localhost:8080/",
          "height": 35
        }
      },
      "source": [
        "resultado = velocidade(100,20)\n",
        "resultado"
      ],
      "execution_count": 0,
      "outputs": [
        {
          "output_type": "execute_result",
          "data": {
            "text/plain": [
              "5.0"
            ]
          },
          "metadata": {
            "tags": []
          },
          "execution_count": 23
        }
      ]
    },
    {
      "cell_type": "markdown",
      "metadata": {
        "id": "jh4IQVoV-uU6",
        "colab_type": "text"
      },
      "source": [
        "E assim, conseguimos utilizar o valor de retorno da função velocidade() para o cálculo da aceleração."
      ]
    },
    {
      "cell_type": "code",
      "metadata": {
        "id": "M5_wFvjl-2qg",
        "colab_type": "code",
        "outputId": "b8b68b69-31fc-4123-87c2-acc9611b4d94",
        "colab": {
          "base_uri": "https://localhost:8080/",
          "height": 35
        }
      },
      "source": [
        "aceleracao = velocidade (100, 20)/20\n",
        "aceleracao"
      ],
      "execution_count": 0,
      "outputs": [
        {
          "output_type": "execute_result",
          "data": {
            "text/plain": [
              "0.25"
            ]
          },
          "metadata": {
            "tags": []
          },
          "execution_count": 24
        }
      ]
    },
    {
      "cell_type": "markdown",
      "metadata": {
        "id": "eyd63gfOUcr6",
        "colab_type": "text"
      },
      "source": [
        "#Exercício 2:\n",
        "Defina uma função soma() que recebe dois números como parâmetros e calcula a soma entre eles."
      ]
    },
    {
      "cell_type": "markdown",
      "metadata": {
        "id": "lm6PAN7JUg3L",
        "colab_type": "text"
      },
      "source": [
        "#Exercício 3: \n",
        "Defina uma função tabuada, que receba um número como parâmetro e calcule seus múltiplos até 10."
      ]
    },
    {
      "cell_type": "markdown",
      "metadata": {
        "id": "RJMdcC5-WEF2",
        "colab_type": "text"
      },
      "source": [
        "#Exercício 4:\n",
        "Escreva uma função area_triangulo, que receba como parâmetro os três lados de um triângulo e calcule a área dos triângulos abaixo.\n",
        "\n",
        "![alt text](https://github.com/alexiaca/mentores-python/blob/master/t01.png?raw=true)\n",
        "![alt text](https://github.com/alexiaca/mentores-python/blob/master/t02.png?raw=true)\n",
        "![alt text](https://github.com/alexiaca/mentores-python/blob/master/t03.png?raw=true)"
      ]
    },
    {
      "cell_type": "markdown",
      "metadata": {
        "id": "60f-7JvLWwgX",
        "colab_type": "text"
      },
      "source": [
        "#Exercício 5:\n",
        "Escreva uma função area_poligono que receba como parâmetro a área de um triângulo e calcule a ârea dos polígonos abaixo. Reaproveite a função area_triangulo que você escreve no exercício acima.\n",
        "\n",
        "![alt text](https://github.com/alexiaca/mentores-python/blob/master/p01.png?raw=true)\n",
        "![alt text](https://github.com/alexiaca/mentores-python/blob/master/p02.png?raw=true)\n",
        "![alt text](https://github.com/alexiaca/mentores-python/blob/master/p03.png?raw=true)"
      ]
    },
    {
      "cell_type": "markdown",
      "metadata": {
        "id": "sC6ujhCEdcZ7",
        "colab_type": "text"
      },
      "source": [
        "#Exercício 6:\n",
        "Escreva uma função area_circulo, que receba como parâmetro o raio e retorne a área calculada."
      ]
    },
    {
      "cell_type": "markdown",
      "metadata": {
        "id": "X8W8RyeLdl2n",
        "colab_type": "text"
      },
      "source": [
        "#Exercício 7:\n",
        "Escreva uma função area_trapézio, que receba como parâmetro os lados a e b e a altura h e calcule a área de um trapézio."
      ]
    },
    {
      "cell_type": "markdown",
      "metadata": {
        "id": "k9uP22iI-JHn",
        "colab_type": "text"
      },
      "source": [
        "Nota: Esse material foi produzido a partir da compilação de materias de outros autores.\n",
        "\n",
        "1. Material disponibilizado pelo Prof. Leonardo de Oliveira Carvalho da UFF\n",
        "2. Apostila Pyton e Orientação a Objetos, disponível em https://www.caelum.com.br/apostila-python-orientacao-objetos/f"
      ]
    }
  ]
}