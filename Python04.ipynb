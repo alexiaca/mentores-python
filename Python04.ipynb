{
  "nbformat": 4,
  "nbformat_minor": 0,
  "metadata": {
    "colab": {
      "name": "Python04.ipynb",
      "provenance": [],
      "collapsed_sections": [],
      "toc_visible": true,
      "include_colab_link": true
    },
    "kernelspec": {
      "name": "python3",
      "display_name": "Python 3"
    }
  },
  "cells": [
    {
      "cell_type": "markdown",
      "metadata": {
        "id": "view-in-github",
        "colab_type": "text"
      },
      "source": [
        "<a href=\"https://colab.research.google.com/github/alexiaca/mentores-python/blob/master/Python04.ipynb\" target=\"_parent\"><img src=\"https://colab.research.google.com/assets/colab-badge.svg\" alt=\"Open In Colab\"/></a>"
      ]
    },
    {
      "cell_type": "markdown",
      "metadata": {
        "id": "0pzP5L1B6PQ_"
      },
      "source": [
        "#Reutilização de código"
      ]
    },
    {
      "cell_type": "markdown",
      "metadata": {
        "id": "SwFKfUvF4Vdk"
      },
      "source": [
        "##Chamada de função\n",
        "Você já viu um exemplo de uma chamada de função:"
      ]
    },
    {
      "cell_type": "code",
      "metadata": {
        "id": "pqhGZmLE4cz9",
        "outputId": "77155032-8ce5-4ceb-d824-3eff85af261b",
        "colab": {
          "base_uri": "https://localhost:8080/",
          "height": 35
        }
      },
      "source": [
        "type('32')"
      ],
      "execution_count": null,
      "outputs": [
        {
          "output_type": "execute_result",
          "data": {
            "text/plain": [
              "str"
            ]
          },
          "metadata": {
            "tags": []
          },
          "execution_count": 1
        }
      ]
    },
    {
      "cell_type": "code",
      "metadata": {
        "id": "Phf_okG74oBd",
        "outputId": "5ae393dd-69fd-4060-8705-93c9e7405896",
        "colab": {
          "base_uri": "https://localhost:8080/",
          "height": 35
        }
      },
      "source": [
        "print(\"Hello world!\")"
      ],
      "execution_count": null,
      "outputs": [
        {
          "output_type": "stream",
          "text": [
            "Hello world!\n"
          ],
          "name": "stdout"
        }
      ]
    },
    {
      "cell_type": "markdown",
      "metadata": {
        "id": "Zz_mJ9PN43dx"
      },
      "source": [
        "No primeiro exemplo, o nome da função é *type* e ela exibe o tipo de um valor ou variável. O valor ou variável, que é chamado de argumento ou parâmetro da função, tem que vir entre parênteses. É comum se dizer que uma função ‘recebe’ um valor ou mais valores e ‘retorna’ um resultado. O resultado é chamado de valor de retorno.\n",
        "\n",
        "No segundo exemplo, o nome da função é *print* e ela exibe na tela a mensagem entre aspas (\"). A mensagem ou variável é o parâmetro da função *print()*."
      ]
    },
    {
      "cell_type": "markdown",
      "metadata": {
        "id": "lCieYRJ6QuqV"
      },
      "source": [
        "##O que é uma função?\n",
        "O conceito de função é um dos mais importantes na matemática. Em computação, uma função é uma sequência de instruções que computa um ou mais resultados.\n",
        "\n",
        "As funções são as partes reutilizáveis do código que nos ajudam a organizar a estrutura do código. Existem as funções já prontas, que fazem parte de uma vasta biblioteca do Python mas também podemos criar nossas próprias funções.\n",
        "\n",
        "O objetivo de ser criar novas funções surge da necessidade de executar um conjunto de instruções várias vezes em um programa, sem precisar repetir aquela mesma parte do código.\n",
        "\n",
        "Você pode usar o nome que quiser para as funções que criar, exceto as [palavras reservadas do Python](https://www.w3schools.com/python/python_ref_keywords.asp). A lista de parâmetros especifica que informação, se houver alguma, você tem que fornecer para poder usar a nova função.\n",
        "\n",
        "Podemos criar nossa própria função para calcular a razão do espaço pelo tempo, definindo uma função recebendo que receberá como parâmetros os valores de espaço e tempo.\n",
        "\n",
        "    f(espaco, tempo) = espaco/tempo\n",
        "\n",
        "Essa razão do espaço pelo tempo é o que chamamos de velocidade média na física. Podemos então dar este nome a nossa função:\n",
        "\n",
        "    velocidade(espaco, tempo) = espaco/tempo\n",
        "\n",
        "Se um carro percorreu uma distância de 100 metros em 20 segundos podemos calcular sua velocidade média:\n",
        "\n",
        "    velocidade(100, 20) = 100/20 = 5 m/s\n",
        "\n",
        "O Python permite definirmos funções como essa da velocidade média. A sintaxe é muito parecida com a da matemática. Para definirmos uma função no Python utilizamos o comando def:\n",
        "\n",
        "\n"
      ]
    },
    {
      "cell_type": "code",
      "metadata": {
        "id": "3Yth6xANp_5y"
      },
      "source": [
        "def velocidade(espaco, tempo):\n",
        "  v = espaco/tempo\n",
        "  print(f\"Velocidade: {v} m/s\")"
      ],
      "execution_count": null,
      "outputs": []
    },
    {
      "cell_type": "markdown",
      "metadata": {
        "id": "xrYQ0YEFpwen"
      },
      "source": [
        "Logo após o def vem o nome da função e entre parêntese vêm os seus parâmetros. Uma função também tem um escopo, um bloco de instruções em que colocamos os cálculos.\n",
        "\n",
        "Agora, vamos testar nossa função!"
      ]
    },
    {
      "cell_type": "code",
      "metadata": {
        "id": "krfuJ-qMqaxn",
        "outputId": "a2f40001-3ee3-4969-9650-a69cf2539208",
        "colab": {
          "base_uri": "https://localhost:8080/",
          "height": 35
        }
      },
      "source": [
        "velocidade(100,20)"
      ],
      "execution_count": null,
      "outputs": [
        {
          "output_type": "stream",
          "text": [
            "Velocidade: 5.0 m/s\n"
          ],
          "name": "stdout"
        }
      ]
    },
    {
      "cell_type": "markdown",
      "metadata": {
        "id": "bJbVpuL9vOS7"
      },
      "source": [
        "De maneira geral, uma função é um estrutura para agrupar um conjunto de instruções que podem ser reutilizadas. Agora qualquer parte do nosso programa pode chamar a função velocidade quando precisar calcular a velocidade média de um veículo, por exemplo. E podemos chamá-la mais de uma vez, o que significa que não precisamos escrever o mesmo código novamente.\n",
        "\n",
        "Funções são conhecidas por diversos nomes em linguagens de programação como subrotinas, rotinas, procedimentos, métodos e subprogramas.\n",
        "\n",
        "Podemos ter funções sem parâmetros. Por exemplo, podemos ter uma função que diz 'oi' na tela:"
      ]
    },
    {
      "cell_type": "code",
      "metadata": {
        "id": "BPNSePgXvZj5"
      },
      "source": [
        "def diz_oi():\n",
        "  print(\"oi\")"
      ],
      "execution_count": null,
      "outputs": []
    },
    {
      "cell_type": "code",
      "metadata": {
        "id": "15PcRToyvhYw",
        "outputId": "9db7f1e9-261d-4525-cb67-fd8df609ad8c",
        "colab": {
          "base_uri": "https://localhost:8080/",
          "height": 35
        }
      },
      "source": [
        "diz_oi()"
      ],
      "execution_count": null,
      "outputs": [
        {
          "output_type": "stream",
          "text": [
            "oi\n"
          ],
          "name": "stdout"
        }
      ]
    },
    {
      "cell_type": "markdown",
      "metadata": {
        "id": "9ZYyn1OF6EeM"
      },
      "source": [
        "##Parâmetros de funções\n",
        "Um conjunto de parâmetros consiste em uma lista com nenhum ou mais elementos que podem ser obrigatórios ou opcionais. Para um parâmetro ser opcional atribuímos um valor padrão (*default*) para ele - o mais comum é utilizar *None*. Por exemplo:"
      ]
    },
    {
      "cell_type": "code",
      "metadata": {
        "id": "XP7QkHFT7CBg",
        "outputId": "9e1a5885-548f-4c65-97fa-a75beb804add",
        "colab": {
          "base_uri": "https://localhost:8080/",
          "height": 52
        }
      },
      "source": [
        "def dados(nome, idade=None):\n",
        "        print(f\"Nome: {nome}\")\n",
        "        if(idade is not None):\n",
        "            print(f\"Idade: {idade}\")\n",
        "        else:\n",
        "            print(\"Idade: não informada\")\n",
        "\n",
        "dados (\"Maria\", 16)"
      ],
      "execution_count": null,
      "outputs": [
        {
          "output_type": "stream",
          "text": [
            "Nome: Maria\n",
            "Idade: 16\n"
          ],
          "name": "stdout"
        }
      ]
    },
    {
      "cell_type": "code",
      "metadata": {
        "id": "YelbTA8u7cqE",
        "outputId": "0ef1c88f-e938-40e8-dbf0-35e64260c113",
        "colab": {
          "base_uri": "https://localhost:8080/",
          "height": 52
        }
      },
      "source": [
        "dados(\"Helena\", 25)"
      ],
      "execution_count": null,
      "outputs": [
        {
          "output_type": "stream",
          "text": [
            "Nome: Helena\n",
            "Idade: 25\n"
          ],
          "name": "stdout"
        }
      ]
    },
    {
      "cell_type": "markdown",
      "metadata": {
        "id": "LDATl8qy7q0P"
      },
      "source": [
        "#Exercício 1:\n",
        "O que acontece se passarmos somente a idade? Teste a função passando só a idade e explique o que você entendeu a partir do resultado."
      ]
    },
    {
      "cell_type": "markdown",
      "metadata": {
        "id": "65fLxFcu8qvf"
      },
      "source": [
        "##Função com retono\n",
        "E se ao invés de apenas mostrar o resultado, quisermos utilizar a velocidade média para fazer outro cálculo, como calcular a aceleração? Da maneira como está, nossa função velocidade() não conseguimos utilizar seu resultado final para cálculos.\n",
        "\n",
        "    Exemplo: \n",
        "    aceleracao = velocidade(parametros) / tempo\n",
        "\n",
        "Para conseguirmos este comportamento, precisamos que nossa função retorne o valor calculado por ela. No Python, utilizamos o comando *return*:"
      ]
    },
    {
      "cell_type": "code",
      "metadata": {
        "id": "zdbyF-lw9Gmz"
      },
      "source": [
        "def velocidade(espaco, tempo):\n",
        "  v = espaco/tempo\n",
        "  return v"
      ],
      "execution_count": null,
      "outputs": []
    },
    {
      "cell_type": "code",
      "metadata": {
        "id": "7VfBNJGV9LpT",
        "outputId": "8195a2cf-19a6-43e3-8fcc-9c02fa3dd636",
        "colab": {
          "base_uri": "https://localhost:8080/",
          "height": 35
        }
      },
      "source": [
        "velocidade (100,20)"
      ],
      "execution_count": null,
      "outputs": [
        {
          "output_type": "execute_result",
          "data": {
            "text/plain": [
              "5.0"
            ]
          },
          "metadata": {
            "tags": []
          },
          "execution_count": 18
        }
      ]
    },
    {
      "cell_type": "markdown",
      "metadata": {
        "id": "KBmN4zmi9yS1"
      },
      "source": [
        "Também podemos atrituir o valor de retorno da função a uma variável."
      ]
    },
    {
      "cell_type": "code",
      "metadata": {
        "id": "wNdSwQqT92wL",
        "outputId": "4bd99fbd-cbd4-4e49-b82f-68ae0c3f7f12",
        "colab": {
          "base_uri": "https://localhost:8080/",
          "height": 35
        }
      },
      "source": [
        "resultado = velocidade(100,20)\n",
        "resultado"
      ],
      "execution_count": null,
      "outputs": [
        {
          "output_type": "execute_result",
          "data": {
            "text/plain": [
              "5.0"
            ]
          },
          "metadata": {
            "tags": []
          },
          "execution_count": 23
        }
      ]
    },
    {
      "cell_type": "markdown",
      "metadata": {
        "id": "jh4IQVoV-uU6"
      },
      "source": [
        "E assim, conseguimos utilizar o valor de retorno da função velocidade() para o cálculo da aceleração."
      ]
    },
    {
      "cell_type": "code",
      "metadata": {
        "id": "M5_wFvjl-2qg",
        "outputId": "b8b68b69-31fc-4123-87c2-acc9611b4d94",
        "colab": {
          "base_uri": "https://localhost:8080/",
          "height": 35
        }
      },
      "source": [
        "aceleracao = velocidade (100, 20)/20\n",
        "aceleracao"
      ],
      "execution_count": null,
      "outputs": [
        {
          "output_type": "execute_result",
          "data": {
            "text/plain": [
              "0.25"
            ]
          },
          "metadata": {
            "tags": []
          },
          "execution_count": 24
        }
      ]
    },
    {
      "cell_type": "markdown",
      "metadata": {
        "id": "eyd63gfOUcr6"
      },
      "source": [
        "#Exercício 2:\n",
        "Defina uma função soma() que receba dois números como parâmetros e calcule a soma entre eles. Faça uma chamada à função soma()."
      ]
    },
    {
      "cell_type": "markdown",
      "metadata": {
        "id": "lm6PAN7JUg3L"
      },
      "source": [
        "#Exercício 3: \n",
        "Defina uma função tabuada, que receba um número como parâmetro e calcule seus múltiplos até 10. Faça uma chamada à função tabuada()."
      ]
    },
    {
      "cell_type": "markdown",
      "metadata": {
        "id": "RJMdcC5-WEF2"
      },
      "source": [
        "#Exercício 4:\n",
        "Escreva uma função area_triangulo, que receba como parâmetro os três lados de um triângulo e calcule a área dos triângulos abaixo.\n",
        "\n",
        "![alt text](https://github.com/alexiaca/mentores-python/blob/master/t01.png?raw=true)\n",
        "![alt text](https://github.com/alexiaca/mentores-python/blob/master/t02.png?raw=true)\n",
        "![alt text](https://github.com/alexiaca/mentores-python/blob/master/t03.png?raw=true)"
      ]
    },
    {
      "cell_type": "markdown",
      "metadata": {
        "id": "60f-7JvLWwgX"
      },
      "source": [
        "#Exercício 5:\n",
        "Escreva uma função area_poligono que receba como parâmetro as áreas dos triângulos e calcule a ârea dos polígonos abaixo. Reaproveite a função area_triangulo que você escreveu no exercício acima, para calcular as áreas dos triângulos que servirão de parâmetro para a função area_poligono().\n",
        "\n",
        "![alt text](https://github.com/alexiaca/mentores-python/blob/master/p01.png?raw=true)\n",
        "![alt text](https://github.com/alexiaca/mentores-python/blob/master/p02.png?raw=true)\n",
        "![alt text](https://github.com/alexiaca/mentores-python/blob/master/p03.png?raw=true)"
      ]
    },
    {
      "cell_type": "markdown",
      "metadata": {
        "id": "sC6ujhCEdcZ7"
      },
      "source": [
        "#Exercício 6:\n",
        "Escreva uma função area_circulo, que receba como parâmetro o raio e retorne a área calculada. Faça uma chamada à função."
      ]
    },
    {
      "cell_type": "markdown",
      "metadata": {
        "id": "X8W8RyeLdl2n"
      },
      "source": [
        "#Exercício 7:\n",
        "Escreva uma função area_trapézio, que receba como parâmetro os lados a e b e a altura h e calcule a área de um trapézio. Faça uma chamada à função informando a = 8, b = 3 e h= 5."
      ]
    },
    {
      "cell_type": "markdown",
      "metadata": {
        "id": "k9uP22iI-JHn"
      },
      "source": [
        "Nota: Esse material foi produzido a partir da compilação de materias de outros autores.\n",
        "\n",
        "1. Material disponibilizado pelo Prof. Leonardo de Oliveira Carvalho da UFF\n",
        "2. Apostila Pyton e Orientação a Objetos, disponível em https://www.caelum.com.br/apostila-python-orientacao-objetos/f"
      ]
    },
    {
      "cell_type": "markdown",
      "metadata": {
        "id": "A3s5fkxscKlD"
      },
      "source": [
        "#Trabalhando com *strings*\n",
        "Como vimos anteriormente, *string* é um tipo de dado no Python que trata uma cadeia de caracteres.\n",
        "\n",
        "O jeito mais básico de manipular *strings* é através de métodos que estão dentro delas (*strings*). Podemos fazer um limitado número de tarefas em *string*s através desses métodos."
      ]
    },
    {
      "cell_type": "markdown",
      "metadata": {
        "id": "kkSyyFQTdw7N"
      },
      "source": [
        "## A função *len()*\n",
        "A função *len()* é usada para encontrar o tamanho de uma string contando espacos e caracteres especiais, ou seja, tudo que pertencer a essa string."
      ]
    },
    {
      "cell_type": "code",
      "metadata": {
        "id": "jyRaWTWrdfaV",
        "outputId": "74b0c818-97da-4fba-bba5-21b2679a0967",
        "colab": {
          "base_uri": "https://localhost:8080/",
          "height": 35
        }
      },
      "source": [
        "a = 'casa'\n",
        "len(a)"
      ],
      "execution_count": null,
      "outputs": [
        {
          "output_type": "execute_result",
          "data": {
            "text/plain": [
              "4"
            ]
          },
          "metadata": {
            "tags": []
          },
          "execution_count": 1
        }
      ]
    },
    {
      "cell_type": "code",
      "metadata": {
        "id": "IpAQUVrhdmun",
        "outputId": "e870fcec-75e6-42eb-c37b-5bc0f0a9ac22",
        "colab": {
          "base_uri": "https://localhost:8080/",
          "height": 35
        }
      },
      "source": [
        "b = 'Valendo um milhao de reais em barras de ouro, que valem mais do que dinheiro!'\n",
        "len(b)"
      ],
      "execution_count": null,
      "outputs": [
        {
          "output_type": "execute_result",
          "data": {
            "text/plain": [
              "77"
            ]
          },
          "metadata": {
            "tags": []
          },
          "execution_count": 2
        }
      ]
    },
    {
      "cell_type": "code",
      "metadata": {
        "id": "AF8tvlg1drkO",
        "outputId": "bafdaf53-c0bb-47e4-9a78-c150385b97e9",
        "colab": {
          "base_uri": "https://localhost:8080/",
          "height": 35
        }
      },
      "source": [
        "c = 'Ja acabou, Jessica?'\n",
        "len(c)"
      ],
      "execution_count": null,
      "outputs": [
        {
          "output_type": "execute_result",
          "data": {
            "text/plain": [
              "19"
            ]
          },
          "metadata": {
            "tags": []
          },
          "execution_count": 3
        }
      ]
    },
    {
      "cell_type": "markdown",
      "metadata": {
        "id": "qb8Y62TneIeG"
      },
      "source": [
        "##O método *replace()*\n",
        "O método *replace()* substitui uma parte do texto por uma outra *string*.\n",
        "\n",
        "No código a seguir, iremos definir uma *string* e em seguida, substituiremos uma parte do texto por outra."
      ]
    },
    {
      "cell_type": "code",
      "metadata": {
        "id": "ZfvO8_dNetb6",
        "outputId": "9cb01667-ddb9-4a56-e118-421ba9221ab8",
        "colab": {
          "base_uri": "https://localhost:8080/",
          "height": 35
        }
      },
      "source": [
        "frase = \"Isto é somente uma simples string.\"\n",
        "frase = frase.replace('simples', 'pequena')\n",
        "frase"
      ],
      "execution_count": null,
      "outputs": [
        {
          "output_type": "execute_result",
          "data": {
            "text/plain": [
              "'Isto é somente uma pequena string.'"
            ]
          },
          "metadata": {
            "tags": []
          },
          "execution_count": 4
        }
      ]
    },
    {
      "cell_type": "markdown",
      "metadata": {
        "id": "3OVcz_N0g7c7"
      },
      "source": [
        "##O método *count()*\n",
        "O método *count()* conta o número de vezes que a palavra especificada aparece na *string*."
      ]
    },
    {
      "cell_type": "code",
      "metadata": {
        "id": "JvV-d72-hILg",
        "outputId": "77ab4e87-a396-419f-e638-47f228b0564b",
        "colab": {
          "base_uri": "https://localhost:8080/",
          "height": 35
        }
      },
      "source": [
        "frase = \"Isto é somente uma simples string.\"\n",
        "frase.count(\"s\")"
      ],
      "execution_count": null,
      "outputs": [
        {
          "output_type": "execute_result",
          "data": {
            "text/plain": [
              "5"
            ]
          },
          "metadata": {
            "tags": []
          },
          "execution_count": 5
        }
      ]
    },
    {
      "cell_type": "markdown",
      "metadata": {
        "id": "7EjzYSKNhVJM"
      },
      "source": [
        "##O método *find()*\n",
        "O método *find()* busca em que posição está certa levra ou palavra."
      ]
    },
    {
      "cell_type": "code",
      "metadata": {
        "id": "ANY8SUgphejX",
        "outputId": "1056c9ef-5748-48fb-9e1a-9cb5b744a227",
        "colab": {
          "base_uri": "https://localhost:8080/",
          "height": 35
        }
      },
      "source": [
        "frase = \"Isto é somente uma simples string.\"\n",
        "frase.find(\"somente\")"
      ],
      "execution_count": null,
      "outputs": [
        {
          "output_type": "execute_result",
          "data": {
            "text/plain": [
              "7"
            ]
          },
          "metadata": {
            "tags": []
          },
          "execution_count": 6
        }
      ]
    },
    {
      "cell_type": "code",
      "metadata": {
        "id": "S65BCbvOhweT",
        "outputId": "1121f465-4997-40de-fc64-0ff3902f0861",
        "colab": {
          "base_uri": "https://localhost:8080/",
          "height": 35
        }
      },
      "source": [
        "frase.find(\"s\")"
      ],
      "execution_count": null,
      "outputs": [
        {
          "output_type": "execute_result",
          "data": {
            "text/plain": [
              "1"
            ]
          },
          "metadata": {
            "tags": []
          },
          "execution_count": 7
        }
      ]
    },
    {
      "cell_type": "markdown",
      "metadata": {
        "id": "SZDeaIamiUIO"
      },
      "source": [
        "##O método *split*\n",
        "O método *split* quebra uma *string* em pedaços."
      ]
    },
    {
      "cell_type": "code",
      "metadata": {
        "id": "6tI1d-DZigE1",
        "outputId": "473784c2-2f24-4c79-cd5e-c6bc9fd76ecc",
        "colab": {
          "base_uri": "https://localhost:8080/",
          "height": 35
        }
      },
      "source": [
        "frase = \"Isto é somente uma simples string.\"\n",
        "frase.split()"
      ],
      "execution_count": null,
      "outputs": [
        {
          "output_type": "execute_result",
          "data": {
            "text/plain": [
              "['Isto', 'é', 'somente', 'uma', 'simples', 'string.']"
            ]
          },
          "metadata": {
            "tags": []
          },
          "execution_count": 8
        }
      ]
    },
    {
      "cell_type": "markdown",
      "metadata": {
        "id": "FX5IbILzi38A"
      },
      "source": [
        "Neste caso, a *string* foi separada a cada espaço em branco encontrado.\n",
        "\n",
        "Podemos definir onde ocorrerá a quebra da *string*."
      ]
    },
    {
      "cell_type": "code",
      "metadata": {
        "id": "RpnseHZJjJAL",
        "outputId": "8f4e75d4-2e0c-474c-83a4-d07fad793d63",
        "colab": {
          "base_uri": "https://localhost:8080/",
          "height": 35
        }
      },
      "source": [
        "frase = \"Isto é somente uma simples string.\"\n",
        "frase.split(\"uma\")"
      ],
      "execution_count": null,
      "outputs": [
        {
          "output_type": "execute_result",
          "data": {
            "text/plain": [
              "['Isto é somente ', ' simples string.']"
            ]
          },
          "metadata": {
            "tags": []
          },
          "execution_count": 11
        }
      ]
    }
  ]
}