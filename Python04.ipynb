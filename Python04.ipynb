{
  "nbformat": 4,
  "nbformat_minor": 0,
  "metadata": {
    "colab": {
      "name": "Python04.ipynb",
      "provenance": [],
      "toc_visible": true,
      "authorship_tag": "ABX9TyMxy//kJaf18hR2p/BP16L/",
      "include_colab_link": true
    },
    "kernelspec": {
      "name": "python3",
      "display_name": "Python 3"
    }
  },
  "cells": [
    {
      "cell_type": "markdown",
      "metadata": {
        "id": "view-in-github",
        "colab_type": "text"
      },
      "source": [
        "<a href=\"https://colab.research.google.com/github/alexiaca/mentores-python/blob/master/Python04.ipynb\" target=\"_parent\"><img src=\"https://colab.research.google.com/assets/colab-badge.svg\" alt=\"Open In Colab\"/></a>"
      ]
    },
    {
      "cell_type": "markdown",
      "metadata": {
        "id": "lCieYRJ6QuqV",
        "colab_type": "text"
      },
      "source": [
        "#Reutilização de código\n",
        "##Funções\n",
        "As funções são as partes reutilizáveis do código que nos ajudam a organizar a estrutura do código. Criamos funções para que possamos executar um conjunto de instruções várias vezes em um programa, sem precisar repetir aquela mesma parte do código.\n",
        "\n",
        "##O que é uma função?\n",
        "O conceito de função é um dos mais importantes na matemática. Em computação, uma função é uma sequência de instruções que computa um ou mais resultados que chamamos de parâmetros. Nós vimos nas aulas anteriores algumas funções já prontas do Python como o print(), input() e type().\n",
        "\n",
        "Também podemos criar nossas próprias funções. Por exemplo, quando queremos calcular a razão do espaço pelo tempo podemos definir uma função recebendo estes parâmetros:\n",
        "\n",
        "    f(espaco, tempo) = espaco/tempo\n",
        "\n",
        "Essa razão do espaço pelo tempo é o que chamamos de velocidade média na física. Podemos então dar este nome a nossa função:\n",
        "\n",
        "    velocidade(espaco, tempo) = espaco/tempo\n",
        "\n",
        "Se um carro percorreu uma distância de 100 metros em 20 segundos podemos calcular sua velocidade média:\n",
        "\n",
        "    velocidade(100, 20) = 100/20 = 5 m/s\n",
        "\n",
        "O Python permite definirmos funções como essa da velocidade média. A sintaxe é muito parecida com a da matemática. Para definirmos uma função no Python utilizamos o comando def:\n",
        "\n",
        "\n"
      ]
    },
    {
      "cell_type": "code",
      "metadata": {
        "id": "B83lOnK2pot7",
        "colab_type": "code",
        "colab": {}
      },
      "source": [
        "def velocidade (espaco, tempo):\n",
        "  pass"
      ],
      "execution_count": 0,
      "outputs": []
    },
    {
      "cell_type": "markdown",
      "metadata": {
        "id": "xrYQ0YEFpwen",
        "colab_type": "text"
      },
      "source": [
        "Logo após o def vem o nome da função e entre parêntese vêm os seus parâmetros. Uma função também tem um escopo, um bloco de instruções em que colocamos os cálculos.\n",
        "\n",
        "Como nossa função ainda não faz nada, utilizamos a palavra chave *pass* para dizer ao interpretador que definiremos os cálculo depois. A palavra *pass* não é usada apenas em funções, podemos usar em qualquer bloco de comandos como nas instruções *if*, *while* e *for*, por exemplo.\n",
        "\n",
        "Vamos substituir a palavra pass pelos cálculos que nossa função deve executar:"
      ]
    },
    {
      "cell_type": "code",
      "metadata": {
        "id": "3Yth6xANp_5y",
        "colab_type": "code",
        "colab": {}
      },
      "source": [
        "def velocidade(espaco, tempo):\n",
        "  v = espaco/tempo\n",
        "  print(\"velocidade: \", v, \"m/s\")"
      ],
      "execution_count": 0,
      "outputs": []
    },
    {
      "cell_type": "markdown",
      "metadata": {
        "id": "t1nZX8I6qYAi",
        "colab_type": "text"
      },
      "source": [
        "Agora, vamos testar nossa função!"
      ]
    },
    {
      "cell_type": "code",
      "metadata": {
        "id": "krfuJ-qMqaxn",
        "colab_type": "code",
        "colab": {
          "base_uri": "https://localhost:8080/",
          "height": 35
        },
        "outputId": "b94cfd10-a9a0-4c87-ef14-188a81cda214"
      },
      "source": [
        "velocidade(100,20)"
      ],
      "execution_count": 5,
      "outputs": [
        {
          "output_type": "stream",
          "text": [
            "velocidade: 5.0 m/s\n"
          ],
          "name": "stdout"
        }
      ]
    },
    {
      "cell_type": "markdown",
      "metadata": {
        "id": "bJbVpuL9vOS7",
        "colab_type": "text"
      },
      "source": [
        "De maneira geral, uma função é um estrutura para agrupar um conjunto de instruções que podem ser reutilizadas. Agora qualquer parte do nosso programa pode chamar a função velocidade quando precisar calcular a velocidade média de um veículo, por exemplo. E podemos chamá-la mais de uma vez, o que significa que não precisamos escrever o mesmo código novamente.\n",
        "\n",
        "Funções são conhecidas por diversos nomes em linguagens de programação como subrotinas, rotinas, procedimentos, métodos e subprogramas.\n",
        "\n",
        "Podemos ter funções sem parâmetros. Por exemplo, podemos ter uma função que diz 'oi' na tela:"
      ]
    },
    {
      "cell_type": "code",
      "metadata": {
        "id": "BPNSePgXvZj5",
        "colab_type": "code",
        "colab": {}
      },
      "source": [
        "def diz_oi():\n",
        "  print(\"oi\")"
      ],
      "execution_count": 0,
      "outputs": []
    },
    {
      "cell_type": "code",
      "metadata": {
        "id": "15PcRToyvhYw",
        "colab_type": "code",
        "colab": {
          "base_uri": "https://localhost:8080/",
          "height": 35
        },
        "outputId": "9db7f1e9-261d-4525-cb67-fd8df609ad8c"
      },
      "source": [
        "diz_oi()"
      ],
      "execution_count": 3,
      "outputs": [
        {
          "output_type": "stream",
          "text": [
            "oi\n"
          ],
          "name": "stdout"
        }
      ]
    }
  ]
}