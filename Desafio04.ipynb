{
  "nbformat": 4,
  "nbformat_minor": 0,
  "metadata": {
    "colab": {
      "name": "Desafio04.ipynb",
      "provenance": [],
      "authorship_tag": "ABX9TyPbSJefbPujUey5bkIRV0mk",
      "include_colab_link": true
    },
    "kernelspec": {
      "name": "python3",
      "display_name": "Python 3"
    }
  },
  "cells": [
    {
      "cell_type": "markdown",
      "metadata": {
        "id": "view-in-github",
        "colab_type": "text"
      },
      "source": [
        "<a href=\"https://colab.research.google.com/github/alexiaca/mentores-python/blob/master/Desafio04.ipynb\" target=\"_parent\"><img src=\"https://colab.research.google.com/assets/colab-badge.svg\" alt=\"Open In Colab\"/></a>"
      ]
    },
    {
      "cell_type": "markdown",
      "metadata": {
        "id": "ei4uy11pDxbq",
        "colab_type": "text"
      },
      "source": [
        "#Desafio 04\n",
        "Crie uma função que recebe uma sequência L de valores e retorna uma lista contendo a diferença entre valores consecutivos de L.\n",
        "\n",
        "Exemplo:\n",
        "\n",
        "diferencas([1, 2, 5, 7, 9, 8])\n",
        "[1, 3, 2, 2, -1]\n",
        "\n",
        "diferencas([18, 5, 9, 10, 30])\n",
        "[-13, 4, 1, 20]\n",
        "\n",
        "diferencas([7, 8, 8, 8, 9, 9, 3, 3, 3])\n",
        "[1, 0, 0, 1, 0, -6, 0, 0]"
      ]
    }
  ]
}