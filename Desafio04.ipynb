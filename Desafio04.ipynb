{
  "nbformat": 4,
  "nbformat_minor": 0,
  "metadata": {
    "colab": {
      "name": "Desafio04.ipynb",
      "provenance": [],
      "authorship_tag": "ABX9TyPUhJuWBrL/WOBDZqn7YWF+",
      "include_colab_link": true
    },
    "kernelspec": {
      "name": "python3",
      "display_name": "Python 3"
    }
  },
  "cells": [
    {
      "cell_type": "markdown",
      "metadata": {
        "id": "view-in-github",
        "colab_type": "text"
      },
      "source": [
        "<a href=\"https://colab.research.google.com/github/alexiaca/mentores-python/blob/master/Desafio04.ipynb\" target=\"_parent\"><img src=\"https://colab.research.google.com/assets/colab-badge.svg\" alt=\"Open In Colab\"/></a>"
      ]
    },
    {
      "cell_type": "markdown",
      "metadata": {
        "id": "_x9YnmZRFrYg",
        "colab_type": "text"
      },
      "source": [
        "#Desafio 04\n",
        "Implemente uma função que calcule o mdc entre dois números, usando o algoritmo de Euclides."
      ]
    }
  ]
}