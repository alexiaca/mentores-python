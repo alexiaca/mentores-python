{
  "nbformat": 4,
  "nbformat_minor": 0,
  "metadata": {
    "colab": {
      "name": "Desafio04.ipynb",
      "provenance": [],
      "include_colab_link": true
    },
    "kernelspec": {
      "name": "python3",
      "display_name": "Python 3"
    }
  },
  "cells": [
    {
      "cell_type": "markdown",
      "metadata": {
        "id": "view-in-github",
        "colab_type": "text"
      },
      "source": [
        "<a href=\"https://colab.research.google.com/github/alexiaca/mentores-python/blob/master/Desafio04.ipynb\" target=\"_parent\"><img src=\"https://colab.research.google.com/assets/colab-badge.svg\" alt=\"Open In Colab\"/></a>"
      ]
    },
    {
      "cell_type": "markdown",
      "metadata": {
        "id": "pvITinNPliqG",
        "colab_type": "text"
      },
      "source": [
        "#Desafio 06\n",
        "1. Vamos explorar um problema da física. De acordo com uma das equações de movimento (movimento uniformemente acelerado), a distância percorrida por um corpo em movimento com uma aceleração constante **a**, com uma velocidade inicial **v**, no tempo **t**, é dada por:\n",
        "\n",
        " $s = vt + \\frac{1}{2}at^2$.\n",
        "\n",
        "Dado **v** e **a**, no entanto, se você deseja encontrar o tempo necessário para percorrer uma determinada distância, é necessário primeiro expressar **t** em termos de outras variáveis. \n",
        "\n",
        "**Dica 1:** Veja como você pode fazer isso usando a função *solve ()* do *SymPy*.\n",
        "\n",
        "**Dica 2:** Lembrem-se que vimos anteriormente, que quando usamos o método *solve ()* em uma equação com mais de um símbolo, especificamos o símbolo a ser resolvido como o segundo argumento, que neste caso é o **t** e o terceiro argumento passa a especificar como queremos que os resultados sejam retornados, isto é, através de um dicionário Python.\n",
        "\n",
        "Escreva um programa que receba a equação acima como entrada pelo usuário, coloque a equação em função da variável **t** e imprima esse resultado. Em seguida, atribua valores às variáveis **s**, **v** e **a** para encontrar os dois valores possíveis de **t** e imprima os valores de t.\n",
        "\n",
        "**Dica 3:** Utilize o método *subs ()* para substituir os valores de **s**, **v** e **a**.\n",
        "\n",
        "**Dica 4:** Você pode ver como usar a função solve () para resolver **t**, tornando a equação igual a zero.\n",
        "\n",
        "**Dica 5:** Teste para os valores s = 1000, v = 0 e a = 5, onde t será igual a 20s.\n",
        "\n",
        "**Dica 6:** Se precisar de ajuda, esse [link](https://pythonforundergradengineers.com/sympy-expressions-and-equations.html) pode ajudar.\n"
      ]
    },
    {
      "cell_type": "code",
      "metadata": {
        "id": "UGHXC3zAkfFh",
        "colab_type": "code",
        "colab": {
          "base_uri": "https://localhost:8080/",
          "height": 34
        },
        "outputId": "7d2bd482-d984-43a9-c850-6fb0658c5d49"
      },
      "source": [
        "from sympy import symbols, solve\n",
        "\n",
        "t, a, s, v = symbols(\"t a s v\")\n",
        "\n",
        "expr = v * t + (1/2)* a * t**2 - s\n",
        "\n",
        "expr1 = expr.subs(s, 1000)\n",
        "expr2 = expr1.subs(v, 0)\n",
        "expr3 = expr2.subs(a, 5)\n",
        "\n",
        "resp = solve(expr3, t)\n",
        "for n in resp:\n",
        "  if n > 0:\n",
        "    print(f\"O tem em foi de {n:.2f}s\")\n",
        "\n"
      ],
      "execution_count": null,
      "outputs": [
        {
          "output_type": "stream",
          "text": [
            "O tem em foi de 20.00s\n"
          ],
          "name": "stdout"
        }
      ]
    }
  ]
}