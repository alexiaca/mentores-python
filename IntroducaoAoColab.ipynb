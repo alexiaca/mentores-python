{
  "nbformat": 4,
  "nbformat_minor": 0,
  "metadata": {
    "colab": {
      "name": "IntroducaoAoColab.ipynb",
      "provenance": [],
      "toc_visible": true,
      "authorship_tag": "ABX9TyMFnquiCj7gSFHM5c45joI+",
      "include_colab_link": true
    },
    "kernelspec": {
      "name": "python3",
      "display_name": "Python 3"
    }
  },
  "cells": [
    {
      "cell_type": "markdown",
      "metadata": {
        "id": "view-in-github",
        "colab_type": "text"
      },
      "source": [
        "<a href=\"https://colab.research.google.com/github/alexiaca/mentores-python/blob/master/IntroducaoAoColab.ipynb\" target=\"_parent\"><img src=\"https://colab.research.google.com/assets/colab-badge.svg\" alt=\"Open In Colab\"/></a>"
      ]
    },
    {
      "cell_type": "markdown",
      "metadata": {
        "id": "qfQejZe6YtVx",
        "colab_type": "text"
      },
      "source": [
        "# Introdução ao Colab"
      ]
    },
    {
      "cell_type": "markdown",
      "metadata": {
        "id": "4-5yMd0EY5Vl",
        "colab_type": "text"
      },
      "source": [
        "## O que é o Colab ou Laboratório Colaborativo?\n",
        "É um ambiente on-line que permite a escrita e execução de programas em Python em seu navegador de internet, com:\n",
        "\n",
        "* Nenhuma necessidade de configuração\n",
        "* Fácil compartilhamento\n",
        "* E outras facilidades..."
      ]
    },
    {
      "cell_type": "markdown",
      "metadata": {
        "id": "6eYaCjNGZGu1",
        "colab_type": "text"
      },
      "source": [
        "## Aprendendo a usar o Colab usando o Colab\n",
        "O documento que você está lendo não é uma página web estática, mas um ambiente interativo chamado de *Colab notebook* que nos permite escrever e executar códigos na linguagem de programação Python.\n",
        "\n",
        "Por exemplo, aqui temos uma célula de código com um pequeno script em Python que calcula um valor, armazena este valor em uma variável e depois imprime o resultado:\n",
        "\n",
        "**Nota:** para executar o código, clique no botão *Play* no canto superior esquerdo da célula de código."
      ]
    },
    {
      "cell_type": "code",
      "metadata": {
        "id": "yTg5fxahZfQo",
        "colab_type": "code",
        "colab": {}
      },
      "source": [
        "seconds_in_a_day = 24 * 60 * 60\n",
        "seconds_in_a_day"
      ],
      "execution_count": 0,
      "outputs": []
    },
    {
      "cell_type": "markdown",
      "metadata": {
        "id": "IXdmjuKpZ15l",
        "colab_type": "text"
      },
      "source": [
        "Os notebooks Colab permitem que você combine código executável com texto em um único documento, aceitando também imagens, HTML, LaTeX entre outros. Quando você cria seus próprios *Colab nobebooks*, eles são armazenados em sua conta do Google Drive. Você pode facilmente compartilhar seus *Colab nobebooks* com outras pessoas, permitindo que eles comentem ou até editem seus *notebooks*. "
      ]
    },
    {
      "cell_type": "markdown",
      "metadata": {
        "id": "DO0s2_MxaVsD",
        "colab_type": "text"
      },
      "source": [
        "# Aprendendo um pouco mais sobre os notebooks Colab"
      ]
    },
    {
      "cell_type": "markdown",
      "metadata": {
        "id": "ESLfLoGTagyW",
        "colab_type": "text"
      },
      "source": [
        "## Células\n",
        "Um *notebook* é uma lista de células. As células contém textos explicativos ou código executável e suas saídas. Clique em uma célula para selecioná-la."
      ]
    },
    {
      "cell_type": "markdown",
      "metadata": {
        "id": "UF2cRlMZauOF",
        "colab_type": "text"
      },
      "source": [
        "### Células código\n",
        "Abaixo tem uma célula código. Uma vez que o botão localizado no canto superior direito na barra de ferramentas indica **Connect**, clique na célula para selecioná-la e executar seu conteúdo seguindo esses passos:\n",
        "\n",
        "*   Clique no ícone *Play* à esquerda da célula código;\n",
        "*   Pressione simultâneamente Command/Crl+Enter para executar a célula código que está em destaque;\n",
        "*   Pressione Shift+Enter para executar a célula e inserir uma nova célula código imediatamente abaixo dessa;\n",
        "*   Pressione Shift+Enter para executar célula e mudar o foco para a próxima célula (adicionando uma nova se não existir nenhuma outra); ou\n",
        "*   Pressione Alt+Enter para executar a célula e inserir uma nova célula código imediatamente abaixo dessa.\n",
        "\n",
        "Existem outras opções para se executar uma ou todas as células no menu *Runtime*.\n",
        "\n"
      ]
    },
    {
      "cell_type": "code",
      "metadata": {
        "id": "q61N1nQrbyzs",
        "colab_type": "code",
        "colab": {}
      },
      "source": [
        "a = 10\n",
        "a"
      ],
      "execution_count": 0,
      "outputs": []
    },
    {
      "cell_type": "markdown",
      "metadata": {
        "id": "ClJzmL2kb2rl",
        "colab_type": "text"
      },
      "source": [
        "### Células Texto\n",
        "Esta é uma célula texto. Você pode dar um duplo-clique nela para editar esta célula. As células Texto usam uma sintaxe markdown. Para aprender mais, veja nosso [guia markdown](https://colab.research.google.com/notebooks/markdown_guide.ipynb).\n",
        "\n",
        "Você também pode adicionar fórmulas matemáticas nas células texto usando LaTex. Você só precisa escrever a sentença entre um par de **\\$**. Por exemplo, `$\\sqrt{3x-1}+(1+x)^2$` vira  $\\sqrt{3x-1}+(1+x)^2.$"
      ]
    },
    {
      "cell_type": "markdown",
      "metadata": {
        "id": "92e5Xc_xcFUP",
        "colab_type": "text"
      },
      "source": [
        "## Adicionando e movendo células\n",
        "Você pode adicionar novas células usando os botões **+Code** e **+Text** que aparecem quando você passa o mouse entre as células. Estes botões também estão logo acima, na barra de ferramentas do notebook, e podem ser usados para adicionar uma célula abaixo da célula que está selecionada.\n",
        "\n",
        "Você pode mover uma célula clicando nas setas da barra de ferramentas à direita da célula, onde tem a opção de mover para cima ou para baixo.\n",
        "\n",
        "Um conjunto de células consecutivas podem ser selecionadas arrastando o mouse e marcando o grupo desejado. Para selecionar células alternadas, clique e mantenha pressionado a tecla Ctrl enquando clica nas outras células desejadas.\n",
        "\n",
        "Também é possível usar o Shift no lugar do Ctrl para selecionar um conjunto de células consecutivas."
      ]
    },
    {
      "cell_type": "markdown",
      "metadata": {
        "id": "wmPcoaYzcp7e",
        "colab_type": "text"
      },
      "source": [
        "## Comentando em uma célula\n",
        "Você pode fazer comentários em um notebook Colab da mesma forma que faz em um documento do Google. Os comentários são anexados às células e são exibidos ao lado da célula a que ele faz referência. Se você tiver uma permissão do tipo **comment-only**, você verá um botão Comment no canto superior direito da célula quando passar o mouse sobre ela.\n",
        "\n",
        "Se você tiver permissão para comentar, você pode fazer isso de três maneiras:\n",
        "\n",
        "1.   Selecione uma célula e clique no botão Comment na barra de feramentas acima do canto superior direito da célula.\n",
        "2.   Clique com o botão direito do mouse sobre um texto e selecione **Add a comment** a partir do menu.\n",
        "3. Use o atalho **Ctrl+Shift*N** para adicionar um comentário na célula selecionada.\n",
        "\n",
        "Você pode resolver, responder aos comentários e também pode anexar comentários para um colaborador específico escrevendo *+[email address]* (e.g., `+user@domain.com`). O colaborador endereçado receberá um email.\n",
        "\n",
        "O botão *Comment* no canto superior direito da página mostra todos os comentários anexados ao notebook."
      ]
    },
    {
      "cell_type": "markdown",
      "metadata": {
        "id": "fEr-wbJtcVnn",
        "colab_type": "text"
      },
      "source": [
        "# Criando um *Colab notebook*\n",
        "Para criar um novo *Colab notebook*, você pode usar o menu *File* acima, ou usar o seguite link: [Criar um novo notebook Colab](http://colab.research.google.com#create=true)."
      ]
    },
    {
      "cell_type": "markdown",
      "metadata": {
        "id": "UwpyrUc1dqVf",
        "colab_type": "text"
      },
      "source": [
        "# Integrando o Colab com o Google Drive\n",
        "\n",
        "O Colab está integrado com o Google Drive. Ele permite que você compartilhe, comente e colabore no mesmo documento com várias pessoas.\n",
        "\n",
        "* O botão **Share** (no canto superior direito da barra de ferramentas) permite que você compartilhe o notebook e configure o tipo de compartilhamento.\n",
        "\n",
        "* **File->Make a Copy** cria uma cópia do notebook no Drive.\n",
        "\n",
        "* **File->Save** salva o arquino no Drive.**File->Save and checkpoint** fixa a versão para que não seja apagada do histórico de revisões.\n",
        "\n",
        "* **File->Revision history** mostra o histórico de revisão do notebook."
      ]
    }
  ]
}