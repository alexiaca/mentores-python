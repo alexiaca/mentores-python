{
  "nbformat": 4,
  "nbformat_minor": 0,
  "metadata": {
    "colab": {
      "name": "Exercícios - Python02.ipynb",
      "provenance": [],
      "toc_visible": true,
      "include_colab_link": true
    },
    "kernelspec": {
      "name": "python3",
      "display_name": "Python 3"
    }
  },
  "cells": [
    {
      "cell_type": "markdown",
      "metadata": {
        "id": "view-in-github",
        "colab_type": "text"
      },
      "source": [
        "<a href=\"https://colab.research.google.com/github/alexiaca/mentores-python/blob/master/Exerc%C3%ADcios_Python02.ipynb\" target=\"_parent\"><img src=\"https://colab.research.google.com/assets/colab-badge.svg\" alt=\"Open In Colab\"/></a>"
      ]
    },
    {
      "cell_type": "markdown",
      "metadata": {
        "id": "f3b2Vb7v60Ez",
        "colab_type": "text"
      },
      "source": [
        "#Exercícios - Python02"
      ]
    },
    {
      "cell_type": "markdown",
      "metadata": {
        "id": "OTas4wttf6aB",
        "colab_type": "text"
      },
      "source": [
        "#Exercício 1:\n",
        "64.4819\\*\\*2  -  2\\*64.4819 \\* 137.8974 + 137.8974\\*\\*2"
      ]
    },
    {
      "cell_type": "markdown",
      "metadata": {
        "id": "1OcOp87vi2_G",
        "colab_type": "text"
      },
      "source": [
        "#Exercício 2:\n",
        "64.4819 * (137.8974 + 654.98748) / (64.4819 - 654.98748)"
      ]
    },
    {
      "cell_type": "markdown",
      "metadata": {
        "id": "P3-Bbj2ijKPy",
        "colab_type": "text"
      },
      "source": [
        "#Exercício 3:\n",
        "(64.4819 - 137.8974 * 654.98748) * (654.98748**0.5)"
      ]
    },
    {
      "cell_type": "markdown",
      "metadata": {
        "id": "we-PBX2hje29",
        "colab_type": "text"
      },
      "source": [
        "#Exercício 4:\n",
        "(2 * 137.8974 + 654.98748 * 4 - 64.4819*137.8974 * 654.98748)"
      ]
    },
    {
      "cell_type": "markdown",
      "metadata": {
        "id": "83RGXJXbhn2W",
        "colab_type": "text"
      },
      "source": [
        "\n",
        "#Exercício 5:\n",
        "Dentre as inúmeras formas de avaliar as condições físicas de uma pessoa, o Índice de Massa Corporal (IMC) é uma das mais diretas, simples e conhecidas.O IMC é um índice aceito pela Organização Mundial de Saúde (OMS), que estabelece as faixas de índice que indicam se uma pessoa está ou não dentro do peso considerado ideal.Muitos nutricionistas e educadores físicos gostam de calcular IMC e o usam como ferramenta primária para identificar problemas de peso de uma pessoa, por causa da facilidade de cálculo.O IMC assume que existe uma faixa de peso ideal para sua altura. A partir de uma conta que usa seu peso e sua altura, encontra-se um valor (índice). Para calcular o **IMC** você dese utilizar a fórmula a seguir:\n",
        "IMC = $\\frac{peso}{altura^2}$, onde o peso é em quilograma e a altura é em metros.\n",
        "Faça um programa que aceite como entrada o peso e a altura de uma pessoa e exiba na saída o seu IMC. Faça o tratamento de erros para que o programa não quebre na sua execução.\n",
        "\n",
        "**Nota:** As informações foram retiradas do site [Indústria Hoje](https://industriahoje.com.br/calcular-imc).\n",
        "\n"
      ]
    },
    {
      "cell_type": "code",
      "metadata": {
        "id": "m-rE-tdbrTGV",
        "colab_type": "code",
        "colab": {}
      },
      "source": [
        ""
      ],
      "execution_count": 0,
      "outputs": []
    },
    {
      "cell_type": "markdown",
      "metadata": {
        "id": "mjguXsNyrUH2",
        "colab_type": "text"
      },
      "source": [
        "#Exercício 6:\n",
        "A Matemática Financeira está presente em diversas situações do dia a dia, abrangendo investimentos e financiamentos de bens de consumo. Sempre que financiamos um valor, pagamos juros que são contabilizados nas prestações estabelecidas. As taxas de juros cobradas variam de acordo com cada instituição financeira.Através da fórmula CF = $\\frac{i}{1-(1+i)^{-n}}$, onde **i** se refere a taxa de juros e **n** ao período, é possível demonstrar o cálculo a ser feito em um financiamento.   \n",
        "Suponha que uma pessoa queira financiar um carro no valor de R$ 10.000,00 (dez mil reais), financiado à taxa de 1,5% a.m. durante 12 meses. Qual o valor mensal da prestação?\n",
        "**Nota:** As informações foram retiradas do site [Mundo Educação](https://mundoeducacao.bol.uol.com.br/matematica/calculo-financiamento.htm)."
      ]
    },
    {
      "cell_type": "code",
      "metadata": {
        "id": "TLydxC7LrmmV",
        "colab_type": "code",
        "colab": {}
      },
      "source": [
        ""
      ],
      "execution_count": 0,
      "outputs": []
    },
    {
      "cell_type": "markdown",
      "metadata": {
        "id": "iqlj_Iz4rnFt",
        "colab_type": "text"
      },
      "source": [
        "#Exercício 7: \n",
        "A partir do problema acima, calcule o total que a pessoa pagará ao final das prestações, pelo valor financiado de R$10.000,00."
      ]
    },
    {
      "cell_type": "markdown",
      "metadata": {
        "id": "sexYnv8PrspZ",
        "colab_type": "text"
      },
      "source": [
        "\n",
        "#Exercício 8:\n",
        "Refaça o exercício 2, pedindo como entrada de dados, o valor do carro, a taxa de juros e a quantidade de prestações e forneça como saída o valor das prestações e o valor total a ser pago ao final do financiamento. Faça o tratamento de erros para que o programa não quebre na sua execução."
      ]
    },
    {
      "cell_type": "markdown",
      "metadata": {
        "id": "TvpidsBxkkEs",
        "colab_type": "text"
      },
      "source": [
        "Nota: Os exercícios 9 ao 36 foram retirados do material disponibilizado pelo [Prof. Leonardo de Oliveira Carvalho](http://lattes.cnpq.br/./3754078390316976) da Universidade Federal Fluminense.\n",
        "\n",
        "Sabendo que o perímetro de um triângulo é calculado pela fórmula: $p = \n",
        "\\frac {a + b + c}{2}$ e a área do triângulo é calculada pela fórmula $\\sqrt{p(p-a)(p-b)(p-c)}$:\n",
        "#Exercício 9:\n",
        "Calcule a área do triângulo, dado o tamanho de cada lado.\n",
        "\n",
        "![alt text](https://github.com/alexiaca/mentores-python/blob/master/t01.png?raw=true)"
      ]
    },
    {
      "cell_type": "markdown",
      "metadata": {
        "id": "OiReSyNzp-3o",
        "colab_type": "text"
      },
      "source": [
        "#Exercício 10:\n",
        "Calcule a área do triângulo, dado o tamanho de cada lado.\n",
        "![alt text](https://github.com/alexiaca/mentores-python/blob/master/t02.png?raw=true)"
      ]
    },
    {
      "cell_type": "markdown",
      "metadata": {
        "id": "-9-hfX7LqMBu",
        "colab_type": "text"
      },
      "source": [
        "#Exercício 11:\n",
        "Calcule a área do triângulo, dado o tamanho de cada lado.\n",
        "![alt text](https://github.com/alexiaca/mentores-python/blob/master/t03.png?raw=true)"
      ]
    },
    {
      "cell_type": "markdown",
      "metadata": {
        "id": "mWbYxDfRqaSj",
        "colab_type": "text"
      },
      "source": [
        "#Exercício 12:\n",
        "Calcule a área do triângulo, dado o tamanho de cada lado.\n",
        "\n",
        "![alt text](https://github.com/alexiaca/mentores-python/blob/master/t04.png?raw=true)"
      ]
    },
    {
      "cell_type": "markdown",
      "metadata": {
        "id": "1Ay_abXIqiuS",
        "colab_type": "text"
      },
      "source": [
        "#Exercício 13:\n",
        "Calcule a área do triângulo, dado o tamanho de cada lado.\n",
        "![alt text](https://github.com/alexiaca/mentores-python/blob/master/t05.png?raw=true)"
      ]
    },
    {
      "cell_type": "code",
      "metadata": {
        "id": "dGSFiQvit9qB",
        "colab_type": "code",
        "outputId": "b94c87a1-16a5-4af3-e94c-3f6c3415ca58",
        "colab": {
          "base_uri": "https://localhost:8080/",
          "height": 35
        }
      },
      "source": [
        "a = 2.14\n",
        "b = 3.49\n",
        "c = 1.96\n",
        "p = (a+b+c)/2.0\n",
        "(p*(p-a)*(p-b)*(p-c))**(1/2)"
      ],
      "execution_count": 0,
      "outputs": [
        {
          "output_type": "execute_result",
          "data": {
            "text/plain": [
              "1.8748772664830633"
            ]
          },
          "metadata": {
            "tags": []
          },
          "execution_count": 13
        }
      ]
    },
    {
      "cell_type": "markdown",
      "metadata": {
        "id": "gXrCoUGrv-gU",
        "colab_type": "text"
      },
      "source": [
        "#Exercício 14:\n",
        "Calcule a área do polígono, dado o tamanho de cada lado.![alt text](https://github.com/alexiaca/mentores-python/blob/master/p01.png?raw=true)"
      ]
    },
    {
      "cell_type": "markdown",
      "metadata": {
        "id": "cNswnOTtw-49",
        "colab_type": "text"
      },
      "source": [
        "#Exercício 15:\n",
        "Calcule a área do polígono, dado o tamanho de cada lado.\n",
        "\n",
        "![alt text](https://github.com/alexiaca/mentores-python/blob/master/p02.png?raw=true)"
      ]
    },
    {
      "cell_type": "markdown",
      "metadata": {
        "id": "1-x_2vKoxI4u",
        "colab_type": "text"
      },
      "source": [
        "#Exercício 16:\n",
        "Calcule a área do polígono, dado o tamanho de cada lado.\n",
        "\n",
        "![alt text](https://github.com/alexiaca/mentores-python/blob/master/p03.png?raw=true)"
      ]
    },
    {
      "cell_type": "markdown",
      "metadata": {
        "id": "O36-KcOVyWFA",
        "colab_type": "text"
      },
      "source": [
        "#Exercício 17:\n",
        "Calcule o discriminante (Δ = b² - 4ac) da equação:\n",
        "\n",
        "$1.41x^2 - 4.74x - 5.58 = 0$\n"
      ]
    },
    {
      "cell_type": "markdown",
      "metadata": {
        "id": "rIgWh6T0zPJG",
        "colab_type": "text"
      },
      "source": [
        "#Exercício 18:\n",
        "Calcule o discriminante (Δ = b² - 4ac) da equação:\n",
        "\n",
        "$7.77x^2 + 4.68x + 5.1 = 0$"
      ]
    },
    {
      "cell_type": "markdown",
      "metadata": {
        "id": "I7Ag_Q1TzWgD",
        "colab_type": "text"
      },
      "source": [
        "#Exercício 19:\n",
        "Calcule o discriminante (Δ = b² - 4ac) da equação:\n",
        "\n",
        "$3.83x^2 - 2.91x + 0.07 = 0$"
      ]
    },
    {
      "cell_type": "markdown",
      "metadata": {
        "id": "WsFrg4u4zhWO",
        "colab_type": "text"
      },
      "source": [
        "#Exercício 20:\n",
        "Calcule o discriminante (Δ = b² - 4ac) da equação:\n",
        "\n",
        "$-3.76x^2 + 0.19x + 4.19 = 0$"
      ]
    },
    {
      "cell_type": "markdown",
      "metadata": {
        "id": "E18m_tITzqJm",
        "colab_type": "text"
      },
      "source": [
        "#Exercício 21:\n",
        "Calcule o discriminante (Δ = b² - 4ac) da equação:\n",
        "\n",
        "$-2.34x^2 + 3.87x - 8.58 = 0$"
      ]
    },
    {
      "cell_type": "markdown",
      "metadata": {
        "id": "wtcp_1oazyjN",
        "colab_type": "text"
      },
      "source": [
        "#Exercício 22:\n",
        "Calcule o discriminante (Δ = b² - 4ac) da equação:\n",
        "\n",
        "$-0.35x^2 - 0.79x - 9.8 = 0$"
      ]
    },
    {
      "cell_type": "markdown",
      "metadata": {
        "id": "pdr26PHc0dDE",
        "colab_type": "text"
      },
      "source": [
        "#Exercício 23:\n",
        "Calcule o discriminante (Δ = b² - 4ac) da equação:\n",
        "\n",
        "$-1.19x^2 + 5.83x - 5.72 = 0$"
      ]
    },
    {
      "cell_type": "markdown",
      "metadata": {
        "id": "vhq-Vg2n0msg",
        "colab_type": "text"
      },
      "source": [
        "#Exercício 24:\n",
        "Calcule o discriminante (Δ = b² - 4ac) da equação:\n",
        "\n",
        "$-2.55x^2 + 7.21x - 5.7 = 0$"
      ]
    },
    {
      "cell_type": "markdown",
      "metadata": {
        "id": "-FSEEu-M10wV",
        "colab_type": "text"
      },
      "source": [
        "Calcule as soluções reais das equações abaixo, se existir solução.\n",
        "\n",
        "#Exercício 25:\n",
        "$1.41x^2 - 4.74x - 5.58 = 0$"
      ]
    },
    {
      "cell_type": "markdown",
      "metadata": {
        "id": "kSY_C41-1880",
        "colab_type": "text"
      },
      "source": [
        "#Exercício 26:\n",
        "$7.77x^2 + 4.68x + 5.1 = 0$"
      ]
    },
    {
      "cell_type": "markdown",
      "metadata": {
        "id": "E3VWkvpO2CST",
        "colab_type": "text"
      },
      "source": [
        "#Exercício 27:\n",
        "$3.83x^2 - 2.91x + 0.07 = 0$"
      ]
    },
    {
      "cell_type": "markdown",
      "metadata": {
        "id": "FcRoVeQm2HTn",
        "colab_type": "text"
      },
      "source": [
        "#Exercício 28:\n",
        "$-3.76x^2 + 0.19x + 4.19 = 0$"
      ]
    },
    {
      "cell_type": "markdown",
      "metadata": {
        "id": "Qnh26Nna2MSP",
        "colab_type": "text"
      },
      "source": [
        "#Exercício 29:\n",
        "$-2.34x^2 + 3.87x - 8.58 = 0$"
      ]
    },
    {
      "cell_type": "markdown",
      "metadata": {
        "id": "MUQGWNR42Qom",
        "colab_type": "text"
      },
      "source": [
        "#Exercício 30:\n",
        "$-0.35x^2 - 0.79x - 9.8 = 0$"
      ]
    },
    {
      "cell_type": "markdown",
      "metadata": {
        "id": "g4XOuBtm2VTs",
        "colab_type": "text"
      },
      "source": [
        "#Exercício 31:\n",
        "$-1.19x^2 + 5.83x - 5.72 = 0$"
      ]
    },
    {
      "cell_type": "markdown",
      "metadata": {
        "id": "pkBHg8q-2Y46",
        "colab_type": "text"
      },
      "source": [
        "#Exercício 32:\n",
        "$-2.55x^2 + 7.21x - 5.7 = 0$"
      ]
    },
    {
      "cell_type": "markdown",
      "metadata": {
        "id": "dQoYMUer216F",
        "colab_type": "text"
      },
      "source": [
        "Pra descontrair, crie as strings digitando o mínimo possível:\n",
        "#Exercício 33:\n",
        "![alt text](https://github.com/alexiaca/mentores-python/blob/master/casa.png?raw=true)"
      ]
    },
    {
      "cell_type": "markdown",
      "metadata": {
        "id": "su8FidA94Jzq",
        "colab_type": "text"
      },
      "source": [
        "#Exercício 34:\n",
        "![alt text](https://github.com/alexiaca/mentores-python/blob/master/hihihi.png?raw=true)"
      ]
    },
    {
      "cell_type": "markdown",
      "metadata": {
        "id": "mYRICCid3TWm",
        "colab_type": "text"
      },
      "source": [
        "#Exercício 35:\n",
        "![alt text](https://github.com/alexiaca/mentores-python/blob/master/rarara.png?raw=true)"
      ]
    },
    {
      "cell_type": "markdown",
      "metadata": {
        "id": "EP3SY_T-4gxY",
        "colab_type": "text"
      },
      "source": [
        "#Exercício 36:\n",
        "![alt text](https://github.com/alexiaca/mentores-python/blob/master/ae%20ae%20ae.png?raw=true)"
      ]
    }
  ]
}