{
  "nbformat": 4,
  "nbformat_minor": 0,
  "metadata": {
    "colab": {
      "name": "Aula07.ipynb",
      "provenance": [],
      "toc_visible": true,
      "authorship_tag": "ABX9TyM45Cf0JNib2aAV0wJc4dE9",
      "include_colab_link": true
    },
    "kernelspec": {
      "name": "python3",
      "display_name": "Python 3"
    }
  },
  "cells": [
    {
      "cell_type": "markdown",
      "metadata": {
        "id": "view-in-github",
        "colab_type": "text"
      },
      "source": [
        "<a href=\"https://colab.research.google.com/github/alexiaca/mentores-python/blob/master/Aula07.ipynb\" target=\"_parent\"><img src=\"https://colab.research.google.com/assets/colab-badge.svg\" alt=\"Open In Colab\"/></a>"
      ]
    },
    {
      "cell_type": "markdown",
      "metadata": {
        "id": "khNX6AVjZMF_",
        "colab_type": "text"
      },
      "source": [
        "#Explorando dados estatísticos com Python\n",
        "Vamos trabalhar com estatística com Python para que possamos estudar, descrever e entender melhor os conjuntos de dados. \n",
        "Nesse estudo, aprenderemos a usar algumas medidas estatísticas básicas, como a média, mediana, modo e amplitude. Também vamos aprender sobre variância e desvio padrão. Então, vamos aprender a calcular o coeficiente de correlação, que permite quantificar o relacionamento entre dois conjuntos de dados. Isso tudo nos levará aos gráficos de dispersão.\n",
        "Todo esse conteúdo sobre estatística nos permitirá, aprender aplicando, mais sobre a linguagem Python e suas bibliotecas.\n",
        "Vamos começar com uma das medidas mais usadas e que vemos o tempo todo, a média.\n",
        "\n",
        "\n"
      ]
    },
    {
      "cell_type": "markdown",
      "metadata": {
        "id": "PRTN_MbgcMP6",
        "colab_type": "text"
      },
      "source": [
        "#Calculando a Média\n",
        "A média é uma maneira comum e intuitiva de resumir um conjunto de números. Vamos pegar um conjunto de números de uma amostra e calcular a média.\n",
        "\n",
        "Por exemplo, imagine que você estude em uma escola que tenha 4 notas para definir se você atingiu a média para ser aprovado. No caso, vamos considerar que a média a ser atingida é 7,0.\n",
        "\n",
        "Como já sabemos, para calcular a média da nossas notas, precisamos somar todas as notas e dividir pela quantidade que temos delas. \n",
        "\n",
        "Nesse caso, imagine que nós temos uma lista com todoas as nossas notas. Temos que fazer o somatório dessa lista e dividir pelo número de elementos contidos na lsita. \n",
        "\n",
        "Vamos ver duas funções em Python que tornam essas operações muito fáceis: sum () e len ().\n"
      ]
    },
    {
      "cell_type": "code",
      "metadata": {
        "id": "moi9JLR6dpi4",
        "colab_type": "code",
        "colab": {
          "base_uri": "https://localhost:8080/",
          "height": 35
        },
        "outputId": "101e6460-242e-4dbf-c916-f99d232d531b"
      },
      "source": [
        "notas = [6.5, 4.8, 7.6, 8.7]\n",
        "sum (notas)"
      ],
      "execution_count": 1,
      "outputs": [
        {
          "output_type": "execute_result",
          "data": {
            "text/plain": [
              "27.599999999999998"
            ]
          },
          "metadata": {
            "tags": []
          },
          "execution_count": 1
        }
      ]
    },
    {
      "cell_type": "markdown",
      "metadata": {
        "id": "tgP0bq4Md1Hj",
        "colab_type": "text"
      },
      "source": [
        "Quando você usa a função *sum ()* em uma lista de números, ela soma todos os números da lista e retorna o resultado.\n",
        "\n",
        "Agora, nos precisamos saber quantos elementos tem nessa lista, para depois calcularmos a média final."
      ]
    },
    {
      "cell_type": "code",
      "metadata": {
        "id": "bfSHPbOReNll",
        "colab_type": "code",
        "colab": {
          "base_uri": "https://localhost:8080/",
          "height": 35
        },
        "outputId": "953e22b5-0a8f-4490-a0ab-726b014931a2"
      },
      "source": [
        "len (notas)"
      ],
      "execution_count": 2,
      "outputs": [
        {
          "output_type": "execute_result",
          "data": {
            "text/plain": [
              "4"
            ]
          },
          "metadata": {
            "tags": []
          },
          "execution_count": 2
        }
      ]
    },
    {
      "cell_type": "markdown",
      "metadata": {
        "id": "5sSTTNT4eXFI",
        "colab_type": "text"
      },
      "source": [
        "#Exercício 1\n",
        "Agora, você está pronto para escrever um programa que receba as notas de um aluno e informe se ele foi aprovado ou reprovado, considerando que a média para aprovação é maior ou igual a 7,0.\n",
        "Escreva uma função que recebe a lista de notas de um aluno e retorna a média final. Depois, imprima uma mensagem se ele foi aprovado ou reprovado. Faça o tratamento de erros."
      ]
    },
    {
      "cell_type": "markdown",
      "metadata": {
        "id": "5ixsY6JAfN0N",
        "colab_type": "text"
      },
      "source": [
        "#Calculando a mediana\n",
        "A mediana de uma coleção de números é outro tipo de média. Para encontrar a mediana, classificamos os números em ordem crescente. Se o comprimento da lista de números for ímpar, o número no meio da lista é a mediana. Se o comprimento da lista de números for par, obtemos a mediana calculando a média dos dois números do meio. \n",
        "\n",
        "Vamos imaginar que você participou de uma campanha de doação para ajudar alunos que não tem dinheiro para comprar o material escolar.\n",
        "Você recolheu valores de algumas pessoas e registrou em um caderno. Agora, vamos calcular a mediana desses valores.\n",
        "\n",
        "Por exemplo:\n",
        "\n",
        "idade dos alunos do sexto ano: 10, 10, 12, 12, 13, 10, 11\n",
        "Temos a idade de 7 anos, logo o comprimento desta lista é ímpar. Então depois de colocarmos em ordem crescente, podemos pegar a mediana, que é o elemento do meio dessa lista.\n",
        "\n",
        "Ordenando:\n",
        "\n",
        "idades: 10, 10, 10, 11, 12, 12, 13\n",
        "Mediana = 11 anos\n",
        "\n",
        "Agora, imagine que tenha entrado mais um aluno nesta turma.\n",
        "idade dos alunos do sexto ano: 10, 10, 12, 12, 13, 10, 11, 12\n",
        "Temos 8 alunos, logo o comprimento desta lista é par. Então, para calcularmos a mediana, precisamos ordenar a lista e tirar a média dos dois elementos do meio.\n",
        "\n",
        "Ordenando: 10, 10, 10, 11, 12, 12, 12,  13\n",
        "Mediana =  (11 + 12)/2 = 11,5 anos\n",
        "\n"
      ]
    },
    {
      "cell_type": "markdown",
      "metadata": {
        "id": "WxxnjRk2z5_0",
        "colab_type": "text"
      },
      "source": [
        "#Exercício 2\n",
        "Um professor de matemática costuma verificar a aprendizagem de seus alunos através da mediana das notas obtidas pela turma. Considere que a turma de 2014 obteve as seguintes notas no 2° bimestre: 2.5, 7.6, 8.9, 9.1, 3.4, 6.7, 5.8, 6.9, 10, 8.6, 5.7, 4.9, 8.3, 6.7, 7.9, 9.2, 8.1, 7.5, 8.3, 1.9\n",
        "\n",
        "Escreva um programa que tenha uma função que calcule a mediana a mediana das notas dos alunos. Considerando que a média é 7.0, informe se a mediana está acima ou abaixo dessa média."
      ]
    },
    {
      "cell_type": "markdown",
      "metadata": {
        "id": "JLxiSMJo1zGO",
        "colab_type": "text"
      },
      "source": [
        ""
      ]
    }
  ]
}