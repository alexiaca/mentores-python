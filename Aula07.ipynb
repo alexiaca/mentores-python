{
  "nbformat": 4,
  "nbformat_minor": 0,
  "metadata": {
    "colab": {
      "name": "Aula07.ipynb",
      "provenance": [],
      "toc_visible": true,
      "authorship_tag": "ABX9TyPJjX7pi4AqtN/0plK+zAku",
      "include_colab_link": true
    },
    "kernelspec": {
      "name": "python3",
      "display_name": "Python 3"
    }
  },
  "cells": [
    {
      "cell_type": "markdown",
      "metadata": {
        "id": "view-in-github",
        "colab_type": "text"
      },
      "source": [
        "<a href=\"https://colab.research.google.com/github/alexiaca/mentores-python/blob/master/Aula07.ipynb\" target=\"_parent\"><img src=\"https://colab.research.google.com/assets/colab-badge.svg\" alt=\"Open In Colab\"/></a>"
      ]
    },
    {
      "cell_type": "markdown",
      "metadata": {
        "id": "khNX6AVjZMF_",
        "colab_type": "text"
      },
      "source": [
        "#Explorando dados estatísticos com Python\n",
        "Vamos trabalhar com estatística com Python para que possamos estudar, descrever e entender melhor os conjuntos de dados. \n",
        "Nesse estudo, aprenderemos a usar algumas medidas estatísticas básicas, como a média, mediana, modo e amplitude. Também vamos aprender sobre variância e desvio padrão. Então, vamos aprender a calcular o coeficiente de correlação, que permite quantificar o relacionamento entre dois conjuntos de dados. Isso tudo nos levará aos gráficos de dispersão.\n",
        "Todo esse conteúdo sobre estatística nos permitirá, aprender aplicando, mais sobre a linguagem Python e suas bibliotecas.\n",
        "Vamos começar com uma das medidas mais usadas e que vemos o tempo todo, a média.\n",
        "\n",
        "\n"
      ]
    },
    {
      "cell_type": "markdown",
      "metadata": {
        "id": "PRTN_MbgcMP6",
        "colab_type": "text"
      },
      "source": [
        "#Calculando a Média\n",
        "A média é uma maneira comum e intuitiva de resumir um conjunto de números. Vamos pegar um conjunto de números de uma amostra e calcular a média.\n",
        "\n",
        "Por exemplo, imagine que você estude em uma escola que tenha 4 notas para definir se você atingiu a média para ser aprovado. No caso, vamos considerar que a média a ser atingida é 7,0.\n",
        "\n",
        "Como já sabemos, para calcular a média da nossas notas, precisamos somar todas as notas e dividir pela quantidade que temos delas. \n",
        "\n",
        "Nesse caso, imagine que nós temos uma lista com todoas as nossas notas. Temos que fazer o somatório dessa lista e dividir pelo número de elementos contidos na lsita. \n",
        "\n",
        "Vamos ver duas funções em Python que tornam essas operações muito fáceis: sum () e len ().\n"
      ]
    },
    {
      "cell_type": "code",
      "metadata": {
        "id": "moi9JLR6dpi4",
        "colab_type": "code",
        "outputId": "101e6460-242e-4dbf-c916-f99d232d531b",
        "colab": {
          "base_uri": "https://localhost:8080/",
          "height": 35
        }
      },
      "source": [
        "notas = [6.5, 4.8, 7.6, 8.7]\n",
        "sum (notas)"
      ],
      "execution_count": 0,
      "outputs": [
        {
          "output_type": "execute_result",
          "data": {
            "text/plain": [
              "27.599999999999998"
            ]
          },
          "metadata": {
            "tags": []
          },
          "execution_count": 1
        }
      ]
    },
    {
      "cell_type": "markdown",
      "metadata": {
        "id": "tgP0bq4Md1Hj",
        "colab_type": "text"
      },
      "source": [
        "Quando você usa a função *sum ()* em uma lista de números, ela soma todos os números da lista e retorna o resultado.\n",
        "\n",
        "Agora, nos precisamos saber quantos elementos tem nessa lista, para depois calcularmos a média final."
      ]
    },
    {
      "cell_type": "code",
      "metadata": {
        "id": "bfSHPbOReNll",
        "colab_type": "code",
        "outputId": "953e22b5-0a8f-4490-a0ab-726b014931a2",
        "colab": {
          "base_uri": "https://localhost:8080/",
          "height": 35
        }
      },
      "source": [
        "len (notas)"
      ],
      "execution_count": 0,
      "outputs": [
        {
          "output_type": "execute_result",
          "data": {
            "text/plain": [
              "4"
            ]
          },
          "metadata": {
            "tags": []
          },
          "execution_count": 2
        }
      ]
    },
    {
      "cell_type": "markdown",
      "metadata": {
        "id": "5sSTTNT4eXFI",
        "colab_type": "text"
      },
      "source": [
        "#Exercício 1\n",
        "Agora, você está pronto para escrever um programa que receba as notas de um aluno e informe se ele foi aprovado ou reprovado, considerando que a média para aprovação é maior ou igual a 7,0.\n",
        "Escreva uma função que recebe a lista de notas de um aluno e retorna a média final. Depois, imprima uma mensagem se ele foi aprovado ou reprovado. Faça o tratamento de erros."
      ]
    },
    {
      "cell_type": "markdown",
      "metadata": {
        "id": "5ixsY6JAfN0N",
        "colab_type": "text"
      },
      "source": [
        "#Calculando a mediana\n",
        "A mediana de uma coleção de números é outro tipo de média. Para encontrar a mediana, classificamos os números em ordem crescente. Se o comprimento da lista de números for ímpar, o número no meio da lista é a mediana. Se o comprimento da lista de números for par, obtemos a mediana calculando a média dos dois números do meio. \n",
        "\n",
        "Vamos imaginar que você participou de uma campanha de doação para ajudar alunos que não tem dinheiro para comprar o material escolar.\n",
        "Você recolheu valores de algumas pessoas e registrou em um caderno. Agora, vamos calcular a mediana desses valores.\n",
        "\n",
        "Por exemplo:\n",
        "\n",
        "idade dos alunos do sexto ano: 10, 10, 12, 12, 13, 10, 11\n",
        "Temos a idade de 7 anos, logo o comprimento desta lista é ímpar. Então depois de colocarmos em ordem crescente, podemos pegar a mediana, que é o elemento do meio dessa lista.\n",
        "\n",
        "Ordenando:\n",
        "\n",
        "idades: 10, 10, 10, 11, 12, 12, 13\n",
        "Mediana = 11 anos\n",
        "\n",
        "Agora, imagine que tenha entrado mais um aluno nesta turma.\n",
        "idade dos alunos do sexto ano: 10, 10, 12, 12, 13, 10, 11, 12\n",
        "Temos 8 alunos, logo o comprimento desta lista é par. Então, para calcularmos a mediana, precisamos ordenar a lista e tirar a média dos dois elementos do meio.\n",
        "\n",
        "Ordenando: 10, 10, 10, 11, 12, 12, 12,  13\n",
        "Mediana =  (11 + 12)/2 = 11,5 anos\n",
        "\n"
      ]
    },
    {
      "cell_type": "markdown",
      "metadata": {
        "id": "WxxnjRk2z5_0",
        "colab_type": "text"
      },
      "source": [
        "#Exercício 2\n",
        "Um professor de matemática costuma verificar a aprendizagem de seus alunos através da mediana das notas obtidas pela turma. Considere que a turma de 2014 obteve as seguintes notas no 2° bimestre: 2.5, 7.6, 8.9, 9.1, 3.4, 6.7, 5.8, 6.9, 10, 8.6, 5.7, 4.9, 8.3, 6.7, 7.9, 9.2, 8.1, 7.5, 8.3, 1.9\n",
        "\n",
        "Escreva um programa que tenha uma função que calcule a mediana a mediana das notas dos alunos. Considerando que a média é 7.0, informe se a mediana está acima ou abaixo dessa média."
      ]
    },
    {
      "cell_type": "markdown",
      "metadata": {
        "id": "JLxiSMJo1zGO",
        "colab_type": "text"
      },
      "source": [
        "#Achando a moda e criando uma tabela de frequência\n",
        "Se ao invés de querer saber a média ou a mediana de um conjunto de valores, você quisesse saber qual é o número que ocorre com mais frequência? Este número é chamado de moda.\n",
        "\n",
        "Por exemplo, considere as notas de um teste de matemática que valia 10 pontos, em uma turma de 20 alunos: 7, 8, 9, 2, 10, 9, 9, 9, 9, 9, 4, 5, 6, 1, 5, 6, 7, 8, 6, 1 e 10.\n",
        "\n",
        "Para encontrar a moda nesta lista, basta procurar o valor que ocorre com mais frequência. Neste caso, a nota 9 é a que ocorre com mais frequência, logo, ela é a moda da turma.\n",
        "\n",
        "Não existe uma fórmula simbólica para calcular a moda - basta contar quantas vezes cada número único ocorre e encontrar o que mais ocorre.\n",
        "\n",
        "Vamos ver como fazer isso.\n",
        "\n",
        "O jeito mais simples de fazer a contagem de ocorrências dos elementos de uma sequência é através da classe *Counter*, também presente no módulo *collections*. "
      ]
    },
    {
      "cell_type": "code",
      "metadata": {
        "id": "_xr7KZsyPrrz",
        "colab_type": "code",
        "outputId": "b954e1e2-5fd4-4a43-b7e5-8ead919d3680",
        "colab": {
          "base_uri": "https://localhost:8080/",
          "height": 35
        }
      },
      "source": [
        "from collections import Counter\n",
        "\n",
        "simplelist = [4, 2, 1, 3, 4]\n",
        "\n",
        "c = Counter(simplelist)\n",
        "c.most_common()"
      ],
      "execution_count": 0,
      "outputs": [
        {
          "output_type": "execute_result",
          "data": {
            "text/plain": [
              "[(4, 2), (2, 1), (1, 1), (3, 1)]"
            ]
          },
          "metadata": {
            "tags": []
          },
          "execution_count": 19
        }
      ]
    },
    {
      "cell_type": "markdown",
      "metadata": {
        "id": "LzAWcAmTP2sT",
        "colab_type": "text"
      },
      "source": [
        "\n",
        "Um dos métodos mais interessantes da função *Counter* é o *most_common()*, que retorna uma lista contendo os elementos mais comuns na sequência, numa ordem decrescente.\n",
        "\n",
        "A lista retornada acima significa que o método most_common() achou 2 vezes o número 4, 1 vez o número 2, 1 vez o número 1 e 1 vez o número 3."
      ]
    },
    {
      "cell_type": "markdown",
      "metadata": {
        "id": "dhij_azORtd3",
        "colab_type": "text"
      },
      "source": [
        "Voltando ao cálculo da moda das notas de uma turma de 20 alunos, temos:"
      ]
    },
    {
      "cell_type": "code",
      "metadata": {
        "id": "YF0_NXNUMMG-",
        "colab_type": "code",
        "outputId": "6a459de1-ca1c-44f5-95d6-a903a722d6b9",
        "colab": {
          "base_uri": "https://localhost:8080/",
          "height": 35
        }
      },
      "source": [
        "from collections import Counter\n",
        "\n",
        "def calcular_moda(numbers):\n",
        "  c = Counter(numbers)\n",
        "  moda = c.most_common(1)\n",
        "  return moda[0][0]\n",
        "\n",
        "scores = [7, 8, 9, 2, 10, 9, 9, 9, 9, 4, 5, 6, 1, 5, 6, 7, 8, 6, 1, 10] \n",
        "moda = calcular_moda(scores)\n",
        "print(\"A moda da lista de números é: {0}\".format(moda))\n"
      ],
      "execution_count": 0,
      "outputs": [
        {
          "output_type": "stream",
          "text": [
            "A moda da lista de números é: 9\n"
          ],
          "name": "stdout"
        }
      ]
    },
    {
      "cell_type": "markdown",
      "metadata": {
        "id": "Qj--p7b6SW7N",
        "colab_type": "text"
      },
      "source": [
        "E se você tiver um conjunto de dados em que dois ou mais números ocorram o mesmo número máximo de vezes? Por exemplo, na lista de números 5, 5, 5, 4, 4, 4, 9, 1 e 3, ambos os números, 4 e 5, estão presentes três vezes. Nesses casos, diz-se que a lista de números possui várias modas, e nosso programa deve encontrar e imprimir todas as modas. O programa modificado é o seguinte:"
      ]
    },
    {
      "cell_type": "code",
      "metadata": {
        "id": "w55mzd7NThX4",
        "colab_type": "code",
        "outputId": "3a80a364-fafb-4711-cdc9-08d2c47729a8",
        "colab": {
          "base_uri": "https://localhost:8080/",
          "height": 69
        }
      },
      "source": [
        "from collections import Counter\n",
        "\n",
        "def calcular_moda(numbers):\n",
        "  c = Counter(numbers)\n",
        "  numbers_freq = c.most_common()\n",
        "  max_count = numbers_freq[0][1]\n",
        "  \n",
        "  modas = []\n",
        "  \n",
        "  for num in numbers_freq:\n",
        "    if num[1] == max_count:\n",
        "      modas.append(num[0])\n",
        "\n",
        "  return modas\n",
        "\n",
        "valores = [5, 5, 5, 4, 4, 4, 9, 1, 3]\n",
        "modas = calcular_moda(valores)\n",
        "print(\"A(s) moda(s) da lista de números são: \")\n",
        "\n",
        "for moda in modas:\n",
        "  print(moda)"
      ],
      "execution_count": 0,
      "outputs": [
        {
          "output_type": "stream",
          "text": [
            "A(s) moda(s) da lista de números são: \n",
            "5\n",
            "4\n"
          ],
          "name": "stdout"
        }
      ]
    },
    {
      "cell_type": "markdown",
      "metadata": {
        "id": "W8Fp4MM0ThpZ",
        "colab_type": "text"
      },
      "source": [
        "Ao invés de encontrar apenas o elemento mais comum, achamos por todos os números e o número de vezes que cada um deles aparece. Em seguida, encontramos o valor da contagem máxima - ou seja, o número máximo de vezes que um número ocorre. Então, para cada um dos números, verificamos se o número de vezes que aparece é igual à contagem máxima. Cada número que atende a essa condição é uma moda, e o adicionamos à lista moda e depois retornamos ela."
      ]
    },
    {
      "cell_type": "markdown",
      "metadata": {
        "id": "fmD6jcPSWFbo",
        "colab_type": "text"
      },
      "source": [
        "#Tabela de frequência\n",
        "E se você quisesse encontrar o número de vezes que cada número ocorre, e não apenas a moda? Uma tabela de frequência, como o nome indica, é uma tabela que mostra quantas vezes cada número ocorre em uma coleção de números.\n",
        "\n",
        "Vamos aprender como fazer uma tabela de frequência, usando a mesma lista com as notas dos alunos que usamos logo acima: 7, 8, 9, 2, 10, 9, 9, 9, 9, 4, 5, 6, 1, 5, 6, 7, 8, 6, 1 e 10.\n",
        "\n",
        "##Tabela de frequência\n",
        "\n",
        "___\n",
        "Nota | Frequência\n",
        "--- | ---\n",
        "1 | 1\n",
        "2 | 1\n",
        "4 | 1\n",
        "5 | 2\n",
        "6 | 3\n",
        "7 | 2\n",
        "8 | 2\n",
        "9 | 5\n",
        "10 | 2\n",
        "\n",
        "___\n",
        "\n",
        "\n",
        "Observe que a soma das frequências individuais na segunda coluna soma o número total de 20, que é a quantidade de notas.\n",
        "\n",
        "Usaremos o método *most_common ()* mais uma vez para imprimir a tabela de frequências para um determinado conjunto de números. Lembre-se de que, quando não fornecemos um argumento para o método *most_common ()*, ele retorna uma lista de tuplas com todos os números e o número de vezes que eles aparecem. \n"
      ]
    },
    {
      "cell_type": "code",
      "metadata": {
        "id": "sywc4bNDYnBV",
        "colab_type": "code",
        "outputId": "952f62ba-aa48-480d-8340-6d1cf273e353",
        "colab": {
          "base_uri": "https://localhost:8080/",
          "height": 190
        }
      },
      "source": [
        "from collections import Counter\n",
        "\n",
        "def tabela_frequencia(numeros):\n",
        "  tabela = Counter(numeros)\n",
        "  freq_numeros =  tabela.most_common()\n",
        "  print(\"Nota\\tFrequencia\")\n",
        "  \n",
        "  for nota in freq_numeros:\n",
        "    print('{0}\\t{1}'.format(nota[0], nota[1]))\n",
        "  \n",
        "notas = [7, 8, 9, 2, 10, 9, 9, 9, 9, 4, 5, 6, 1, 5, 6, 7, 8, 6, 1, 10] \n",
        "tabela_frequencia(notas)"
      ],
      "execution_count": 0,
      "outputs": [
        {
          "output_type": "stream",
          "text": [
            "Nota\tFrequencia\n",
            "9\t5\n",
            "6\t3\n",
            "7\t2\n",
            "8\t2\n",
            "10\t2\n",
            "5\t2\n",
            "1\t2\n",
            "2\t1\n",
            "4\t1\n"
          ],
          "name": "stdout"
        }
      ]
    },
    {
      "cell_type": "markdown",
      "metadata": {
        "id": "JmLCY1qOok2l",
        "colab_type": "text"
      },
      "source": [
        "A saída está em ordem decrescente de frequência, porque a função most_common() returno os números nesta ordem. Mas, se desejarmos, podemos ordenar a saída de forma que o resultado saia em ordem crescente de valor, basta usar a função sort() para isso."
      ]
    },
    {
      "cell_type": "code",
      "metadata": {
        "id": "zWOzfgVqomJu",
        "colab_type": "code",
        "outputId": "85718a4b-5503-4711-9e33-2cb939c3f0bb",
        "colab": {
          "base_uri": "https://localhost:8080/",
          "height": 190
        }
      },
      "source": [
        "from collections import Counter\n",
        "\n",
        "def tabela_frequencia(numeros):\n",
        "  tabela = Counter(numeros)\n",
        "  freq_numeros = tabela.most_common()\n",
        "  freq_numeros.sort()\n",
        "\n",
        "  print(\"Nota\\tFrequencia\")\n",
        "  \n",
        "  for nota in freq_numeros:\n",
        "    print('{0}\\t{1}'.format(nota[0], nota[1]))\n",
        "  \n",
        "notas = [7, 8, 9, 2, 10, 9, 9, 9, 9, 4, 5, 6, 1, 5, 6, 7, 8, 6, 1, 10] \n",
        "tabela_frequencia(notas)"
      ],
      "execution_count": 0,
      "outputs": [
        {
          "output_type": "stream",
          "text": [
            "Nota\tFrequencia\n",
            "1\t2\n",
            "2\t1\n",
            "4\t1\n",
            "5\t2\n",
            "6\t3\n",
            "7\t2\n",
            "8\t2\n",
            "9\t5\n",
            "10\t2\n"
          ],
          "name": "stdout"
        }
      ]
    },
    {
      "cell_type": "markdown",
      "metadata": {
        "id": "LDwNZvvTvhyw",
        "colab_type": "text"
      },
      "source": [
        "#Caracteres especiais em Python\n",
        "Uma pausa para explicar sobre o **\\t** que aparece no print da funcão tabela_frequencia().\n",
        "\n",
        "    print(\"Nota\\tFrequencia\")\n",
        "\n",
        "O Python, como qualquer outra linguagem de programação, usa caracteres especiais para compor suas saídas. O Python 3.x usa codificação [UTF-8 ](https://www.w3schools.com/charsets/ref_html_utf8.asp) como padrão. Já o Python 2.x usa a codificação [ASCII](https://pt.wikipedia.org/wiki/ASCII) como padrão.\n",
        "\n",
        "Caracteres não imprimíveis como o **\\t**, podem ser expressos usando notação “barra­invertida” (\\).\n",
        "* \\n é o mesmo que new line\n",
        "* \\r é o mesmo que carriage return\n",
        "* \\t é o mesmo que tab\n",
        "* \\b é o mesmo que backspace\n",
        "* \\\\ é o mesmo que \\ \n",
        "* \\x41 é o mesmo que o caractere cujo código hexadecimal é 41 (“A” maiúsculo)"
      ]
    },
    {
      "cell_type": "code",
      "metadata": {
        "id": "KOYZrXqv5ljC",
        "colab_type": "code",
        "outputId": "f3991d67-7ea2-4a7e-f0bf-4cba342d4dc5",
        "colab": {
          "base_uri": "https://localhost:8080/",
          "height": 69
        }
      },
      "source": [
        "print (\"\\x41\")\n",
        "print (\"\\]\")\n",
        "print(\"um\\ttab\")"
      ],
      "execution_count": 0,
      "outputs": [
        {
          "output_type": "stream",
          "text": [
            "A\n",
            "\\]\n",
            "um\ttab\n"
          ],
          "name": "stdout"
        }
      ]
    },
    {
      "cell_type": "markdown",
      "metadata": {
        "id": "pVzGuHWf858j",
        "colab_type": "text"
      },
      "source": [
        "#Formatação de strings em Python\n",
        "Outro assunto que ainda não foi abordo no curso é sobre a formatação de strings, como vocês acabaram de ver no programa acima.\n",
        "\n",
        "    for nota in tabela.most_common():\n",
        "      print('{0}\\t{1}'.format(nota[0], nota[1]))"
      ]
    },
    {
      "cell_type": "markdown",
      "metadata": {
        "id": "Kn4k_ongCP0i",
        "colab_type": "text"
      },
      "source": [
        "##Operador buildin %\n",
        "Uma boa forma para se trabalhar com formatação de string é str % var.\n",
        "\n",
        "Exemplo:"
      ]
    },
    {
      "cell_type": "code",
      "metadata": {
        "id": "KULs57sHCYCi",
        "colab_type": "code",
        "outputId": "a9593d8c-c79b-4334-84e2-89d22162bf8c",
        "colab": {
          "base_uri": "https://localhost:8080/",
          "height": 35
        }
      },
      "source": [
        "a, b, c, d = \"Fulano de Tal\", 20, \"123.456.789-00\", 1.78\n",
        "print('Nome: %s, Idade: %i, CPF: %s e Altura: %f' % (a,b,c, d))"
      ],
      "execution_count": 0,
      "outputs": [
        {
          "output_type": "stream",
          "text": [
            "Nome: Fulano da Silva, Idade: 20, CPF: 123.456.789-00 e Altura: 1.780000\n"
          ],
          "name": "stdout"
        }
      ]
    },
    {
      "cell_type": "markdown",
      "metadata": {
        "id": "LChnGae0CmJC",
        "colab_type": "text"
      },
      "source": [
        "No exemplo acima, ocorre uma atribuição múltipla, isto é, atribui vários valores as vaviáveis ao mesmo tempo. E na hora de formatar a saída da mensagem, foram usados algumas combinações possíveis do operador %, que foram %s, para string, %i, para inteiros e % f para números de ponto flutuante.\n",
        "A tabela abaixo mostra outros usos do operador %, mais detalhes na [documentação oficial](https://docs.python.org/pt-br/3/library/stdtypes.html#printf-style-string-formatting):\n",
        "\n",
        "Operador | Representação\n",
        "--- | ---\n",
        "%s | string\n",
        "%d | decimal\n",
        "%i | integer\n",
        "%f | float\n",
        "%F | float\n",
        "%o | octal\n",
        "%x | hexadecimal lowercase\n",
        "%X | hexadecimal uppercase\n",
        "%c | char (aceita inteiro, ou string simples)\n",
        "%r | converte qualquer objeto Python com repr()\n",
        "%s | converte qualquer objeto Python com str()\n",
        "%a | converte qualquer objeto Python com ascii()\n",
        "%e | float exponential lowercase\n",
        "%E | float exponential uppercase\n",
        "%g | float exponential lowercase precisão menor -4\n",
        "%G | float exponential uppercase precisão menor -4"
      ]
    },
    {
      "cell_type": "markdown",
      "metadata": {
        "id": "1p75SyLEE8qS",
        "colab_type": "text"
      },
      "source": [
        "##O método format()\n",
        "O método *format()* serve para criar uma *string* que contém campos entre chaves a serem substituídos pelos argumentos de *format*."
      ]
    },
    {
      "cell_type": "code",
      "metadata": {
        "id": "gij8o_RBLuHx",
        "colab_type": "code",
        "outputId": "24767dc6-267d-4d1e-97fe-c42bdce416f2",
        "colab": {
          "base_uri": "https://localhost:8080/",
          "height": 35
        }
      },
      "source": [
        "str = \"O filme {0} merece {1} estrelas\"\n",
        "print (str.format(\"Exterminador do Futuro\", 4))"
      ],
      "execution_count": 0,
      "outputs": [
        {
          "output_type": "stream",
          "text": [
            "O filme Exterminador do Futuro merece 4 estrelas\n"
          ],
          "name": "stdout"
        }
      ]
    },
    {
      "cell_type": "markdown",
      "metadata": {
        "id": "QRcoNB85WotA",
        "colab_type": "text"
      },
      "source": [
        "Os campos de substituição na *string* estão associadas aos parâmetros de *format* por numeração dentro das chaves começando em zero para o primeiro parâmetro, 1 para o segundo parâmetro e continuando assim sucessivamente. Nada impede que se use um parâmetro mais de uma vez e fora de sua ordem como no exemplo abaixo:"
      ]
    },
    {
      "cell_type": "code",
      "metadata": {
        "id": "cEx-Rj9IWz0y",
        "colab_type": "code",
        "outputId": "47fe53b4-f563-43ba-af7b-77de9182c6fc",
        "colab": {
          "base_uri": "https://localhost:8080/",
          "height": 35
        }
      },
      "source": [
        "str = \"{0} é um {1} companheiro, {1} companheiro é o {0}, ninguém pode negar...\"\n",
        ">>> str.format(\"Paulo\", \"bom\")"
      ],
      "execution_count": 0,
      "outputs": [
        {
          "output_type": "execute_result",
          "data": {
            "text/plain": [
              "'Paulo é um bom companheiro, bom companheiro é o Paulo, ninguém pode negar...'"
            ]
          },
          "metadata": {
            "tags": []
          },
          "execution_count": 5
        }
      ]
    },
    {
      "cell_type": "markdown",
      "metadata": {
        "id": "UCp698fwXURq",
        "colab_type": "text"
      },
      "source": [
        "Também podemos ter um conjunto de variáveis que iremos imprimir em uma ordem definida por *format*.\n",
        "\n",
        "Reparem que podemos ter variáveis de diferentes tipos."
      ]
    },
    {
      "cell_type": "code",
      "metadata": {
        "id": "WSJu8jl5FVjS",
        "colab_type": "code",
        "outputId": "6e43123d-e9ca-4904-a85d-478f89b1777f",
        "colab": {
          "base_uri": "https://localhost:8080/",
          "height": 35
        }
      },
      "source": [
        "a, b, c = \"Fulano de Tal\", 20, \"123.456.789-00\"\n",
        "print(\"Nome: {}, Idade: {} e CPF: {}\".format(a,b,c))"
      ],
      "execution_count": 0,
      "outputs": [
        {
          "output_type": "stream",
          "text": [
            "Nome: Fulano de Tal, Idade: 20 e CPF: 123.456.789-00\n"
          ],
          "name": "stdout"
        }
      ]
    },
    {
      "cell_type": "markdown",
      "metadata": {
        "id": "fcVIKNiQX5xS",
        "colab_type": "text"
      },
      "source": [
        "Também podemo usar campos nomeados, sendo que estes devem vir depois dos parâmetros simples no método *format*, como  o exemplo abaixo:"
      ]
    },
    {
      "cell_type": "code",
      "metadata": {
        "id": "4-K6p2YaTwzp",
        "colab_type": "code",
        "outputId": "f36fcbd3-8c69-43df-b03c-9f08246ac89f",
        "colab": {
          "base_uri": "https://localhost:8080/",
          "height": 35
        }
      },
      "source": [
        "a, b, c = \"Fulano de Tal\", 20, \"123.456.789-00\"\n",
        "print(\"Nome: {nome}, Idade: {idade} e CPF: {cpf}\".format(nome = a, idade = b, cpf = c))"
      ],
      "execution_count": 0,
      "outputs": [
        {
          "output_type": "stream",
          "text": [
            "Nome: Fulano de Tal, Idade: 20 e CPF: 123.456.789-00\n"
          ],
          "name": "stdout"
        }
      ]
    },
    {
      "cell_type": "markdown",
      "metadata": {
        "id": "CcvNzrv_UD_Z",
        "colab_type": "text"
      },
      "source": [
        "Também pode-se aproveitar das estruturas de dados."
      ]
    },
    {
      "cell_type": "code",
      "metadata": {
        "id": "Eotm-HRWUE0t",
        "colab_type": "code",
        "outputId": "509ea665-a78b-4b81-c83e-0b2963cfe253",
        "colab": {
          "base_uri": "https://localhost:8080/",
          "height": 35
        }
      },
      "source": [
        "t = (\"Fulano de Tal\", 20, \"123.456.789-00\", 1.78)\n",
        "\n",
        "print(\"Nome: {}, Idade: {}, CPF: {} e Altura: {}\".format(*t))"
      ],
      "execution_count": 0,
      "outputs": [
        {
          "output_type": "stream",
          "text": [
            "Nome: Fulano de Tal, Idade: 20, CPF: 123.456.789-00 e Altura: 1.78\n"
          ],
          "name": "stdout"
        }
      ]
    },
    {
      "cell_type": "markdown",
      "metadata": {
        "id": "6pboAkVzUjcV",
        "colab_type": "text"
      },
      "source": [
        "Outra utilidade do uso de parâmetros para formatação é poder formatar o alinhamento e arredondamentos decimais."
      ]
    },
    {
      "cell_type": "code",
      "metadata": {
        "id": "iIfCblIPbYO6",
        "colab_type": "code",
        "outputId": "cd60717e-3544-4d96-be32-7f25b2e1f46b",
        "colab": {
          "base_uri": "https://localhost:8080/",
          "height": 121
        }
      },
      "source": [
        "t = (\"'Fulano da Silva\", 20, \"123.456.789-00\", 1.7862)\n",
        "a, b, c, d = t\n",
        "\n",
        "#idade com 5 espaços em branco, altura com 2 dígitos\n",
        "print(\"Nome: {} Idade: {:5} CPF: {} Altura: {:.2}\".format(*t))\n",
        "\n",
        "#idade com 5 espaços em branco, altura com 2 dígitos\n",
        "print(\"Nome: {} Idade: {:5} CPF: {} Altura: {:.2}\".format(a,b,c,d))\n",
        "\n",
        "#altura com 4 dígitos\n",
        "print(\"Nome: {nome} Idade: {idade} Altura: {altura:.4}\".format(nome = a, idade = b, cpf = c, altura = d))\n",
        "\n",
        "#idade com 5 espaços em branco, altura com dois espaços em branco e com 2 dígitos\n",
        "print(\"CPF: {2} Idade: {1:5}  Altura: {3:2.2}\".format(*t))\n",
        "\n",
        "#idade com 5 espaços em branco, altura com dois espaços em branco e com 4 dígitos\n",
        "print(\"CPF: {2} Idade: {1:5}  Altura: {3:2.4}\".format(a,b,c,d))\n",
        "\n",
        "#idade com 5 espaços em branco e altura com 3 espaços em branco e com 3 dígitos\n",
        "print(\"CPF: {cpf} Idade: {idade:5} Altura: {altura:3.3}\".format(nome = a, idade = b, cpf = c, altura = d))"
      ],
      "execution_count": 0,
      "outputs": [
        {
          "output_type": "stream",
          "text": [
            "Nome: 'Fulano da Silva Idade:    20 CPF: 123.456.789-00 Altura: 1.8\n",
            "Nome: 'Fulano da Silva Idade:    20 CPF: 123.456.789-00 Altura: 1.8\n",
            "Nome: 'Fulano da Silva Idade: 20 Altura: 1.786\n",
            "CPF: 123.456.789-00 Idade:    20  Altura: 1.8\n",
            "CPF: 123.456.789-00 Idade:    20  Altura: 1.786\n",
            "CPF: 123.456.789-00 Idade:    20 Altura: 1.79\n"
          ],
          "name": "stdout"
        }
      ]
    },
    {
      "cell_type": "markdown",
      "metadata": {
        "id": "1DOdambtdGAy",
        "colab_type": "text"
      },
      "source": [
        "E se precisarmos formatar números, como fazer?\n",
        "\n",
        "O mesmo método .format também serve para formatar a saída dos números."
      ]
    },
    {
      "cell_type": "code",
      "metadata": {
        "id": "QRefWT4FdPE6",
        "colab_type": "code",
        "outputId": "8e6890f2-093c-4819-c99e-2af767534f25",
        "colab": {
          "base_uri": "https://localhost:8080/",
          "height": 35
        }
      },
      "source": [
        "#a saída será com 4 dígitos\n",
        "\"{0:4}\".format(-123)"
      ],
      "execution_count": 0,
      "outputs": [
        {
          "output_type": "execute_result",
          "data": {
            "text/plain": [
              "'-123'"
            ]
          },
          "metadata": {
            "tags": []
          },
          "execution_count": 13
        }
      ]
    },
    {
      "cell_type": "code",
      "metadata": {
        "id": "6WGDQFyddaGb",
        "colab_type": "code",
        "outputId": "a454b9cd-bf97-437a-9490-dc902fc13c28",
        "colab": {
          "base_uri": "https://localhost:8080/",
          "height": 35
        }
      },
      "source": [
        "#a saída será com 4 dígitos\n",
        "\"{0:4}\".format(123)"
      ],
      "execution_count": 0,
      "outputs": [
        {
          "output_type": "execute_result",
          "data": {
            "text/plain": [
              "' 123'"
            ]
          },
          "metadata": {
            "tags": []
          },
          "execution_count": 14
        }
      ]
    },
    {
      "cell_type": "markdown",
      "metadata": {
        "id": "5WJJ0jFLdgtW",
        "colab_type": "text"
      },
      "source": [
        "A diferença nesse exemplo acima é que, como não tinha 4 dígitos, foi preenchido com espaço."
      ]
    },
    {
      "cell_type": "code",
      "metadata": {
        "id": "sv8455VBdoe2",
        "colab_type": "code",
        "outputId": "beb8d71a-53b9-4fbf-fdbc-d17f9103f540",
        "colab": {
          "base_uri": "https://localhost:8080/",
          "height": 35
        }
      },
      "source": [
        "#formatando um número de ponto flutuante para 2 casas decimais\n",
        "\"{0:4.2f}\".format(33.3287)"
      ],
      "execution_count": 0,
      "outputs": [
        {
          "output_type": "execute_result",
          "data": {
            "text/plain": [
              "'33.33'"
            ]
          },
          "metadata": {
            "tags": []
          },
          "execution_count": 15
        }
      ]
    },
    {
      "cell_type": "markdown",
      "metadata": {
        "id": "pRZYV5OVtLE7",
        "colab_type": "text"
      },
      "source": [
        "#Continuando com medidas estatísticas"
      ]
    },
    {
      "cell_type": "markdown",
      "metadata": {
        "id": "i0VXbG7xtRh8",
        "colab_type": "text"
      },
      "source": [
        "#Medidas de dispersão\n",
        "Nos próximos cálculos estatísticos, mediremos a dispersão, que nos indica a que distância os números de um conjunto de dados estão da média do conjunto de dados. Aprenderemos a calcular três medidas diferentes de dispersão: faixa, variância e desvio padrão."
      ]
    },
    {
      "cell_type": "markdown",
      "metadata": {
        "id": "0SOzS8DRv8QD",
        "colab_type": "text"
      },
      "source": [
        "#Encontrando a amplitude de um conjunto de números\n",
        "Vamos trabalhar com uma lista com valores de doações ocorridas em um dia, onde A: 100, 60, 70, 900, 100, 200, 500, 500, 503, 600, 1000 e 1200. Descobrimos que a doação média por dia é 477,75. Mas, olhando apenas a média, não temos idéia se todas as doações caíram em uma faixa estreita - digamos entre 400 e 500 - ou se variaram muito mais que isso - digamos entre 60 e 1200, como neste caso. Para uma lista de números, a amplitude é a diferença entre o número mais alto e o número mais baixo. Você pode ter dois grupos de números com a mesma média exata, mas com amplitudes muito diferentes, portanto, conhecer a amplitude preenche mais informações sobre um conjunto de números além do que podemos aprender apenas olhando a média, a mediana e a moda."
      ]
    },
    {
      "cell_type": "code",
      "metadata": {
        "id": "XfuFx8dByVGT",
        "colab_type": "code",
        "outputId": "d36efbd8-ecad-49cd-8ccf-042a142b0880",
        "colab": {
          "base_uri": "https://localhost:8080/",
          "height": 35
        }
      },
      "source": [
        "def amplitude(numbers): \n",
        "  minimo = min(numbers)\n",
        "  maximo = max(numbers)\n",
        "  \n",
        "  # Calculando a amplitude\n",
        "  a = maximo-minimo\n",
        "  return minimo, maximo, a\n",
        "\n",
        "doacoes = [100, 60, 70, 900, 100, 200, 500, 500, 503, 600, 1000, 1200]\n",
        "minimo, maximo, a = amplitude(doacoes)\n",
        "\n",
        "print('Mínimo: {0}, Máximo: {1} e Amplitude: {2}'.format(minimo, maximo, a))"
      ],
      "execution_count": 0,
      "outputs": [
        {
          "output_type": "stream",
          "text": [
            "Mínimo: 60, Máximo: 1200 e Amplitude: 1140\n"
          ],
          "name": "stdout"
        }
      ]
    },
    {
      "cell_type": "markdown",
      "metadata": {
        "id": "oCIqtgGUzkLV",
        "colab_type": "text"
      },
      "source": [
        "O resultado nos mostra que os valores doados foram bem variados, com uma amplitude de 1140, com doações como um mínimo de 60 e um máximo de 1200.\n"
      ]
    },
    {
      "cell_type": "markdown",
      "metadata": {
        "id": "Qf7sI1vZz8rW",
        "colab_type": "text"
      },
      "source": [
        "#Calculando a variância e o desvio padrão\n",
        "A amplitude nos diz a diferença entre os dois extremos em um conjunto de números, mas e se quisermos saber mais sobre como todos os números individuais variam em relação à média? \n",
        "Eles eram todos semelhantes, agrupados perto da média, ou eram todos diferentes, mais próximos dos extremos? Existem duas medidas de dispersão que nos dizem mais sobre uma lista de números: a variância e o desvio padrão."
      ]
    },
    {
      "cell_type": "markdown",
      "metadata": {
        "id": "ctdPTteO0itg",
        "colab_type": "text"
      },
      "source": [
        "##Calculando a variância\n",
        "A variância é uma medida de dispersão que mostra o quão distante cada valor desse conjunto está do valor central (médio).\n",
        "\n",
        "Quanto menor é a variância, mais próximos os valores estão da média; mas quanto maior ela é, mais os valores estão distantes da média.\n",
        "\n",
        "Considere que $x_1, x_2, …, x_n$ são os **n** elementos de uma amostra e que $x_m$ é a média aritmética desses elementos. O cálculo da variância amostral é dado por:\n",
        "\n",
        "$v =\\frac{\\sum(x_i - x_m)^2}{n}$\n",
        "\n",
        "E o cálculo do desvio padrão é dado por:\n",
        "\n",
        "$dp = \\sqrt v$\n",
        "\n",
        "\n",
        "Vamos agora aplicar o calculo da variância e do desvio padrão em um exemplo:\n",
        "\n",
        "Em uma escola, a direção decidiu observar a quantidade de alunos que apresentam todas as notas acima da média em todas as disciplinas. Para analisar melhor, a diretora resolveu montar uma tabela com a quantidade de notas “azuis” em uma amostra de quatro turmas ao longo de um ano. Observe a seguir a tabela organizada pela diretora:\n"
      ]
    }
  ]
}