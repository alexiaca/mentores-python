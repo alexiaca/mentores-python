{
  "nbformat": 4,
  "nbformat_minor": 0,
  "metadata": {
    "colab": {
      "name": "Aula08.ipynb",
      "provenance": [],
      "toc_visible": true,
      "authorship_tag": "ABX9TyP4dX864IZYybuFkb3VK6qF",
      "include_colab_link": true
    },
    "kernelspec": {
      "name": "python3",
      "display_name": "Python 3"
    }
  },
  "cells": [
    {
      "cell_type": "markdown",
      "metadata": {
        "id": "view-in-github",
        "colab_type": "text"
      },
      "source": [
        "<a href=\"https://colab.research.google.com/github/alexiaca/mentores-python/blob/master/Python08.ipynb\" target=\"_parent\"><img src=\"https://colab.research.google.com/assets/colab-badge.svg\" alt=\"Open In Colab\"/></a>"
      ]
    },
    {
      "cell_type": "markdown",
      "metadata": {
        "id": "s6STTG-iOQDL",
        "colab_type": "text"
      },
      "source": [
        "#Álgebra e matemática simbólica com SymPy\n",
        "Os problemas e soluções matemáticos de nossos programas, até agora, envolveram a manipulação de números. Mas tem outra maneira como a matemática é ensinada, aprendida e praticada e isso é\n",
        "em termos de símbolos e as operações entre eles.\n",
        "\n",
        "Pense em todos os xs e ys em um problema típico de álgebra.\n",
        "Nós nos referimos a esse tipo de matemática como matemática simbólica.\n",
        "\n",
        "SymPy é uma biblioteca Python que permite escrever expressões contendo símbolos e executar operações neles. Como esta não é uma biblioteca padrão do Python, é necessário instalá-la antes de poder usá-la em seus programas. Isso, no caso de você usar o Python em seu computador. Como estamos usando aqui no Google Colab, ela já vem instalada e não precisamos nos preocupar com isso."
      ]
    },
    {
      "cell_type": "markdown",
      "metadata": {
        "id": "OmmYiFl1bNaB",
        "colab_type": "text"
      },
      "source": [
        "#Definindo símbolos e operações simbólicas\n",
        "Os símbolos formam os blocos de construção da matemática simbólica. O termo **símbolo** é apenas um nome geral para os **xs**, **ys**, **as** e **bs** usados ​​em equações e expressões algébricas. Criar e usar símbolos nos permitirá fazer as coisas de maneira diferente do que antes. Considere as seguintes instruções:"
      ]
    },
    {
      "cell_type": "code",
      "metadata": {
        "id": "DDHtWXMtbcyK",
        "colab_type": "code",
        "colab": {
          "base_uri": "https://localhost:8080/",
          "height": 35
        },
        "outputId": "f7048463-3de7-4766-9570-186869c776fa"
      },
      "source": [
        "x =1\n",
        "x + x + 1"
      ],
      "execution_count": 1,
      "outputs": [
        {
          "output_type": "execute_result",
          "data": {
            "text/plain": [
              "3"
            ]
          },
          "metadata": {
            "tags": []
          },
          "execution_count": 1
        }
      ]
    },
    {
      "cell_type": "markdown",
      "metadata": {
        "id": "khM0zZRAbrsd",
        "colab_type": "text"
      },
      "source": [
        "Aqui, criamos um rótulo, **x**, para nos referir ao número **1**. Então, quando escrevemos a instrução **x + x + 1**, ela é avaliada para nós e o resultado é **3**. E se você quisesse o resultado em termos do símbolo **x**? Ou seja, se em vez de **3**, você desejasse que o Python lhe dissesse que o resultado é **2x + 1**? Você não pode simplesmente escrever **x + x + 1** sem a instrução **x = 1** porque o Python não saberia a que **x** se refere.\n",
        "\n",
        "A biblioteca SymPy nos permite escrever programas onde podemos expressar e avaliar expressões matemáticas em termos de tais símbolos. Para usar um símbolo em seu programa, você deve criar um objeto da classe Symbol, assim:"
      ]
    },
    {
      "cell_type": "code",
      "metadata": {
        "id": "lPuhEkm2cAdT",
        "colab_type": "code",
        "colab": {}
      },
      "source": [
        "from sympy import Symbol\n",
        "x = Symbol(\"x\")"
      ],
      "execution_count": 0,
      "outputs": []
    },
    {
      "cell_type": "markdown",
      "metadata": {
        "id": "0s6sl1c3fFWK",
        "colab_type": "text"
      },
      "source": [
        "Primeiro, importamos a classe *Symbol* da biblioteca *sympy*. Em seguida, criamos um objeto dessa classe passando **\"x\"** como parâmetro. Observe que esse **\"x\"** é escrito como uma string entre aspas. Agora podemos definir expressões e equações em termos desse símbolo. Por exemplo, aqui está a expressão anterior:"
      ]
    },
    {
      "cell_type": "code",
      "metadata": {
        "id": "Kt2-OtnyfR2q",
        "colab_type": "code",
        "colab": {
          "base_uri": "https://localhost:8080/",
          "height": 35
        },
        "outputId": "786938fa-32c3-42c0-fdc5-fb771f86b4cb"
      },
      "source": [
        "from sympy import Symbol\n",
        "x = Symbol(\"x\")\n",
        "x + x + 1"
      ],
      "execution_count": 9,
      "outputs": [
        {
          "output_type": "execute_result",
          "data": {
            "text/plain": [
              "2*x + 1"
            ]
          },
          "metadata": {
            "tags": []
          },
          "execution_count": 9
        }
      ]
    },
    {
      "cell_type": "markdown",
      "metadata": {
        "id": "-qCoy4NsfzQl",
        "colab_type": "text"
      },
      "source": [
        "Agora, o resultado é dado em termos do símbolo **x**. Na declaração\n",
        "*x = Símbolo (\"x\")*, o **x** no lado esquerdo é uma variável em Python. Esse é o mesmo tipo de variável que usamos anteriormente, mas desta vez se refere ao símbolo **x** em vez de um número - mais especificamente, um objeto *Symbol* representando o símbolo **\"x\"**. Essa variável também não precisa necessariamente corresponder ao símbolo. Poderíamos ter usado uma variável como **a** ou **var1**. Então, podemos escrever o código anterior desta maneira:"
      ]
    },
    {
      "cell_type": "code",
      "metadata": {
        "id": "qE7GfxMxgYm8",
        "colab_type": "code",
        "colab": {
          "base_uri": "https://localhost:8080/",
          "height": 35
        },
        "outputId": "66ae8739-0ebe-4fad-9f24-8a75877c98ff"
      },
      "source": [
        "from sympy import Symbol\n",
        "a = Symbol(\"x\")\n",
        "a + a + 1"
      ],
      "execution_count": 11,
      "outputs": [
        {
          "output_type": "execute_result",
          "data": {
            "text/plain": [
              "2*x + 1"
            ]
          },
          "metadata": {
            "tags": []
          },
          "execution_count": 11
        }
      ]
    },
    {
      "cell_type": "markdown",
      "metadata": {
        "id": "DEsE6a9wgwtk",
        "colab_type": "text"
      },
      "source": [
        "Mas, usar um nome para a variável que não corresponde ao símbolo que ela representará, fica um pouco confuso. Então, recomendo usar o mesmo nome para a variável e para o símbolo a que ela se refere.\n",
        "\n",
        "Para definir vários símbolos, você pode criar objetos *Symbol* separadamente ou usar a função *symbols ()* para defini-los de uma única vez. Digamos que você queira usar três símbolos - **x**, **y** e **z** - em seu programa. Você pode defini-los individualmente, como fizemos anteriormente:"
      ]
    },
    {
      "cell_type": "code",
      "metadata": {
        "id": "efM9mJXThkw5",
        "colab_type": "code",
        "colab": {}
      },
      "source": [
        "from sympy import Symbol\n",
        "x = Symbol(\"x\")\n",
        "y = Symbol(\"y\")\n",
        "z = Symbol(\"z\")"
      ],
      "execution_count": 0,
      "outputs": []
    },
    {
      "cell_type": "markdown",
      "metadata": {
        "id": "Of3NjsGRhu5V",
        "colab_type": "text"
      },
      "source": [
        "Mas um jeito mais curto seria usar a função *symbols ()* para definir todos os três de uma vez:"
      ]
    },
    {
      "cell_type": "code",
      "metadata": {
        "id": "0LaofUPih29y",
        "colab_type": "code",
        "colab": {}
      },
      "source": [
        "from sympy import symbols\n",
        "x, y, z = symbols(\"x, y, z\")"
      ],
      "execution_count": 0,
      "outputs": []
    },
    {
      "cell_type": "markdown",
      "metadata": {
        "id": "S4lAgQdbiQwH",
        "colab_type": "text"
      },
      "source": [
        "Repare, que estávamos importando a função *Symbol* para definirmos um a um. Mas, para definirmos todos em uma única linha, importamos a função *symbols*.\n",
        "\n",
        "Depois de definir os símbolos, você pode executar operações matemáticas básicas usando os mesmos operadores que aprendeu no na primeira aula (+, -, /, * e **). Por exemplo, você pode fazer o seguinte:"
      ]
    },
    {
      "cell_type": "code",
      "metadata": {
        "id": "5JkeTTHriVgC",
        "colab_type": "code",
        "colab": {
          "base_uri": "https://localhost:8080/",
          "height": 35
        },
        "outputId": "bd9c2320-7874-421c-f8c3-4212ec1d5688"
      },
      "source": [
        "from sympy import symbols\n",
        "x, y = symbols(\"x, y\")\n",
        "s = x*y + x*y\n",
        "print (s)"
      ],
      "execution_count": 15,
      "outputs": [
        {
          "output_type": "stream",
          "text": [
            "2*x*y\n"
          ],
          "name": "stdout"
        }
      ]
    },
    {
      "cell_type": "markdown",
      "metadata": {
        "id": "5HoeisOjjKJG",
        "colab_type": "text"
      },
      "source": [
        "Agora, vamos encontrar o produto de x (x + x)."
      ]
    },
    {
      "cell_type": "code",
      "metadata": {
        "id": "E3vVxFK-jQTT",
        "colab_type": "code",
        "colab": {
          "base_uri": "https://localhost:8080/",
          "height": 35
        },
        "outputId": "5cbb5b0d-6207-490c-81f7-a37d50e4bbb2"
      },
      "source": [
        "p = x*(x + x)\n",
        "print (p)"
      ],
      "execution_count": 16,
      "outputs": [
        {
          "output_type": "stream",
          "text": [
            "2*x**2\n"
          ],
          "name": "stdout"
        }
      ]
    },
    {
      "cell_type": "markdown",
      "metadata": {
        "id": "8rjzDCJrjjLO",
        "colab_type": "text"
      },
      "source": [
        "O *SymPy* fará automaticamente esses cálculos simples de adição e multiplicação, mas se inserirmos uma expressão mais complexa, ela permanecerá inalterada. Vamos ver o que acontece quando inserimos a expressão (x + 2) * (x + 3):"
      ]
    },
    {
      "cell_type": "code",
      "metadata": {
        "id": "VKhWAnwPjz0L",
        "colab_type": "code",
        "colab": {
          "base_uri": "https://localhost:8080/",
          "height": 35
        },
        "outputId": "223290f6-5603-46c2-9684-10ea376dc3e0"
      },
      "source": [
        "p = (x + 2)*(x + 3)\n",
        "print (p)"
      ],
      "execution_count": 17,
      "outputs": [
        {
          "output_type": "stream",
          "text": [
            "(x + 2)*(x + 3)\n"
          ],
          "name": "stdout"
        }
      ]
    },
    {
      "cell_type": "markdown",
      "metadata": {
        "id": "SRiUSQPvkAdY",
        "colab_type": "text"
      },
      "source": [
        "Você poderia esperar que o *SymPy* multiplicasse tudo e apresentasse o resultado **x ** 2 + 5 * x + 6**. Em vez disso, a expressão foi impressa exatamente como a inserimos.\n",
        "\n",
        "O *SymPy* simplifica automaticamente apenas as expressões mais básicas e deixa ao programador o trabalho de simplificar a expressão em casos como o anterior. Se você quiser multiplicar a expressão para obter a versão expandida, precisará usar a função *expand ()*, que veremos em seguida."
      ]
    },
    {
      "cell_type": "markdown",
      "metadata": {
        "id": "p5buBtG87FsK",
        "colab_type": "text"
      },
      "source": [
        "#Trabalhando com expressões\n",
        "Agora que sabemos como definir nossas próprias expressões simbólicas, vamos aprender mais sobre como usá-las em nossos programas."
      ]
    },
    {
      "cell_type": "markdown",
      "metadata": {
        "id": "6SWtKDYX7aeK",
        "colab_type": "text"
      },
      "source": [
        "##Fatorado e expandindo expressões\n",
        "A função *factor ()* decompõe uma expressão em seus fatores, e a função *expand ()* expande uma expressão, expressando-a como uma soma dos termos individuais.\n",
        "\n",
        "\n",
        "Vamos testar essas funções com a identidade algébrica básica $x^2 - y^2 = (x + y) (x - y)$. O lado esquerdo da identidade é a versão expandida e o lado direito representa a fatoração correspondente. Como temos dois símbolos na identidade, criaremos dois objetos *Symbol*:\n",
        "\n"
      ]
    },
    {
      "cell_type": "code",
      "metadata": {
        "id": "vvihn36784Fp",
        "colab_type": "code",
        "colab": {
          "base_uri": "https://localhost:8080/",
          "height": 35
        },
        "outputId": "8432643d-f7ec-4c41-a5f4-3515d22d20b4"
      },
      "source": [
        "from sympy import Symbol, factor, expand\n",
        "\n",
        "x = Symbol(\"x\")\n",
        "y = Symbol(\"y\")\n",
        "expr = x**2 - y**2\n",
        "factor(expr)"
      ],
      "execution_count": 19,
      "outputs": [
        {
          "output_type": "execute_result",
          "data": {
            "text/plain": [
              "(x - y)*(x + y)"
            ]
          },
          "metadata": {
            "tags": []
          },
          "execution_count": 19
        }
      ]
    },
    {
      "cell_type": "markdown",
      "metadata": {
        "id": "0bfCA6oA9Sc3",
        "colab_type": "text"
      },
      "source": [
        "Importamos a função *factor ()* e a usamos para converter a versão expandida (no lado esquerdo da identidade) para a versão fatorada (no lado direito).\n",
        "\n",
        "Como esperado, obtemos a versão fatorada da expressão. Agora vamos expandir os fatores para recuperar a versão expandida original."
      ]
    },
    {
      "cell_type": "code",
      "metadata": {
        "id": "J52SEx6Q9r00",
        "colab_type": "code",
        "colab": {
          "base_uri": "https://localhost:8080/",
          "height": 35
        },
        "outputId": "32563c58-4c1c-41fa-8f68-2725f2b3c47f"
      },
      "source": [
        "from sympy import Symbol, factor, expand\n",
        "\n",
        "x = Symbol(\"x\")\n",
        "y = Symbol(\"y\")\n",
        "expr = x**2 - y**2\n",
        "\n",
        "factors = factor(expr)\n",
        "expand(factors)"
      ],
      "execution_count": 23,
      "outputs": [
        {
          "output_type": "execute_result",
          "data": {
            "text/plain": [
              "x**2 - y**2"
            ]
          },
          "metadata": {
            "tags": []
          },
          "execution_count": 23
        }
      ]
    },
    {
      "cell_type": "markdown",
      "metadata": {
        "id": "UEWPDYBL-cBk",
        "colab_type": "text"
      },
      "source": [
        "A função *expand ()*, que também foi importada, foi usada agora para recuperar a versão expandida que é o lado esquerdo da expressão, $x^2 - y^2$.\n",
        "\n",
        "Agora, tentem fatorar a expressão abaixo e depois retornar a versão expandida dela."
      ]
    },
    {
      "cell_type": "markdown",
      "metadata": {
        "id": "tMKohyL1AilP",
        "colab_type": "text"
      },
      "source": [
        "#Exercício 1\n",
        "Escreva um programa que tome a expressão $x^3 + 3x^2y + y^3 = (x + y)^3$, e obtenha a versão fatorada (lado esquerdo) e em seguida retorne a versão expandida dela (lado direito)."
      ]
    },
    {
      "cell_type": "markdown",
      "metadata": {
        "id": "tsbVK8QbBwXa",
        "colab_type": "text"
      },
      "source": [
        "Se você tentar fatorar uma expressão para a qual não há possibilidade de fatoração, a expressão original será retornada pela função *factor ()*. Por exemplo, veja o seguinte:"
      ]
    },
    {
      "cell_type": "code",
      "metadata": {
        "id": "9t_BP61pB4jV",
        "colab_type": "code",
        "colab": {
          "base_uri": "https://localhost:8080/",
          "height": 35
        },
        "outputId": "dd32ed57-be83-4c14-d061-bb2b44951616"
      },
      "source": [
        "expr = x + y + x*y\n",
        "factor(expr)"
      ],
      "execution_count": 24,
      "outputs": [
        {
          "output_type": "execute_result",
          "data": {
            "text/plain": [
              "x*y + x + y"
            ]
          },
          "metadata": {
            "tags": []
          },
          "execution_count": 24
        }
      ]
    },
    {
      "cell_type": "markdown",
      "metadata": {
        "id": "YRGFudgjB8fL",
        "colab_type": "text"
      },
      "source": [
        "Da mesma forma, se você passar uma expressão para *expand ()* que não pode ser expandida ainda mais, ela retornará a mesma expressão."
      ]
    },
    {
      "cell_type": "markdown",
      "metadata": {
        "id": "h2Y6lBuLCIjb",
        "colab_type": "text"
      },
      "source": [
        "#Melhorando a saída\n",
        "Se você deseja que as expressões com as quais trabalhamos pareçam um pouco mais agradáveis ​​ao imprimi-las, use a função *pprint ()*. Essa função imprimirá a expressão de forma mais similar à forma que normalmente escrevemos no papel."
      ]
    },
    {
      "cell_type": "code",
      "metadata": {
        "id": "63MU9LLYCmCZ",
        "colab_type": "code",
        "colab": {
          "base_uri": "https://localhost:8080/",
          "height": 35
        },
        "outputId": "26c891f7-85ea-4f14-f9f0-3f42fad1c24e"
      },
      "source": [
        "expr = x*x + 2*x*y + y*y\n",
        "expr"
      ],
      "execution_count": 26,
      "outputs": [
        {
          "output_type": "execute_result",
          "data": {
            "text/plain": [
              "x**2 + 2*x*y + y**2"
            ]
          },
          "metadata": {
            "tags": []
          },
          "execution_count": 26
        }
      ]
    },
    {
      "cell_type": "markdown",
      "metadata": {
        "id": "5bcfKVuSCv_M",
        "colab_type": "text"
      },
      "source": [
        "Agora, usando a função *pprint ()*."
      ]
    },
    {
      "cell_type": "code",
      "metadata": {
        "id": "pRJGd3QxCy3_",
        "colab_type": "code",
        "colab": {
          "base_uri": "https://localhost:8080/",
          "height": 52
        },
        "outputId": "93ac42c3-faf8-444d-b8ed-f20b8defdfa8"
      },
      "source": [
        "from sympy import pprint\n",
        "expr = x*x + 2*x*y + y*y\n",
        "pprint(expr)"
      ],
      "execution_count": 28,
      "outputs": [
        {
          "output_type": "stream",
          "text": [
            " 2            2\n",
            "x  + 2⋅x⋅y + y \n"
          ],
          "name": "stdout"
        }
      ]
    },
    {
      "cell_type": "markdown",
      "metadata": {
        "id": "aM0wue9BDJym",
        "colab_type": "text"
      },
      "source": [
        "Você também pode alterar a ordem dos termos ao imprimir uma expressão. Considere a expressão $1 + 2x + 2x^2$."
      ]
    },
    {
      "cell_type": "code",
      "metadata": {
        "id": "Fr3v1oZeDocf",
        "colab_type": "code",
        "colab": {
          "base_uri": "https://localhost:8080/",
          "height": 52
        },
        "outputId": "1d1d437b-7070-43c1-a9e7-6ad80e819624"
      },
      "source": [
        "expr = 1 + 2*x + 2*x**2\n",
        "pprint(expr)"
      ],
      "execution_count": 29,
      "outputs": [
        {
          "output_type": "stream",
          "text": [
            "   2          \n",
            "2⋅x  + 2⋅x + 1\n"
          ],
          "name": "stdout"
        }
      ]
    },
    {
      "cell_type": "markdown",
      "metadata": {
        "id": "s2hUdxrCDwDH",
        "colab_type": "text"
      },
      "source": [
        "Os termos são organizados na ordem dos poderes de **x**, do mais alto para o mais baixo. Se você deseja a expressão na ordem oposta, com a maior potência de **x** por último, pode fazer isso com a função *init_printing ()*, da seguinte maneira:"
      ]
    },
    {
      "cell_type": "code",
      "metadata": {
        "id": "oNQrVmk9D8aQ",
        "colab_type": "code",
        "colab": {
          "base_uri": "https://localhost:8080/",
          "height": 52
        },
        "outputId": "8122f6b4-78ce-412c-b2e8-29cef421c38e"
      },
      "source": [
        "from sympy import init_printing\n",
        "init_printing(order=\"rev-lex\")\n",
        "pprint(expr)"
      ],
      "execution_count": 30,
      "outputs": [
        {
          "output_type": "stream",
          "text": [
            "             2\n",
            "1 + 2⋅x + 2⋅x \n"
          ],
          "name": "stdout"
        }
      ]
    },
    {
      "cell_type": "markdown",
      "metadata": {
        "id": "tYCrZBeDUbXF",
        "colab_type": "text"
      },
      "source": [
        "Precisamos importa a função *init_printing ()*, que nos permitirá utilizar o recurso de imprimir a expressão da menor para a maior potência. Para isso, usamos como argumento a palavra-chave *order = \"rev-lex\"*. Isso indica que queremos que o *SymPy* imprima as expressões para que elas estejam na ordem lexicográfica inversa. \n",
        "\n",
        "Embora tenhamos usado a função *init_printing ()* para definir a ordem impressa das expressões, essa função pode ser usada de várias outras maneiras para configurar como uma expressão é impressa. Para obter mais opções e aprender mais sobre impressão no *SymPy*, consulte a [documentação](http://docs.sympy.org/latest/tutorial/printing.html)."
      ]
    },
    {
      "cell_type": "markdown",
      "metadata": {
        "id": "YJEtysQHVjhJ",
        "colab_type": "text"
      },
      "source": [
        "#Imprimindo uma série\n",
        "Considere a seguinte série:\n",
        "\n",
        "$x + \\frac{x^2}{2} + \\frac{x^3}{3} + \\frac{x^4}{4} + ... + \\frac{x^n}{n}$\n",
        "\n",
        "Vamos escrever um programa que solicitará ao usuário que digite um número, **n** e imprima esta série para esse número. Na série, **x** é um símbolo e **n** é uma entrada do tipo inteiro, feita pelo usuário. O nono termo desta série é dado por:\n",
        "\n",
        "$\\frac{x^n}{n}$\n",
        "\n"
      ]
    },
    {
      "cell_type": "code",
      "metadata": {
        "id": "GlaWyRQYZKPh",
        "colab_type": "code",
        "colab": {
          "base_uri": "https://localhost:8080/",
          "height": 104
        },
        "outputId": "261ec7f9-ee28-454c-8831-bf21c3f49819"
      },
      "source": [
        "from sympy import Symbol, pprint, init_printing\n",
        "\n",
        "def print_series(n):\n",
        "  # Inicializando o sistema de impressão com a ordem reversa\n",
        "  init_printing(order=\"rev-lex\")\n",
        "\n",
        "  x = Symbol(\"x\") \n",
        "  series = x\n",
        "\n",
        "  for i in range(2, n+1):\n",
        "    series = series + (x**i)/i \n",
        "  pprint(series)\n",
        "\n",
        "n = input(\"Entre com a quantidade de termos que você deseja na sua série: \")\n",
        "print_series(int(n))"
      ],
      "execution_count": 5,
      "outputs": [
        {
          "output_type": "stream",
          "text": [
            "Entre com a quantidade de termos que você deseja na sua série: 5\n",
            "     2    3    4    5\n",
            "    x    x    x    x \n",
            "x + ── + ── + ── + ──\n",
            "    2    3    4    5 \n"
          ],
          "name": "stdout"
        }
      ]
    },
    {
      "cell_type": "markdown",
      "metadata": {
        "id": "e5Zt6P12bT2c",
        "colab_type": "text"
      },
      "source": [
        "A função *print_series ()* aceita um número inteiro, **n**, como um parâmetro que\n",
        "é o número de termos da série que será impressa. Observe que convertemos a entrada em um número inteiro usando a função *int ()*. Em seguida, chamamos a função *init_printing ()* para definir a série a ser impressa em ordem lexicográfica reversa."
      ]
    },
    {
      "cell_type": "markdown",
      "metadata": {
        "id": "U7-QHzcuca_k",
        "colab_type": "text"
      },
      "source": [
        "#Substituindo valores\n",
        "Vamos ver como podemos usar o *SymPy* para conectar valores a uma expressão algébrica. Isso nos permitirá calcular o valor da expressão para certos valores das variáveis. Considere a expressão matemática $x^2 + 2xy + y^2$, que pode ser definida da seguinte maneira:"
      ]
    },
    {
      "cell_type": "code",
      "metadata": {
        "id": "Bu2e0q1Lc5pW",
        "colab_type": "code",
        "colab": {
          "base_uri": "https://localhost:8080/",
          "height": 35
        },
        "outputId": "c0b0daf0-e3bc-48f0-99f2-6da2acf8198b"
      },
      "source": [
        "from sympy import Symbol\n",
        "x = Symbol('x')\n",
        "y = Symbol('y')\n",
        "exp = x*x + x*y + x*y + y*y\n",
        "print (exp)"
      ],
      "execution_count": 11,
      "outputs": [
        {
          "output_type": "stream",
          "text": [
            "x**2 + 2*x*y + y**2\n"
          ],
          "name": "stdout"
        }
      ]
    },
    {
      "cell_type": "markdown",
      "metadata": {
        "id": "uh102hBodbRM",
        "colab_type": "text"
      },
      "source": [
        "Se você quiser avaliar esta expressão, poderá substituir os números pelos símbolos usando o método *subs ()*."
      ]
    },
    {
      "cell_type": "code",
      "metadata": {
        "id": "OXJbmCswdobL",
        "colab_type": "code",
        "colab": {
          "base_uri": "https://localhost:8080/",
          "height": 35
        },
        "outputId": "5359f84e-20a1-4378-a878-563126110991"
      },
      "source": [
        "from sympy import Symbol\n",
        "x = Symbol(\"x\")\n",
        "y = Symbol(\"y\")\n",
        "expr = x*x + x*y + x*y + y*y\n",
        "res = expr.subs({x:1, y:2})\n",
        "print (res)"
      ],
      "execution_count": 1,
      "outputs": [
        {
          "output_type": "stream",
          "text": [
            "9\n"
          ],
          "name": "stdout"
        }
      ]
    },
    {
      "cell_type": "markdown",
      "metadata": {
        "id": "WB932ytQeDwA",
        "colab_type": "text"
      },
      "source": [
        "Primeiro, criamos um novo rótulo para se referir à expressão e depois chamamos o método *subs ()*. O argumento para o método *subs ()* é um [dicionário](https://www.w3schools.com/python/python_dictionaries.asp) Python, que contém os dois rótulos de símbolos e os valores numéricos que queremos substituir para cada símbolo.\n",
        "\n",
        "Você também pode expressar um símbolo em termos de outro e substituí-lo adequadamente, usando o método *subs ()*. Por exemplo, se você soubesse que\n",
        "**x = 1 - y**, veja como você pode avaliar a expressão anterior:"
      ]
    },
    {
      "cell_type": "code",
      "metadata": {
        "id": "LA_GIQlRe6Uh",
        "colab_type": "code",
        "colab": {
          "base_uri": "https://localhost:8080/",
          "height": 35
        },
        "outputId": "259a4a00-82f1-484e-aa41-3cbfa4a33c39"
      },
      "source": [
        "res = expr.subs({x:1-y})\n",
        "print (res)"
      ],
      "execution_count": 16,
      "outputs": [
        {
          "output_type": "stream",
          "text": [
            "y**2 + 2*y*(-y + 1) + (-y + 1)**2\n"
          ],
          "name": "stdout"
        }
      ]
    },
    {
      "cell_type": "markdown",
      "metadata": {
        "id": "UIrQEawOfaq7",
        "colab_type": "text"
      },
      "source": [
        "Se você deseja que o resultado seja mais simplificado, como por exemplo, se houver termos que se cancelem, podemos usar a função *simplify () * do *SymPy*, da seguinte maneira:"
      ]
    },
    {
      "cell_type": "code",
      "metadata": {
        "id": "9ubVoNHjfj6g",
        "colab_type": "code",
        "colab": {
          "base_uri": "https://localhost:8080/",
          "height": 35
        },
        "outputId": "460b57d8-591e-4ff4-9d87-658cbcc68fff"
      },
      "source": [
        "from sympy import Symbol, simplify\n",
        "\n",
        "x = Symbol(\"x\")\n",
        "y = Symbol(\"y\")\n",
        "expr = x*x + x*y + x*y + y*y\n",
        "expr_subs = expr.subs({x:1-y})\n",
        "res = simplify (expr_subs)\n",
        "\n",
        "print (res)"
      ],
      "execution_count": 17,
      "outputs": [
        {
          "output_type": "stream",
          "text": [
            "1\n"
          ],
          "name": "stdout"
        }
      ]
    },
    {
      "cell_type": "markdown",
      "metadata": {
        "id": "fa_Ud9BdgMVQ",
        "colab_type": "text"
      },
      "source": [
        "Importamos além da função *Symbol*, a função *simplify*. Criamos um novo rótulo, *expr_subs*, para nos referir ao resultado da substituição de **x = 1 - y** na expressão. Depois atribuimos a **res**, a simplificação dos termos. O resultado é **1**, porque os outros termos da expressão se cancelam.\n",
        "\n",
        "A função *simplify () *também pode simplificar expressões complicadas, como aquelas que incluem logaritmos e funções trigonométricas, mas não abordaremos isso aqui."
      ]
    },
    {
      "cell_type": "markdown",
      "metadata": {
        "id": "nYpPe-AehPRp",
        "colab_type": "text"
      },
      "source": [
        "#Cálculo do valor de uma série\n",
        "Voltando ao nosso programa que exibia uma série, agora, vamos alterar nosso programa para que ele encontre o valor da série para um valor específico de **x**."
      ]
    },
    {
      "cell_type": "code",
      "metadata": {
        "id": "cSPtBl7akbXm",
        "colab_type": "code",
        "colab": {
          "base_uri": "https://localhost:8080/",
          "height": 138
        },
        "outputId": "b8ad3cd9-a02f-4d05-8699-29b1426ba112"
      },
      "source": [
        "from sympy import Symbol, pprint, init_printing\n",
        "\n",
        "def print_series(n, x_value):\n",
        "  # Inicializando o sistema de impressão com a ordem reversa\n",
        "  init_printing(order=\"rev-lex\")\n",
        "  x = Symbol(\"x\")\n",
        "  series = x\n",
        "  \n",
        "  for i in range(2, n+1):\n",
        "    series = series + (x**i)/i \n",
        "  \n",
        "  pprint(series)\n",
        "  \n",
        "  # Calculando a série para o valor de x_value\n",
        "  series_value = series.subs({x:x_value})\n",
        "  print(\"O resultada da série para o valor de x = {0} é {1}\".format(x_value, series_value))\n",
        "\n",
        "n = input(\"Entre com a quantidade de termos que você deseja na sua série: \")\n",
        "\n",
        "x_value = input(\"Informe um valor para x na série que você criou: \") \n",
        "print_series(int(n), float(x_value))"
      ],
      "execution_count": 8,
      "outputs": [
        {
          "output_type": "stream",
          "text": [
            "Entre com a quantidade de termos que você deseja na sua série: 5\n",
            "Informe um valor para x na série que você criou: 1.2\n",
            "     2    3    4    5\n",
            "    x    x    x    x \n",
            "x + ── + ── + ── + ──\n",
            "    2    3    4    5 \n",
            "O resultada da série para o valor de x = 1.2 é 3.51206400000000\n"
          ],
          "name": "stdout"
        }
      ]
    },
    {
      "cell_type": "markdown",
      "metadata": {
        "id": "YyS-dQ8Snkch",
        "colab_type": "text"
      },
      "source": [
        "#Exercício 2\n",
        "Formate a saída do programa acima para que tenha 3 casas decimais."
      ]
    },
    {
      "cell_type": "markdown",
      "metadata": {
        "id": "C9lge40GnuYg",
        "colab_type": "text"
      },
      "source": [
        "#Convertendo uma string para uma expressão matemática\n",
        "Até o momento, escrevemos expressões individuais toda vez que queremos fazer algo com elas. Mas, e se desejarmos escrever um programa mais geral, que possa manipular qualquer expressão fornecida pelo usuário? Para isso, precisamos de uma maneira de converter a entrada de um usuário, que é uma *string*, em algo em que podemos executar operações matemáticas. A função *Symify ()* do *SymPy* nos ajuda a fazer exatamente isso. A função é chamada porque converte a *string* em um objeto *SymPy* que torna possível aplicar as funções do *SymPy* à entrada. Vamos ver um exemplo:"
      ]
    },
    {
      "cell_type": "code",
      "metadata": {
        "id": "djPU7xVtoohg",
        "colab_type": "code",
        "colab": {
          "base_uri": "https://localhost:8080/",
          "height": 52
        },
        "outputId": "311525f2-572b-4dd6-b09d-1a24b00b1814"
      },
      "source": [
        "from sympy import sympify\n",
        "\n",
        "expr = input(\"Entre com uma expressão matemática: \")\n",
        "expr = sympify(expr)\n",
        "print (expr)\n"
      ],
      "execution_count": 14,
      "outputs": [
        {
          "output_type": "stream",
          "text": [
            "Entre com uma expressão matemática: x**2 + 3*x + x**3 + 2*x\n",
            "x**3 + x**2 + 5*x\n"
          ],
          "name": "stdout"
        }
      ]
    },
    {
      "cell_type": "markdown",
      "metadata": {
        "id": "BZ5jis-xtyxZ",
        "colab_type": "text"
      },
      "source": [
        "Você pode executar várias operações nesta expressão, como por exemplo, multiplicar a expressão por 2:\n"
      ]
    },
    {
      "cell_type": "code",
      "metadata": {
        "id": "KBnWQQZwpy84",
        "colab_type": "code",
        "colab": {
          "base_uri": "https://localhost:8080/",
          "height": 35
        },
        "outputId": "2551041f-bb49-4d34-986c-bea701094d06"
      },
      "source": [
        "print(2*expr)"
      ],
      "execution_count": 15,
      "outputs": [
        {
          "output_type": "stream",
          "text": [
            "2*x**3 + 2*x**2 + 10*x\n"
          ],
          "name": "stdout"
        }
      ]
    },
    {
      "cell_type": "markdown",
      "metadata": {
        "id": "Gu37yTHIqj3X",
        "colab_type": "text"
      },
      "source": [
        "#Exercício 3\n",
        "Agora, experimente o programa anterior, com a seguinte expressão: x**2 + 3*x + x**3 + 2x.\n",
        "\n",
        "Explique o que aconteceu no programa e como fazê-lo funcionar como desejado."
      ]
    },
    {
      "cell_type": "code",
      "metadata": {
        "id": "_9X9IfkqskKl",
        "colab_type": "code",
        "colab": {}
      },
      "source": [
        "from sympy import sympify\n",
        "\n",
        "expr = input(\"Entre com uma expressão matemática: \")"
      ],
      "execution_count": 0,
      "outputs": []
    },
    {
      "cell_type": "markdown",
      "metadata": {
        "id": "tU1kZ3SGseFB",
        "colab_type": "text"
      },
      "source": [
        "#Tratamento de erros\n",
        "Aprendemos na aula sobre variáveis e tratamento de excessões, a usar a opção try...except, para evitarmos que o programa quebre no meio de sua execução, porque algum usuário fez uma entrada de dados errada. \n",
        "\n",
        "![alt text](https://github.com/alexiaca/mentores-python/blob/master/erro.png?raw=true)\n",
        "\n",
        "Na imagem acima, um erro do tipo **ValueError** ocorreu porque tentamos converter uma string que possui um número do tipo float (como “2.5”) para um tipo int, e isso não é possível.O certo seria, primeiro você converter a string em um número do tipo float e em seguida, convertê-lo para um tipo inteiro. Mas, o que quero chamar atenção aqui, é para o tipo de erro **ValueError**. \n",
        "\n",
        "Quando temos uma mensagem de erro e verificamos o tipo de erro que ocorreu, isto permitirá trabalhar com esse erro para evitar que o programa quebre durante sua execução. Então, por isso usamos o **ValueError** na opção except, como no código abaixo. Para evitar um erro com valores incorretos.\n"
      ]
    },
    {
      "cell_type": "code",
      "metadata": {
        "id": "8oOrBarYAnGG",
        "colab_type": "code",
        "colab": {
          "base_uri": "https://localhost:8080/",
          "height": 52
        },
        "outputId": "bacaad24-0a60-4f33-9914-e2fb1c23f30a"
      },
      "source": [
        "try:\n",
        "  num = float(input('Informe um número: '))\n",
        "  print (\"O número informado foi: \", num)\n",
        "except ValueError:\n",
        "  print ('Você informou um número inválido.')"
      ],
      "execution_count": 19,
      "outputs": [
        {
          "output_type": "stream",
          "text": [
            "Informe um número: 3\n",
            "O número informado foi:  3.0\n"
          ],
          "name": "stdout"
        }
      ]
    },
    {
      "cell_type": "markdown",
      "metadata": {
        "id": "I8-d4tFEDNqu",
        "colab_type": "text"
      },
      "source": [
        "Voltando ao Exercício 3, teremos um erro do tipo **SympifyError**. Neste caso, o dado informado pelo usuário não pode ser tratado pelo Sumpify, e por isso ocorre esse erro. Para tratar esse erro, usaremos o bloco try...except, entretanto, usaremos o tipo **SympifyError** na opção except.\n",
        "Vamos ver como fica."
      ]
    },
    {
      "cell_type": "code",
      "metadata": {
        "id": "iYETnzKfDsV0",
        "colab_type": "code",
        "colab": {
          "base_uri": "https://localhost:8080/",
          "height": 52
        },
        "outputId": "1e1b143a-7eab-486f-f849-9250617c6624"
      },
      "source": [
        "from sympy import sympify\n",
        "from sympy.core.sympify import SympifyError\n",
        "\n",
        "expr = input(\"Entre com uma expressão matemática: \")\n",
        "\n",
        "try:\n",
        "  expr = sympify(expr) \n",
        "except SympifyError:\n",
        "  print(\"Expressão inválida!\")"
      ],
      "execution_count": 22,
      "outputs": [
        {
          "output_type": "stream",
          "text": [
            "Entre com uma expressão matemática: x**2 + 3*x + x**3 + 2x\n",
            "Expressão inválida!\n"
          ],
          "name": "stdout"
        }
      ]
    },
    {
      "cell_type": "markdown",
      "metadata": {
        "id": "CbpA5a49KpVM",
        "colab_type": "text"
      },
      "source": [
        "As duas alterações no programa anterior são que importamos a classe de exceção *SympifyError* do módulo *sympy.core.sympify* e chamamos a função *sympify ()* em um bloco try ... except. Agora, se houver uma exceção *SympifyError*, uma mensagem de erro será impressa."
      ]
    },
    {
      "cell_type": "markdown",
      "metadata": {
        "id": "TmlvN0XuNhT2",
        "colab_type": "text"
      },
      "source": [
        "#Resolvendo equações\n",
        "\n",
        "A função *solve ()* do *SymPy* pode ser usada para encontrar soluções para equações. Quando você insere uma expressão com um símbolo representando uma variável, como **x**, *solve ()* calcula o valor desse símbolo. Essa função sempre faz seu cálculo assumindo que a expressão inserida é igual a zero, ou seja, imprime o valor que, quando substituído pelo símbolo, torna a expressão inteira igual a zero. Vamos começar com uma equação simples, **x - 5 = 7**. Se quisermos usar a função *solve ()* para encontrar o valor de **x**, primeiro precisamos tornar um lado da equação igual a zero (**x - 5 - 7 = 0**)."
      ]
    },
    {
      "cell_type": "code",
      "metadata": {
        "id": "m4KHgJjyPsjc",
        "colab_type": "code",
        "colab": {
          "base_uri": "https://localhost:8080/",
          "height": 35
        },
        "outputId": "d3aa7edb-4a9c-4a2a-db98-29e0534f3b27"
      },
      "source": [
        "from sympy import Symbol, solve\n",
        "\n",
        "x = Symbol(\"x\")\n",
        "expr = x - 5 - 7\n",
        "resp = solve(expr)\n",
        "print (resp)"
      ],
      "execution_count": 25,
      "outputs": [
        {
          "output_type": "stream",
          "text": [
            "[12]\n"
          ],
          "name": "stdout"
        }
      ]
    },
    {
      "cell_type": "markdown",
      "metadata": {
        "id": "3eAm7UX9QFUF",
        "colab_type": "text"
      },
      "source": [
        "Quando usamos *solve ()*, ele calcula o valor de **x** como **12**, porque esse é o valor que torna a expressão (**x - 5 - 7**) igual a zero.\n",
        "\n",
        "\n",
        "Observe que o resultado **12** é retornado em uma lista. Sabemos disso porque o 12 está entre colchetes \"[]\". Uma equação pode ter várias soluções - por exemplo, uma equação quadrática tem duas soluções. Nesse caso, a lista terá todas as soluções como seus membros. Você também pode solicitar que a função *solve ()* retorne o resultado para que cada membro seja um dicionário. Lembre-se, um dicionário tem seus elementos separados por vírgula e estão dentro de chaves \"{}\". Cada dicionário é composto pelo símbolo (nome da variável) e seu valor (a solução). Isso é especialmente útil ao resolver equações simultâneas em que temos mais de uma variável a ser resolvida porque, quando a solução é retornada como um dicionário, sabemos qual solução corresponde a qual variável.\n"
      ]
    },
    {
      "cell_type": "markdown",
      "metadata": {
        "id": "NzqBUk1pVr5p",
        "colab_type": "text"
      },
      "source": [
        "#Resolução de equações quadráticas\n",
        "Na [segunda aula de Python](https://colab.research.google.com/github/alexiaca/mentores-python/blob/master/Python02.ipynb), sobre variáveis e tratamento de exceções, resolvemos algumas equações quadráticas escrevendo as fórmulas para as duas raízes e substituindo os valores das constantes a, b e c. Agora, aprenderemos como podemos usar a função *solve ()* do *SymPy* para encontrar as raízes sem precisar escrever as fórmulas. "
      ]
    },
    {
      "cell_type": "code",
      "metadata": {
        "id": "QPz4bGIZgj4z",
        "colab_type": "code",
        "colab": {
          "base_uri": "https://localhost:8080/",
          "height": 35
        },
        "outputId": "9d49686b-242b-452e-e1a6-a53df8cdd5d2"
      },
      "source": [
        "from sympy import solve\n",
        "x = Symbol(\"x\")\n",
        "expr = x**2 + 5*x + 4\n",
        "raizes = solve(expr, dict=True)\n",
        "print (raizes)"
      ],
      "execution_count": 27,
      "outputs": [
        {
          "output_type": "stream",
          "text": [
            "[{x: -4}, {x: -1}]\n"
          ],
          "name": "stdout"
        }
      ]
    },
    {
      "cell_type": "markdown",
      "metadata": {
        "id": "bqWuPfx_3mEl",
        "colab_type": "text"
      },
      "source": [
        "Aqui, neste exemplo, o segundo argumento que você vê na função *solve ()*, **dict = True** especifica que queremos que o resultado seja retornado como uma lista de dicionários Python.\n",
        "\n",
        "Cada solução, na lista retornada, é um dicionário usando o símbolo como uma chave correspondente ao seu valor correspondente."
      ]
    },
    {
      "cell_type": "markdown",
      "metadata": {
        "id": "JjWgZvSTE45R",
        "colab_type": "text"
      },
      "source": [
        "#Resolução de uma variável em termos de outros\n",
        "Além de encontrar as raízes das equações, podemos tirar proveito da matemática simbólica para usar a função *solve ()* para expressar uma variável em uma equação em termos das outras. Vamos ver como podemos encontrar as raízes da equação quadrática genérica **$ax^2 + bx + c = 0$**. Para fazer isso, definiremos **x** e três símbolos adicionais **a**, **b** e **c**, que correspondem às três constantes:"
      ]
    },
    {
      "cell_type": "code",
      "metadata": {
        "id": "5zDbWANZE6vn",
        "colab_type": "code",
        "colab": {}
      },
      "source": [
        "from sympy import Symbol, solve\n",
        "x = Symbol(\"x\")\n",
        "a = Symbol(\"a\")\n",
        "b = Symbol(\"b\") \n",
        "c = Symbol(\"c\")"
      ],
      "execution_count": 0,
      "outputs": []
    },
    {
      "cell_type": "markdown",
      "metadata": {
        "id": "klUP1_U0FCCt",
        "colab_type": "text"
      },
      "source": [
        "Em seguida, escrevemos a expressão correspondente à equação e usamos a função *solve ()*."
      ]
    },
    {
      "cell_type": "code",
      "metadata": {
        "id": "XK3amV19FDFO",
        "colab_type": "code",
        "colab": {
          "base_uri": "https://localhost:8080/",
          "height": 35
        },
        "outputId": "fb13a1d5-c7a5-4041-a4fc-eecf23480436"
      },
      "source": [
        "expr = a*x*x + b*x + c\n",
        "resp = solve(expr, x, dict=True)\n",
        "print (resp)"
      ],
      "execution_count": 31,
      "outputs": [
        {
          "output_type": "stream",
          "text": [
            "[{x: (-b + sqrt(-4*a*c + b**2))/(2*a)}, {x: -(b + sqrt(-4*a*c + b**2))/(2*a)}]\n"
          ],
          "name": "stdout"
        }
      ]
    },
    {
      "cell_type": "markdown",
      "metadata": {
        "id": "3cAshoKtFPuN",
        "colab_type": "text"
      },
      "source": [
        "Neste exemplo tivemos que incluir um argumento a mais, **x**, para a função *solve ()*. Como temos mais de um símbolo na equação, precisamos informar para *solve ()* qual símbolo deve ser resolvido e é isso que indicamos passando **x** como o segundo argumento. Como esperávamos, *solve ()* imprime a fórmula quadrática: a fórmula genérica para encontrar o(s) valor(es) de **x** em uma expressão polinomial.\n",
        "\n",
        "Para ficar claro, quando usamos o método *solve ()* em uma equação com mais de um símbolo, especificamos o símbolo a ser resolvido como o segundo argumento e o terceiro argumento passa a especificar como queremos que os resultados sejam retornados, isto é, através de um dicionário Python."
      ]
    },
    {
      "cell_type": "markdown",
      "metadata": {
        "id": "DJqXH1JA5zmY",
        "colab_type": "text"
      },
      "source": [
        "#Exercício 4\n",
        "Escreva um programa que receba duas expressões matemática e devolva o produto entre ambas. O programa deverá receber as expressões como dados de entrada do usuário, tratar os erros e ao final, devolver o resultado da multiplicação entre as expressões."
      ]
    }
  ]
}