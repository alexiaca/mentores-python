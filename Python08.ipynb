{
  "nbformat": 4,
  "nbformat_minor": 0,
  "metadata": {
    "colab": {
      "name": "Aula08.ipynb",
      "provenance": [],
      "toc_visible": true,
      "authorship_tag": "ABX9TyP/tYlwNHWj8hIwVktCLisp",
      "include_colab_link": true
    },
    "kernelspec": {
      "name": "python3",
      "display_name": "Python 3"
    }
  },
  "cells": [
    {
      "cell_type": "markdown",
      "metadata": {
        "id": "view-in-github",
        "colab_type": "text"
      },
      "source": [
        "<a href=\"https://colab.research.google.com/github/alexiaca/mentores-python/blob/master/Python08.ipynb\" target=\"_parent\"><img src=\"https://colab.research.google.com/assets/colab-badge.svg\" alt=\"Open In Colab\"/></a>"
      ]
    },
    {
      "cell_type": "markdown",
      "metadata": {
        "id": "s6STTG-iOQDL",
        "colab_type": "text"
      },
      "source": [
        "#Álgebra e matemática simbólica com SymPy\n",
        "Os problemas e soluções matemáticos de nossos programas, até agora, envolveram a manipulação de números. Mas tem outra maneira como a matemática é ensinada, aprendida e praticada e isso é\n",
        "em termos de símbolos e as operações entre eles.\n",
        "\n",
        "Pense em todos os xs e ys em um problema típico de álgebra.\n",
        "Nós nos referimos a esse tipo de matemática como matemática simbólica.\n",
        "\n",
        "SymPy é uma biblioteca Python que permite escrever expressões contendo símbolos e executar operações neles. Como esta não é uma biblioteca padrão do Python, é necessário instalá-la antes de poder usá-la em seus programas. Isso, no caso de você usar o Python em seu computador. Como estamos usando aqui no Google Colab, ela já vem instalada e não precisamos nos preocupar com isso."
      ]
    },
    {
      "cell_type": "markdown",
      "metadata": {
        "id": "OmmYiFl1bNaB",
        "colab_type": "text"
      },
      "source": [
        "#Definindo símbolos e operações simbólicas\n",
        "Os símbolos formam os blocos de construção da matemática simbólica. O termo **símbolo** é apenas um nome geral para os **xs**, **ys**, **as** e **bs** usados ​​em equações e expressões algébricas. Criar e usar símbolos nos permitirá fazer as coisas de maneira diferente do que antes. Considere as seguintes instruções:"
      ]
    },
    {
      "cell_type": "code",
      "metadata": {
        "id": "DDHtWXMtbcyK",
        "colab_type": "code",
        "colab": {
          "base_uri": "https://localhost:8080/",
          "height": 35
        },
        "outputId": "f7048463-3de7-4766-9570-186869c776fa"
      },
      "source": [
        "x =1\n",
        "x + x + 1"
      ],
      "execution_count": 1,
      "outputs": [
        {
          "output_type": "execute_result",
          "data": {
            "text/plain": [
              "3"
            ]
          },
          "metadata": {
            "tags": []
          },
          "execution_count": 1
        }
      ]
    },
    {
      "cell_type": "markdown",
      "metadata": {
        "id": "khM0zZRAbrsd",
        "colab_type": "text"
      },
      "source": [
        "Aqui, criamos um rótulo, **x**, para nos referir ao número **1**. Então, quando escrevemos a instrução **x + x + 1**, ela é avaliada para nós e o resultado é **3**. E se você quisesse o resultado em termos do símbolo **x**? Ou seja, se em vez de **3**, você desejasse que o Python lhe dissesse que o resultado é **2x + 1**? Você não pode simplesmente escrever **x + x + 1** sem a instrução **x = 1** porque o Python não saberia a que **x** se refere.\n",
        "\n",
        "A biblioteca SymPy nos permite escrever programas onde podemos expressar e avaliar expressões matemáticas em termos de tais símbolos. Para usar um símbolo em seu programa, você deve criar um objeto da classe Symbol, assim:"
      ]
    },
    {
      "cell_type": "code",
      "metadata": {
        "id": "lPuhEkm2cAdT",
        "colab_type": "code",
        "colab": {}
      },
      "source": [
        "from sympy import Symbol\n",
        "x = Symbol(\"x\")"
      ],
      "execution_count": 0,
      "outputs": []
    },
    {
      "cell_type": "markdown",
      "metadata": {
        "id": "0s6sl1c3fFWK",
        "colab_type": "text"
      },
      "source": [
        "Primeiro, importamos a classe *Symbol* da biblioteca *sympy*. Em seguida, criamos um objeto dessa classe passando **\"x\"** como parâmetro. Observe que esse **\"x\"** é escrito como uma string entre aspas. Agora podemos definir expressões e equações em termos desse símbolo. Por exemplo, aqui está a expressão anterior:"
      ]
    },
    {
      "cell_type": "code",
      "metadata": {
        "id": "Kt2-OtnyfR2q",
        "colab_type": "code",
        "colab": {
          "base_uri": "https://localhost:8080/",
          "height": 35
        },
        "outputId": "786938fa-32c3-42c0-fdc5-fb771f86b4cb"
      },
      "source": [
        "from sympy import Symbol\n",
        "x = Symbol(\"x\")\n",
        "x + x + 1"
      ],
      "execution_count": 9,
      "outputs": [
        {
          "output_type": "execute_result",
          "data": {
            "text/plain": [
              "2*x + 1"
            ]
          },
          "metadata": {
            "tags": []
          },
          "execution_count": 9
        }
      ]
    },
    {
      "cell_type": "markdown",
      "metadata": {
        "id": "-qCoy4NsfzQl",
        "colab_type": "text"
      },
      "source": [
        "Agora, o resultado é dado em termos do símbolo **x**. Na declaração\n",
        "*x = Símbolo (\"x\")*, o **x** no lado esquerdo é uma variável em Python. Esse é o mesmo tipo de variável que usamos anteriormente, mas desta vez se refere ao símbolo **x** em vez de um número - mais especificamente, um objeto *Symbol* representando o símbolo **\"x\"**. Essa variável também não precisa necessariamente corresponder ao símbolo. Poderíamos ter usado uma variável como **a** ou **var1**. Então, podemos escrever o código anterior desta maneira:"
      ]
    },
    {
      "cell_type": "code",
      "metadata": {
        "id": "qE7GfxMxgYm8",
        "colab_type": "code",
        "colab": {
          "base_uri": "https://localhost:8080/",
          "height": 35
        },
        "outputId": "66ae8739-0ebe-4fad-9f24-8a75877c98ff"
      },
      "source": [
        "from sympy import Symbol\n",
        "a = Symbol(\"x\")\n",
        "a + a + 1"
      ],
      "execution_count": 11,
      "outputs": [
        {
          "output_type": "execute_result",
          "data": {
            "text/plain": [
              "2*x + 1"
            ]
          },
          "metadata": {
            "tags": []
          },
          "execution_count": 11
        }
      ]
    },
    {
      "cell_type": "markdown",
      "metadata": {
        "id": "DEsE6a9wgwtk",
        "colab_type": "text"
      },
      "source": [
        "Mas, usar um nome para a variável que não corresponde ao símbolo que ela representará, fica um pouco confuso. Então, recomendo usar o mesmo nome para a variável e para o símbolo a que ela se refere.\n",
        "\n",
        "Para definir vários símbolos, você pode criar objetos *Symbol* separadamente ou usar a função *symbols ()* para defini-los de uma única vez. Digamos que você queira usar três símbolos - **x**, **y** e **z** - em seu programa. Você pode defini-los individualmente, como fizemos anteriormente:"
      ]
    },
    {
      "cell_type": "code",
      "metadata": {
        "id": "efM9mJXThkw5",
        "colab_type": "code",
        "colab": {}
      },
      "source": [
        "from sympy import Symbol\n",
        "x = Symbol(\"x\")\n",
        "y = Symbol(\"y\")\n",
        "z = Symbol(\"z\")"
      ],
      "execution_count": 0,
      "outputs": []
    },
    {
      "cell_type": "markdown",
      "metadata": {
        "id": "Of3NjsGRhu5V",
        "colab_type": "text"
      },
      "source": [
        "Mas um jeito mais curto seria usar a função *symbols ()* para definir todos os três de uma vez:"
      ]
    },
    {
      "cell_type": "code",
      "metadata": {
        "id": "0LaofUPih29y",
        "colab_type": "code",
        "colab": {}
      },
      "source": [
        "from sympy import symbols\n",
        "x, y, z = symbols(\"x, y, z\")"
      ],
      "execution_count": 0,
      "outputs": []
    },
    {
      "cell_type": "markdown",
      "metadata": {
        "id": "S4lAgQdbiQwH",
        "colab_type": "text"
      },
      "source": [
        "Repare, que estávamos importando a função *Symbol* para definirmos um a um. Mas, para definirmos todos em uma única linha, importamos a função *symbols*.\n",
        "\n",
        "Depois de definir os símbolos, você pode executar operações matemáticas básicas usando os mesmos operadores que aprendeu no na primeira aula (+, -, /, * e **). Por exemplo, você pode fazer o seguinte:"
      ]
    },
    {
      "cell_type": "code",
      "metadata": {
        "id": "5JkeTTHriVgC",
        "colab_type": "code",
        "colab": {
          "base_uri": "https://localhost:8080/",
          "height": 35
        },
        "outputId": "bd9c2320-7874-421c-f8c3-4212ec1d5688"
      },
      "source": [
        "from sympy import symbols\n",
        "x, y = symbols(\"x, y\")\n",
        "s = x*y + x*y\n",
        "print (s)"
      ],
      "execution_count": 15,
      "outputs": [
        {
          "output_type": "stream",
          "text": [
            "2*x*y\n"
          ],
          "name": "stdout"
        }
      ]
    },
    {
      "cell_type": "markdown",
      "metadata": {
        "id": "5HoeisOjjKJG",
        "colab_type": "text"
      },
      "source": [
        "Agora, vamos encontrar o produto de x (x + x)."
      ]
    },
    {
      "cell_type": "code",
      "metadata": {
        "id": "E3vVxFK-jQTT",
        "colab_type": "code",
        "colab": {
          "base_uri": "https://localhost:8080/",
          "height": 35
        },
        "outputId": "5cbb5b0d-6207-490c-81f7-a37d50e4bbb2"
      },
      "source": [
        "p = x*(x + x)\n",
        "print (p)"
      ],
      "execution_count": 16,
      "outputs": [
        {
          "output_type": "stream",
          "text": [
            "2*x**2\n"
          ],
          "name": "stdout"
        }
      ]
    },
    {
      "cell_type": "markdown",
      "metadata": {
        "id": "8rjzDCJrjjLO",
        "colab_type": "text"
      },
      "source": [
        "O *SymPy* fará automaticamente esses cálculos simples de adição e multiplicação, mas se inserirmos uma expressão mais complexa, ela permanecerá inalterada. Vamos ver o que acontece quando inserimos a expressão (x + 2) * (x + 3):"
      ]
    },
    {
      "cell_type": "code",
      "metadata": {
        "id": "VKhWAnwPjz0L",
        "colab_type": "code",
        "colab": {
          "base_uri": "https://localhost:8080/",
          "height": 35
        },
        "outputId": "223290f6-5603-46c2-9684-10ea376dc3e0"
      },
      "source": [
        "p = (x + 2)*(x + 3)\n",
        "print (p)"
      ],
      "execution_count": 17,
      "outputs": [
        {
          "output_type": "stream",
          "text": [
            "(x + 2)*(x + 3)\n"
          ],
          "name": "stdout"
        }
      ]
    },
    {
      "cell_type": "markdown",
      "metadata": {
        "id": "SRiUSQPvkAdY",
        "colab_type": "text"
      },
      "source": [
        "Você poderia esperar que o *SymPy* multiplicasse tudo e apresentasse o resultado **x ** 2 + 5 * x + 6**. Em vez disso, a expressão foi impressa exatamente como a inserimos.\n",
        "\n",
        "O *SymPy* simplifica automaticamente apenas as expressões mais básicas e deixa ao programador o trabalho de simplificar a expressão em casos como o anterior. Se você quiser multiplicar a expressão para obter a versão expandida, precisará usar a função *expand ()*, que veremos em seguida."
      ]
    },
    {
      "cell_type": "markdown",
      "metadata": {
        "id": "p5buBtG87FsK",
        "colab_type": "text"
      },
      "source": [
        "#Trabalhando com expressões\n",
        "Agora que sabemos como definir nossas próprias expressões simbólicas, vamos aprender mais sobre como usá-las em nossos programas."
      ]
    },
    {
      "cell_type": "markdown",
      "metadata": {
        "id": "6SWtKDYX7aeK",
        "colab_type": "text"
      },
      "source": [
        "##Fatorado e expandindo expressões\n",
        "A função *factor ()* decompõe uma expressão em seus fatores, e a função *expand ()* expande uma expressão, expressando-a como uma soma dos termos individuais.\n",
        "\n",
        "\n",
        "Vamos testar essas funções com a identidade algébrica básica $x^2 - y^2 = (x + y) (x - y)$. O lado esquerdo da identidade é a versão expandida e o lado direito representa a fatoração correspondente. Como temos dois símbolos na identidade, criaremos dois objetos *Symbol*:\n",
        "\n"
      ]
    },
    {
      "cell_type": "code",
      "metadata": {
        "id": "vvihn36784Fp",
        "colab_type": "code",
        "colab": {
          "base_uri": "https://localhost:8080/",
          "height": 35
        },
        "outputId": "8432643d-f7ec-4c41-a5f4-3515d22d20b4"
      },
      "source": [
        "from sympy import Symbol, factor, expand\n",
        "\n",
        "x = Symbol(\"x\")\n",
        "y = Symbol(\"y\")\n",
        "expr = x**2 - y**2\n",
        "factor(expr)"
      ],
      "execution_count": 19,
      "outputs": [
        {
          "output_type": "execute_result",
          "data": {
            "text/plain": [
              "(x - y)*(x + y)"
            ]
          },
          "metadata": {
            "tags": []
          },
          "execution_count": 19
        }
      ]
    },
    {
      "cell_type": "markdown",
      "metadata": {
        "id": "0bfCA6oA9Sc3",
        "colab_type": "text"
      },
      "source": [
        "Importamos a função *factor ()* e a usamos para converter a versão expandida (no lado esquerdo da identidade) para a versão fatorada (no lado direito).\n",
        "\n",
        "Como esperado, obtemos a versão fatorada da expressão. Agora vamos expandir os fatores para recuperar a versão expandida original."
      ]
    },
    {
      "cell_type": "code",
      "metadata": {
        "id": "J52SEx6Q9r00",
        "colab_type": "code",
        "colab": {
          "base_uri": "https://localhost:8080/",
          "height": 35
        },
        "outputId": "32563c58-4c1c-41fa-8f68-2725f2b3c47f"
      },
      "source": [
        "from sympy import Symbol, factor, expand\n",
        "\n",
        "x = Symbol(\"x\")\n",
        "y = Symbol(\"y\")\n",
        "expr = x**2 - y**2\n",
        "\n",
        "factors = factor(expr)\n",
        "expand(factors)"
      ],
      "execution_count": 23,
      "outputs": [
        {
          "output_type": "execute_result",
          "data": {
            "text/plain": [
              "x**2 - y**2"
            ]
          },
          "metadata": {
            "tags": []
          },
          "execution_count": 23
        }
      ]
    },
    {
      "cell_type": "markdown",
      "metadata": {
        "id": "UEWPDYBL-cBk",
        "colab_type": "text"
      },
      "source": [
        "A função *expand ()*, que também foi importada, foi usada agora para recuperar a versão expandida que é o lado esquerdo da expressão, $x^2 - y^2$.\n",
        "\n",
        "Agora, tentem fatorar a expressão abaixo e depois retornar a versão expandida dela."
      ]
    },
    {
      "cell_type": "markdown",
      "metadata": {
        "id": "tMKohyL1AilP",
        "colab_type": "text"
      },
      "source": [
        "#Exercício 1\n",
        "Escreva um programa que tome a expressão $x^3 + 3x^2y + y^3 = (x + y)^3$, e obtenha a versão fatorada (lado esquerdo) e em seguida retorne a versão expandida dela (lado direito)."
      ]
    },
    {
      "cell_type": "markdown",
      "metadata": {
        "id": "tsbVK8QbBwXa",
        "colab_type": "text"
      },
      "source": [
        "Se você tentar fatorar uma expressão para a qual não há possibilidade de fatoração, a expressão original será retornada pela função *factor ()*. Por exemplo, veja o seguinte:"
      ]
    },
    {
      "cell_type": "code",
      "metadata": {
        "id": "9t_BP61pB4jV",
        "colab_type": "code",
        "colab": {
          "base_uri": "https://localhost:8080/",
          "height": 35
        },
        "outputId": "dd32ed57-be83-4c14-d061-bb2b44951616"
      },
      "source": [
        "expr = x + y + x*y\n",
        "factor(expr)"
      ],
      "execution_count": 24,
      "outputs": [
        {
          "output_type": "execute_result",
          "data": {
            "text/plain": [
              "x*y + x + y"
            ]
          },
          "metadata": {
            "tags": []
          },
          "execution_count": 24
        }
      ]
    },
    {
      "cell_type": "markdown",
      "metadata": {
        "id": "YRGFudgjB8fL",
        "colab_type": "text"
      },
      "source": [
        "Da mesma forma, se você passar uma expressão para *expand ()* que não pode ser expandida ainda mais, ela retornará a mesma expressão."
      ]
    },
    {
      "cell_type": "markdown",
      "metadata": {
        "id": "h2Y6lBuLCIjb",
        "colab_type": "text"
      },
      "source": [
        "#Melhorando a saída\n",
        "Se você deseja que as expressões com as quais trabalhamos pareçam um pouco mais agradáveis ​​ao imprimi-las, use a função *pprint ()*. Essa função imprimirá a expressão de forma mais similar à forma que normalmente escrevemos no papel."
      ]
    },
    {
      "cell_type": "code",
      "metadata": {
        "id": "63MU9LLYCmCZ",
        "colab_type": "code",
        "colab": {
          "base_uri": "https://localhost:8080/",
          "height": 35
        },
        "outputId": "26c891f7-85ea-4f14-f9f0-3f42fad1c24e"
      },
      "source": [
        "expr = x*x + 2*x*y + y*y\n",
        "expr"
      ],
      "execution_count": 26,
      "outputs": [
        {
          "output_type": "execute_result",
          "data": {
            "text/plain": [
              "x**2 + 2*x*y + y**2"
            ]
          },
          "metadata": {
            "tags": []
          },
          "execution_count": 26
        }
      ]
    },
    {
      "cell_type": "markdown",
      "metadata": {
        "id": "5bcfKVuSCv_M",
        "colab_type": "text"
      },
      "source": [
        "Agora, usando a função *pprint ()*."
      ]
    },
    {
      "cell_type": "code",
      "metadata": {
        "id": "pRJGd3QxCy3_",
        "colab_type": "code",
        "colab": {
          "base_uri": "https://localhost:8080/",
          "height": 52
        },
        "outputId": "93ac42c3-faf8-444d-b8ed-f20b8defdfa8"
      },
      "source": [
        "from sympy import pprint\n",
        "expr = x*x + 2*x*y + y*y\n",
        "pprint(expr)"
      ],
      "execution_count": 28,
      "outputs": [
        {
          "output_type": "stream",
          "text": [
            " 2            2\n",
            "x  + 2⋅x⋅y + y \n"
          ],
          "name": "stdout"
        }
      ]
    },
    {
      "cell_type": "markdown",
      "metadata": {
        "id": "aM0wue9BDJym",
        "colab_type": "text"
      },
      "source": [
        "Você também pode alterar a ordem dos termos ao imprimir uma expressão. Considere a expressão $1 + 2x + 2x^2$."
      ]
    },
    {
      "cell_type": "code",
      "metadata": {
        "id": "Fr3v1oZeDocf",
        "colab_type": "code",
        "colab": {
          "base_uri": "https://localhost:8080/",
          "height": 52
        },
        "outputId": "1d1d437b-7070-43c1-a9e7-6ad80e819624"
      },
      "source": [
        "expr = 1 + 2*x + 2*x**2\n",
        "pprint(expr)"
      ],
      "execution_count": 29,
      "outputs": [
        {
          "output_type": "stream",
          "text": [
            "   2          \n",
            "2⋅x  + 2⋅x + 1\n"
          ],
          "name": "stdout"
        }
      ]
    },
    {
      "cell_type": "markdown",
      "metadata": {
        "id": "s2hUdxrCDwDH",
        "colab_type": "text"
      },
      "source": [
        "Os termos são organizados na ordem dos poderes de **x**, do mais alto para o mais baixo. Se você deseja a expressão na ordem oposta, com a maior potência de **x** por último, pode fazer isso com a função *init_printing ()*, da seguinte maneira:"
      ]
    },
    {
      "cell_type": "code",
      "metadata": {
        "id": "oNQrVmk9D8aQ",
        "colab_type": "code",
        "colab": {
          "base_uri": "https://localhost:8080/",
          "height": 52
        },
        "outputId": "8122f6b4-78ce-412c-b2e8-29cef421c38e"
      },
      "source": [
        "from sympy import init_printing\n",
        "init_printing(order=\"rev-lex\")\n",
        "pprint(expr)"
      ],
      "execution_count": 30,
      "outputs": [
        {
          "output_type": "stream",
          "text": [
            "             2\n",
            "1 + 2⋅x + 2⋅x \n"
          ],
          "name": "stdout"
        }
      ]
    },
    {
      "cell_type": "markdown",
      "metadata": {
        "id": "tYCrZBeDUbXF",
        "colab_type": "text"
      },
      "source": [
        "Precisamos importa a função *init_printing ()*, que nos permitirá utilizar o recurso de imprimir a expressão da menor para a maior potência. Para isso, usamos como argumento a palavra-chave *order = \"rev-lex\"*. Isso indica que queremos que o *SymPy* imprima as expressões para que elas estejam na ordem lexicográfica inversa. \n",
        "\n",
        "Embora tenhamos usado a função *init_printing ()* para definir a ordem impressa das expressões, essa função pode ser usada de várias outras maneiras para configurar como uma expressão é impressa. Para obter mais opções e aprender mais sobre impressão no *SymPy*, consulte a [documentação](http://docs.sympy.org/latest/tutorial/printing.html)."
      ]
    },
    {
      "cell_type": "markdown",
      "metadata": {
        "id": "YJEtysQHVjhJ",
        "colab_type": "text"
      },
      "source": [
        "#Imprimindo uma série\n",
        "Considere a seguinte série:\n",
        "\n",
        "$x + \\frac{x^2}{2} + \\frac{x^3}{3} + \\frac{x^4}{4} + ... + \\frac{x^n}{n}$\n",
        "\n",
        "Vamos escrever um programa que solicitará ao usuário que digite um número, **n** e imprima esta série para esse número. Na série, **x** é um símbolo e **n** é uma entrada do tipo inteiro, feita pelo usuário. O nono termo desta série é dado por:\n",
        "\n",
        "$\\frac{x^n}{n}$\n",
        "\n"
      ]
    },
    {
      "cell_type": "code",
      "metadata": {
        "id": "GlaWyRQYZKPh",
        "colab_type": "code",
        "colab": {
          "base_uri": "https://localhost:8080/",
          "height": 104
        },
        "outputId": "e93e6514-d642-4eda-ca82-bce5f8ac03a3"
      },
      "source": [
        "from sympy import Symbol, pprint, init_printing\n",
        "\n",
        "def print_series(n):\n",
        "  # Initialize printing system with reverse order \n",
        "  init_printing(order='rev-lex')\n",
        "\n",
        "  x = Symbol(\"x\") \n",
        "  series = x\n",
        "\n",
        "  for i in range(2, n+1):\n",
        "    series = series + (x**i)/i \n",
        "  pprint(series)\n",
        "\n",
        "n = input('Enter the number of terms you want in the series: ')\n",
        "print_series(int(n))"
      ],
      "execution_count": 5,
      "outputs": [
        {
          "output_type": "stream",
          "text": [
            "Enter the number of terms you want in the series: 5\n",
            "     2    3    4    5\n",
            "    x    x    x    x \n",
            "x + ── + ── + ── + ──\n",
            "    2    3    4    5 \n"
          ],
          "name": "stdout"
        }
      ]
    },
    {
      "cell_type": "markdown",
      "metadata": {
        "id": "e5Zt6P12bT2c",
        "colab_type": "text"
      },
      "source": [
        "A função *print_series ()* aceita um número inteiro, **n**, como um parâmetro que\n",
        "é o número de termos da série que será impressa. Observe que convertemos a entrada em um número inteiro usando a função *int ()*. Em seguida, chamamos a função *init_printing ()* para definir a série a ser impressa em ordem lexicográfica reversa."
      ]
    },
    {
      "cell_type": "markdown",
      "metadata": {
        "id": "U7-QHzcuca_k",
        "colab_type": "text"
      },
      "source": [
        "#Substituindo valores\n",
        "Vamos ver como podemos usar o *SymPy* para conectar valores a uma expressão algébrica. Isso nos permitirá calcular o valor da expressão para certos valores das variáveis. Considere a expressão matemática $x^2 + 2xy + y^2$, que pode ser definida da seguinte maneira:"
      ]
    },
    {
      "cell_type": "code",
      "metadata": {
        "id": "Bu2e0q1Lc5pW",
        "colab_type": "code",
        "colab": {
          "base_uri": "https://localhost:8080/",
          "height": 35
        },
        "outputId": "c0b0daf0-e3bc-48f0-99f2-6da2acf8198b"
      },
      "source": [
        "from sympy import Symbol\n",
        "x = Symbol('x')\n",
        "y = Symbol('y')\n",
        "exp = x*x + x*y + x*y + y*y\n",
        "print (exp)"
      ],
      "execution_count": 11,
      "outputs": [
        {
          "output_type": "stream",
          "text": [
            "x**2 + 2*x*y + y**2\n"
          ],
          "name": "stdout"
        }
      ]
    },
    {
      "cell_type": "markdown",
      "metadata": {
        "id": "uh102hBodbRM",
        "colab_type": "text"
      },
      "source": [
        "Se você quiser avaliar esta expressão, poderá substituir os números pelos símbolos usando o método *subs ()*."
      ]
    },
    {
      "cell_type": "code",
      "metadata": {
        "id": "OXJbmCswdobL",
        "colab_type": "code",
        "colab": {
          "base_uri": "https://localhost:8080/",
          "height": 35
        },
        "outputId": "875b6df4-23c7-48eb-ce32-e7561f2b5069"
      },
      "source": [
        "from sympy import Symbol\n",
        "x = Symbol('x')\n",
        "y = Symbol('y')\n",
        "expr = x*x + x*y + x*y + y*y\n",
        "res = expr.subs({x:1, y:2})\n",
        "print (res)"
      ],
      "execution_count": 14,
      "outputs": [
        {
          "output_type": "stream",
          "text": [
            "9\n"
          ],
          "name": "stdout"
        }
      ]
    },
    {
      "cell_type": "markdown",
      "metadata": {
        "id": "WB932ytQeDwA",
        "colab_type": "text"
      },
      "source": [
        "Primeiro, criamos um novo rótulo para se referir à expressão e depois chamamos o método *subs ()*. O argumento para o método *subs ()* é um [dicionário](https://www.w3schools.com/python/python_dictionaries.asp) Python, que contém os dois rótulos de símbolos e os valores numéricos que queremos substituir para cada símbolo.\n",
        "\n",
        "Você também pode expressar um símbolo em termos de outro e substituí-lo adequadamente, usando o método *subs ()*. Por exemplo, se você soubesse que\n",
        "**x = 1 - y**, veja como você pode avaliar a expressão anterior:"
      ]
    },
    {
      "cell_type": "code",
      "metadata": {
        "id": "LA_GIQlRe6Uh",
        "colab_type": "code",
        "colab": {
          "base_uri": "https://localhost:8080/",
          "height": 35
        },
        "outputId": "259a4a00-82f1-484e-aa41-3cbfa4a33c39"
      },
      "source": [
        "res = expr.subs({x:1-y})\n",
        "print (res)"
      ],
      "execution_count": 16,
      "outputs": [
        {
          "output_type": "stream",
          "text": [
            "y**2 + 2*y*(-y + 1) + (-y + 1)**2\n"
          ],
          "name": "stdout"
        }
      ]
    },
    {
      "cell_type": "markdown",
      "metadata": {
        "id": "UIrQEawOfaq7",
        "colab_type": "text"
      },
      "source": [
        "Se você deseja que o resultado seja mais simplificado, como por exemplo, se houver termos que se cancelem, podemos usar a função *simplify () * do *SymPy*, da seguinte maneira:"
      ]
    },
    {
      "cell_type": "code",
      "metadata": {
        "id": "9ubVoNHjfj6g",
        "colab_type": "code",
        "colab": {
          "base_uri": "https://localhost:8080/",
          "height": 35
        },
        "outputId": "460b57d8-591e-4ff4-9d87-658cbcc68fff"
      },
      "source": [
        "from sympy import Symbol, simplify\n",
        "\n",
        "x = Symbol('x')\n",
        "y = Symbol('y')\n",
        "expr = x*x + x*y + x*y + y*y\n",
        "expr_subs = expr.subs({x:1-y})\n",
        "res = simplify (expr_subs)\n",
        "\n",
        "print (res)"
      ],
      "execution_count": 17,
      "outputs": [
        {
          "output_type": "stream",
          "text": [
            "1\n"
          ],
          "name": "stdout"
        }
      ]
    },
    {
      "cell_type": "markdown",
      "metadata": {
        "id": "fa_Ud9BdgMVQ",
        "colab_type": "text"
      },
      "source": [
        "Importamos além da função *Symbol*, a função *simplify*. Criamos um novo rótulo, *expr_subs*, para nos referir ao resultado da substituição de **x = 1 - y** na expressão. Depois atribuimos a **res**, a simplificação dos termos. O resultado é **1**, porque os outros termos da expressão se cancelam.\n",
        "\n",
        "A função *simplify () *também pode simplificar expressões complicadas, como aquelas que incluem logaritmos e funções trigonométricas, mas não abordaremos isso aqui."
      ]
    },
    {
      "cell_type": "markdown",
      "metadata": {
        "id": "nYpPe-AehPRp",
        "colab_type": "text"
      },
      "source": [
        "#Cálculo do valor de uma série\n"
      ]
    }
  ]
}