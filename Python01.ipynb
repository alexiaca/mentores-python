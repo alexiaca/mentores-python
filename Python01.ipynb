{
  "nbformat": 4,
  "nbformat_minor": 0,
  "metadata": {
    "colab": {
      "name": "Python01.ipynb",
      "provenance": [],
      "toc_visible": true,
      "authorship_tag": "ABX9TyOUNDEM1F1JTQiSokhwzRRV",
      "include_colab_link": true
    },
    "kernelspec": {
      "name": "python3",
      "display_name": "Python 3"
    }
  },
  "cells": [
    {
      "cell_type": "markdown",
      "metadata": {
        "id": "view-in-github",
        "colab_type": "text"
      },
      "source": [
        "<a href=\"https://colab.research.google.com/github/alexiaca/mentores-python/blob/master/Python01.ipynb\" target=\"_parent\"><img src=\"https://colab.research.google.com/assets/colab-badge.svg\" alt=\"Open In Colab\"/></a>"
      ]
    },
    {
      "cell_type": "markdown",
      "metadata": {
        "id": "bHIlw65UJh59",
        "colab_type": "text"
      },
      "source": [
        "# Introdução à Linguagem de Programação Python\n",
        "Python é uma linguagem de programação fácil de aprender, que possui uma leitura fácil e consequentemente uma fácil compreensão do seu código quando comparado a outras linguagens de programação. É utilizada em diversas universidades ao redor do mundo em cursos introdutórios à programação de computadores."
      ]
    },
    {
      "cell_type": "markdown",
      "metadata": {
        "id": "pH17PKkN6Tnk",
        "colab_type": "text"
      },
      "source": [
        "## Por que aprender a programar computadores?\n",
        "\n",
        "Programação promove a criatividade, o raciocínio e a solução de problemas. O programador tem a oportunidade de criar alguma coisa do nada, usando a lógica para construindo um programa que o computador pode executar e quando as coisas não funcionarem como esperado, ele pode usar a solução de problemas para descobrir o que deu errado. Programar é uma atividade divertida, às vezes desafiadora e ocasionalmente frustrante. As habilidades aprendidas com ela podem ser úteis tanto na escola como no trabalho, mesmo que sua carreira não tenha nada a ver com computadores."
      ]
    },
    {
      "cell_type": "markdown",
      "metadata": {
        "id": "molFxCf-Avgn",
        "colab_type": "text"
      },
      "source": [
        "##Como aprender a programar?\n",
        "\n",
        "Como qualquer coisa que você tenta pela primeira vez, é sempre melhor começar com o básico. \n",
        "Experimente cada um dos exemplos disponibilizados no curso, para que você possa ver como funcionam. Lembre-se de quando melhor você aprender o básico, mais fácil fica entender os conceitos mais complicados.\n",
        "\n",
        "Quando você achar alguma coisa frustrante ou muito difícil, tente isso:\n",
        "1. Divida o problema em partes menores. Tente entender o que um pequeno pedaço do código faz ou pense somente sobre pedaço difícil do código (tente se concentrar em uma pequena parte do código ao invés de tentar entender tudo de uma vez).\n",
        "2. Se isso não te ajudar, as vezes é melhor deixar de lado por um tempo e retomar em um outro momento.\n",
        "3. Lembre-se, aprender a programar é um maravilhoso exercício mental e os resultados podem ser muito gratificantes."
      ]
    },
    {
      "cell_type": "markdown",
      "metadata": {
        "id": "kj7XzKgmCGNg",
        "colab_type": "text"
      },
      "source": [
        "#Começando com Python\n",
        "Grande parte dos programadores, quando estavam aprendendo uma linguagem de programação, começaram com um \"Hello \n",
        "world!\". Basicamente, é uma trandição quando se está começando a conhecer uma linguagem de programação. \n",
        "Então, não vamos mudar está tradição."
      ]
    },
    {
      "cell_type": "code",
      "metadata": {
        "id": "W2rk4l6yCzO5",
        "colab_type": "code",
        "colab": {}
      },
      "source": [
        "print (\"Hello World!\")"
      ],
      "execution_count": 0,
      "outputs": []
    },
    {
      "cell_type": "markdown",
      "metadata": {
        "id": "ff5KB-WODM3Y",
        "colab_type": "text"
      },
      "source": [
        "Se você executar está única linha de código, poderá ver na sua saída a mensagem que está entre aspas.\n",
        "Depois que você executar, mude o código do programa para que ele imprima a mensagem: \n",
        "*Projeto Mentores - Linguagem de programação Python para soluções de problemas*"
      ]
    },
    {
      "cell_type": "markdown",
      "metadata": {
        "id": "RNfKUIB4K5uq",
        "colab_type": "text"
      },
      "source": [
        "#Operações matemáticas básicas\n",
        "Python pode ser usado como uma calculadora, fazendo cálculos simples. Basta digitar uma expressão matemática e o Python realizará o cálculo para você. Você pode realizar **adições** e **subtrações** utilizando os operadores **“+”** e **“-”**.\n",
        "Vejamos alguns exemplos:"
      ]
    },
    {
      "cell_type": "code",
      "metadata": {
        "id": "q0arsyiEYzLY",
        "colab_type": "code",
        "colab": {}
      },
      "source": [
        "1 + 3"
      ],
      "execution_count": 0,
      "outputs": []
    },
    {
      "cell_type": "code",
      "metadata": {
        "id": "dERPWR6qZHos",
        "colab_type": "code",
        "colab": {}
      },
      "source": [
        "4567 + 345"
      ],
      "execution_count": 0,
      "outputs": []
    },
    {
      "cell_type": "code",
      "metadata": {
        "id": "5EvVzdLVZKFT",
        "colab_type": "code",
        "colab": {}
      },
      "source": [
        "827 - 27"
      ],
      "execution_count": 0,
      "outputs": []
    },
    {
      "cell_type": "code",
      "metadata": {
        "id": "z17SDIDIZMH4",
        "colab_type": "code",
        "colab": {}
      },
      "source": [
        "827 - 27 + 45"
      ],
      "execution_count": 0,
      "outputs": []
    },
    {
      "cell_type": "markdown",
      "metadata": {
        "id": "3kcv3TxJZVEF",
        "colab_type": "text"
      },
      "source": [
        "**Dica:** Para resolver as questões proprostas, selecione a célula texto referente a questão e em seguida clique no botão **+Code**, localizado no topo esquerdo da barra de ferramentas. Será adicionado uma célula código, onde você deverá escrever o código para a resolução do problema.\n",
        "\n",
        "**Observação:** Os problemas a seguir foram retirados da apostila disponível no site da OBMEP, [Iniciação à Aritmética de Abramo Hefez](http://www.obmep.org.br/docs/apostila1.pdf).\n",
        "\n",
        "Agora, resolva esses problemas:"
      ]
    },
    {
      "cell_type": "markdown",
      "metadata": {
        "id": "OQMkUQd36HDJ",
        "colab_type": "text"
      },
      "source": [
        "#Exercício 1:\n",
        " Quantos números naturais existem maiores ou iguais a 37 e menores ou iguais a 72?"
      ]
    },
    {
      "cell_type": "code",
      "metadata": {
        "id": "ts-8o_aGRQG9",
        "colab_type": "code",
        "colab": {}
      },
      "source": [
        ""
      ],
      "execution_count": 0,
      "outputs": []
    },
    {
      "cell_type": "markdown",
      "metadata": {
        "id": "vZ7KnxyrbnYg",
        "colab_type": "text"
      },
      "source": [
        "#Exercício 2:\n",
        "Quantos números naturais existem em cada um dos intervalos (32, 75], [32, 75) e (32, 75)?"
      ]
    },
    {
      "cell_type": "code",
      "metadata": {
        "id": "0W498ZWDRRSd",
        "colab_type": "code",
        "colab": {}
      },
      "source": [
        ""
      ],
      "execution_count": 0,
      "outputs": []
    },
    {
      "cell_type": "markdown",
      "metadata": {
        "id": "J0JkeAhsfoNF",
        "colab_type": "text"
      },
      "source": [
        "#Exercício 3:\n",
        "Descubra quantos múltiplos de 7 existem entre 14 e 7 000, inclusive."
      ]
    },
    {
      "cell_type": "code",
      "metadata": {
        "id": "-gj7FBf-RSD2",
        "colab_type": "code",
        "colab": {}
      },
      "source": [
        ""
      ],
      "execution_count": 0,
      "outputs": []
    },
    {
      "cell_type": "markdown",
      "metadata": {
        "id": "5858lzJye0Jy",
        "colab_type": "text"
      },
      "source": [
        "Para multiplicar, use o operador de **multiplicação (*)**."
      ]
    },
    {
      "cell_type": "code",
      "metadata": {
        "id": "KENjEmfZe34l",
        "colab_type": "code",
        "colab": {}
      },
      "source": [
        "3 * 2"
      ],
      "execution_count": 0,
      "outputs": []
    },
    {
      "cell_type": "code",
      "metadata": {
        "id": "SjUT91r0e8kl",
        "colab_type": "code",
        "colab": {}
      },
      "source": [
        "3.5 * 1.5"
      ],
      "execution_count": 0,
      "outputs": []
    },
    {
      "cell_type": "markdown",
      "metadata": {
        "id": "rOFdM8urfG5X",
        "colab_type": "text"
      },
      "source": [
        "Agora, resolva esses problemas:\n",
        "#Exercício 4:\n",
        " Quantos números naturais existem maiores ou iguais a 37 e menores ou iguais a 72?"
      ]
    },
    {
      "cell_type": "markdown",
      "metadata": {
        "id": "R1XOYNebfIYN",
        "colab_type": "text"
      },
      "source": [
        "#Exercício 5: \n",
        "Considere dois múltiplos de um mesmo número natural, por exemplo 6 × 12 e 3 × 12, qual é o resultado da soma desses dois números?"
      ]
    },
    {
      "cell_type": "code",
      "metadata": {
        "id": "cqULsBf3RUA6",
        "colab_type": "code",
        "colab": {}
      },
      "source": [
        ""
      ],
      "execution_count": 0,
      "outputs": []
    },
    {
      "cell_type": "markdown",
      "metadata": {
        "id": "AXbVg6wn9mBL",
        "colab_type": "text"
      },
      "source": [
        "Para dividir, use o operador de **divisão (/)**."
      ]
    },
    {
      "cell_type": "code",
      "metadata": {
        "id": "nbqZxiZY9vYU",
        "colab_type": "code",
        "colab": {}
      },
      "source": [
        "3 / 2"
      ],
      "execution_count": 0,
      "outputs": []
    },
    {
      "cell_type": "code",
      "metadata": {
        "id": "cnRrVZd69zTQ",
        "colab_type": "code",
        "colab": {}
      },
      "source": [
        "4 / 2"
      ],
      "execution_count": 0,
      "outputs": []
    },
    {
      "cell_type": "markdown",
      "metadata": {
        "id": "DcbKxRUf-h9E",
        "colab_type": "text"
      },
      "source": [
        "Como você pode ver, quando pedimos ao Python para realizar uma divisão, ele retorna a parti fracionada dos números. Se você quiser que o resultado seja um inteiro, com qualquer valor decimal removido, você pode usar o operador **parte inteira (//)**.\n"
      ]
    },
    {
      "cell_type": "code",
      "metadata": {
        "id": "qaUXjjv8-jcJ",
        "colab_type": "code",
        "colab": {}
      },
      "source": [
        "3 // 2"
      ],
      "execution_count": 0,
      "outputs": []
    },
    {
      "cell_type": "markdown",
      "metadata": {
        "id": "20FfWGOa_m_f",
        "colab_type": "text"
      },
      "source": [
        "O operador **parte inteira** divide o primeiro número pelo segundo número e arredonda para baixo o resultado. Isto fica interessante quando um dos números é negativo. Por exemplo: "
      ]
    },
    {
      "cell_type": "code",
      "metadata": {
        "id": "M3wEcoJ1AAtK",
        "colab_type": "code",
        "colab": {}
      },
      "source": [
        "-3 // 2"
      ],
      "execution_count": 0,
      "outputs": []
    },
    {
      "cell_type": "markdown",
      "metadata": {
        "id": "7t04bpEsAm10",
        "colab_type": "text"
      },
      "source": [
        "Agora, se você quiser o resto de uma divisão é só usar o operador **módulo (%)**."
      ]
    },
    {
      "cell_type": "code",
      "metadata": {
        "id": "SzGH5H5XAsMx",
        "colab_type": "code",
        "colab": {}
      },
      "source": [
        "9 % 2"
      ],
      "execution_count": 0,
      "outputs": []
    },
    {
      "cell_type": "markdown",
      "metadata": {
        "id": "R_60hUwwBGQf",
        "colab_type": "text"
      },
      "source": [
        "Para calcular o valor exponencial de um número, use o operador de **exponenciação ($**$)**."
      ]
    },
    {
      "cell_type": "code",
      "metadata": {
        "id": "7DVe6WztBx5p",
        "colab_type": "code",
        "colab": {}
      },
      "source": [
        "2 ** 2"
      ],
      "execution_count": 0,
      "outputs": []
    },
    {
      "cell_type": "code",
      "metadata": {
        "id": "-Ok7qZujB0Cz",
        "colab_type": "code",
        "colab": {}
      },
      "source": [
        "2 ** 10"
      ],
      "execution_count": 0,
      "outputs": []
    },
    {
      "cell_type": "markdown",
      "metadata": {
        "id": "qJyvVC6CCqzw",
        "colab_type": "text"
      },
      "source": [
        "Podemos usar o operador de exponenciação para calcular uma exponenciação de um número elevado a um valor menor do que 1.\n",
        "Por exemplo, para calcular a raiz quadrada de n, podemos ter a expressão $n^{\\frac {1}{2}}$ e a raiz cúbica como $n^{\\frac{1}{3}}$."
      ]
    },
    {
      "cell_type": "code",
      "metadata": {
        "id": "CzZs3h-vJt0n",
        "colab_type": "code",
        "colab": {}
      },
      "source": [
        "4 ** (1/2)"
      ],
      "execution_count": 0,
      "outputs": []
    },
    {
      "cell_type": "code",
      "metadata": {
        "id": "ne5bXJgCJylC",
        "colab_type": "code",
        "colab": {}
      },
      "source": [
        "8 ** (1/3)"
      ],
      "execution_count": 0,
      "outputs": []
    },
    {
      "cell_type": "markdown",
      "metadata": {
        "id": "nO7BGPsTLWz3",
        "colab_type": "text"
      },
      "source": [
        "Como mostra o exemplo acima, você pode usar parênteses para combinar operações matemáticas dentro de uma expressão complicada. O Python calculará a expressão seguindo as regras do padrão PEMDAS para ordenar os cálculos – parênteses, expoentes, multiplicação, divisão, adição e subtração. Observe a seguinte expressão – com e sem parênteses:"
      ]
    },
    {
      "cell_type": "code",
      "metadata": {
        "id": "-WwhWRW0LcvS",
        "colab_type": "code",
        "colab": {}
      },
      "source": [
        "5 + 5 * 5"
      ],
      "execution_count": 0,
      "outputs": []
    },
    {
      "cell_type": "code",
      "metadata": {
        "id": "htCOlauqL4dD",
        "colab_type": "code",
        "colab": {}
      },
      "source": [
        "(5 + 5) * 5"
      ],
      "execution_count": 0,
      "outputs": []
    },
    {
      "cell_type": "markdown",
      "metadata": {
        "id": "NnvC-sWokWO_",
        "colab_type": "text"
      },
      "source": [
        "##Operadores aritméticos\n",
        "\n",
        "Operação| Operador\n",
        "--- | ---\n",
        "Adição | **+**\n",
        "Subtração | **-**\n",
        "Multiplicação | **\\***\n",
        "Divisão | **/**\n",
        "Exponenciação | **\\****\n",
        "Parte inteira | **\\\\\\**\n",
        "Módulo | **%**"
      ]
    },
    {
      "cell_type": "markdown",
      "metadata": {
        "id": "hw6ovABjUvnH",
        "colab_type": "text"
      },
      "source": [
        "Nota: Os exercícios 7 ao 9 foram retirados do material disponibilizado pelo [Prof. Leonardo de Oliveira Carvalho](http://lattes.cnpq.br/./3754078390316976) da Universidade Federal Fluminense.\n",
        "#Exercício 6:\n",
        "Calcule a seguinte expresão: \n",
        "#1 + 2 . 3\n",
        "\n",
        "Nota: Observe nas expressões que o operador de multiplicação está representado pelo . (ponto). Considerando que nossos valores estão na notação brasileira, aceite que os números reais serão representados com o separador , (vírgula)."
      ]
    },
    {
      "cell_type": "code",
      "metadata": {
        "id": "ocbOmUUCdBxj",
        "colab_type": "code",
        "colab": {}
      },
      "source": [
        ""
      ],
      "execution_count": 0,
      "outputs": []
    },
    {
      "cell_type": "markdown",
      "metadata": {
        "id": "XoiIjI3iW2bO",
        "colab_type": "text"
      },
      "source": [
        "#Exercício 7:\n",
        "Calcule a seguinte expresão: \n",
        "##$\\frac {3 . 5 - 2}{5}$\n"
      ]
    },
    {
      "cell_type": "markdown",
      "metadata": {
        "id": "6nAL5j28ayep",
        "colab_type": "text"
      },
      "source": [
        "#Exercício 8:\n",
        "Calcule a seguinte expresão: \n",
        "##$\\frac{357,85 + 5,12}{200 - 6,2 . 5}$ "
      ]
    },
    {
      "cell_type": "markdown",
      "metadata": {
        "id": "FpEHF9jme0Kb",
        "colab_type": "text"
      },
      "source": [
        "#Exercício 9:\n",
        "Quais desses valores são múltiplos de 157?\n",
        "\n",
        "5751, 7379, 3103, 7520, 6028, 8780, 1056, 1050, 1256, 7222, 5846, 8380, 1884, 3413, 4867"
      ]
    }
  ]
}