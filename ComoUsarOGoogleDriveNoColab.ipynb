{
  "nbformat": 4,
  "nbformat_minor": 0,
  "metadata": {
    "colab": {
      "name": "ComoUsarOGoogleDriveNoColab.ipynb",
      "provenance": [],
      "collapsed_sections": [],
      "authorship_tag": "ABX9TyO2lpinVf844H1Vw21lgvmk",
      "include_colab_link": true
    },
    "kernelspec": {
      "name": "python3",
      "display_name": "Python 3"
    }
  },
  "cells": [
    {
      "cell_type": "markdown",
      "metadata": {
        "id": "view-in-github",
        "colab_type": "text"
      },
      "source": [
        "<a href=\"https://colab.research.google.com/github/alexiaca/mentores-python/blob/master/ComoUsarOGoogleDriveNoColab.ipynb\" target=\"_parent\"><img src=\"https://colab.research.google.com/assets/colab-badge.svg\" alt=\"Open In Colab\"/></a>"
      ]
    },
    {
      "cell_type": "markdown",
      "metadata": {
        "id": "fJ7FovATWuf4",
        "colab_type": "text"
      },
      "source": [
        "#Trabalhando com arquivos no Python com o Google Colab e o Google Drive\n",
        "\n",
        "Para você ter acesso ao seu Google Drive no Colab, você precisa seguir alguns passos, que listarei abaixo. Tenha paciência, faça com calma e siga os passos. \n",
        "\n",
        "\n",
        "\n",
        "\n",
        "\n",
        "\n",
        "executar as linhas abaixo. Onde está escrito \"Go to this URL in a browser: ...\", clique no link em azul e em seguida copie e cole o código que ele lhe fornecerá na caixa que aparece logo abaixo dessa mensagem.\n",
        "\n",
        "Pronto! Agora você já pode acessar as pastas do seu Google Drive e usar para armazenar os arquivos que usaremos nos exercícios do curso.\n",
        "\n",
        "Mais uma coisinha antes de continuarmos. Vá até o seu Google Drive e crie uma pasta chamada workspace. Essa pasta será usada para colocarmos os arquivos a serem usados aqui no curso."
      ]
    },
    {
      "cell_type": "markdown",
      "metadata": {
        "id": "ej4BOA0TYp43",
        "colab_type": "text"
      },
      "source": [
        "#O ícone pasta\n",
        "\n",
        "O ícone pasta está localizado na sua janela, no painel à esquerda.\n",
        "\n",
        "![alt text](https://raw.githubusercontent.com/alexiaca/mentores-python/master/files01.png)\n",
        "\n",
        "Ao clicar nesse ícone, conforme indicado na imagem acima, temos três abas, Upload, Refresh e Mount Drive. É esta última que queremos. Ela nos permitirá montarmos nosso Google Drive no ambiente Colab e utilizarmos os arquivos que estão nele.\n",
        "\n",
        "Quando você clica nesta aba, Mount Drive, automaticamente será montado o seu drive. Mas, para usar os arquivos que você deseja, primeiro você terá que fazer o upload deles.\n",
        "\n",
        "Mesmo com o drive montato, ainda não temos acesso a ele. Precisamos executar essa célula que aparece no nosso notebook Colab e seguir alguns passos.\n",
        "\n",
        "![alt text](https://raw.githubusercontent.com/alexiaca/mentores-python/master/files02.png)\n",
        "\n",
        "Ao executar a célula, vai aparecer um link. Clique neste link. \n",
        "\n",
        "![alt text](https://raw.githubusercontent.com/alexiaca/mentores-python/master/files03.png)\n",
        "\n",
        "Ele vai pedir para que você faça login em uma conta do gmail e permissão para ler seus arquivos. \n",
        "\n",
        "![alt text](https://raw.githubusercontent.com/alexiaca/mentores-python/master/files04.png)\n",
        "\n",
        "Ao final, ele gera um código que deve ser copiado e colado na caixa que aparece logo abaixo dessa mensagem.\n",
        "\n",
        "![alt text](https://raw.githubusercontent.com/alexiaca/mentores-python/master/files05.png)\n",
        "\n",
        "\n",
        "Pronto! Agora você já pode acessar as pastas do seu Google Drive e usar para armazenar os arquivos que usaremos nos exercícios do curso.\n"
      ]
    },
    {
      "cell_type": "markdown",
      "metadata": {
        "colab_type": "text",
        "id": "CuWQJvg7foOB"
      },
      "source": [
        "#O ícone pasta\n",
        "\n",
        "O ícone pasta está localizado na sua janela, no painel à esquerda.\n",
        "\n",
        "![alt text](https://raw.githubusercontent.com/alexiaca/mentores-python/master/files01.png)\n",
        "\n",
        "Ao clicar nesse ícone, conforme indicado na imagem acima, temos três abas, Upload, Refresh e Mount Drive. É esta última que queremos. Ela nos permitirá montarmos nosso Google Drive no ambiente Colab e utilizarmos os arquivos que estão nele.\n",
        "\n",
        "Quando você clica nesta aba, Mount Drive, automaticamente será montado o seu drive. Mas, para usar os arquivos que você deseja, primeiro você terá que fazer o upload deles.\n",
        "\n",
        "Mesmo com o drive montato, ainda não temos acesso a ele. Precisamos executar essa célula que aparece no nosso notebook Colab e seguir alguns passos.\n",
        "\n",
        "![alt text](https://raw.githubusercontent.com/alexiaca/mentores-python/master/files02.png)\n",
        "\n",
        "Ao executar a célula, vai aparecer um link. Clique neste link. \n",
        "\n",
        "![alt text](https://raw.githubusercontent.com/alexiaca/mentores-python/master/files03.png)\n",
        "\n",
        "Ele vai pedir para que você faça login em uma conta do gmail e permissão para ler seus arquivos. \n",
        "\n",
        "![alt text](https://raw.githubusercontent.com/alexiaca/mentores-python/master/files04.png)\n",
        "\n",
        "Ao final, ele gera um código que deve ser copiado e colado na caixa que aparece logo abaixo dessa mensagem.\n",
        "\n",
        "![alt text](https://raw.githubusercontent.com/alexiaca/mentores-python/master/files05.png)\n",
        "\n",
        "![alt text](https://raw.githubusercontent.com/alexiaca/mentores-python/master/files06.png)\n",
        "\n",
        "Pronto! Agora você já pode acessar as pastas do seu Google Drive e usar para armazenar os arquivos que usaremos nos exercícios do curso.\n"
      ]
    }
  ]
}