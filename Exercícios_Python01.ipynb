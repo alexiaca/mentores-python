{
  "nbformat": 4,
  "nbformat_minor": 0,
  "metadata": {
    "colab": {
      "name": "Exercícios - Python01.ipynb",
      "provenance": [],
      "toc_visible": true,
      "include_colab_link": true
    },
    "kernelspec": {
      "name": "python3",
      "display_name": "Python 3"
    }
  },
  "cells": [
    {
      "cell_type": "markdown",
      "metadata": {
        "id": "view-in-github",
        "colab_type": "text"
      },
      "source": [
        "<a href=\"https://colab.research.google.com/github/alexiaca/mentores-python/blob/master/Exerc%C3%ADcios_Python01.ipynb\" target=\"_parent\"><img src=\"https://colab.research.google.com/assets/colab-badge.svg\" alt=\"Open In Colab\"/></a>"
      ]
    },
    {
      "cell_type": "markdown",
      "metadata": {
        "id": "JYyIJsLs5Kkv",
        "colab_type": "text"
      },
      "source": [
        "#Exercícios - Python 01"
      ]
    },
    {
      "cell_type": "markdown",
      "metadata": {
        "id": "OQMkUQd36HDJ",
        "colab_type": "text"
      },
      "source": [
        "#Exercício 1:\n",
        " Quantos números naturais existem maiores ou iguais a 37 e menores ou iguais a 72?"
      ]
    },
    {
      "cell_type": "code",
      "metadata": {
        "id": "ts-8o_aGRQG9",
        "colab_type": "code",
        "colab": {}
      },
      "source": [
        ""
      ],
      "execution_count": 0,
      "outputs": []
    },
    {
      "cell_type": "markdown",
      "metadata": {
        "id": "vZ7KnxyrbnYg",
        "colab_type": "text"
      },
      "source": [
        "#Exercício 2:\n",
        "Quantos números naturais existem em cada um dos intervalos (32, 75], [32, 75) e (32, 75)?"
      ]
    },
    {
      "cell_type": "code",
      "metadata": {
        "id": "0W498ZWDRRSd",
        "colab_type": "code",
        "colab": {}
      },
      "source": [
        ""
      ],
      "execution_count": 0,
      "outputs": []
    },
    {
      "cell_type": "markdown",
      "metadata": {
        "id": "J0JkeAhsfoNF",
        "colab_type": "text"
      },
      "source": [
        "#Exercício 3:\n",
        "Descubra quantos múltiplos de 7 existem entre 14 e 7 000, inclusive."
      ]
    },
    {
      "cell_type": "code",
      "metadata": {
        "id": "-gj7FBf-RSD2",
        "colab_type": "code",
        "colab": {}
      },
      "source": [
        ""
      ],
      "execution_count": 0,
      "outputs": []
    },
    {
      "cell_type": "markdown",
      "metadata": {
        "id": "R1XOYNebfIYN",
        "colab_type": "text"
      },
      "source": [
        "Agora, resolva esses problemas:\n",
        "#Exercício 4: \n",
        "Considere dois múltiplos de um mesmo número natural, por exemplo 6 × 12 e 3 × 12, qual é o resultado da soma desses dois números?"
      ]
    },
    {
      "cell_type": "code",
      "metadata": {
        "id": "cqULsBf3RUA6",
        "colab_type": "code",
        "colab": {}
      },
      "source": [
        ""
      ],
      "execution_count": 0,
      "outputs": []
    },
    {
      "cell_type": "markdown",
      "metadata": {
        "id": "hw6ovABjUvnH",
        "colab_type": "text"
      },
      "source": [
        "#Exercício 5:\n",
        "Calcule a seguinte expresão: \n",
        "\n",
        "1 + 2 * 3"
      ]
    },
    {
      "cell_type": "code",
      "metadata": {
        "id": "ocbOmUUCdBxj",
        "colab_type": "code",
        "colab": {}
      },
      "source": [
        ""
      ],
      "execution_count": 0,
      "outputs": []
    },
    {
      "cell_type": "markdown",
      "metadata": {
        "id": "XoiIjI3iW2bO",
        "colab_type": "text"
      },
      "source": [
        "#Exercício 6:\n",
        "Calcule a seguinte expresão: \n",
        "\n",
        "$\\frac {3 * 5 - 2}{5}$\n"
      ]
    },
    {
      "cell_type": "markdown",
      "metadata": {
        "id": "6nAL5j28ayep",
        "colab_type": "text"
      },
      "source": [
        "#Exercício 7:\n",
        "Calcule a seguinte expresão: \n",
        "\n",
        "$\\frac{357,85 + 5,12}{200 - 6,2 * 5}$ "
      ]
    },
    {
      "cell_type": "markdown",
      "metadata": {
        "id": "FpEHF9jme0Kb",
        "colab_type": "text"
      },
      "source": [
        "#Exercício 8:\n",
        "Quais desses valores são múltiplos de 157?\n",
        "5751, 7379, 3103, 7520, 6028, 8780, 1056, 1050, 1256, 7222, 5846, 8380, 1884, 3413, 4867"
      ]
    }
  ]
}