{
  "nbformat": 4,
  "nbformat_minor": 0,
  "metadata": {
    "colab": {
      "name": "Exercicios-Python10.ipynb",
      "provenance": [],
      "collapsed_sections": [],
      "toc_visible": true,
      "authorship_tag": "ABX9TyMDDnuXBHh1SSrDekBldJVZ",
      "include_colab_link": true
    },
    "kernelspec": {
      "name": "python3",
      "display_name": "Python 3"
    }
  },
  "cells": [
    {
      "cell_type": "markdown",
      "metadata": {
        "id": "view-in-github",
        "colab_type": "text"
      },
      "source": [
        "<a href=\"https://colab.research.google.com/github/alexiaca/mentores-python/blob/master/Exercicios_Python10.ipynb\" target=\"_parent\"><img src=\"https://colab.research.google.com/assets/colab-badge.svg\" alt=\"Open In Colab\"/></a>"
      ]
    },
    {
      "cell_type": "markdown",
      "metadata": {
        "id": "P5dh98gp2Amt",
        "colab_type": "text"
      },
      "source": [
        "#Exercícios - Python 10"
      ]
    },
    {
      "cell_type": "markdown",
      "metadata": {
        "id": "JZKphvgbOCGS",
        "colab_type": "text"
      },
      "source": [
        "#Exercício 1\n",
        "No exemplo do **C02**, o programa enumera até mesmo a linha em branco. Corrija o código de forma que a linha em branco não seja enumerada. É para ser uma solução genérica, valendo para qualquer arquivo texto.\n",
        "\n",
        "**OBS1.:** Lembre-se que talvez você tenha que solicitar o acesso ao seu Google Drive novamente, se já tiver um tempo que você não acessa seu  notebook Colab. Para isto, basta executar novamente o código onde se solicita o acesso, **C01**.\n",
        "\n",
        "**OBS2.:** Verifique a função isspace() do Python, para resolver essa questão."
      ]
    },
    {
      "cell_type": "markdown",
      "metadata": {
        "id": "_Mwu-6HC_TFK",
        "colab_type": "text"
      },
      "source": [
        "#Exercício 02\n",
        "Você precisa escrever um programa pra analisar os dados sobre candidatos a um cargo para desenvolvimento de aplicativos em Python. Digamos que você esteja interessado nos nomes, cidades, idades e pontuações dos candidatos em um teste de programação em Python, ou seja, no py-score.\n",
        "\n",
        "\n",
        "\n",
        "|    |nome\t| cidade\t| idade\t| py-score|\n",
        "|----|------|---------|-------|---------|\n",
        "|101\t|Franciso|\tMinas Gerais |\t41\t|88.0|\n",
        "102\t|Ana|\tPiauí\t|28|\t79.0|\n",
        "103\t|Janaina|\tPará|\t33|\t81.0|\n",
        "104|\tYuri|\tBahia|\t34|\t80.0|\n",
        "105|\tRoberto\t|Amazonas|\t38\t|68.0|\n",
        "106|\tAmanda\t|Ceará|\t31|\t61.0|\n",
        "107\t|Norma\t|Pernambuco|\t37|\t84.0|\n",
        "\n",
        "Grave esses dados em um DataFrame do Pandas, usando um arquivo csv.\n",
        "\n",
        "Realize um *ls* e um *cat* para comprovar que o arquivo foi gravado no diretório e que o seu conteúdo está correto."
      ]
    },
    {
      "cell_type": "markdown",
      "metadata": {
        "id": "Lc0MMIJmLWs_",
        "colab_type": "text"
      },
      "source": [
        "#Exercício 03\n",
        "\n",
        "A partir dos dados do arquivo [notas.csv](https://raw.githubusercontent.com/alexiaca/mentores-python/master/notas.csv), calcule a média das notas dos alunos e informe se eles foram aprovados ou reprovados, considerando a média para aprovação maior ou igual a 6.0. Exiba uma listagem com as respectivas médias dos alunos.\n",
        "\n",
        "|  Nome                   | Matrícula | AV1 | AV2  |\n",
        "|------------------       |-----------|-----|------|\n",
        "| Andressa Marques        | 01222019  | 5.0 | 6.5  |\n",
        "| Bruno Farias            | 01402019  | 4.5 | 5.2  |\n",
        "| Fernanda Vasconcelos    | 01012019  | 7.0 | 5.6  |\n",
        "| Diego Braga             | 01502019  | 9.8 | 4.0  |\n",
        "| Edson Jacques           | 01452019  | 5.0 | 10.0 |\n",
        "|Larissa Fernandes        | 01412019  | 6.0 | 7.5  |\n",
        "\n",
        "**Listagem**\n",
        "\n",
        "|Matrícula |  AV01 |  AV02 | Média | \n",
        "|----------|-------|-------|-------|\n",
        "|01222019  |  5.0  | 6.5   | 5.75  |\n",
        "|01402019  |  4.5  |  5.2  | 4.85  |\n",
        "|01012019  |  7.0  |  5.6  | 6.3   |\n",
        "|01502019  |  9.8  |  4.0  | 6.9   |\n",
        "|01452019  |  5.0  |  10.0 | 7.5   |\n",
        "|01412019  |  6.0  |  7.5  | 6.75  |\n",
        "\n",
        "**OBS.:** A listagem não precisa ter esta aparência. Só coloquei assim para ficar organizado.\n",
        "\n",
        "  \n"
      ]
    },
    {
      "cell_type": "markdown",
      "metadata": {
        "id": "RMvSZlGFSisS",
        "colab_type": "text"
      },
      "source": [
        "#Exercício 04\n",
        "A partir do exercício anterior, adicione essas colunas ao arquivo notas02.csv e grave as alterações. Liste (*ls*) o seu diretório workspace, para comprovar que o arquivo notas02.csv foi gravado e liste o conteúdo do arquivo (*cat*) para verificar se está correto."
      ]
    },
    {
      "cell_type": "markdown",
      "metadata": {
        "id": "oLvQlUbgWBPa",
        "colab_type": "text"
      },
      "source": [
        "#Exercício 05\n",
        "Plote um gráfico comparando as notas da primeira e da segunda avaliação."
      ]
    }
  ]
}