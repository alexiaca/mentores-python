{
  "nbformat": 4,
  "nbformat_minor": 0,
  "metadata": {
    "colab": {
      "name": "Python10.ipynb",
      "provenance": [],
      "collapsed_sections": [],
      "toc_visible": true,
      "authorship_tag": "ABX9TyPIljtHP/5ZwbmMFsFbVHLz",
      "include_colab_link": true
    },
    "kernelspec": {
      "name": "python3",
      "display_name": "Python 3"
    }
  },
  "cells": [
    {
      "cell_type": "markdown",
      "metadata": {
        "id": "view-in-github",
        "colab_type": "text"
      },
      "source": [
        "<a href=\"https://colab.research.google.com/github/alexiaca/mentores-python/blob/master/Python10.ipynb\" target=\"_parent\"><img src=\"https://colab.research.google.com/assets/colab-badge.svg\" alt=\"Open In Colab\"/></a>"
      ]
    },
    {
      "cell_type": "markdown",
      "metadata": {
        "id": "P5dh98gp2Amt"
      },
      "source": [
        "Saber manipular arquivos é muito importante para qualquer um que programe, seja para armazenar dados, utilizar dados ou para qualquer outra necessidade. Para isso, Python oferece diversos recursos para manipulação de arquivos. É o que veremos nesta aula, como manipular arquivos com Python."
      ]
    },
    {
      "cell_type": "markdown",
      "metadata": {
        "id": "hrsgrAbyP_FT"
      },
      "source": [
        "#Trabalhando com arquivos \n",
        "No decorrer do curso, temos trabalhado com dados que são inseridos diretamente no código ou pelo usuário. Mas, na vida real, os dados estão em arquivos. Podemos ter como exemplo, as páginas que você visita na Internet, vídeos, músicas, fotos, os dados da sua matrícula no colégio entre tantos outros que podemos citar. \n",
        "\n",
        "Nesta aula vamos estudar os métodos para leitura e gravação de dados em arquivos utilizando Python. Os arquivos são muito importantes, pois permitem que os dados se tornem persistentes, podendo ser recuperados e utilizados sempre que for necessário.\n",
        "\n",
        "Então, vamos ver um pouco de como é utilizar os dados em arquivos para serem utilizados pelos nossos programas.\n"
      ]
    },
    {
      "cell_type": "markdown",
      "metadata": {
        "id": "ywgN7ZBt5Fvy"
      },
      "source": [
        "#Criando e abrindo arquivos\n",
        "Para criar e abrir um arquivo, caso ele não exista, ou abrir um arquivo já existente, utilizamos o método open(). Este método irá abrir o arquivo que passarmos como parâmetro com um determinado modo de uso, também passado como parâmetro.\n",
        "\n",
        "Existem diversos modos de uso, que estão apresentados na tabela abaixo.\n",
        "\n",
        "|Modo |          Uso          |Operação|\n",
        "|-----|-----------------------|-------|\n",
        "| \"r\" |open(nome_arquivo, \"r\")|Leitura|\n",
        "| \"w\" |open(nome_arquivo, \"w\")|Escrita. Substitui o conteúdo do arquivo existente.|\n",
        "| \"x\" |open(nome_arquivo, \"x\")|Escrita. Retorna um erro caso o arquivo já exista.|\n",
        "| \"a\" |open(nome_arquivo, \"a\")|Escrita. Insere os novos dados ao final do arquivo.|\n",
        "| \"b\" |open(nome_arquivo, \"b\")|Modo binário.|\n",
        "| \"t\" |open(nome_arquivo, \"t\")|Modo de texto padrão.\n",
        "| \"+\" |open(nome_arquivo, \"+\")|Atualizar. Tanto leitura quanto escrita.|\n"
      ]
    },
    {
      "cell_type": "code",
      "metadata": {
        "id": "o0bvEd1C9uDY"
      },
      "source": [
        "arquivo = open(nome_arquivo, \"r\")"
      ],
      "execution_count": null,
      "outputs": []
    },
    {
      "cell_type": "markdown",
      "metadata": {
        "id": "xisvfvhB31xY"
      },
      "source": [
        "#Fechando arquivos\n",
        "Os arquivos, armazenados em algum dispositivo próprio, ao serem abertos (open) também ficam armazenados na memória do computador. Por este motivo, para usarmos um arquivo, primeiro precisamos abri-lo e quando terminarmos, precisamos fechá-lo (close).\n",
        "\n",
        "Para fechar um arquivo basta usar o método close, passando a referência ao arquivo.\n",
        "\n"
      ]
    },
    {
      "cell_type": "code",
      "metadata": {
        "id": "-O8UvoSZ96oS"
      },
      "source": [
        "close (arquivo)"
      ],
      "execution_count": null,
      "outputs": []
    },
    {
      "cell_type": "markdown",
      "metadata": {
        "id": "6ce0ZGKO6Bmd"
      },
      "source": [
        "#Localizando um arquivo no disco\n",
        "Primeiro, você precisa saber onde está o arquivo desejado, isto é, qual o caminho (path) para chegar até ele, em que pasta ele está armazenado. \n",
        "\n",
        "Exemplos de caminhos para um arquivo:\n",
        "\n",
        "**Mac**   \n",
        "/Users/nomeDoUsuario/arquivo.txt\n",
        "\n",
        "**Linux**  \n",
        "/home/nomeDoUsuario/arquivo.txt\n",
        "\n",
        "**Windows**  \n",
        "\\Users\\nomeDoUsuario\\My Documents\\arquivo.txt.\n",
        "\n",
        "O importante é você saber onde está o seu arquivo!\n",
        "\n",
        "No caso do seu arquivo de dados estar na mesma pasta que o seu programa Python, você só precisa informar o nome do arquivo, como por exemplo, open(\"arquivo.txt\", r). Mas, neste curso, usaremos o Google Drive para armazenar nossos arquivos."
      ]
    },
    {
      "cell_type": "markdown",
      "metadata": {
        "id": "BPD6LuXiEHGi"
      },
      "source": [
        "#Usando arquivos do seu Google Drive\n",
        "Para você ter acesso ao seu Google Drive no Colab, você precisa seguir esse breve [tutorial](https://colab.research.google.com/github/alexiaca/mentores-python/blob/master/ComoUsarOGoogleDriveNoColab.ipynb). \n",
        "\n",
        "Depois retorne aqui e continuaremos.\n",
        "\n",
        "Pronto! Agora você já pode acessar as pastas do seu Google Drive e usar para armazenar os arquivos que usaremos nos exercícios do curso.\n",
        "\n",
        "Mais uma coisinha antes de continuarmos. Vá até o seu Google Drive e crie uma pasta chamada workspace. Essa pasta será usada para colocarmos os arquivos a serem usados aqui no curso.\n",
        "\n",
        "Depois de criar a pasta, faça o downlowd deste [arquivo](https://raw.githubusercontent.com/alexiaca/mentores-python/master/batatinha.txt) e coloque na pasta workspace, no seu drive.\n",
        "Para salvar o arquivo, basta clicar com o botão direito do mouse e clicar em \"**Save Link as**\""
      ]
    },
    {
      "cell_type": "markdown",
      "metadata": {
        "id": "jEa0VL8n14Do"
      },
      "source": [
        "#Arquivos texto\n",
        "Vamos começar a trabalhar com arquivos que possuem textos, isto é, arquivos de caracteres. Existem diversas maneiras de conseguirmos esses arquivos. Usando um editor de textos, para criar seus próprios arquivos, baixar algum arquivo da internet, pegar de um pendrive, tanto faz. Mas, no nosso curso, os arquivos devem ser armazenados no seu Google Drive."
      ]
    },
    {
      "cell_type": "markdown",
      "metadata": {
        "id": "Y1xqrgeD4Iv3"
      },
      "source": [
        "#C01\n",
        "Toda vez que você precisar montar seu Google Drive, você pode executar esse código abaixo."
      ]
    },
    {
      "cell_type": "code",
      "metadata": {
        "id": "uwyvvKyIZEZ6"
      },
      "source": [
        "#Código de acesso ao seu Google Drive\n",
        "from google.colab import drive\n",
        "drive.mount('/gdrive')"
      ],
      "execution_count": null,
      "outputs": []
    },
    {
      "cell_type": "markdown",
      "metadata": {
        "id": "zKsebGCHicxh"
      },
      "source": [
        "#Listando o conteúdo da pasta principal"
      ]
    },
    {
      "cell_type": "code",
      "metadata": {
        "id": "Fng0f5esFF9b",
        "outputId": "1b387090-e62b-41ce-ed16-18e6dc98dae0",
        "colab": {
          "base_uri": "https://localhost:8080/",
          "height": 34
        }
      },
      "source": [
        "!ls /gdrive"
      ],
      "execution_count": null,
      "outputs": [
        {
          "output_type": "stream",
          "text": [
            "'My Drive'\n"
          ],
          "name": "stdout"
        }
      ]
    },
    {
      "cell_type": "markdown",
      "metadata": {
        "id": "33vFOwoYitvW"
      },
      "source": [
        "#Listando o conteúdo da nossa pasta de trabalho (workspace)\n",
        "Lembre-se que você já deve ter criado ela no seu drive."
      ]
    },
    {
      "cell_type": "code",
      "metadata": {
        "id": "ygA94bG4QcAm",
        "outputId": "b30748f1-ef76-4d1d-e091-5e5b574d5352",
        "colab": {
          "base_uri": "https://localhost:8080/",
          "height": 51
        }
      },
      "source": [
        "!ls /gdrive/My\\ Drive/workspace"
      ],
      "execution_count": null,
      "outputs": [
        {
          "output_type": "stream",
          "text": [
            "alunos.csv\t   batatinha.txt  notas.csv\n",
            "alunos-csv.gsheet  lista.csv\t  vw_pib_percapita.csv\n"
          ],
          "name": "stdout"
        }
      ]
    },
    {
      "cell_type": "markdown",
      "metadata": {
        "id": "5VRyJTo1i1Oi"
      },
      "source": [
        "#Vendo o conteúdo de um arquivo"
      ]
    },
    {
      "cell_type": "code",
      "metadata": {
        "id": "YDn9GhvhIMkB",
        "outputId": "4d344a37-df8d-416e-ed4f-576d6163845f",
        "colab": {
          "base_uri": "https://localhost:8080/",
          "height": 102
        }
      },
      "source": [
        "!cat /gdrive/My\\ Drive/workspace/batatinha.txt"
      ],
      "execution_count": null,
      "outputs": [
        {
          "output_type": "stream",
          "text": [
            "﻿Batatinha quando nasce espalha a rama pelo chão\r\n",
            "Menininha quando dorme põe a mão no coração.\r\n",
            " \r\n",
            "Conheço um pouquinho de Python\r\n",
            "Mas quero mesmo é conhecer um montão."
          ],
          "name": "stdout"
        }
      ]
    },
    {
      "cell_type": "markdown",
      "metadata": {
        "id": "JWw63pYU73n5"
      },
      "source": [
        "#Abrindo e fechando arquivos\n",
        "Para abrir um arquivo em Python, basta usar a função *open()*, que recebe dois parâmetros, o nome do arquivo e o modo que iremos trabalhar com esse arquivo. Se queremos só realizar a leitura desse arquivo usamos *open(nome_do_arquivo, \"r\")*, onde **\"r\"** determina que o arquivo será só para leitura. Se quisermos alterar o arquivo, usamos *open(nome_do_arquivo, \"w\")*, onde **\"w\"** determina que o arquivo é para escrita. \n",
        "\n",
        "Se tentarmos abrir um arquivo para escrita que não existe, então ele será criado, porém, se ele já existir, todo seu conteúdo será apagado no momento em que abrimos o arquivo\n",
        "\n",
        "Devemos usar uma variável para manter uma referência ao arquivo, para que possamos ter as informações sobre o arquivo, para por exemplo, quando precisarmos ler o conteúdo do arquivo.\n",
        "\n",
        "Nas versões anteriores do Python, tínhamos que fechar todos os arquivos que abríamos. A partir do Python 3x, usando o comando *with*, o Python verifica se o arquivo não está mais sendo usado e ele mesmo fecha o arquivo. Desta forma, evitamos deixar arquivos na memória, que podem causar algum problema.\n",
        " "
      ]
    },
    {
      "cell_type": "code",
      "metadata": {
        "id": "aCZP2OkFJWep",
        "outputId": "3a710d14-b3cc-4186-f216-1e6798a7bb98",
        "colab": {
          "base_uri": "https://localhost:8080/",
          "height": 102
        }
      },
      "source": [
        "path = \"/gdrive/My Drive/workspace/\" #caminho do arquivo\n",
        "filename = f\"{path}/batatinha.txt\" #concatena o caminho da pasta com o nome do arquivo desejado e armazena na variável arquivo\n",
        "with open(filename, \"r\") as arq: #abre o arquivo para leitura\n",
        "    print(arq.read()) #imprime o conteúdo lido do arquivo"
      ],
      "execution_count": null,
      "outputs": [
        {
          "output_type": "stream",
          "text": [
            "﻿Batatinha quando nasce espalha a rama pelo chão\n",
            "Menininha quando dorme põe a mão no coração.\n",
            " \n",
            "Conheço um pouquinho de Python\n",
            "Mas quero mesmo é conhecer um montão.\n"
          ],
          "name": "stdout"
        }
      ]
    },
    {
      "cell_type": "markdown",
      "metadata": {
        "id": "KirG0KktJzbJ"
      },
      "source": [
        "#Iterando sobre as linha de um arquivo\n",
        "No código acima, nós abrimos o arquivo e o Python se encarregou de fechá-lo quando verificou que ele não estava mais sendo utilizado. \n",
        "\n",
        "Agora, vamos usar este mesmo arquivo como entrada em um programa. A ideia é imprimir cada linha do arquivo, numerando-as.  \n",
        "\n",
        "Todo arquivo de texto é uma sequência de linhas com texto/caracteres, podemos usar uma estrutura de repetição como o *for* para iterar sobre cada linha do arquivo.\n",
        "\n",
        "Cada linha em um arquivo texto possui um caractere especial chamado de *newline* (nova linha), que é representado por **\\n**. Se você imprime uma string que tenha esse caractere, ele não aparece, porque não é vísivel, mas você sabe que a string contém ele quando você vê a mudança de linha."
      ]
    },
    {
      "cell_type": "markdown",
      "metadata": {
        "id": "yY5SkuME4l5k"
      },
      "source": [
        "#C02"
      ]
    },
    {
      "cell_type": "code",
      "metadata": {
        "id": "hauJoQnvNKJw",
        "outputId": "4488bb72-6255-4812-df6e-c9b033282906",
        "colab": {
          "base_uri": "https://localhost:8080/",
          "height": 102
        }
      },
      "source": [
        "path = \"/gdrive/My Drive/workspace/\" #caminho do arquivo\n",
        "filename = f\"{path}/batatinha.txt\"\n",
        "\n",
        "with open(filename, \"r\") as arq:\n",
        "  i = 1\n",
        "  for linha in arq:\n",
        "    print (f\"{i} {linha}\", end=\"\")\n",
        "    i += 1"
      ],
      "execution_count": null,
      "outputs": [
        {
          "output_type": "stream",
          "text": [
            "1 ﻿Batatinha quando nasce espalha a rama pelo chão\n",
            "2 Menininha quando dorme põe a mão no coração.\n",
            "3  \n",
            "4 Conheço um pouquinho de Python\n",
            "5 Mas quero mesmo é conhecer um montão."
          ],
          "name": "stdout"
        }
      ]
    },
    {
      "cell_type": "markdown",
      "metadata": {
        "id": "cmkXGHXg0wus"
      },
      "source": [
        "Como vocês podem verificar, o aquivo não sofreu nenhuma alteração."
      ]
    },
    {
      "cell_type": "code",
      "metadata": {
        "id": "CLdGE9YO0Qi1",
        "outputId": "ebdda9e8-58f2-4cc3-ea6a-ad33b3cb8dea",
        "colab": {
          "base_uri": "https://localhost:8080/",
          "height": 102
        }
      },
      "source": [
        "with open(filename) as arq:\n",
        "  print (arq.read())"
      ],
      "execution_count": null,
      "outputs": [
        {
          "output_type": "stream",
          "text": [
            "﻿Batatinha quando nasce espalha a rama pelo chão\n",
            "Menininha quando dorme põe a mão no coração.\n",
            " \n",
            "Conheço um pouquinho de Python\n",
            "Mas quero mesmo é conhecer um montão.\n"
          ],
          "name": "stdout"
        }
      ]
    },
    {
      "cell_type": "markdown",
      "metadata": {
        "id": "7pKSAvfC4fZl"
      },
      "source": [
        "#Usando um arquivo CSV\n",
        "Para quem não sabe, CSV - Comma Separated Values, é um arquivo que possuem valores separados por vírgula. Esse formato de armazenamento é simples e agrupa informações de arquivos de texto em planilhas, usado para trocas de dados com um banco de dados ou uma planilha entre aplicativos.\n",
        "\n",
        "Vamos trabalhar com um arquivo CSV, lendo esse arquivo e imprimindo seu conteúdo. Posteriormente iremos ter exercícios que irão utilizar esse tipo de arquivo.\n"
      ]
    },
    {
      "cell_type": "markdown",
      "metadata": {
        "id": "TD6a790urrB1"
      },
      "source": [
        "#Entendendo o que é um CSV\n",
        "Suponha que temos uma planilha com alguns dados:\n",
        "\n",
        "|Nome     |Idade|Turma|\n",
        "|---------|-----|-----|\n",
        "| Maria   |  16 | 901 |\n",
        "| Joana   |  14 | 803 |\n",
        "| Pedro   |  15 | 902 |\n",
        "| Carlos  |  14 | 703 |\n",
        "| Marcelo |  13 | 605 |\n",
        "| Elaine  |  14 | 803 |\n",
        "\n",
        "Esta planilha poderia estar em um arquivo CSV, com os dados separados por vírgula, onde cada linha da planilha é uma linha no arquivo CSV.\n",
        "\n",
        "Maria, 16, 901  \n",
        "Joana, 14, 803  \n",
        "Pedro, 15, 902  \n",
        "Carlos, 14, 703  \n",
        "Marcelo, 13, 605  \n",
        "Elaine, 14, 803"
      ]
    },
    {
      "cell_type": "markdown",
      "metadata": {
        "id": "vklTRYaq5WMl"
      },
      "source": [
        "#Abrindo e lendo um arquivo CSV com Python\n",
        "Primeiro, faça o download deste [arquivo](https://raw.githubusercontent.com/alexiaca/mentores-python/master/alunos.csv) e coloque no seu drive, na pasta workspace.\n",
        "\n",
        "**OBS.:** Lembre-se é só clicar com o botão direito e salvar."
      ]
    },
    {
      "cell_type": "code",
      "metadata": {
        "id": "KYCuWoWfuexX",
        "outputId": "3fadc207-2ee4-4426-c1ec-facd45357d55",
        "colab": {
          "base_uri": "https://localhost:8080/",
          "height": 136
        }
      },
      "source": [
        "import csv\n",
        "\n",
        "!ls /gdrive/My\\ Drive/workspace/ > /dev/null #Essa linha é um truque\n",
        "\n",
        "path = \"/gdrive/My Drive/workspace/\"\n",
        "filename = f\"{path}/alunos.csv\"\n",
        "\n",
        "with open(filename, newline=\"\") as csvfile:\n",
        "  arqreader = csv.reader(csvfile, delimiter = \",\")\n",
        "  for row in arqreader:\n",
        "    #print (\",\".join(row)) # faz a mesma coisa, mas só funciona para string.\n",
        "    print(*row, sep = \",\") #desempacota os elementos de uma lista e os separa com vírgula\n"
      ],
      "execution_count": null,
      "outputs": [
        {
          "output_type": "stream",
          "text": [
            "Nome,Idade,Turma\n",
            "Maria,16,901\n",
            "Joana,14,803\n",
            "Pedro,15,902\n",
            "Carlos,14,703\n",
            "Marcelo,13,605\n",
            "Elaine,14,803\n"
          ],
          "name": "stdout"
        }
      ]
    },
    {
      "cell_type": "markdown",
      "metadata": {
        "id": "xfApAbDlxjkj"
      },
      "source": [
        "#O parâmetro newline= \"\"\n",
        "Se **newline = \"\"** não for especificado, as novas linhas incorporadas nos campos entre aspas não serão interpretadas corretamente e nas plataformas que usam \\n ou \\r para definir final de linha na gravação, será inserido mais um \\r.\n",
        "Sempre deve ser seguro especificar **newline = \"\"**, pois o módulo csv faz seu próprio tratamento (universal) de nova linha."
      ]
    },
    {
      "cell_type": "markdown",
      "metadata": {
        "id": "Wu7zoABT0Z3H"
      },
      "source": [
        "#A biblioteca Pandas\n",
        "Pandas é uma biblioteca de código aberto que permite a você manipular dados em Python. O Pandas fornece uma maneira fácil de criar, manipular e excluir os dados.\n",
        "\n",
        "Você deve instalar a biblioteca do pandas com o comando *pip install pandas* . No Windows, você executará esse comando no prompt de comando e no Linux, no seu terminal.\n",
        "\n",
        "Mas, aqui no Colab, o Pandas já vem instaldo e é só importar o seu pacote.\n",
        "\n"
      ]
    },
    {
      "cell_type": "markdown",
      "metadata": {
        "id": "S32rwI460qto"
      },
      "source": [
        "#O DataFrame do Pandas\n",
        "O DataFrame do Pandas é uma estrutura que contém dados bidimensionais e seus respectivos rótulos, como das conhecidas tabelas que vemos por aí.\n",
        "\n",
        "![alt text](https://raw.githubusercontent.com/alexiaca/mentores-python/master/tab_inss-marc%CC%A7.png)  \n",
        "Fonte: https://www.totvs.com/blog/fiscal-clientes/nova-tabela-inss-2020-e-beneficios-previdencia/\n",
        "\n",
        "\n",
        "Os DataFrames do Pandas são estruturas de dados que contêm:\n",
        "\n",
        "*   Dados organizados em duas dimensões, linhas e colunas\n",
        "*   Rótulos que correspondem às linhas e colunas\n",
        "\n",
        "\n",
        "\n",
        "\n"
      ]
    },
    {
      "cell_type": "markdown",
      "metadata": {
        "id": "lE14ufNg-DGw"
      },
      "source": [
        "#Como ler um arquivo CSV com o Pandas.\n",
        "\n",
        "Para começarmos com o Pandas, basta importarmos sua biblioteca."
      ]
    },
    {
      "cell_type": "code",
      "metadata": {
        "id": "iSxMSWVa-x8G",
        "outputId": "cf10d940-0924-4773-c000-383ab2cc2c92",
        "colab": {
          "base_uri": "https://localhost:8080/",
          "height": 235
        }
      },
      "source": [
        "import pandas as pd # vamos chamá-lo de pd, amigo íntimo nosso (brincadeirinha)\n",
        "!ls /gdrive/My\\ Drive/workspace/ > /dev/null #Essa linha é um truque para manter a conexão com o drive\n",
        "\n",
        "path = \"/gdrive/My Drive/workspace/\"\n",
        "filename = f\"{path}/alunos.csv\"\n",
        "\n",
        "df = pd.read_csv(filename)\n",
        "df"
      ],
      "execution_count": null,
      "outputs": [
        {
          "output_type": "execute_result",
          "data": {
            "text/html": [
              "<div>\n",
              "<style scoped>\n",
              "    .dataframe tbody tr th:only-of-type {\n",
              "        vertical-align: middle;\n",
              "    }\n",
              "\n",
              "    .dataframe tbody tr th {\n",
              "        vertical-align: top;\n",
              "    }\n",
              "\n",
              "    .dataframe thead th {\n",
              "        text-align: right;\n",
              "    }\n",
              "</style>\n",
              "<table border=\"1\" class=\"dataframe\">\n",
              "  <thead>\n",
              "    <tr style=\"text-align: right;\">\n",
              "      <th></th>\n",
              "      <th>Nome</th>\n",
              "      <th>Idade</th>\n",
              "      <th>Turma</th>\n",
              "    </tr>\n",
              "  </thead>\n",
              "  <tbody>\n",
              "    <tr>\n",
              "      <th>0</th>\n",
              "      <td>Maria</td>\n",
              "      <td>16</td>\n",
              "      <td>901</td>\n",
              "    </tr>\n",
              "    <tr>\n",
              "      <th>1</th>\n",
              "      <td>Joana</td>\n",
              "      <td>14</td>\n",
              "      <td>803</td>\n",
              "    </tr>\n",
              "    <tr>\n",
              "      <th>2</th>\n",
              "      <td>Pedro</td>\n",
              "      <td>15</td>\n",
              "      <td>902</td>\n",
              "    </tr>\n",
              "    <tr>\n",
              "      <th>3</th>\n",
              "      <td>Carlos</td>\n",
              "      <td>14</td>\n",
              "      <td>703</td>\n",
              "    </tr>\n",
              "    <tr>\n",
              "      <th>4</th>\n",
              "      <td>Marcelo</td>\n",
              "      <td>13</td>\n",
              "      <td>605</td>\n",
              "    </tr>\n",
              "    <tr>\n",
              "      <th>5</th>\n",
              "      <td>Elaine</td>\n",
              "      <td>14</td>\n",
              "      <td>803</td>\n",
              "    </tr>\n",
              "  </tbody>\n",
              "</table>\n",
              "</div>"
            ],
            "text/plain": [
              "      Nome  Idade  Turma\n",
              "0    Maria     16    901\n",
              "1    Joana     14    803\n",
              "2    Pedro     15    902\n",
              "3   Carlos     14    703\n",
              "4  Marcelo     13    605\n",
              "5   Elaine     14    803"
            ]
          },
          "metadata": {
            "tags": []
          },
          "execution_count": 88
        }
      ]
    },
    {
      "cell_type": "markdown",
      "metadata": {
        "id": "pIGUs5g89mD7"
      },
      "source": [
        "#Indexando o arquivo pelo nome\n",
        "\n",
        "Ao invés de usar a numeração dos registros, podemos usar uma chave qualquer, como por exemplo o nome do aluno. Desta forma, podemos nos referenciar a cada registro pelo nome do aluno."
      ]
    },
    {
      "cell_type": "code",
      "metadata": {
        "id": "opvqT-_V9x5N",
        "outputId": "d0be2754-0919-4643-b7cc-4f65cfbf6865",
        "colab": {
          "base_uri": "https://localhost:8080/",
          "height": 663
        }
      },
      "source": [
        "import pandas as pd # vamos chamá-lo de pd, amigo íntimo nosso (brincadeirinha)\n",
        "!ls /gdrive/My\\ Drive/workspace/ > /dev/null #Essa linha é um truque para manter a conexão com o drive\n",
        "\n",
        "path = \"/gdrive/My Drive/workspace/\"\n",
        "filename = f\"{path}/alunos.csv\"\n",
        "\n",
        "#Lendo o arquivo indexado pelo campo Nome\n",
        "df = pd.read_csv(filename, index_col=\"Nome\")\n",
        "print(\"DataFrame indexado pelo campo Nome\")\n",
        "print(df)\n",
        "print()\n",
        "print(\"Dados do registro indexado pelo nome 'Maria'\")\n",
        "print (df.loc[\"Maria\"])\n",
        "print()\n",
        "print(\"Listagem das idades, indexadas pelo campo Nome\")\n",
        "print(f\"{df ['Idade']}\\n\")\n",
        "print()\n",
        "print(\"Calculo do ano de nascimento usando o campo Idade, do registro Maria\")\n",
        "ano = 2020 - df.loc[\"Maria\"].Idade\n",
        "print(f\"Ano de nascimento: {ano}\") \n",
        "print()\n",
        "print(\"Data de nascimento de todos os registros, calculado a partir do campo Idade\")\n",
        "2020 - df[\"Idade\"]"
      ],
      "execution_count": null,
      "outputs": [
        {
          "output_type": "stream",
          "text": [
            "DataFrame indexado pelo campo Nome\n",
            "         Idade  Turma\n",
            "Nome                 \n",
            "Maria       16    901\n",
            "Joana       14    803\n",
            "Pedro       15    902\n",
            "Carlos      14    703\n",
            "Marcelo     13    605\n",
            "Elaine      14    803\n",
            "\n",
            "Dados do registro indexado pelo nome 'Maria'\n",
            "Idade     16\n",
            "Turma    901\n",
            "Name: Maria, dtype: int64\n",
            "\n",
            "Listagem das idades, indexadas pelo campo Nome\n",
            "Nome\n",
            "Maria      16\n",
            "Joana      14\n",
            "Pedro      15\n",
            "Carlos     14\n",
            "Marcelo    13\n",
            "Elaine     14\n",
            "Name: Idade, dtype: int64\n",
            "\n",
            "\n",
            "Calculo do ano de nascimento usando o campo Idade, do registro Maria\n",
            "Ano de nascimento: 2004\n",
            "\n",
            "Data de nascimento de todos os registros, calculado a partir do campo Idade\n"
          ],
          "name": "stdout"
        },
        {
          "output_type": "execute_result",
          "data": {
            "text/plain": [
              "Nome\n",
              "Maria      2004\n",
              "Joana      2006\n",
              "Pedro      2005\n",
              "Carlos     2006\n",
              "Marcelo    2007\n",
              "Elaine     2006\n",
              "Name: Idade, dtype: int64"
            ]
          },
          "metadata": {
            "tags": []
          },
          "execution_count": 135
        }
      ]
    },
    {
      "cell_type": "markdown",
      "metadata": {
        "id": "AJHD-6Aj_4Ki"
      },
      "source": [
        "#Escrevendo em um arquivo CSV com Pandas\n",
        "Escrever em um arquivo CSV com o Pandas é tão fácil quanto ler. Para isso, primeiro você deve criar o DataFrame com base no seguinte código."
      ]
    },
    {
      "cell_type": "code",
      "metadata": {
        "id": "gx-chOPWAOF5",
        "outputId": "3069f749-9034-4f41-fd05-1bdf694f8c4e",
        "colab": {
          "base_uri": "https://localhost:8080/",
          "height": 102
        }
      },
      "source": [
        "import pandas as pd\n",
        "from pandas import DataFrame\n",
        "\n",
        "path = \"/gdrive/My Drive/workspace/\"\n",
        "filename = f\"{path}/lista.csv\"\n",
        "\n",
        "df = {\"Quantidade\" : [3, 6, 4], \n",
        "         \"Item\": [\"sucos\", \"pães\", \"bananas\"], \n",
        "         \"Preço\": [15, 1.20, 1.30]}\n",
        "tag_linhas = [101, 102, 103]\n",
        "df = pd.DataFrame(data=df, index=tag_linhas)\n",
        "export_csv = df.to_csv (f\"{path}/lista.csv\", index = True, header=True)\n",
        "print(df)\n",
        "print (\"Finalizado!\")"
      ],
      "execution_count": null,
      "outputs": [
        {
          "output_type": "stream",
          "text": [
            "     Quantidade     Item  Preço\n",
            "101           3    sucos   15.0\n",
            "102           6     pães    1.2\n",
            "103           4  bananas    1.3\n",
            "Finalizado!\n"
          ],
          "name": "stdout"
        }
      ]
    },
    {
      "cell_type": "markdown",
      "metadata": {
        "id": "aFu9suRrnBFC"
      },
      "source": [
        "#Listando seu diretório workspace\n",
        "Vamos listar o conteúdo do diretório workspace para ver se o arquivo lista.csv foi criado."
      ]
    },
    {
      "cell_type": "code",
      "metadata": {
        "id": "C3Y5HQfGvPFD",
        "outputId": "8af78546-659e-4259-f52c-b91516956622",
        "colab": {
          "base_uri": "https://localhost:8080/",
          "height": 51
        }
      },
      "source": [
        "!ls /gdrive/My\\ Drive/workspace"
      ],
      "execution_count": null,
      "outputs": [
        {
          "output_type": "stream",
          "text": [
            "alunos.csv\t   batatinha.txt  notas.csv\n",
            "alunos-csv.gsheet  lista.csv\t  vw_pib_percapita.csv\n"
          ],
          "name": "stdout"
        }
      ]
    },
    {
      "cell_type": "markdown",
      "metadata": {
        "id": "CHpMgiKnKlUD"
      },
      "source": [
        "#Vendo o conteúdo do seu arquivo no diretório workspace\n",
        "Vamos usar o comando cat para ver o conteúdo do arquivo. O comando cat é um comando do sistema e não do Python."
      ]
    },
    {
      "cell_type": "code",
      "metadata": {
        "id": "yuTck8CtKMgE",
        "outputId": "f364775a-9b4c-4f36-dfe9-6eba4198502f",
        "colab": {
          "base_uri": "https://localhost:8080/",
          "height": 85
        }
      },
      "source": [
        "!cat /gdrive/My\\ Drive/workspace/lista.csv"
      ],
      "execution_count": null,
      "outputs": [
        {
          "output_type": "stream",
          "text": [
            ",Quantidade,Item,Preço\n",
            "101,3,sucos,15.0\n",
            "102,6,pães,1.2\n",
            "103,4,bananas,1.3\n"
          ],
          "name": "stdout"
        }
      ]
    },
    {
      "cell_type": "markdown",
      "metadata": {
        "id": "3qDgZJWBnOlf"
      },
      "source": [
        "#Lendo o arquivo CSV que foi criado"
      ]
    },
    {
      "cell_type": "code",
      "metadata": {
        "id": "kDxSYTPBJBZc",
        "outputId": "2a885cd3-3b55-4ad3-f15f-201f825e092f",
        "colab": {
          "base_uri": "https://localhost:8080/",
          "height": 85
        }
      },
      "source": [
        "import pandas as pd\n",
        "\n",
        "!ls /gdrive/My\\ Drive/workspace/ > /dev/null #Essa linha é um truque\n",
        "\n",
        "path = \"/gdrive/My Drive/workspace/\"\n",
        "filename = f\"{path}/lista.csv\"\n",
        "\n",
        "df = pd.read_csv(filename)\n",
        "print(df)"
      ],
      "execution_count": null,
      "outputs": [
        {
          "output_type": "stream",
          "text": [
            "   Unnamed: 0  Quantidade     Item  Preço\n",
            "0         101           3    sucos   15.0\n",
            "1         102           6     pães    1.2\n",
            "2         103           4  bananas    1.3\n"
          ],
          "name": "stdout"
        }
      ]
    },
    {
      "cell_type": "markdown",
      "metadata": {
        "id": "aFiI8fjRK_wP"
      },
      "source": [
        "#Acrescentando uma coluna no arquivo\n"
      ]
    },
    {
      "cell_type": "code",
      "metadata": {
        "id": "rz81MOerLDKT",
        "outputId": "6d5235a3-e03b-4cf6-f281-32932240662e",
        "colab": {
          "base_uri": "https://localhost:8080/",
          "height": 142
        }
      },
      "source": [
        "df[\"Desconto\"] = df[\"Preço\"] * 0.1\n",
        "df"
      ],
      "execution_count": null,
      "outputs": [
        {
          "output_type": "execute_result",
          "data": {
            "text/html": [
              "<div>\n",
              "<style scoped>\n",
              "    .dataframe tbody tr th:only-of-type {\n",
              "        vertical-align: middle;\n",
              "    }\n",
              "\n",
              "    .dataframe tbody tr th {\n",
              "        vertical-align: top;\n",
              "    }\n",
              "\n",
              "    .dataframe thead th {\n",
              "        text-align: right;\n",
              "    }\n",
              "</style>\n",
              "<table border=\"1\" class=\"dataframe\">\n",
              "  <thead>\n",
              "    <tr style=\"text-align: right;\">\n",
              "      <th></th>\n",
              "      <th>Quantidade</th>\n",
              "      <th>Item</th>\n",
              "      <th>Preço</th>\n",
              "      <th>Desconto</th>\n",
              "    </tr>\n",
              "  </thead>\n",
              "  <tbody>\n",
              "    <tr>\n",
              "      <th>101</th>\n",
              "      <td>3</td>\n",
              "      <td>sucos</td>\n",
              "      <td>15.0</td>\n",
              "      <td>1.50</td>\n",
              "    </tr>\n",
              "    <tr>\n",
              "      <th>102</th>\n",
              "      <td>6</td>\n",
              "      <td>pães</td>\n",
              "      <td>1.2</td>\n",
              "      <td>0.12</td>\n",
              "    </tr>\n",
              "    <tr>\n",
              "      <th>103</th>\n",
              "      <td>4</td>\n",
              "      <td>bananas</td>\n",
              "      <td>1.3</td>\n",
              "      <td>0.13</td>\n",
              "    </tr>\n",
              "  </tbody>\n",
              "</table>\n",
              "</div>"
            ],
            "text/plain": [
              "     Quantidade     Item  Preço  Desconto\n",
              "101           3    sucos   15.0      1.50\n",
              "102           6     pães    1.2      0.12\n",
              "103           4  bananas    1.3      0.13"
            ]
          },
          "metadata": {
            "tags": []
          },
          "execution_count": 142
        }
      ]
    },
    {
      "cell_type": "markdown",
      "metadata": {
        "id": "ryg_g4c7L0E4"
      },
      "source": [
        "#Gravando as alterações no arquivo"
      ]
    },
    {
      "cell_type": "code",
      "metadata": {
        "id": "wJ-ScDHBL25F",
        "outputId": "8bcc8b67-a7f3-4fe9-bfbf-6bf981a5fd7f",
        "colab": {
          "base_uri": "https://localhost:8080/",
          "height": 102
        }
      },
      "source": [
        "df.to_csv (f\"{path}/lista02.csv\", index = True, header=True)\n",
        "print(df)\n",
        "print (\"Finalizado!\")"
      ],
      "execution_count": null,
      "outputs": [
        {
          "output_type": "stream",
          "text": [
            "     Quantidade     Item  Preço  Desconto\n",
            "101           3    sucos   15.0      1.50\n",
            "102           6     pães    1.2      0.12\n",
            "103           4  bananas    1.3      0.13\n",
            "Finalizado!\n"
          ],
          "name": "stdout"
        }
      ]
    },
    {
      "cell_type": "markdown",
      "metadata": {
        "id": "yyEhzsb7MNDv"
      },
      "source": [
        "#Listando o diretório workspace"
      ]
    },
    {
      "cell_type": "code",
      "metadata": {
        "id": "ZHu_7FbHMQUP",
        "outputId": "7d4d3e2b-5469-4521-c365-204b8816d7ad",
        "colab": {
          "base_uri": "https://localhost:8080/",
          "height": 51
        }
      },
      "source": [
        "!ls /gdrive/My\\ Drive/workspace"
      ],
      "execution_count": null,
      "outputs": [
        {
          "output_type": "stream",
          "text": [
            "alunos.csv\t   batatinha.txt   lista02.csv\tnotas.csv\n",
            "alunos-csv.gsheet  candidatos.csv  lista.csv\tvw_pib_percapita.csv\n"
          ],
          "name": "stdout"
        }
      ]
    },
    {
      "cell_type": "markdown",
      "metadata": {
        "id": "G_DMwj9BMVZd"
      },
      "source": [
        "#Verificando o conteúdo do arquivo"
      ]
    },
    {
      "cell_type": "code",
      "metadata": {
        "id": "HvJDRv9XMXsS",
        "outputId": "99c234ec-34e4-46cb-a036-88657d3f4d7d",
        "colab": {
          "base_uri": "https://localhost:8080/",
          "height": 85
        }
      },
      "source": [
        "!cat /gdrive/My\\ Drive/workspace/lista02.csv"
      ],
      "execution_count": null,
      "outputs": [
        {
          "output_type": "stream",
          "text": [
            ",Quantidade,Item,Preço,Desconto\n",
            "101,3,sucos,15.0,1.5\n",
            "102,6,pães,1.2,0.12\n",
            "103,4,bananas,1.3,0.13\n"
          ],
          "name": "stdout"
        }
      ]
    },
    {
      "cell_type": "markdown",
      "metadata": {
        "id": "68EkdKsBH-nU"
      },
      "source": [
        "#Trabalhando com os dados de um arquivo\n",
        "Vocês precisarão realizar o download desse [arquivo](https://drive.google.com/file/d/115eUihCZYkDQ658QJ-EzcRJXkzWdVwZH/view?usp=sharing) e colocar no drive de vocês, seguindo as orientações dadas anteriormente."
      ]
    },
    {
      "cell_type": "code",
      "metadata": {
        "id": "5Fh7GTghI0st",
        "outputId": "39b8d8e5-7689-40a3-b8bc-16e75815048e",
        "colab": {
          "base_uri": "https://localhost:8080/",
          "height": 238
        }
      },
      "source": [
        "import pandas as pd\n",
        "\n",
        "!ls /gdrive/My\\ Drive/workspace/ > /dev/null #Essa linha é um truque\n",
        "\n",
        "path = \"/gdrive/My Drive/workspace/\"\n",
        "filename = f\"{path}/vw_pib_percapita.csv\"\n",
        "\n",
        "dados = pd.read_csv(filename)\n",
        "print (dados.head(10))"
      ],
      "execution_count": null,
      "outputs": [
        {
          "output_type": "stream",
          "text": [
            "                                               FID  ...                                               geom\n",
            "0  vw_pib_percapita.fid--879d9bb_1726d0dd807_-23a4  ...  MULTIPOLYGON (((-41.458803305191566 -14.781415...\n",
            "1  vw_pib_percapita.fid--879d9bb_1726d0dd807_-23a3  ...  MULTIPOLYGON (((-52.035349932081274 -31.567509...\n",
            "2  vw_pib_percapita.fid--879d9bb_1726d0dd807_-23a2  ...  MULTIPOLYGON (((-40.3292566978242 -20.23997417...\n",
            "3  vw_pib_percapita.fid--879d9bb_1726d0dd807_-23a1  ...  MULTIPOLYGON (((-46.50528160015326 -22.3400120...\n",
            "4  vw_pib_percapita.fid--879d9bb_1726d0dd807_-23a0  ...  POLYGON ((-42.826685407155495 -5.3480291684437...\n",
            "5  vw_pib_percapita.fid--879d9bb_1726d0dd807_-239f  ...  MULTIPOLYGON (((-41.13919020068422 -15.7676618...\n",
            "6  vw_pib_percapita.fid--879d9bb_1726d0dd807_-239e  ...  POLYGON ((-42.8185079355695 -4.78962098497423,...\n",
            "7  vw_pib_percapita.fid--879d9bb_1726d0dd807_-239d  ...  MULTIPOLYGON (((-42.71910579976566 -6.19917695...\n",
            "8  vw_pib_percapita.fid--879d9bb_1726d0dd807_-239c  ...  MULTIPOLYGON (((-50.72714210104406 -15.2513293...\n",
            "9  vw_pib_percapita.fid--879d9bb_1726d0dd807_-239b  ...  MULTIPOLYGON (((-36.223332486171294 -8.4536885...\n",
            "\n",
            "[10 rows x 12 columns]\n"
          ],
          "name": "stdout"
        }
      ]
    },
    {
      "cell_type": "markdown",
      "metadata": {
        "id": "j49_Dcgqq6qY"
      },
      "source": [
        "#Verificando os dados existentes no arquivo\n",
        "Vamos ver as colunas que existem no arquivo de dados."
      ]
    },
    {
      "cell_type": "code",
      "metadata": {
        "id": "aNAyMRdhrD6b",
        "outputId": "00955b4d-290e-4bcf-dadb-5967bb500c68",
        "colab": {
          "base_uri": "https://localhost:8080/",
          "height": 68
        }
      },
      "source": [
        "dados.columns"
      ],
      "execution_count": null,
      "outputs": [
        {
          "output_type": "execute_result",
          "data": {
            "text/plain": [
              "Index(['FID', 'gid', 'UF', 'nome', 'Censo', 'PIB', 'Pop_est_2009',\n",
              "       'PIB_percapita', 'Descrição', 'legenda', 'classe', 'geom'],\n",
              "      dtype='object')"
            ]
          },
          "metadata": {
            "tags": []
          },
          "execution_count": 16
        }
      ]
    },
    {
      "cell_type": "markdown",
      "metadata": {
        "id": "C0IxAJeUrfbr"
      },
      "source": [
        "#Filtrar as colunas de interesse\n",
        "As colunas de interesse para nós são UF, nome, Censo, PIB, Pop_est_2009, PIB_percapita."
      ]
    },
    {
      "cell_type": "code",
      "metadata": {
        "id": "uH8uHcI4tuwE",
        "outputId": "eb2631d7-106c-4691-ed92-809800258ea9",
        "colab": {
          "base_uri": "https://localhost:8080/",
          "height": 327
        }
      },
      "source": [
        "df = dados [[\"uf\", \"nome\"]]"
      ],
      "execution_count": null,
      "outputs": [
        {
          "output_type": "error",
          "ename": "KeyError",
          "evalue": "ignored",
          "traceback": [
            "\u001b[0;31m---------------------------------------------------------------------------\u001b[0m",
            "\u001b[0;31mKeyError\u001b[0m                                  Traceback (most recent call last)",
            "\u001b[0;32m<ipython-input-163-5bd2095fa356>\u001b[0m in \u001b[0;36m<module>\u001b[0;34m()\u001b[0m\n\u001b[0;32m----> 1\u001b[0;31m \u001b[0mdf\u001b[0m \u001b[0;34m=\u001b[0m \u001b[0mdados\u001b[0m \u001b[0;34m[\u001b[0m\u001b[0;34m[\u001b[0m\u001b[0;34m\"uf\"\u001b[0m\u001b[0;34m,\u001b[0m \u001b[0;34m\"nome\"\u001b[0m\u001b[0;34m]\u001b[0m\u001b[0;34m]\u001b[0m\u001b[0;34m\u001b[0m\u001b[0;34m\u001b[0m\u001b[0m\n\u001b[0m",
            "\u001b[0;32m/usr/local/lib/python3.6/dist-packages/pandas/core/frame.py\u001b[0m in \u001b[0;36m__getitem__\u001b[0;34m(self, key)\u001b[0m\n\u001b[1;32m   2804\u001b[0m             \u001b[0;32mif\u001b[0m \u001b[0mis_iterator\u001b[0m\u001b[0;34m(\u001b[0m\u001b[0mkey\u001b[0m\u001b[0;34m)\u001b[0m\u001b[0;34m:\u001b[0m\u001b[0;34m\u001b[0m\u001b[0;34m\u001b[0m\u001b[0m\n\u001b[1;32m   2805\u001b[0m                 \u001b[0mkey\u001b[0m \u001b[0;34m=\u001b[0m \u001b[0mlist\u001b[0m\u001b[0;34m(\u001b[0m\u001b[0mkey\u001b[0m\u001b[0;34m)\u001b[0m\u001b[0;34m\u001b[0m\u001b[0;34m\u001b[0m\u001b[0m\n\u001b[0;32m-> 2806\u001b[0;31m             \u001b[0mindexer\u001b[0m \u001b[0;34m=\u001b[0m \u001b[0mself\u001b[0m\u001b[0;34m.\u001b[0m\u001b[0mloc\u001b[0m\u001b[0;34m.\u001b[0m\u001b[0m_get_listlike_indexer\u001b[0m\u001b[0;34m(\u001b[0m\u001b[0mkey\u001b[0m\u001b[0;34m,\u001b[0m \u001b[0maxis\u001b[0m\u001b[0;34m=\u001b[0m\u001b[0;36m1\u001b[0m\u001b[0;34m,\u001b[0m \u001b[0mraise_missing\u001b[0m\u001b[0;34m=\u001b[0m\u001b[0;32mTrue\u001b[0m\u001b[0;34m)\u001b[0m\u001b[0;34m[\u001b[0m\u001b[0;36m1\u001b[0m\u001b[0;34m]\u001b[0m\u001b[0;34m\u001b[0m\u001b[0;34m\u001b[0m\u001b[0m\n\u001b[0m\u001b[1;32m   2807\u001b[0m \u001b[0;34m\u001b[0m\u001b[0m\n\u001b[1;32m   2808\u001b[0m         \u001b[0;31m# take() does not accept boolean indexers\u001b[0m\u001b[0;34m\u001b[0m\u001b[0;34m\u001b[0m\u001b[0;34m\u001b[0m\u001b[0m\n",
            "\u001b[0;32m/usr/local/lib/python3.6/dist-packages/pandas/core/indexing.py\u001b[0m in \u001b[0;36m_get_listlike_indexer\u001b[0;34m(self, key, axis, raise_missing)\u001b[0m\n\u001b[1;32m   1551\u001b[0m \u001b[0;34m\u001b[0m\u001b[0m\n\u001b[1;32m   1552\u001b[0m         self._validate_read_indexer(\n\u001b[0;32m-> 1553\u001b[0;31m             \u001b[0mkeyarr\u001b[0m\u001b[0;34m,\u001b[0m \u001b[0mindexer\u001b[0m\u001b[0;34m,\u001b[0m \u001b[0mo\u001b[0m\u001b[0;34m.\u001b[0m\u001b[0m_get_axis_number\u001b[0m\u001b[0;34m(\u001b[0m\u001b[0maxis\u001b[0m\u001b[0;34m)\u001b[0m\u001b[0;34m,\u001b[0m \u001b[0mraise_missing\u001b[0m\u001b[0;34m=\u001b[0m\u001b[0mraise_missing\u001b[0m\u001b[0;34m\u001b[0m\u001b[0;34m\u001b[0m\u001b[0m\n\u001b[0m\u001b[1;32m   1554\u001b[0m         )\n\u001b[1;32m   1555\u001b[0m         \u001b[0;32mreturn\u001b[0m \u001b[0mkeyarr\u001b[0m\u001b[0;34m,\u001b[0m \u001b[0mindexer\u001b[0m\u001b[0;34m\u001b[0m\u001b[0;34m\u001b[0m\u001b[0m\n",
            "\u001b[0;32m/usr/local/lib/python3.6/dist-packages/pandas/core/indexing.py\u001b[0m in \u001b[0;36m_validate_read_indexer\u001b[0;34m(self, key, indexer, axis, raise_missing)\u001b[0m\n\u001b[1;32m   1644\u001b[0m             \u001b[0;32mif\u001b[0m \u001b[0;32mnot\u001b[0m \u001b[0;34m(\u001b[0m\u001b[0mself\u001b[0m\u001b[0;34m.\u001b[0m\u001b[0mname\u001b[0m \u001b[0;34m==\u001b[0m \u001b[0;34m\"loc\"\u001b[0m \u001b[0;32mand\u001b[0m \u001b[0;32mnot\u001b[0m \u001b[0mraise_missing\u001b[0m\u001b[0;34m)\u001b[0m\u001b[0;34m:\u001b[0m\u001b[0;34m\u001b[0m\u001b[0;34m\u001b[0m\u001b[0m\n\u001b[1;32m   1645\u001b[0m                 \u001b[0mnot_found\u001b[0m \u001b[0;34m=\u001b[0m \u001b[0mlist\u001b[0m\u001b[0;34m(\u001b[0m\u001b[0mset\u001b[0m\u001b[0;34m(\u001b[0m\u001b[0mkey\u001b[0m\u001b[0;34m)\u001b[0m \u001b[0;34m-\u001b[0m \u001b[0mset\u001b[0m\u001b[0;34m(\u001b[0m\u001b[0max\u001b[0m\u001b[0;34m)\u001b[0m\u001b[0;34m)\u001b[0m\u001b[0;34m\u001b[0m\u001b[0;34m\u001b[0m\u001b[0m\n\u001b[0;32m-> 1646\u001b[0;31m                 \u001b[0;32mraise\u001b[0m \u001b[0mKeyError\u001b[0m\u001b[0;34m(\u001b[0m\u001b[0;34mf\"{not_found} not in index\"\u001b[0m\u001b[0;34m)\u001b[0m\u001b[0;34m\u001b[0m\u001b[0;34m\u001b[0m\u001b[0m\n\u001b[0m\u001b[1;32m   1647\u001b[0m \u001b[0;34m\u001b[0m\u001b[0m\n\u001b[1;32m   1648\u001b[0m             \u001b[0;31m# we skip the warning on Categorical/Interval\u001b[0m\u001b[0;34m\u001b[0m\u001b[0;34m\u001b[0m\u001b[0;34m\u001b[0m\u001b[0m\n",
            "\u001b[0;31mKeyError\u001b[0m: \"['uf'] not in index\""
          ]
        }
      ]
    },
    {
      "cell_type": "markdown",
      "metadata": {
        "id": "HiBiGbTAt9MD"
      },
      "source": [
        "O erro ocorreu porque os nomes das colunas precisam ser exatamente igual ao que você obteve em *dados.columns*. Neste caso, uf está deve estar em maíscula, isto é, \"UF\".\n",
        "\n",
        "Agora, vamos ver a listagem com as colunas de interesse."
      ]
    },
    {
      "cell_type": "code",
      "metadata": {
        "id": "pDo7YU_1ri3h",
        "outputId": "babaaa09-a8ec-4a7c-f395-2326d86e6568",
        "colab": {
          "base_uri": "https://localhost:8080/",
          "height": 419
        }
      },
      "source": [
        "df = dados[[\"UF\", \"nome\", \"Censo\", \"PIB\", \"Pop_est_2009\", \"PIB_percapita\"]]\n",
        "df"
      ],
      "execution_count": null,
      "outputs": [
        {
          "output_type": "execute_result",
          "data": {
            "text/html": [
              "<div>\n",
              "<style scoped>\n",
              "    .dataframe tbody tr th:only-of-type {\n",
              "        vertical-align: middle;\n",
              "    }\n",
              "\n",
              "    .dataframe tbody tr th {\n",
              "        vertical-align: top;\n",
              "    }\n",
              "\n",
              "    .dataframe thead th {\n",
              "        text-align: right;\n",
              "    }\n",
              "</style>\n",
              "<table border=\"1\" class=\"dataframe\">\n",
              "  <thead>\n",
              "    <tr style=\"text-align: right;\">\n",
              "      <th></th>\n",
              "      <th>UF</th>\n",
              "      <th>nome</th>\n",
              "      <th>Censo</th>\n",
              "      <th>PIB</th>\n",
              "      <th>Pop_est_2009</th>\n",
              "      <th>PIB_percapita</th>\n",
              "    </tr>\n",
              "  </thead>\n",
              "  <tbody>\n",
              "    <tr>\n",
              "      <th>0</th>\n",
              "      <td>BAHIA</td>\n",
              "      <td>Tremedal</td>\n",
              "      <td>2010.0</td>\n",
              "      <td>5.788399e+04</td>\n",
              "      <td>18433</td>\n",
              "      <td>3140.239990</td>\n",
              "    </tr>\n",
              "    <tr>\n",
              "      <th>1</th>\n",
              "      <td>RIO GRANDE DO SUL</td>\n",
              "      <td>Turuçu</td>\n",
              "      <td>2010.0</td>\n",
              "      <td>4.572388e+04</td>\n",
              "      <td>4000</td>\n",
              "      <td>11430.969727</td>\n",
              "    </tr>\n",
              "    <tr>\n",
              "      <th>2</th>\n",
              "      <td>ESPIRITO SANTO</td>\n",
              "      <td>Vitória</td>\n",
              "      <td>2010.0</td>\n",
              "      <td>1.978263e+07</td>\n",
              "      <td>320156</td>\n",
              "      <td>61790.589844</td>\n",
              "    </tr>\n",
              "    <tr>\n",
              "      <th>3</th>\n",
              "      <td>MINAS GERAIS</td>\n",
              "      <td>Jacutinga</td>\n",
              "      <td>2010.0</td>\n",
              "      <td>2.478160e+05</td>\n",
              "      <td>21424</td>\n",
              "      <td>11567.209961</td>\n",
              "    </tr>\n",
              "    <tr>\n",
              "      <th>4</th>\n",
              "      <td>PIAUÍ</td>\n",
              "      <td>Nazária</td>\n",
              "      <td>2010.0</td>\n",
              "      <td>2.095138e+04</td>\n",
              "      <td>7895</td>\n",
              "      <td>2653.750000</td>\n",
              "    </tr>\n",
              "    <tr>\n",
              "      <th>...</th>\n",
              "      <td>...</td>\n",
              "      <td>...</td>\n",
              "      <td>...</td>\n",
              "      <td>...</td>\n",
              "      <td>...</td>\n",
              "      <td>...</td>\n",
              "    </tr>\n",
              "    <tr>\n",
              "      <th>5561</th>\n",
              "      <td>SANTA CATARINA</td>\n",
              "      <td>Campo Erê</td>\n",
              "      <td>2010.0</td>\n",
              "      <td>1.876289e+05</td>\n",
              "      <td>9737</td>\n",
              "      <td>19269.679688</td>\n",
              "    </tr>\n",
              "    <tr>\n",
              "      <th>5562</th>\n",
              "      <td>PARANÁ</td>\n",
              "      <td>Planalto</td>\n",
              "      <td>2010.0</td>\n",
              "      <td>1.385535e+05</td>\n",
              "      <td>13983</td>\n",
              "      <td>9908.709961</td>\n",
              "    </tr>\n",
              "    <tr>\n",
              "      <th>5563</th>\n",
              "      <td>SÃO PAULO</td>\n",
              "      <td>Guararapes</td>\n",
              "      <td>2010.0</td>\n",
              "      <td>5.320191e+05</td>\n",
              "      <td>29639</td>\n",
              "      <td>17949.970703</td>\n",
              "    </tr>\n",
              "    <tr>\n",
              "      <th>5564</th>\n",
              "      <td>RIO GRANDE DO SUL</td>\n",
              "      <td>Barra do Guarita</td>\n",
              "      <td>2010.0</td>\n",
              "      <td>2.198064e+04</td>\n",
              "      <td>3067</td>\n",
              "      <td>7166.819824</td>\n",
              "    </tr>\n",
              "    <tr>\n",
              "      <th>5565</th>\n",
              "      <td>RIO GRANDE DO SUL</td>\n",
              "      <td>Machadinho</td>\n",
              "      <td>2010.0</td>\n",
              "      <td>5.715017e+04</td>\n",
              "      <td>5623</td>\n",
              "      <td>10163.639648</td>\n",
              "    </tr>\n",
              "  </tbody>\n",
              "</table>\n",
              "<p>5566 rows × 6 columns</p>\n",
              "</div>"
            ],
            "text/plain": [
              "                     UF              nome  ...  Pop_est_2009  PIB_percapita\n",
              "0                 BAHIA          Tremedal  ...         18433    3140.239990\n",
              "1     RIO GRANDE DO SUL            Turuçu  ...          4000   11430.969727\n",
              "2        ESPIRITO SANTO           Vitória  ...        320156   61790.589844\n",
              "3          MINAS GERAIS         Jacutinga  ...         21424   11567.209961\n",
              "4                 PIAUÍ           Nazária  ...          7895    2653.750000\n",
              "...                 ...               ...  ...           ...            ...\n",
              "5561     SANTA CATARINA         Campo Erê  ...          9737   19269.679688\n",
              "5562             PARANÁ          Planalto  ...         13983    9908.709961\n",
              "5563          SÃO PAULO        Guararapes  ...         29639   17949.970703\n",
              "5564  RIO GRANDE DO SUL  Barra do Guarita  ...          3067    7166.819824\n",
              "5565  RIO GRANDE DO SUL        Machadinho  ...          5623   10163.639648\n",
              "\n",
              "[5566 rows x 6 columns]"
            ]
          },
          "metadata": {
            "tags": []
          },
          "execution_count": 164
        }
      ]
    },
    {
      "cell_type": "markdown",
      "metadata": {
        "id": "LyuszsAXsvnw"
      },
      "source": [
        "Como podemos ver, o arquivo é muito grande e não temos a pretensão de trabalhar com essa quantidade de dados. Então vamos diminuir essa quantidade de dados."
      ]
    },
    {
      "cell_type": "code",
      "metadata": {
        "id": "oCOSl6t7s3ti",
        "outputId": "dc47470a-d7b4-40f7-a598-b4d8893866cb",
        "colab": {
          "base_uri": "https://localhost:8080/",
          "height": 359
        }
      },
      "source": [
        "df = dados.loc[:9, [\"UF\", \"nome\", \"Censo\", \"PIB\", \"Pop_est_2009\", \"PIB_percapita\"]]\n",
        "df"
      ],
      "execution_count": null,
      "outputs": [
        {
          "output_type": "execute_result",
          "data": {
            "text/html": [
              "<div>\n",
              "<style scoped>\n",
              "    .dataframe tbody tr th:only-of-type {\n",
              "        vertical-align: middle;\n",
              "    }\n",
              "\n",
              "    .dataframe tbody tr th {\n",
              "        vertical-align: top;\n",
              "    }\n",
              "\n",
              "    .dataframe thead th {\n",
              "        text-align: right;\n",
              "    }\n",
              "</style>\n",
              "<table border=\"1\" class=\"dataframe\">\n",
              "  <thead>\n",
              "    <tr style=\"text-align: right;\">\n",
              "      <th></th>\n",
              "      <th>UF</th>\n",
              "      <th>nome</th>\n",
              "      <th>Censo</th>\n",
              "      <th>PIB</th>\n",
              "      <th>Pop_est_2009</th>\n",
              "      <th>PIB_percapita</th>\n",
              "    </tr>\n",
              "  </thead>\n",
              "  <tbody>\n",
              "    <tr>\n",
              "      <th>0</th>\n",
              "      <td>BAHIA</td>\n",
              "      <td>Tremedal</td>\n",
              "      <td>2010.0</td>\n",
              "      <td>5.788399e+04</td>\n",
              "      <td>18433</td>\n",
              "      <td>3140.239990</td>\n",
              "    </tr>\n",
              "    <tr>\n",
              "      <th>1</th>\n",
              "      <td>RIO GRANDE DO SUL</td>\n",
              "      <td>Turuçu</td>\n",
              "      <td>2010.0</td>\n",
              "      <td>4.572388e+04</td>\n",
              "      <td>4000</td>\n",
              "      <td>11430.969727</td>\n",
              "    </tr>\n",
              "    <tr>\n",
              "      <th>2</th>\n",
              "      <td>ESPIRITO SANTO</td>\n",
              "      <td>Vitória</td>\n",
              "      <td>2010.0</td>\n",
              "      <td>1.978263e+07</td>\n",
              "      <td>320156</td>\n",
              "      <td>61790.589844</td>\n",
              "    </tr>\n",
              "    <tr>\n",
              "      <th>3</th>\n",
              "      <td>MINAS GERAIS</td>\n",
              "      <td>Jacutinga</td>\n",
              "      <td>2010.0</td>\n",
              "      <td>2.478160e+05</td>\n",
              "      <td>21424</td>\n",
              "      <td>11567.209961</td>\n",
              "    </tr>\n",
              "    <tr>\n",
              "      <th>4</th>\n",
              "      <td>PIAUÍ</td>\n",
              "      <td>Nazária</td>\n",
              "      <td>2010.0</td>\n",
              "      <td>2.095138e+04</td>\n",
              "      <td>7895</td>\n",
              "      <td>2653.750000</td>\n",
              "    </tr>\n",
              "    <tr>\n",
              "      <th>5</th>\n",
              "      <td>MINAS GERAIS</td>\n",
              "      <td>Pedra Azul</td>\n",
              "      <td>2010.0</td>\n",
              "      <td>1.875237e+05</td>\n",
              "      <td>26000</td>\n",
              "      <td>7212.450195</td>\n",
              "    </tr>\n",
              "    <tr>\n",
              "      <th>6</th>\n",
              "      <td>PIAUÍ</td>\n",
              "      <td>Teresina</td>\n",
              "      <td>2010.0</td>\n",
              "      <td>8.700461e+06</td>\n",
              "      <td>802537</td>\n",
              "      <td>10841.200195</td>\n",
              "    </tr>\n",
              "    <tr>\n",
              "      <th>7</th>\n",
              "      <td>PIAUÍ</td>\n",
              "      <td>Amarante</td>\n",
              "      <td>2010.0</td>\n",
              "      <td>6.532289e+04</td>\n",
              "      <td>17892</td>\n",
              "      <td>3650.949951</td>\n",
              "    </tr>\n",
              "    <tr>\n",
              "      <th>8</th>\n",
              "      <td>GOIÁS</td>\n",
              "      <td>Matrinchã</td>\n",
              "      <td>2010.0</td>\n",
              "      <td>4.591055e+04</td>\n",
              "      <td>4420</td>\n",
              "      <td>10387.000000</td>\n",
              "    </tr>\n",
              "    <tr>\n",
              "      <th>9</th>\n",
              "      <td>PERNAMBUCO</td>\n",
              "      <td>Cachoeirinha</td>\n",
              "      <td>2010.0</td>\n",
              "      <td>8.043380e+04</td>\n",
              "      <td>18123</td>\n",
              "      <td>4438.220215</td>\n",
              "    </tr>\n",
              "  </tbody>\n",
              "</table>\n",
              "</div>"
            ],
            "text/plain": [
              "                  UF          nome  ...  Pop_est_2009  PIB_percapita\n",
              "0              BAHIA      Tremedal  ...         18433    3140.239990\n",
              "1  RIO GRANDE DO SUL        Turuçu  ...          4000   11430.969727\n",
              "2     ESPIRITO SANTO       Vitória  ...        320156   61790.589844\n",
              "3       MINAS GERAIS     Jacutinga  ...         21424   11567.209961\n",
              "4              PIAUÍ       Nazária  ...          7895    2653.750000\n",
              "5       MINAS GERAIS    Pedra Azul  ...         26000    7212.450195\n",
              "6              PIAUÍ      Teresina  ...        802537   10841.200195\n",
              "7              PIAUÍ      Amarante  ...         17892    3650.949951\n",
              "8              GOIÁS     Matrinchã  ...          4420   10387.000000\n",
              "9         PERNAMBUCO  Cachoeirinha  ...         18123    4438.220215\n",
              "\n",
              "[10 rows x 6 columns]"
            ]
          },
          "metadata": {
            "tags": []
          },
          "execution_count": 165
        }
      ]
    },
    {
      "cell_type": "markdown",
      "metadata": {
        "id": "BeBPIFJovntO"
      },
      "source": [
        "#Ordenando nossos dados\n",
        "Vamos ordenar nosso dados pelo tamanho da população."
      ]
    },
    {
      "cell_type": "code",
      "metadata": {
        "id": "lVGOfeNIvdTi",
        "outputId": "e618844c-1bcc-4b7a-d948-8fcfa36d872b",
        "colab": {
          "base_uri": "https://localhost:8080/",
          "height": 359
        }
      },
      "source": [
        "df.sort_values(by=\"Pop_est_2009\")"
      ],
      "execution_count": null,
      "outputs": [
        {
          "output_type": "execute_result",
          "data": {
            "text/html": [
              "<div>\n",
              "<style scoped>\n",
              "    .dataframe tbody tr th:only-of-type {\n",
              "        vertical-align: middle;\n",
              "    }\n",
              "\n",
              "    .dataframe tbody tr th {\n",
              "        vertical-align: top;\n",
              "    }\n",
              "\n",
              "    .dataframe thead th {\n",
              "        text-align: right;\n",
              "    }\n",
              "</style>\n",
              "<table border=\"1\" class=\"dataframe\">\n",
              "  <thead>\n",
              "    <tr style=\"text-align: right;\">\n",
              "      <th></th>\n",
              "      <th>UF</th>\n",
              "      <th>nome</th>\n",
              "      <th>Censo</th>\n",
              "      <th>PIB</th>\n",
              "      <th>Pop_est_2009</th>\n",
              "      <th>PIB_percapita</th>\n",
              "    </tr>\n",
              "  </thead>\n",
              "  <tbody>\n",
              "    <tr>\n",
              "      <th>1</th>\n",
              "      <td>RIO GRANDE DO SUL</td>\n",
              "      <td>Turuçu</td>\n",
              "      <td>2010.0</td>\n",
              "      <td>4.572388e+04</td>\n",
              "      <td>4000</td>\n",
              "      <td>11430.969727</td>\n",
              "    </tr>\n",
              "    <tr>\n",
              "      <th>8</th>\n",
              "      <td>GOIÁS</td>\n",
              "      <td>Matrinchã</td>\n",
              "      <td>2010.0</td>\n",
              "      <td>4.591055e+04</td>\n",
              "      <td>4420</td>\n",
              "      <td>10387.000000</td>\n",
              "    </tr>\n",
              "    <tr>\n",
              "      <th>4</th>\n",
              "      <td>PIAUÍ</td>\n",
              "      <td>Nazária</td>\n",
              "      <td>2010.0</td>\n",
              "      <td>2.095138e+04</td>\n",
              "      <td>7895</td>\n",
              "      <td>2653.750000</td>\n",
              "    </tr>\n",
              "    <tr>\n",
              "      <th>7</th>\n",
              "      <td>PIAUÍ</td>\n",
              "      <td>Amarante</td>\n",
              "      <td>2010.0</td>\n",
              "      <td>6.532289e+04</td>\n",
              "      <td>17892</td>\n",
              "      <td>3650.949951</td>\n",
              "    </tr>\n",
              "    <tr>\n",
              "      <th>9</th>\n",
              "      <td>PERNAMBUCO</td>\n",
              "      <td>Cachoeirinha</td>\n",
              "      <td>2010.0</td>\n",
              "      <td>8.043380e+04</td>\n",
              "      <td>18123</td>\n",
              "      <td>4438.220215</td>\n",
              "    </tr>\n",
              "    <tr>\n",
              "      <th>0</th>\n",
              "      <td>BAHIA</td>\n",
              "      <td>Tremedal</td>\n",
              "      <td>2010.0</td>\n",
              "      <td>5.788399e+04</td>\n",
              "      <td>18433</td>\n",
              "      <td>3140.239990</td>\n",
              "    </tr>\n",
              "    <tr>\n",
              "      <th>3</th>\n",
              "      <td>MINAS GERAIS</td>\n",
              "      <td>Jacutinga</td>\n",
              "      <td>2010.0</td>\n",
              "      <td>2.478160e+05</td>\n",
              "      <td>21424</td>\n",
              "      <td>11567.209961</td>\n",
              "    </tr>\n",
              "    <tr>\n",
              "      <th>5</th>\n",
              "      <td>MINAS GERAIS</td>\n",
              "      <td>Pedra Azul</td>\n",
              "      <td>2010.0</td>\n",
              "      <td>1.875237e+05</td>\n",
              "      <td>26000</td>\n",
              "      <td>7212.450195</td>\n",
              "    </tr>\n",
              "    <tr>\n",
              "      <th>2</th>\n",
              "      <td>ESPIRITO SANTO</td>\n",
              "      <td>Vitória</td>\n",
              "      <td>2010.0</td>\n",
              "      <td>1.978263e+07</td>\n",
              "      <td>320156</td>\n",
              "      <td>61790.589844</td>\n",
              "    </tr>\n",
              "    <tr>\n",
              "      <th>6</th>\n",
              "      <td>PIAUÍ</td>\n",
              "      <td>Teresina</td>\n",
              "      <td>2010.0</td>\n",
              "      <td>8.700461e+06</td>\n",
              "      <td>802537</td>\n",
              "      <td>10841.200195</td>\n",
              "    </tr>\n",
              "  </tbody>\n",
              "</table>\n",
              "</div>"
            ],
            "text/plain": [
              "                  UF          nome  ...  Pop_est_2009  PIB_percapita\n",
              "1  RIO GRANDE DO SUL        Turuçu  ...          4000   11430.969727\n",
              "8              GOIÁS     Matrinchã  ...          4420   10387.000000\n",
              "4              PIAUÍ       Nazária  ...          7895    2653.750000\n",
              "7              PIAUÍ      Amarante  ...         17892    3650.949951\n",
              "9         PERNAMBUCO  Cachoeirinha  ...         18123    4438.220215\n",
              "0              BAHIA      Tremedal  ...         18433    3140.239990\n",
              "3       MINAS GERAIS     Jacutinga  ...         21424   11567.209961\n",
              "5       MINAS GERAIS    Pedra Azul  ...         26000    7212.450195\n",
              "2     ESPIRITO SANTO       Vitória  ...        320156   61790.589844\n",
              "6              PIAUÍ      Teresina  ...        802537   10841.200195\n",
              "\n",
              "[10 rows x 6 columns]"
            ]
          },
          "metadata": {
            "tags": []
          },
          "execution_count": 166
        }
      ]
    },
    {
      "cell_type": "markdown",
      "metadata": {
        "id": "kCDhk0RKvBni"
      },
      "source": [
        "#Listando um estado de interesse\n",
        "Vamos criar um filtro para listar somente o nosso estado de interesse."
      ]
    },
    {
      "cell_type": "code",
      "metadata": {
        "id": "qhrOols_w3Ww",
        "outputId": "cffa1f6a-adfe-424a-ea09-9ee2117953c3",
        "colab": {
          "base_uri": "https://localhost:8080/",
          "height": 142
        }
      },
      "source": [
        "filtro = df[\"UF\"] == \"PIAUÍ\"\n",
        "df[filtro]"
      ],
      "execution_count": null,
      "outputs": [
        {
          "output_type": "execute_result",
          "data": {
            "text/html": [
              "<div>\n",
              "<style scoped>\n",
              "    .dataframe tbody tr th:only-of-type {\n",
              "        vertical-align: middle;\n",
              "    }\n",
              "\n",
              "    .dataframe tbody tr th {\n",
              "        vertical-align: top;\n",
              "    }\n",
              "\n",
              "    .dataframe thead th {\n",
              "        text-align: right;\n",
              "    }\n",
              "</style>\n",
              "<table border=\"1\" class=\"dataframe\">\n",
              "  <thead>\n",
              "    <tr style=\"text-align: right;\">\n",
              "      <th></th>\n",
              "      <th>UF</th>\n",
              "      <th>nome</th>\n",
              "      <th>Censo</th>\n",
              "      <th>PIB</th>\n",
              "      <th>Pop_est_2009</th>\n",
              "      <th>PIB_percapita</th>\n",
              "    </tr>\n",
              "  </thead>\n",
              "  <tbody>\n",
              "    <tr>\n",
              "      <th>4</th>\n",
              "      <td>PIAUÍ</td>\n",
              "      <td>Nazária</td>\n",
              "      <td>2010.0</td>\n",
              "      <td>2.095138e+04</td>\n",
              "      <td>7895</td>\n",
              "      <td>2653.750000</td>\n",
              "    </tr>\n",
              "    <tr>\n",
              "      <th>6</th>\n",
              "      <td>PIAUÍ</td>\n",
              "      <td>Teresina</td>\n",
              "      <td>2010.0</td>\n",
              "      <td>8.700461e+06</td>\n",
              "      <td>802537</td>\n",
              "      <td>10841.200195</td>\n",
              "    </tr>\n",
              "    <tr>\n",
              "      <th>7</th>\n",
              "      <td>PIAUÍ</td>\n",
              "      <td>Amarante</td>\n",
              "      <td>2010.0</td>\n",
              "      <td>6.532289e+04</td>\n",
              "      <td>17892</td>\n",
              "      <td>3650.949951</td>\n",
              "    </tr>\n",
              "  </tbody>\n",
              "</table>\n",
              "</div>"
            ],
            "text/plain": [
              "      UF      nome   Censo           PIB  Pop_est_2009  PIB_percapita\n",
              "4  PIAUÍ   Nazária  2010.0  2.095138e+04          7895    2653.750000\n",
              "6  PIAUÍ  Teresina  2010.0  8.700461e+06        802537   10841.200195\n",
              "7  PIAUÍ  Amarante  2010.0  6.532289e+04         17892    3650.949951"
            ]
          },
          "metadata": {
            "tags": []
          },
          "execution_count": 167
        }
      ]
    },
    {
      "cell_type": "markdown",
      "metadata": {
        "id": "818-pVjxyCSm"
      },
      "source": [
        "Mas, o que esse cara \"filtro\" faz? Ele vai receber um valor *bool* que terá *TRUE* quando encontrar \"PIAUÍ\", neste caso, no nosso DataFrame."
      ]
    },
    {
      "cell_type": "code",
      "metadata": {
        "id": "x14CHtM-x2HJ",
        "outputId": "cbe1487b-c751-45d5-c0fe-09733f46e6b2",
        "colab": {
          "base_uri": "https://localhost:8080/",
          "height": 204
        }
      },
      "source": [
        "filtro"
      ],
      "execution_count": null,
      "outputs": [
        {
          "output_type": "execute_result",
          "data": {
            "text/plain": [
              "0    False\n",
              "1    False\n",
              "2    False\n",
              "3    False\n",
              "4     True\n",
              "5    False\n",
              "6     True\n",
              "7     True\n",
              "8    False\n",
              "9    False\n",
              "Name: UF, dtype: bool"
            ]
          },
          "metadata": {
            "tags": []
          },
          "execution_count": 40
        }
      ]
    },
    {
      "cell_type": "markdown",
      "metadata": {
        "id": "b3liHaro0bOF"
      },
      "source": [
        "#Trabalhando com os dados de interesse"
      ]
    },
    {
      "cell_type": "code",
      "metadata": {
        "id": "yDdsDFYQ08yj",
        "outputId": "da4a94bb-a01d-43b5-9fc6-d98ba10fc458",
        "colab": {
          "base_uri": "https://localhost:8080/",
          "height": 34
        }
      },
      "source": [
        "Tpop = piaui[\"Pop_est_2009\"].sum()\n",
        "print (f\"Total da população do estado do Piauí: {Tpop}\")"
      ],
      "execution_count": null,
      "outputs": [
        {
          "output_type": "stream",
          "text": [
            "Total da população do estado do Piauí: 828324\n"
          ],
          "name": "stdout"
        }
      ]
    },
    {
      "cell_type": "code",
      "metadata": {
        "id": "j4Eo8u8Ryl_-",
        "outputId": "b2b510a4-afcf-440b-b109-bcb185bb6865",
        "colab": {
          "base_uri": "https://localhost:8080/",
          "height": 34
        }
      },
      "source": [
        "piaui = df[filtro]\n",
        "media = piaui['PIB_percapita'].mean()\n",
        "print (f\"Média da renda percapita do estado do Piauí: :{media:.2f}\")"
      ],
      "execution_count": null,
      "outputs": [
        {
          "output_type": "stream",
          "text": [
            "Média da renda percapita do estado do Piauí: :5715.30\n"
          ],
          "name": "stdout"
        }
      ]
    },
    {
      "cell_type": "code",
      "metadata": {
        "id": "yAzJCOax0g7z",
        "outputId": "459581b3-f05c-4a4f-c0c1-5b704ee1d83a",
        "colab": {
          "base_uri": "https://localhost:8080/",
          "height": 34
        }
      },
      "source": [
        "dv = piaui[\"PIB_percapita\"].std()\n",
        "print (f\"Desvio padrão da renda percapita do estado do Piauí: :{dv:.2f}\")"
      ],
      "execution_count": null,
      "outputs": [
        {
          "output_type": "stream",
          "text": [
            "Desvio padrão da renda percapita do estado do Piauí: :4467.07\n"
          ],
          "name": "stdout"
        }
      ]
    },
    {
      "cell_type": "markdown",
      "metadata": {
        "id": "pHkHK6EQWyQf"
      },
      "source": [
        "#Plotando gráficos a partir dos dados de um arquivo"
      ]
    },
    {
      "cell_type": "code",
      "metadata": {
        "id": "Ba3K3AU12qrt",
        "outputId": "2301a47f-d45e-4242-f450-b16fe9cd8fcb",
        "colab": {
          "base_uri": "https://localhost:8080/",
          "height": 293
        }
      },
      "source": [
        "import matplotlib.pyplot as plt\n",
        "\n",
        "df[\"PIB\"].plot()"
      ],
      "execution_count": null,
      "outputs": [
        {
          "output_type": "execute_result",
          "data": {
            "text/plain": [
              "<matplotlib.axes._subplots.AxesSubplot at 0x7f8e5290a1d0>"
            ]
          },
          "metadata": {
            "tags": []
          },
          "execution_count": 186
        },
        {
          "output_type": "display_data",
          "data": {
            "image/png": "[encoded data removed]",
            "text/plain": [
              "<Figure size 432x288 with 1 Axes>"
            ]
          },
          "metadata": {
            "tags": [],
            "needs_background": "light"
          }
        }
      ]
    },
    {
      "cell_type": "code",
      "metadata": {
        "id": "jGL-NOG6Q64W",
        "outputId": "544e434c-1d11-4380-a6f4-3890e3c207cf",
        "colab": {
          "base_uri": "https://localhost:8080/",
          "height": 276
        }
      },
      "source": [
        "import matplotlib.pyplot as plt\n",
        "\n",
        "df.loc[:, [\"PIB\", \"PIB_percapita\"]].plot()\n",
        "plt.show()"
      ],
      "execution_count": null,
      "outputs": [
        {
          "output_type": "display_data",
          "data": {
            "image/png": "[encoded data removed]",
            "text/plain": [
              "<Figure size 432x288 with 1 Axes>"
            ]
          },
          "metadata": {
            "tags": [],
            "needs_background": "light"
          }
        }
      ]
    },
    {
      "cell_type": "code",
      "metadata": {
        "id": "ngrxBpn-3Hxo",
        "outputId": "16ebceeb-ab58-43f3-9040-3be0e5c9c294",
        "colab": {
          "base_uri": "https://localhost:8080/",
          "height": 295
        }
      },
      "source": [
        "import matplotlib.pyplot as plt\n",
        "\n",
        "df[\"PIB\"].plot.hist()"
      ],
      "execution_count": null,
      "outputs": [
        {
          "output_type": "execute_result",
          "data": {
            "text/plain": [
              "<matplotlib.axes._subplots.AxesSubplot at 0x7f8e545dc630>"
            ]
          },
          "metadata": {
            "tags": []
          },
          "execution_count": 64
        },
        {
          "output_type": "display_data",
          "data": {
            "image/png": "[encoded data removed]",
            "text/plain": [
              "<Figure size 432x288 with 1 Axes>"
            ]
          },
          "metadata": {
            "tags": [],
            "needs_background": "light"
          }
        }
      ]
    },
    {
      "cell_type": "code",
      "metadata": {
        "id": "0Q2hiRnSU-Pa",
        "outputId": "061f9bab-5dfa-40b8-f042-7eb818deb7f3",
        "colab": {
          "base_uri": "https://localhost:8080/",
          "height": 265
        }
      },
      "source": [
        "import matplotlib.pyplot as plt\n",
        "\n",
        "df[\"PIB_percapita\"].plot.pie(labels=df[\"nome\"])"
      ],
      "execution_count": null,
      "outputs": [
        {
          "output_type": "execute_result",
          "data": {
            "text/plain": [
              "<matplotlib.axes._subplots.AxesSubplot at 0x7f8e525a2748>"
            ]
          },
          "metadata": {
            "tags": []
          },
          "execution_count": 195
        },
        {
          "output_type": "display_data",
          "data": {
            "image/png": "[encoded data removed]",
            "text/plain": [
              "<Figure size 432x288 with 1 Axes>"
            ]
          },
          "metadata": {
            "tags": []
          }
        }
      ]
    },
    {
      "cell_type": "markdown",
      "metadata": {
        "id": "JZKphvgbOCGS"
      },
      "source": [
        "#Exercício 1\n",
        "No exemplo do **C02**, o programa enumera até mesmo a linha em branco. Corrija o código de forma que a linha em branco não seja enumerada. É para ser uma solução genérica, valendo para qualquer arquivo texto.\n",
        "\n",
        "**OBS1.:** Lembre-se que talvez você tenha que solicitar o acesso ao seu Google Drive novamente, se já tiver um tempo que você não acessa seu  notebook Colab. Para isto, basta executar novamente o código onde se solicita o acesso, **C01**.\n",
        "\n",
        "**OBS2.:** Verifique a função isspace() do Python, para resolver essa questão."
      ]
    },
    {
      "cell_type": "markdown",
      "metadata": {
        "id": "_Mwu-6HC_TFK"
      },
      "source": [
        "#Exercício 02\n",
        "Você precisa escrever um programa pra analisar os dados sobre candidatos a um cargo para desenvolvimento de aplicativos em Python. Digamos que você esteja interessado nos nomes, cidades, idades e pontuações dos candidatos em um teste de programação em Python, ou seja, no py-score.\n",
        "\n",
        "\n",
        "\n",
        "|    |nome\t| cidade\t| idade\t| py-score|\n",
        "|----|------|---------|-------|---------|\n",
        "|101\t|Franciso|\tMinas Gerais |\t41\t|88.0|\n",
        "102\t|Ana|\tPiauí\t|28|\t79.0|\n",
        "103\t|Janaina|\tPará|\t33|\t81.0|\n",
        "104|\tYuri|\tBahia|\t34|\t80.0|\n",
        "105|\tRoberto\t|Amazonas|\t38\t|68.0|\n",
        "106|\tAmanda\t|Ceará|\t31|\t61.0|\n",
        "107\t|Norma\t|Pernambuco|\t37|\t84.0|\n",
        "\n",
        "Grave esses dados em um DataFrame do Pandas, usando um arquivo csv.\n",
        "\n",
        "Realize um *ls* e um *cat* para comprovar que o arquivo foi gravado no diretório e que o seu conteúdo está correto."
      ]
    },
    {
      "cell_type": "markdown",
      "metadata": {
        "id": "Lc0MMIJmLWs_"
      },
      "source": [
        "#Exercício 03\n",
        "\n",
        "A partir dos dados do arquivo [notas.csv](https://raw.githubusercontent.com/alexiaca/mentores-python/master/notas.csv), calcule a média das notas dos alunos e informe se eles foram aprovados ou reprovados, considerando a média para aprovação maior ou igual a 6.0. Exiba uma listagem com as respectivas médias dos alunos.\n",
        "\n",
        "|  Nome                   | Matrícula | AV1 | AV2  |\n",
        "|------------------       |-----------|-----|------|\n",
        "| Andressa Marques        | 01222019  | 5.0 | 6.5  |\n",
        "| Bruno Farias            | 01402019  | 4.5 | 5.2  |\n",
        "| Fernanda Vasconcelos    | 01012019  | 7.0 | 5.6  |\n",
        "| Diego Braga             | 01502019  | 9.8 | 4.0  |\n",
        "| Edson Jacques           | 01452019  | 5.0 | 10.0 |\n",
        "|Larissa Fernandes        | 01412019  | 6.0 | 7.5  |\n",
        "\n",
        "**Listagem**\n",
        "\n",
        "|Matrícula |  AV01 |  AV02 | Média | \n",
        "|----------|-------|-------|-------|\n",
        "|01222019  |  5.0  | 6.5   | 5.75  |\n",
        "|01402019  |  4.5  |  5.2  | 4.85  |\n",
        "|01012019  |  7.0  |  5.6  | 6.3   |\n",
        "|01502019  |  9.8  |  4.0  | 6.9   |\n",
        "|01452019  |  5.0  |  10.0 | 7.5   |\n",
        "|01412019  |  6.0  |  7.5  | 6.75  |\n",
        "\n",
        "**OBS.:** A listagem não precisa ter esta aparência. Só coloquei assim para ficar organizado.\n",
        "\n",
        "  \n"
      ]
    },
    {
      "cell_type": "markdown",
      "metadata": {
        "id": "RMvSZlGFSisS"
      },
      "source": [
        "#Exercício 04\n",
        "A partir do exercício anterior, adicione essas colunas ao arquivo notas02.csv e grave as alterações. Liste (*ls*) o seu diretório workspace, para comprovar que o arquivo notas02.csv foi gravado e liste o conteúdo do arquivo (*cat*) para verificar se está correto."
      ]
    },
    {
      "cell_type": "markdown",
      "metadata": {
        "id": "oLvQlUbgWBPa"
      },
      "source": [
        "#Exercício 05\n",
        "Plote um gráfico comparando as notas da primeira e da segunda avaliação."
      ]
    }
  ]
}