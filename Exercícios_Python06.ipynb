{
  "nbformat": 4,
  "nbformat_minor": 0,
  "metadata": {
    "colab": {
      "name": "Exercícios -  Python06.ipynb",
      "provenance": [],
      "toc_visible": true,
      "include_colab_link": true
    },
    "kernelspec": {
      "name": "python3",
      "display_name": "Python 3"
    }
  },
  "cells": [
    {
      "cell_type": "markdown",
      "metadata": {
        "id": "view-in-github",
        "colab_type": "text"
      },
      "source": [
        "<a href=\"https://colab.research.google.com/github/alexiaca/mentores-python/blob/master/Exerc%C3%ADcios_Python06.ipynb\" target=\"_parent\"><img src=\"https://colab.research.google.com/assets/colab-badge.svg\" alt=\"Open In Colab\"/></a>"
      ]
    },
    {
      "cell_type": "markdown",
      "metadata": {
        "id": "myDzvytRVdI-",
        "colab_type": "text"
      },
      "source": [
        "#Exercícios -  Python06"
      ]
    },
    {
      "cell_type": "markdown",
      "metadata": {
        "id": "4mPkVdVgBPsT",
        "colab_type": "text"
      },
      "source": [
        "#Exercício 1\n",
        "Dentre as inúmeras formas de avaliar as condições físicas de uma pessoa, o Índice de Massa Corporal (IMC) é uma das mais diretas, simples e conhecidas.O IMC é um índice aceito pela Organização Mundial de Saúde (OMS), que estabelece as faixas de índice que indicam se uma pessoa está ou não dentro do peso considerado ideal.Muitos nutricionistas e educadores físicos gostam de calcular IMC e o usam como ferramenta primária para identificar problemas de peso de uma pessoa, por causa da facilidade de cálculo.O IMC assume que existe uma faixa de peso ideal para sua altura. A partir de uma conta que usa seu peso e sua altura, encontra-se um valor (índice). Para calcular o IMC você dese utilizar a fórmula a seguir: IMC =  𝑝𝑒𝑠𝑜𝑎𝑙𝑡𝑢𝑟𝑎2 , onde o peso é em quilograma e a altura é em metros. Faça um programa que aceite como entrada o peso e a altura de dez pessoas e exiba na saída o seu peso e IMC, informando seu esado nutricional de acordo com a tabela abaixo. Faça o tratamento de erros para que o programa não quebre na sua execução.\n",
        "\n",
        "![alt text](https://github.com/alexiaca/mentores-python/blob/master/como-calcular-IMC.jpg?raw=true)\n",
        "\n",
        "\n",
        "Nota: As informações foram retiradas do site [Indústria Hoje](https://industriahoje.com.br/calcular-imc)."
      ]
    },
    {
      "cell_type": "markdown",
      "metadata": {
        "id": "dJZ-7TU_C5to",
        "colab_type": "text"
      },
      "source": [
        "#Exercício 2\n",
        "De acordo com o Exercício 1, utilize os dados dos usuários para plotar um gráfico pexo x altura. Insira título, legenda, rótulos nos eixos x e y. Destaque os pontos no gráfico."
      ]
    },
    {
      "cell_type": "markdown",
      "metadata": {
        "id": "lCTOqe3ojfC9",
        "colab_type": "text"
      },
      "source": [
        "#Exercício 3\n",
        "A partir dos [dados sobre a variação da temperatura](https://www.accuweather.com/pt/br/rio-de-janeiro/45449/march-weather/45449) no mês de março de 2020, na cidade do Rio de Janeiro, escreva um programa que calcule a temperatura média de cada dia do mês e trace um gráfico com três linhas, a temperatura máxima, a temperatura mínima e a temperatura média. Faça o cálculo da temperatura média de cada dia. Não utilize a média história, disponibilizada no site.\n",
        "\n",
        "Para verificar se seu programa está correto é só olhar o gráfico da página e comparar com o seu resultado."
      ]
    },
    {
      "cell_type": "markdown",
      "metadata": {
        "id": "robFxz3R-dR2",
        "colab_type": "text"
      },
      "source": [
        "#Exercício 4\n",
        "Escreva um programa que desenhe o gráfico de uma equação quadrática, como $x^2 + 2x + 1 = 0$. O programa deverá ter uma função que receba os valores de x e calcule o y. Com essas duas listas, x e y, você deve projetar o gráfico da função.\n",
        "Use os valores -1, 1, 2, 3, 4 e 5 para x."
      ]
    },
    {
      "cell_type": "markdown",
      "metadata": {
        "id": "RmVdo8knY-o2",
        "colab_type": "text"
      },
      "source": [
        "#Exercício 5\n",
        "Escreva um programa que registra o número de passos que você dá em cada dia da semana. Depois, plote um gráfico de barras com os dados recolhidos. Faça o tratamento de erros."
      ]
    }
  ]
}