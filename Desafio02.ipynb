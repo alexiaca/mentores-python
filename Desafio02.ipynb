{
  "nbformat": 4,
  "nbformat_minor": 0,
  "metadata": {
    "colab": {
      "name": "Desafio02.ipynb",
      "provenance": [],
      "authorship_tag": "ABX9TyMLykGmoSltDkAPDLyEc1Xs",
      "include_colab_link": true
    },
    "kernelspec": {
      "name": "python3",
      "display_name": "Python 3"
    }
  },
  "cells": [
    {
      "cell_type": "markdown",
      "metadata": {
        "id": "view-in-github",
        "colab_type": "text"
      },
      "source": [
        "<a href=\"https://colab.research.google.com/github/alexiaca/mentores-python/blob/master/Desafio02.ipynb\" target=\"_parent\"><img src=\"https://colab.research.google.com/assets/colab-badge.svg\" alt=\"Open In Colab\"/></a>"
      ]
    },
    {
      "cell_type": "markdown",
      "metadata": {
        "id": "JHpjfsLmeqlf",
        "colab_type": "text"
      },
      "source": [
        "#Desafio 02\n",
        "1. Implemente uma função que calcule o mdc entre dois números, usando o algoritmo de Euclides. Faça chamadas à função.\n",
        "\n",
        "\n",
        "2. Crie uma função que recebe um número inteiro n e retorna uma lista contendo n valores entre 0.0 e 1.0, igualmente espaçados.\n",
        "\n",
        "  Exemplo:\n",
        "\n",
        "  Sequência(3) [0.0, 0.5, 1.0]\n",
        "\n",
        "  Sequência(6) [0.0, 0.2, 0.4, 0.6, 0.8, 1.0]\n",
        "\n",
        "  Sequência(20) [0.0, 0.05263157894736842, 0.10526315789473684, 0.15789473684210525, 0.21052631578947367, 0.2631578947368421, 0.3157894736842105, 0.3684210526315789, 0.42105263157894735, 0.47368421052631576, 0.5263157894736842, 0.5789473684210527, 0.631578947368421, 0.6842105263157895, 0.7368421052631579, 0.7894736842105263, 0.8421052631578947, 0.8947368421052632, 0.9473684210526315, 1.0]"
      ]
    }
  ]
}