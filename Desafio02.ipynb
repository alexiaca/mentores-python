{
  "nbformat": 4,
  "nbformat_minor": 0,
  "metadata": {
    "colab": {
      "name": "Desafio02.ipynb",
      "provenance": [],
      "authorship_tag": "ABX9TyMkk3oj4dVpcInkT0KZ2LPs",
      "include_colab_link": true
    },
    "kernelspec": {
      "name": "python3",
      "display_name": "Python 3"
    }
  },
  "cells": [
    {
      "cell_type": "markdown",
      "metadata": {
        "id": "view-in-github",
        "colab_type": "text"
      },
      "source": [
        "<a href=\"https://colab.research.google.com/github/alexiaca/mentores-python/blob/master/Desafio02.ipynb\" target=\"_parent\"><img src=\"https://colab.research.google.com/assets/colab-badge.svg\" alt=\"Open In Colab\"/></a>"
      ]
    },
    {
      "cell_type": "markdown",
      "metadata": {
        "id": "JHpjfsLmeqlf",
        "colab_type": "text"
      },
      "source": [
        "#Desafio 02\n",
        "Escreva uma função raizes que receba como parâmetros a, b e c e retorne as raizes de uma equação quadrática. Faça o tratamento de erros."
      ]
    }
  ]
}