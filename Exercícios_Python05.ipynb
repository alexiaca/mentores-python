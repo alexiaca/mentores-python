{
  "nbformat": 4,
  "nbformat_minor": 0,
  "metadata": {
    "colab": {
      "name": "Exercícios - Python05.ipynb",
      "provenance": [],
      "toc_visible": true,
      "include_colab_link": true
    },
    "kernelspec": {
      "name": "python3",
      "display_name": "Python 3"
    }
  },
  "cells": [
    {
      "cell_type": "markdown",
      "metadata": {
        "id": "view-in-github",
        "colab_type": "text"
      },
      "source": [
        "<a href=\"https://colab.research.google.com/github/alexiaca/mentores-python/blob/master/Exerc%C3%ADcios_Python05.ipynb\" target=\"_parent\"><img src=\"https://colab.research.google.com/assets/colab-badge.svg\" alt=\"Open In Colab\"/></a>"
      ]
    },
    {
      "cell_type": "markdown",
      "metadata": {
        "id": "8GkFdt8HyekW",
        "colab_type": "text"
      },
      "source": [
        "#Exercícios - Python05\n"
      ]
    },
    {
      "cell_type": "markdown",
      "metadata": {
        "id": "FclomQFNpCL6",
        "colab_type": "text"
      },
      "source": [
        "#Exercício 1:\n",
        "Escreva uma função que recebe uma lista e um valor qualquer x, e se a lista não contém x, insere x na lista.\n",
        "\n",
        "Exemplo:\n",
        "\n",
        "L = [3, 1, 2]\n",
        "\n",
        "insere_condicional(L, 5)\n",
        "\n",
        "L\n",
        "\n",
        "[3, 1, 2, 5]"
      ]
    },
    {
      "cell_type": "markdown",
      "metadata": {
        "id": "aFPLVmZGpjmp",
        "colab_type": "text"
      },
      "source": [
        "#Exercício 2:\n",
        "Escreva uma função que recebe uma lista e um valor qualquer x, e se x aparece um número par de vezes na lista remova a primeira ocorrência de x da lista.\n",
        "\n",
        "Exemplo:\n",
        "\n",
        "L = [1, 3, 2, 4, 1, 2, 3]\n",
        "remove_condicional(L, 2)\n",
        "L\n",
        "[1, 3, 4, 1, 2, 3]"
      ]
    },
    {
      "cell_type": "markdown",
      "metadata": {
        "id": "yGtylD3SrPNb",
        "colab_type": "text"
      },
      "source": [
        "#Exercício 3:\n",
        "Escreva uma função que dada uma frase retorne uma outra frase que contenha as mesmas palavras da frase de entrada na ordem inversa.\n",
        "\n",
        "Exemplo:\n",
        "\n",
        "reverte_palavras(\"eu gosto de chocolate\")\n",
        "\n",
        "\"chocolate de gosto eu\""
      ]
    },
    {
      "cell_type": "markdown",
      "metadata": {
        "id": "oHWGWUOTsCi7",
        "colab_type": "text"
      },
      "source": [
        "#Exercício 4:\n",
        "Escreva uma função que recebe uma lista L de números e um valor x, e retorna a soma de todos os valores de L que sejam menores do que x.\n",
        "\n",
        "Exemplo:\n",
        "\n",
        "s = [24, 49, 31, 59, 28, 12, 30, 4] \n",
        "\n",
        "soma_menores(s, 30)\n",
        "\n",
        "68"
      ]
    },
    {
      "cell_type": "markdown",
      "metadata": {
        "id": "arcJMDbgskQ_",
        "colab_type": "text"
      },
      "source": [
        "#Exercício 5:\n",
        "Escreva uma função que recebe uma frase e retorna esta frase modificada, colocando todas as vogais antes dos demais caracteres.\n",
        "\n",
        "Exemplo:\n",
        "separa_vogais('Abacate')\n",
        "\n",
        "\"Aaaebct\""
      ]
    },
    {
      "cell_type": "markdown",
      "metadata": {
        "id": "z9wCgePLFFhE",
        "colab_type": "text"
      },
      "source": [
        "#Exercício 6:\n",
        "Crie uma função que recebe uma string L e um caractere x e retorna uma lista com todas as posições de x em L\n",
        "\n",
        "Exemplo:\n",
        "\n",
        "posicoes('Quem eh essa ai, papai?', 'a')\n",
        "[11, 13, 18, 20]\n",
        "\n",
        "posicoes('Ta cheio de assunto, hein?', ' ')\n",
        "[2, 8, 11, 20]\n",
        "\n",
        "posicoes('Ta cheio de assunto, hein?', 'e')\n",
        "[5, 10, 22]"
      ]
    },
    {
      "cell_type": "markdown",
      "metadata": {
        "id": "ud2msx6F6b8C",
        "colab_type": "text"
      },
      "source": [
        "#Exercício 7:\n",
        "Escreva uma função que recebe uma sequência L e retorna uma lista contendo todos os valores de L, mas sem repetições!\n",
        "\n",
        "Exemplo:\n",
        "\n",
        "valores_unicos([20, 10, 20, 20, 8, 10, 10, 8, 8, 8])\n",
        "[20, 10, 8]\n",
        "\n",
        "valores_unicos([0, 1, 9, 0, 0, 4, 2, 1, 4])\n",
        "[0, 1, 9, 4, 2]"
      ]
    }
  ]
}