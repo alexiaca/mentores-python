{
  "nbformat": 4,
  "nbformat_minor": 0,
  "metadata": {
    "colab": {
      "name": "Exercícios - Aula07.ipynb",
      "provenance": [],
      "toc_visible": true,
      "include_colab_link": true
    },
    "kernelspec": {
      "name": "python3",
      "display_name": "Python 3"
    }
  },
  "cells": [
    {
      "cell_type": "markdown",
      "metadata": {
        "id": "view-in-github",
        "colab_type": "text"
      },
      "source": [
        "<a href=\"https://colab.research.google.com/github/alexiaca/mentores-python/blob/master/Exerc%C3%ADcios_Aula07.ipynb\" target=\"_parent\"><img src=\"https://colab.research.google.com/assets/colab-badge.svg\" alt=\"Open In Colab\"/></a>"
      ]
    },
    {
      "cell_type": "markdown",
      "metadata": {
        "id": "khNX6AVjZMF_",
        "colab_type": "text"
      },
      "source": [
        "#Exercícios - Aula07\n",
        "\n",
        "\n"
      ]
    },
    {
      "cell_type": "markdown",
      "metadata": {
        "id": "5sSTTNT4eXFI",
        "colab_type": "text"
      },
      "source": [
        "#Exercício 1\n",
        "Agora, você está pronto para escrever um programa que receba as notas de um aluno e informe se ele foi aprovado ou reprovado, considerando que a média para aprovação é maior ou igual a 7,0.\n",
        "Escreva uma função que recebe a lista de notas de um aluno e retorna a média final. Depois, imprima uma mensagem se ele foi aprovado ou reprovado. Faça o tratamento de erros."
      ]
    },
    {
      "cell_type": "markdown",
      "metadata": {
        "id": "WxxnjRk2z5_0",
        "colab_type": "text"
      },
      "source": [
        "#Exercício 2\n",
        "Um professor de matemática costuma verificar a aprendizagem de seus alunos através da mediana das notas obtidas pela turma. Considere que a turma de 2014 obteve as seguintes notas no 2° bimestre: 2.5, 7.6, 8.9, 9.1, 3.4, 6.7, 5.8, 6.9, 10, 8.6, 5.7, 4.9, 8.3, 6.7, 7.9, 9.2, 8.1, 7.5, 8.3, 1.9\n",
        "\n",
        "Escreva um programa que tenha uma função que calcule a mediana a mediana das notas dos alunos. Considerando que a média é 7.0, informe se a mediana está acima ou abaixo dessa média."
      ]
    },
    {
      "cell_type": "markdown",
      "metadata": {
        "id": "apTFrhE0Jy1L",
        "colab_type": "text"
      },
      "source": [
        "#Execício 3\n",
        "Formate a saída dos resultados para que tenham duas casas decimais."
      ]
    },
    {
      "cell_type": "markdown",
      "metadata": {
        "id": "khZIEB49NQug",
        "colab_type": "text"
      },
      "source": [
        "#Exercício 4\n",
        "\n",
        "Temos um conjunto de dados B: 382, 389, 377, 397, 396, 368, 369, 392, 398, 367, 393 e 396, que representa as doações de um outro dia. \n",
        "\n",
        "Escreva um programa que calcule a variância e o desvio padrão desse novo conjunto de dados e projete um gráfico de linhas que exiba as doações do conjunto A e do conjunto B."
      ]
    },
    {
      "cell_type": "markdown",
      "metadata": {
        "id": "rfCYMVGJHEVS",
        "colab_type": "text"
      },
      "source": [
        "#Exercício 5\n",
        "Em uma escola, a direção decidiu observar a quantidade de alunos que apresentam todas as notas acima da média em todas as disciplinas. Para analisar melhor, a diretora resolveu montar uma tabela com a quantidade de notas “azuis” em uma **amostra** de quatro turmas ao longo de um ano. Observe a seguir a tabela organizada pela diretora:\n",
        "\n",
        "![alt text](https://github.com/alexiaca/mentores-python/blob/master/tabela.png?raw=true)\n",
        "\n",
        "Escreva um programa que calcule a variância e o desvio padrão para cada uma das turmas.\n",
        "\n"
      ]
    }
  ]
}