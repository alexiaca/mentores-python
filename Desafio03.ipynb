{
  "nbformat": 4,
  "nbformat_minor": 0,
  "metadata": {
    "colab": {
      "name": "Desafio03.ipynb",
      "provenance": [],
      "include_colab_link": true
    },
    "kernelspec": {
      "name": "python3",
      "display_name": "Python 3"
    }
  },
  "cells": [
    {
      "cell_type": "markdown",
      "metadata": {
        "id": "view-in-github",
        "colab_type": "text"
      },
      "source": [
        "<a href=\"https://colab.research.google.com/github/alexiaca/mentores-python/blob/master/Desafio03.ipynb\" target=\"_parent\"><img src=\"https://colab.research.google.com/assets/colab-badge.svg\" alt=\"Open In Colab\"/></a>"
      ]
    },
    {
      "cell_type": "markdown",
      "metadata": {
        "id": "_x9YnmZRFrYg",
        "colab_type": "text"
      },
      "source": [
        "#Desafio 03\n",
        "\n",
        "1. Vamos imaginar que você participou de uma campanha de doação para ajudar alunos que não tem dinheiro para comprar o material escolar. Você recolheu valores de algumas pessoas e registrou em um caderno. Agora, vamos calcular a mediana desses valores.\n",
        "\n",
        "  Primeiro, crie uma lista com os valores: 100, 60, 70, 900, 100, 200, 500, 500, 503, 600, 1000 e 1200.\n",
        "\n",
        "  Escreva um programa que tenha uma função que calcule a mediana de um conjunto de valores e retorne seu valor na saída.\n",
        "\n",
        "2. Para votar, cinco eleitores demoraram, respectivamente, 3min 38s, 3min 18s, 2min 46s, 2min 57s e 3min 26s. Escreva um programa que receba como entrada o tempo de cada eleitor, adicione essa entrada em uma lista e calcule o tempo médio de votação, retornando o resultado em minutos e também em segundos. Calcule também a mediana do tempo de votação."
      ]
    }
  ]
}