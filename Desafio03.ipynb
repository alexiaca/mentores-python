{
  "nbformat": 4,
  "nbformat_minor": 0,
  "metadata": {
    "colab": {
      "name": "Desafio03.ipynb",
      "provenance": [],
      "authorship_tag": "ABX9TyOq/EXSKj+Rwm6iI4QKxqFt",
      "include_colab_link": true
    },
    "kernelspec": {
      "name": "python3",
      "display_name": "Python 3"
    }
  },
  "cells": [
    {
      "cell_type": "markdown",
      "metadata": {
        "id": "view-in-github",
        "colab_type": "text"
      },
      "source": [
        "<a href=\"https://colab.research.google.com/github/alexiaca/mentores-python/blob/master/Desafio03.ipynb\" target=\"_parent\"><img src=\"https://colab.research.google.com/assets/colab-badge.svg\" alt=\"Open In Colab\"/></a>"
      ]
    },
    {
      "cell_type": "markdown",
      "metadata": {
        "id": "cPuFzXYOFcOf",
        "colab_type": "text"
      },
      "source": [
        "#Desafio 03\n",
        "1. Crie uma função que recebe um número inteiro n e retorna uma lista contendo n pontos da curva dada por:\n",
        "\n",
        "  (𝑥, 𝑦)=(100 𝑠𝑖𝑛 𝑡, 200 𝑠𝑖𝑛 2𝑡) 𝑜𝑛𝑑𝑒 𝑡 ∈ [0, 2𝜋]"
      ]
    }
  ]
}