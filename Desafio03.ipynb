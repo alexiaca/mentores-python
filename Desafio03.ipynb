{
  "nbformat": 4,
  "nbformat_minor": 0,
  "metadata": {
    "colab": {
      "name": "Desafio03.ipynb",
      "provenance": [],
      "authorship_tag": "ABX9TyOT2kRLrF7VaGX/ZLS1i/L2",
      "include_colab_link": true
    },
    "kernelspec": {
      "name": "python3",
      "display_name": "Python 3"
    }
  },
  "cells": [
    {
      "cell_type": "markdown",
      "metadata": {
        "id": "view-in-github",
        "colab_type": "text"
      },
      "source": [
        "<a href=\"https://colab.research.google.com/github/alexiaca/mentores-python/blob/master/Desafio03.ipynb\" target=\"_parent\"><img src=\"https://colab.research.google.com/assets/colab-badge.svg\" alt=\"Open In Colab\"/></a>"
      ]
    },
    {
      "cell_type": "markdown",
      "metadata": {
        "id": "4-jA9OjeBhsT",
        "colab_type": "text"
      },
      "source": [
        "#Desafio 03\n",
        "Crie uma função que recebe uma string L e um caractere x e retorna uma lista com todas as posições de x em L\n",
        "\n",
        "Exemplo:\n",
        "\n",
        "posicoes('Quem eh essa ai, papai?', 'a')\n",
        "[11, 13, 18, 20]\n",
        "\n",
        "posicoes('Ta cheio de assunto, hein?', ' ')\n",
        "[2, 8, 11, 20]\n",
        "\n",
        "posicoes('Ta cheio de assunto, hein?', 'e')\n",
        "[5, 10, 22]"
      ]
    }
  ]
}