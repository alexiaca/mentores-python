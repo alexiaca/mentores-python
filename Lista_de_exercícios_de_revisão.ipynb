{
  "nbformat": 4,
  "nbformat_minor": 0,
  "metadata": {
    "colab": {
      "name": "Lista de exercícios de revisão",
      "provenance": [],
      "collapsed_sections": [],
      "toc_visible": true,
      "authorship_tag": "ABX9TyN9VV3AHwWe8QX+ygdJ+Kdo",
      "include_colab_link": true
    },
    "kernelspec": {
      "name": "python3",
      "display_name": "Python 3"
    }
  },
  "cells": [
    {
      "cell_type": "markdown",
      "metadata": {
        "id": "view-in-github",
        "colab_type": "text"
      },
      "source": [
        "<a href=\"https://colab.research.google.com/github/alexiaca/mentores-python/blob/master/Lista_de_exerc%C3%ADcios_de_revis%C3%A3o.ipynb\" target=\"_parent\"><img src=\"https://colab.research.google.com/assets/colab-badge.svg\" alt=\"Open In Colab\"/></a>"
      ]
    },
    {
      "cell_type": "markdown",
      "metadata": {
        "id": "mwUbbBe9zWpY",
        "colab_type": "text"
      },
      "source": [
        "#Exercícios de revisão do curso de Python 2020/01\n",
        "\n"
      ]
    },
    {
      "cell_type": "markdown",
      "metadata": {
        "id": "u8SXrdsh-TUL",
        "colab_type": "text"
      },
      "source": [
        "#Exercício 1:\n",
        "Escreva uma função que calcule o terceiro lado de um triângulo, conhecendo dois de seus lados e o ângulo entre eles.\n",
        "\n",
        "![alt text](https://raw.githubusercontent.com/alexiaca/mentores-python/master/formula.png)\n",
        "\n",
        "![alt text](https://github.com/alexiaca/mentores-python/blob/master/t01_11.jpg?raw=true)\n",
        "\n",
        "![alt text](https://github.com/alexiaca/mentores-python/blob/master/t02_11.jpg?raw=true)\n",
        "\n",
        "![alt text](https://github.com/alexiaca/mentores-python/blob/master/t03_11.jpg?raw=true)\n",
        "\n",
        "![alt text](https://github.com/alexiaca/mentores-python/blob/master/t04_11.jpg?raw=true)"
      ]
    },
    {
      "cell_type": "markdown",
      "metadata": {
        "id": "M9eGd5ANHaVY",
        "colab_type": "text"
      },
      "source": [
        "#Exercício 02:\n",
        "Escreva uma função que retorna a última palavra de uma frase, por exemplo: \n",
        "\n",
        "ultima_palavra(\"Hasta la vista, baby\")  \n",
        "'baby'\n",
        "\n",
        "ultima_palavra(\"I see dead people\")  \n",
        "'people'"
      ]
    },
    {
      "cell_type": "markdown",
      "metadata": {
        "id": "h8BdSkH4IytY",
        "colab_type": "text"
      },
      "source": [
        "#Exercício 03:\n",
        "Escreva uma função que receba um número inteiro n e retorne o somatório.  \n",
        "![alt text](https://github.com/alexiaca/mentores-python/blob/master/formula3.png?raw=true)"
      ]
    },
    {
      "cell_type": "markdown",
      "metadata": {
        "id": "8LC7oBI7OFZA",
        "colab_type": "text"
      },
      "source": [
        "#Exercício 4:\n",
        "Escreva uma função que receba uma sequência L e retorne a quantidade de valores pares em L.\n",
        "\n",
        "Exemplo:\n",
        "quantos_pares([3, 1, 2, 20, 5, 8, 10, 4, 7, 9, 8, 10])  \n",
        "7\n",
        "\n",
        "quantos_pares([1, 3, 9, 7])  \n",
        "0\n",
        "\n",
        "quantos_pares([8, 8, 8, 8, 8])  \n",
        "5"
      ]
    },
    {
      "cell_type": "markdown",
      "metadata": {
        "id": "oKY2f8lNPwPc",
        "colab_type": "text"
      },
      "source": [
        "#Exercício 5:\n",
        "Escreva uma função que receba um valor **x** e uma sequência **a** e retorna o valor do polinômio\n",
        "\n",
        "a[0] + a[1]*x + a[2]*x**2 + ... + a[n-1]*x**(n-1)  \n",
        "\n",
        "onde **n** é o tamanho da sequência **a**.\n",
        "\n",
        "Ex.:\n",
        "a = 1, 2, 3\n",
        "polinomio(0, a)\n",
        "6\n",
        "polinomio(2,a)\n",
        "17"
      ]
    },
    {
      "cell_type": "markdown",
      "metadata": {
        "id": "D6tMy9_W4Xti",
        "colab_type": "text"
      },
      "source": [
        "#Exercício 6\n",
        "Utilizando listas escreva um programa que faça 5 perguntas para uma pessoa sobre um crime. \n",
        "\n",
        "As perguntas são:  \n",
        "1) Telefonou para a vítima?  \n",
        "2) Esteve no local do crime?  \n",
        "3) Mora perto da vítima?  \n",
        "4) Devia para a vítima?  \n",
        "5) Já trabalhou com a vítima?\n",
        "\n",
        "O programa deve ao final emitir uma classificação sobre a participação da pessoa no crime. Se a pessoa responder positivamente a 2 questões ela deve ser classificada como \"Suspeita\", entre 3 e 4 como \"Cúmplice\" e 5 como \"Assassino\". Caso contrário, ele será classificado como \"Inocente\"."
      ]
    },
    {
      "cell_type": "markdown",
      "metadata": {
        "id": "7y6QhJNN5Xf7",
        "colab_type": "text"
      },
      "source": [
        "#Exercício 7\n",
        "Com os dados sobre o Covid-19, fornecidos abaixo, plote um gráfico de barras aninhadas como o da imagem abaixo. Para ajudá-los, acessem esse [link](https://minerandodados.com.br/plotando-graficos-de-forma-facil-com-python/).\n",
        "\n",
        "\n",
        "País | Confirmados | Recuperados | Mortes \n",
        "-----|-------------|-------------|-------\n",
        "Estados Unidos (EUA)| 2.511.453 | 771.155 | 126.924\n",
        "Brasil (BR)| 1.280.054 | 697.526 | 56.109\n",
        "Russia (RUS) | 627.646 | 393.352 | 8.969\n",
        "India (IND) | 508.953 | 295.880 | 15.685\n",
        "Peru (PE) | 272.364 | 159.806 | 8.939\n"
      ]
    },
    {
      "cell_type": "markdown",
      "metadata": {
        "id": "VfWhEiqhWUPL",
        "colab_type": "text"
      },
      "source": [
        "#Exercício 8\n",
        "Desencriptem a mensagem.\n",
        "\n",
        "**Dica:** pesquisem a função replace()."
      ]
    },
    {
      "cell_type": "code",
      "metadata": {
        "id": "WU75LvEfOr8K",
        "colab_type": "code",
        "colab": {
          "base_uri": "https://localhost:8080/",
          "height": 69
        },
        "outputId": "d6919235-e540-47ab-c3c7-dccc0583c2de"
      },
      "source": [
        "g = \"Qu3 3u p055@ +3r @+3nd1d0 @0 m3n05 un5 55% d@5 3xp3c+@+1v@5 d3 v0cê5 c0m 3553 cur50 3 qu3 v0cê5 p055@m +3r @pr3nd1d0 um p0uqu1nh0 50br3 pr0gr@m@çã0 3 @ l1ngu@g3m Py+h0n 3 qu3 l3v3m 3553 @pr3nd1z@d0 p@r@ @ v1d@. F01 mu1+0 b0m 3553 +3mp0 c0m v0cê5 3 f01 mu1+0 b0m v3r 0 cr35c1m3n+0 d3 v0cê5! A+é br3v3!\"\n",
        "\n",
        "g\n",
        "\n"
      ],
      "execution_count": null,
      "outputs": [
        {
          "output_type": "execute_result",
          "data": {
            "application/vnd.google.colaboratory.intrinsic": {
              "type": "string"
            },
            "text/plain": [
              "'Qu3 3u p055@ +3r @+3nd1d0 @0 m3n05 un5 55% d@5 3xp3c+@+1v@5 d3 v0cê5 c0m 3553 cur50 3 qu3 v0cê5 p055@m +3r @pr3nd1d0 um p0uqu1nh0 50br3 pr0gr@m@çã0 3 @ l1ngu@g3m Py+h0n 3 qu3 l3v3m 3553 @pr3nd1z@d0 p@r@ @ v1d@. F01 mu1+0 b0m 3553 +3mp0 c0m v0cê5 3 f01 mu1+0 b0m v3r 0 cr35c1m3n+0 d3 v0cê5! A+é br3v3!'"
            ]
          },
          "metadata": {
            "tags": []
          },
          "execution_count": 64
        }
      ]
    }
  ]
}