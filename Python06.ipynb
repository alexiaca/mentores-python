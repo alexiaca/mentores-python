{
  "nbformat": 4,
  "nbformat_minor": 0,
  "metadata": {
    "colab": {
      "name": "Python06.ipynb",
      "provenance": [],
      "toc_visible": true,
      "authorship_tag": "ABX9TyML8TMrao44ihiwjLWFwOZS",
      "include_colab_link": true
    },
    "kernelspec": {
      "name": "python3",
      "display_name": "Python 3"
    }
  },
  "cells": [
    {
      "cell_type": "markdown",
      "metadata": {
        "id": "view-in-github",
        "colab_type": "text"
      },
      "source": [
        "<a href=\"https://colab.research.google.com/github/alexiaca/mentores-python/blob/master/Python06.ipynb\" target=\"_parent\"><img src=\"https://colab.research.google.com/assets/colab-badge.svg\" alt=\"Open In Colab\"/></a>"
      ]
    },
    {
      "cell_type": "markdown",
      "metadata": {
        "id": "myDzvytRVdI-",
        "colab_type": "text"
      },
      "source": [
        "#Trabalhando com listas e tuplas\n",
        "Como já vimos anteriormente, lista é uma estrutura de dados em Python, onde você pode armazenar um conjunto de valores, adicionar, remover e alterar esses valores. Essa é a diferença entre listas e tuplas. Em uma tupla, você não pode realizar estas operações. Isto é, uma tupla não pode sofrer alterações, a partir do momento que você cria uma tupla, não pode mais alterá-la.\n",
        "\n",
        "Uma das vantagens em se criar uma lista é que não precisamos criar várias variáveis para cada um dos valores que precisamos armazenar; em uma lista, você pode separar os valores usando uma vírgula e usar o indexe para se referenciar a eles.\n",
        "\n",
        "Uma lista vazia é uma lista que não tem itens ou elementos e ela pode ser criada desta forma."
      ]
    },
    {
      "cell_type": "code",
      "metadata": {
        "id": "zMMyhe26V0Dh",
        "colab_type": "code",
        "colab": {}
      },
      "source": [
        "listavazia = []"
      ],
      "execution_count": 0,
      "outputs": []
    },
    {
      "cell_type": "markdown",
      "metadata": {
        "id": "Vwi1UjuGWcaG",
        "colab_type": "text"
      },
      "source": [
        "Uma lista vazia é muito últil para quando você ainda não sabe quais os itens que você irá armazenar em sua lista, mas sabe que irá fazer isso durante a execução do programa. Neste caso, você pode criar uma lista vazia e usar o método append() para adicionar os itens depois."
      ]
    },
    {
      "cell_type": "code",
      "metadata": {
        "id": "RVbSEvr9WdB8",
        "colab_type": "code",
        "colab": {
          "base_uri": "https://localhost:8080/",
          "height": 35
        },
        "outputId": "73a55622-7515-4472-bc11-7bb497f29045"
      },
      "source": [
        "listavazia"
      ],
      "execution_count": 2,
      "outputs": [
        {
          "output_type": "execute_result",
          "data": {
            "text/plain": [
              "[]"
            ]
          },
          "metadata": {
            "tags": []
          },
          "execution_count": 2
        }
      ]
    },
    {
      "cell_type": "code",
      "metadata": {
        "id": "S-JxHCf3Wjp0",
        "colab_type": "code",
        "colab": {
          "base_uri": "https://localhost:8080/",
          "height": 35
        },
        "outputId": "876e5f69-3f81-420a-dc74-d4bd34a04d2c"
      },
      "source": [
        "listavazia.append(1)\n",
        "listavazia"
      ],
      "execution_count": 3,
      "outputs": [
        {
          "output_type": "execute_result",
          "data": {
            "text/plain": [
              "[1]"
            ]
          },
          "metadata": {
            "tags": []
          },
          "execution_count": 3
        }
      ]
    },
    {
      "cell_type": "code",
      "metadata": {
        "id": "8KusmFIFWqZ4",
        "colab_type": "code",
        "colab": {
          "base_uri": "https://localhost:8080/",
          "height": 35
        },
        "outputId": "2af42783-21ea-46f4-be79-cbeb05466c33"
      },
      "source": [
        "listavazia.append(2)\n",
        "listavazia"
      ],
      "execution_count": 4,
      "outputs": [
        {
          "output_type": "execute_result",
          "data": {
            "text/plain": [
              "[1, 2]"
            ]
          },
          "metadata": {
            "tags": []
          },
          "execution_count": 4
        }
      ]
    },
    {
      "cell_type": "markdown",
      "metadata": {
        "id": "OxKYnGxPXLlp",
        "colab_type": "text"
      },
      "source": [
        "Criar uma tupla é muito parecido com criar uma lista, mas ao invés de usar os colchetes “[ ]”, nós usamos os parênteses “( )”"
      ]
    },
    {
      "cell_type": "code",
      "metadata": {
        "id": "Yyi6HQDSXRwk",
        "colab_type": "code",
        "colab": {
          "base_uri": "https://localhost:8080/",
          "height": 35
        },
        "outputId": "33fbe993-eaab-419b-efef-59690c02a2a3"
      },
      "source": [
        "tuplasimples = (1, 2, 3)\n",
        "tuplasimples"
      ],
      "execution_count": 5,
      "outputs": [
        {
          "output_type": "execute_result",
          "data": {
            "text/plain": [
              "(1, 2, 3)"
            ]
          },
          "metadata": {
            "tags": []
          },
          "execution_count": 5
        }
      ]
    },
    {
      "cell_type": "markdown",
      "metadata": {
        "id": "U8FL_ul2XhFf",
        "colab_type": "text"
      },
      "source": [
        "Como em uma lista, você também pode se referenciar a um valor da dupla, utilizando o seu indexe."
      ]
    },
    {
      "cell_type": "code",
      "metadata": {
        "id": "8RzXg_RrXjFi",
        "colab_type": "code",
        "colab": {
          "base_uri": "https://localhost:8080/",
          "height": 35
        },
        "outputId": "7de116b1-21b9-4e4a-90cd-49bfa1dcb8ba"
      },
      "source": [
        "tuplasimples[1]"
      ],
      "execution_count": 6,
      "outputs": [
        {
          "output_type": "execute_result",
          "data": {
            "text/plain": [
              "2"
            ]
          },
          "metadata": {
            "tags": []
          },
          "execution_count": 6
        }
      ]
    },
    {
      "cell_type": "markdown",
      "metadata": {
        "id": "_LIOIaU5YCH9",
        "colab_type": "text"
      },
      "source": [
        "Algumas vezes, você pode precisar saber a posição de um elemento em sua lista ou tupla. Para isso, você pode usar a função enumerate() para iterar sobre todos os elementos da sua lista ou tupla e retornar o indexe de todos os seus elementos. "
      ]
    },
    {
      "cell_type": "code",
      "metadata": {
        "id": "4XdMxITpYcRo",
        "colab_type": "code",
        "colab": {
          "base_uri": "https://localhost:8080/",
          "height": 69
        },
        "outputId": "78aa88f1-4346-4ef6-ae0e-eb1b036ab295"
      },
      "source": [
        "casas = (1, 2, 3)\n",
        "for index, item in enumerate(casas):\n",
        "  print(index, item)"
      ],
      "execution_count": 10,
      "outputs": [
        {
          "output_type": "stream",
          "text": [
            "0 1\n",
            "1 2\n",
            "2 3\n"
          ],
          "name": "stdout"
        }
      ]
    },
    {
      "cell_type": "markdown",
      "metadata": {
        "id": "t8aBN0SHZken",
        "colab_type": "text"
      },
      "source": [
        "A primeira coluna representa o indexe dos elementos da tupla e a segunda seus elementos."
      ]
    },
    {
      "cell_type": "markdown",
      "metadata": {
        "id": "8C6pPuNKZt3d",
        "colab_type": "text"
      },
      "source": [
        "#Criando gráficos com Matplotlib\n",
        "Podemos usar o pacote Matpotlib para fazer gráficos com o Python. Um pacote é uma coleção de módulos que possuem funcionalidades relacionadas. Neste caso, os módulos são úteis para plotar números e desenhar gráficos. O Matplotlib não é uma biblioteca padrão do Python, isto é, não vem com o Python. É necessário instalar este pacote para começar a usá-lo. \n",
        "\n",
        "No nosso caso, como estamos usando o ambiente Google Colab, muitos pacotes já vem instalados e esse é um deles. Então não temos que nos preocupar com isso. Mas, se futuramente, você for usar o Python em seu computador, lembre-se disso.\n",
        "\n",
        "Então, vamos começar a ver como funciona o Matplotlib e começar a plotar nossos próprios gráficos.\n",
        "\n",
        "Vamos plotar um gráfico simples, apenas com três pontos: (1, 2), (2, 4) e (3, 6). Para criar este gráfico, primeiro temos que criar duas listas de números – uma para armazenar os valores das coordenadas x e outra para os das coordenadas y."
      ]
    },
    {
      "cell_type": "code",
      "metadata": {
        "id": "Avcs7mvebWcA",
        "colab_type": "code",
        "colab": {
          "base_uri": "https://localhost:8080/",
          "height": 282
        },
        "outputId": "dcef079c-73fe-4fec-e855-59241ba8f32e"
      },
      "source": [
        "numeros_x = [1, 2, 3] #cria uma lista com os valores das coordenadas x\n",
        "numeros_y = [2, 4, 6] #cria uma lista com os valores das coordenadas y\n",
        "from pylab import plot #importa as funções plot() e show() do módulo pylab\n",
        "plot (numeros_x, numeros_y) #a função plot exibe o gráfico"
      ],
      "execution_count": 14,
      "outputs": [
        {
          "output_type": "execute_result",
          "data": {
            "text/plain": [
              "[<matplotlib.lines.Line2D at 0x7fa2c5df3ef0>]"
            ]
          },
          "metadata": {
            "tags": []
          },
          "execution_count": 14
        },
        {
          "output_type": "display_data",
          "data": {
            "image/png": "[encoded data removed]",
            "text/plain": [
              "<Figure size 432x288 with 1 Axes>"
            ]
          },
          "metadata": {
            "tags": []
          }
        }
      ]
    },
    {
      "cell_type": "markdown",
      "metadata": {
        "id": "27snsVWUdHAQ",
        "colab_type": "text"
      },
      "source": [
        "#Marcando os pontos em seu gráfico\n",
        "Se você quiser marcar os pontos em seu gráfico, você pode usar um argumento a mais quando chamar a função plot()."
      ]
    },
    {
      "cell_type": "code",
      "metadata": {
        "id": "io8Mi0Xxd0XX",
        "colab_type": "code",
        "colab": {
          "base_uri": "https://localhost:8080/",
          "height": 282
        },
        "outputId": "5b102b4c-c07a-45f0-82bc-4b8374213fa4"
      },
      "source": [
        "plot (numeros_x, numeros_y, marker = \"o\") #a função plot exibe o gráfico"
      ],
      "execution_count": 15,
      "outputs": [
        {
          "output_type": "execute_result",
          "data": {
            "text/plain": [
              "[<matplotlib.lines.Line2D at 0x7fa2c5de6ba8>]"
            ]
          },
          "metadata": {
            "tags": []
          },
          "execution_count": 15
        },
        {
          "output_type": "display_data",
          "data": {
            "image/png": "[encoded data removed]",
            "text/plain": [
              "<Figure size 432x288 with 1 Axes>"
            ]
          },
          "metadata": {
            "tags": []
          }
        }
      ]
    },
    {
      "cell_type": "markdown",
      "metadata": {
        "id": "khv2O1AHe3Nk",
        "colab_type": "text"
      },
      "source": [
        "Agora, vamos trabalhar com um conjunto maior de dados.\n",
        "Vamos fazer um gráfico que mostre a a média anual da temperatura na cidade de New York.\n",
        "\n",
        "A média anual de temperatura para a Cidade de New York, medidas no Central Park, especificamente, durante os anos de 2000 a 2012 fora as seguintes: \n",
        "\n",
        "53.9, 56.3, 56.4, 53.4, 54.5, 55.8, 56.8, 55.0, 55.3, 54.0, 56.7, 56.4 e 57.3 graus em Fahrenheit.\n",
        "\n",
        "\n",
        "\n"
      ]
    },
    {
      "cell_type": "code",
      "metadata": {
        "id": "_EnDSQejiSDl",
        "colab_type": "code",
        "colab": {}
      },
      "source": [
        "temp_ny = [53.9, 56.3, 56.4, 53.4, 54.5, 55.8, 56.8, 55.0, 55.3, 54.0, 56.7, 56.4, 57.3]"
      ],
      "execution_count": 0,
      "outputs": []
    },
    {
      "cell_type": "markdown",
      "metadata": {
        "id": "vUeDnLJ-iQR6",
        "colab_type": "text"
      },
      "source": [
        "Nós armazenados as temperaturas médias na lista, temp_ny. Então, vamos chamar a função *plot()* passando somente esta lista (e o marcador). Quando usamos *plot()* com somente uma lista, seus números são automaticamente plotados no **eixo y**. Os valores correspondentes ao **eixo x** são preenchidos pelas posições de cada valor na lista. Isto é, para o primeiro valor da temperatura, que é **53.9**, temos um valor para a coordenada **x**, que será **0** porque essa é a posição do valor da temperatura na lista (lembre-se, as posições na lista começam com 0 (zero) e não com 1). Como resultado, os números exibidos no **eixo x** são os inteiros de 0 a 12, que podemos relacionar ao intervalo de 13 anos em que as temperaturas foram medidas.\n"
      ]
    },
    {
      "cell_type": "code",
      "metadata": {
        "id": "jsSwO45hidfH",
        "colab_type": "code",
        "colab": {
          "base_uri": "https://localhost:8080/",
          "height": 282
        },
        "outputId": "d9c60747-c6f7-48bb-cc4e-69216c8c7c43"
      },
      "source": [
        "plot (temp_ny, marker=\"o\")"
      ],
      "execution_count": 17,
      "outputs": [
        {
          "output_type": "execute_result",
          "data": {
            "text/plain": [
              "[<matplotlib.lines.Line2D at 0x7fa2c5d60978>]"
            ]
          },
          "metadata": {
            "tags": []
          },
          "execution_count": 17
        },
        {
          "output_type": "display_data",
          "data": {
            "image/png": "[encoded data removed]",
            "text/plain": [
              "<Figure size 432x288 with 1 Axes>"
            ]
          },
          "metadata": {
            "tags": []
          }
        }
      ]
    },
    {
      "cell_type": "markdown",
      "metadata": {
        "id": "jd2JyRHmi08Q",
        "colab_type": "text"
      },
      "source": [
        "Mas, se quisermos plotar as temperaturas e seus respectivos anos, podemos criar outra lista com os anos."
      ]
    },
    {
      "cell_type": "code",
      "metadata": {
        "id": "wcSC1lZ5jLoW",
        "colab_type": "code",
        "colab": {
          "base_uri": "https://localhost:8080/",
          "height": 282
        },
        "outputId": "fade7634-32b2-4e61-ebc0-930ad9f089d1"
      },
      "source": [
        "anos = range(2000, 2013)\n",
        "plot (anos, temp_ny, marker = \"o\")"
      ],
      "execution_count": 18,
      "outputs": [
        {
          "output_type": "execute_result",
          "data": {
            "text/plain": [
              "[<matplotlib.lines.Line2D at 0x7fa2c5cd46a0>]"
            ]
          },
          "metadata": {
            "tags": []
          },
          "execution_count": 18
        },
        {
          "output_type": "display_data",
          "data": {
            "image/png": "[encoded data removed]",
            "text/plain": [
              "<Figure size 432x288 with 1 Axes>"
            ]
          },
          "metadata": {
            "tags": []
          }
        }
      ]
    }
  ]
}