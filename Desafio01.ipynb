{
  "nbformat": 4,
  "nbformat_minor": 0,
  "metadata": {
    "colab": {
      "name": "Desafio01.ipynb",
      "provenance": [],
      "authorship_tag": "ABX9TyN26S8w06AF0yFbPSU8ru5V",
      "include_colab_link": true
    },
    "kernelspec": {
      "name": "python3",
      "display_name": "Python 3"
    }
  },
  "cells": [
    {
      "cell_type": "markdown",
      "metadata": {
        "id": "view-in-github",
        "colab_type": "text"
      },
      "source": [
        "<a href=\"https://colab.research.google.com/github/alexiaca/mentores-python/blob/master/Desafio01.ipynb\" target=\"_parent\"><img src=\"https://colab.research.google.com/assets/colab-badge.svg\" alt=\"Open In Colab\"/></a>"
      ]
    },
    {
      "cell_type": "markdown",
      "metadata": {
        "id": "K8_WmaN12YAU",
        "colab_type": "text"
      },
      "source": [
        "#DESAFIO 01\n",
        "\n",
        "\n",
        "Para qualquer número inteiro positivo n, como podemos descobrir todos os seus fatores positivos? \n",
        "\n",
        "Escreva um programa que receba um número e determine seus fatores. O programa deverá receber um número inteiro de entrada e exibir na saída os fatores desse número. Faça o tratamento de erros."
      ]
    }
  ]
}