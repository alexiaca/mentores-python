{
  "nbformat": 4,
  "nbformat_minor": 0,
  "metadata": {
    "colab": {
      "name": "Desafio01.ipynb",
      "provenance": [],
      "include_colab_link": true
    },
    "kernelspec": {
      "name": "python3",
      "display_name": "Python 3"
    }
  },
  "cells": [
    {
      "cell_type": "markdown",
      "metadata": {
        "id": "view-in-github",
        "colab_type": "text"
      },
      "source": [
        "<a href=\"https://colab.research.google.com/github/alexiaca/mentores-python/blob/master/Desafio01.ipynb\" target=\"_parent\"><img src=\"https://colab.research.google.com/assets/colab-badge.svg\" alt=\"Open In Colab\"/></a>"
      ]
    },
    {
      "cell_type": "markdown",
      "metadata": {
        "id": "K8_WmaN12YAU",
        "colab_type": "text"
      },
      "source": [
        "#DESAFIO 01\n",
        "\n",
        "\n",
        "1. Para qualquer número inteiro positivo n, como podemos descobrir todos os seus fatores positivos? \n",
        "\n",
        "  Escreva um programa que receba um número e determine seus fatores. O programa deverá receber um número inteiro de entrada e exibir na saída os fatores desse número. Faça o tratamento de erros.\n",
        "\n",
        "\n",
        "\n"
      ]
    },
    {
      "cell_type": "markdown",
      "metadata": {
        "id": "CNGw1RJFJNVX",
        "colab_type": "text"
      },
      "source": [
        "2. Escreva uma função raízes que receba como parâmetros a, b e c e retorne as raízes de uma equação quadrática. Faça o tratamento de erros."
      ]
    },
    {
      "cell_type": "markdown",
      "metadata": {
        "id": "jcAkLEUYJTeV",
        "colab_type": "text"
      },
      "source": [
        "3. Crie uma função que recebe uma sequência L de valores e retorna uma lista contendo a diferença entre valores consecutivos de L.\n",
        "\n",
        "  Exemplo:\n",
        "\n",
        "  diferencas([1, 2, 5, 7, 9, 8]) [1, 3, 2, 2, -1]\n",
        "\n",
        "  diferencas([18, 5, 9, 10, 30]) [-13, 4, 1, 20]\n",
        "\n",
        "  diferencas([7, 8, 8, 8, 9, 9, 3, 3, 3]) [1, 0, 0, 1, 0, -6, 0, 0]"
      ]
    }
  ]
}