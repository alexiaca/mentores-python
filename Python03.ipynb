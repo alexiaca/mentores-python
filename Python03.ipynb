{
  "nbformat": 4,
  "nbformat_minor": 0,
  "metadata": {
    "colab": {
      "name": "Python03.ipynb",
      "provenance": [],
      "toc_visible": true,
      "include_colab_link": true
    },
    "kernelspec": {
      "name": "python3",
      "display_name": "Python 3"
    }
  },
  "cells": [
    {
      "cell_type": "markdown",
      "metadata": {
        "id": "view-in-github",
        "colab_type": "text"
      },
      "source": [
        "<a href=\"https://colab.research.google.com/github/alexiaca/mentores-python/blob/master/Python03.ipynb\" target=\"_parent\"><img src=\"https://colab.research.google.com/assets/colab-badge.svg\" alt=\"Open In Colab\"/></a>"
      ]
    },
    {
      "cell_type": "markdown",
      "metadata": {
        "id": "PYHSnN9TNz12",
        "colab_type": "text"
      },
      "source": [
        "#Conhecendo mais recursos da linguagem Python\n",
        "Agora que já aprendemos alguns conceitos básicos, podemos combinar eles com as instruções condicionais e de loop do Python para criar alguns programas que são um pouco mais avançados e úteis. "
      ]
    },
    {
      "cell_type": "markdown",
      "metadata": {
        "id": "lowhiLJQN4_m",
        "colab_type": "text"
      },
      "source": [
        "#Tomada de decisão\n",
        "A tomada de decisão, também chamada de desvio condicional, é  uma prática comum no desenvolvimento de software. Essa estrutura é utilizada para verificar expressões e assim decidir qual bloco de instrução deve ser executado, isto é, dependendo do resultando, que pode ser *True* (Verdadeiro) ou *False* (Falso), o programa executa um determinado bloco de instrução."
      ]
    },
    {
      "cell_type": "markdown",
      "metadata": {
        "id": "bBskVSywN8YL",
        "colab_type": "text"
      },
      "source": [
        "##A instrução if\n",
        "*If*, que significa “se” em português, é uma estrutura condicional onde podemos determinar o que deve acontecer mediando o valor lógico retornado, isto é, se for *True*, faça isso, se for *False*, faça aquilo.\n",
        "As expressões definidas no cabeçalho da estrutura *if* utilizam os operadores relacionais na construção das expressões, seja de maneira implicita ou explicita.\n",
        "\n",
        "Vamos ver na prática, como funciona o *if*, com o exemplo a seguir que irá verificar se o número fornecido pelo usuário é maior do que 0 (zero)."
      ]
    },
    {
      "cell_type": "code",
      "metadata": {
        "id": "mjZ0Mny5OBfa",
        "colab_type": "code",
        "colab": {}
      },
      "source": [
        "num = int(input (\"Digite um número:\"))\n",
        "if (num > 0):\n",
        "  print (\"O número digitado é maior do que zero.\")"
      ],
      "execution_count": 0,
      "outputs": []
    },
    {
      "cell_type": "markdown",
      "metadata": {
        "id": "eC5QLx9cOGJn",
        "colab_type": "text"
      },
      "source": [
        "Verifique que, no caso do usuário informar um número menor do que 0 (zero), ele fica sem um feedback, isto é, uma resposta do programa. Então, para corrigir esta questão, vamos alterar o código acima, de forma a sempre oferecer um feedback ao usuário, quer a operação seja True ou False."
      ]
    },
    {
      "cell_type": "code",
      "metadata": {
        "id": "b1zDMKSEOJ0N",
        "colab_type": "code",
        "colab": {}
      },
      "source": [
        "num = int(input (\"Digite um número:\"))\n",
        "if (num > 0):\n",
        "  print (\"O número digitado é maior do que zero.\")\n",
        "else:\n",
        "  print (\"O número digitado é menor do que zero.\")"
      ],
      "execution_count": 0,
      "outputs": []
    },
    {
      "cell_type": "markdown",
      "metadata": {
        "id": "KMVmw5Z8ONtr",
        "colab_type": "text"
      },
      "source": [
        "##A instrução else\n",
        "A tomada de decisão é composta por uma expressão a ser avaliada e pelo que deve ocorrer caso a expressão seja verdadeira ou então, caso a expressão seja falsa. Por padrão, o bloco de instrução que estiver abaixo da instrução *if* será executado quando a expressão contida na estrutura *if* for verdadeira.\n",
        "A instrução *else* por sua vez, é um complemento da estrutura *if*. A palavra *else*, que significa “senão”, determina o bloco que será executado todas as vezes que a expressão definida for falsa.\n",
        "Resumindo, o bloco que estiver na linha seguinte a instrução *if* será executado toda vez que a expressão for **verdadeira** e o bloco que estiver na linha seguinte a instrução *else* será executado toda vez que a expressão for **falsa**."
      ]
    },
    {
      "cell_type": "markdown",
      "metadata": {
        "id": "7qsWRS0WOQXR",
        "colab_type": "text"
      },
      "source": [
        "##Operadores relacionais em Python\n",
        "Descrição | Operador\n",
        "--- | ---\n",
        "Maior que | >\n",
        "Menor que | <\n",
        "Igual a | ==\n",
        "\n",
        "Como podemos ver, existem 3 operadores relacionais simples em Python. O operador que verifica se um operando **é maior** do que outro. O operador que verifica se um operando **é menor** do que outro e por fim, o operador que verifica se ambos os operandos **são iguais**.\n",
        "\n",
        "Além dos **operadores relacionais simples**, nós também temos os **operadores relacionais compostos**, que são formados pela junção de 2 (dois) operadores relacionais simples e a a função deles é simplificar as expressões. \n",
        "\n",
        "Descrição | Operador\n",
        "--- | ---\n",
        "Maior ou igual a | >=\n",
        "Menor ou igual a | <="
      ]
    },
    {
      "cell_type": "markdown",
      "metadata": {
        "id": "l30cF4v0OT83",
        "colab_type": "text"
      },
      "source": [
        "#Introdução aos operadores lógicos\n",
        "Os operadores lógicos unem expressões lógicas formando assim, uma nova expressão, que é composta por duas ou mais sub-expressões. O resultado lógico de expressões compostas será a relação entre as sub-expressões. Como estudamos, toda **expressão lógica** avaliada resultará em um **valor lógico** e a relação entre vários valores lógicos é um outro valor lógico.\n",
        "\n",
        "Quando estudamos os operadores relacionais, aprendemos a obter o valor lógico entre dois operandos, que pode ser verdadeiro (True) ou falso (False). Esses valores, *True* e *False* são do tipo Booleano.\n",
        "\n",
        "A função dos operadores lógicos é unir duas ou mais expressões ligando-as com os **conectivos lógicos matemáticos** que são, o conectivo **E** (*and*) e o conectivo **OU** (*or*).\n",
        "\n",
        "##Valor lógico, o tipo de dado booleano\n",
        "O tipo de dado booleano, que em Python é representado pela classe *bool*, assume um dentre dois valores possíveis: *True* (verdadeiro) ou *False* (falso). Esses valores também podem ser representados pelos números **1** (verdadeiro) ou **0** (falso).\n",
        "\n",
        "A palavra booleano vem do sobrenome do filósofo e matemático George Boole, o criador da Álgebra Booleana."
      ]
    },
    {
      "cell_type": "markdown",
      "metadata": {
        "id": "anN8QYiIOYBM",
        "colab_type": "text"
      },
      "source": [
        "##Conectivos lógicos\n",
        "Existem dois conectivos lógicos que conhecemos bem, mas não necessariamente com esse nome. Eles são o **conectivo de conjunção**, **E** (*and*) e o **conectivo de disjunção OU** (*or*)\n",
        ".\n",
        "Na frase “A e B são caracteres iguais.”, temos uma expressão lógica que também pode ser representada através da linguagem matemática, ou com o uso de uma linguagem de programação. \n",
        "\n",
        "Resumindo, os **conectivos lógicos** devem ser entendidos como ferramenta de notação utilizada para unir duas ou mais expressões, tendo como resultada dessa união, uma nova expressão."
      ]
    },
    {
      "cell_type": "markdown",
      "metadata": {
        "id": "GNPQKVLaObjq",
        "colab_type": "text"
      },
      "source": [
        "##Tabela de valores lógicos\n",
        "p | q | p and q\n",
        "--- | --- | --- \n",
        "True | True | **True**\n",
        "True | False | False\n",
        "False |True | False\n",
        "False | False | False\n",
        "\n",
        "__________\n",
        "\n",
        "p | q | p or q\n",
        "--- | --- | --- \n",
        "True | True | True\n",
        "True | False | True\n",
        "False | True | True\n",
        "False | False | **False**\n",
        "\n",
        "Vejamos alguns exemplos:"
      ]
    },
    {
      "cell_type": "code",
      "metadata": {
        "id": "_ERKXS0POfD_",
        "colab_type": "code",
        "colab": {}
      },
      "source": [
        "x = 1 #Verifique que um único sinal de igual (=) no Python tem a função de atribuição.\n",
        "(x > 0) and (x<100)"
      ],
      "execution_count": 0,
      "outputs": []
    },
    {
      "cell_type": "code",
      "metadata": {
        "id": "Ow5tPfHnOjdA",
        "colab_type": "code",
        "colab": {}
      },
      "source": [
        "x = 1\n",
        "(x > 0) or (x < 100)"
      ],
      "execution_count": 0,
      "outputs": []
    },
    {
      "cell_type": "code",
      "metadata": {
        "id": "eu8Na4CEOnvp",
        "colab_type": "code",
        "colab": {}
      },
      "source": [
        "x =1 \n",
        "y = 102\n",
        "(x > 0) and (y < 100)"
      ],
      "execution_count": 0,
      "outputs": []
    },
    {
      "cell_type": "code",
      "metadata": {
        "id": "UY9GbKAMOqzw",
        "colab_type": "code",
        "colab": {}
      },
      "source": [
        "x =1\n",
        "y = 102\n",
        "(x > 0) or (y < 100)"
      ],
      "execution_count": 0,
      "outputs": []
    },
    {
      "cell_type": "markdown",
      "metadata": {
        "id": "jBr2z5AlfBS1",
        "colab_type": "text"
      },
      "source": [
        "#Exercício 1:\n",
        "Escreva um programa que imprima somente os valores que são múltiplos de 157. Esses são os valores a serem verificados e devem ser informados pelo usuário: 5751, 7379, 3103, 7520, 6028, 8780, 1056, 1050, 1256, 7222, 5846, 8380, 1884, 3413, 4867."
      ]
    },
    {
      "cell_type": "markdown",
      "metadata": {
        "id": "DU0VCUMeOt8R",
        "colab_type": "text"
      },
      "source": [
        "#Exercício 2:\n",
        "Escreva um programa que aceite dois números como entrada pelo usuário e verifique se estes números estão entre o intervalo fechado de 0 a 100."
      ]
    },
    {
      "cell_type": "code",
      "metadata": {
        "id": "-ofIjpZFOxJs",
        "colab_type": "code",
        "colab": {}
      },
      "source": [
        ""
      ],
      "execution_count": 0,
      "outputs": []
    },
    {
      "cell_type": "markdown",
      "metadata": {
        "id": "8VM7dA4cO1UU",
        "colab_type": "text"
      },
      "source": [
        "#Fatorando um número inteiro\n",
        "Um divisor, ou fator, é um número que se divide uniformemente em um número inteiro maior.\n",
        "\n",
        "Quando um número inteiro diferente de zero, **a**, divide outro número inteiro **b**, e o resto é 0 (zero), **a** é considerado um fator de **b**. Por exemplo, 2 (dois) é um fator de todos os números inteiros pares. Podemos escrever uma função como a apresentada abaixo para descobrir se qualquer número inteiro diferente de zero, **a**, é um fator de qualquer outro inteiro, **b**:\n",
        "\n",
        "O operador **%** (módulo) já foi apresentado na primeira aula. Então, para verificarmos se 4 (quatro) é um fator de 1024 (mil e vinte e quatro), podemos usar a função *is_factor()*:"
      ]
    },
    {
      "cell_type": "code",
      "metadata": {
        "id": "c2RYLQFfO4uH",
        "colab_type": "code",
        "colab": {}
      },
      "source": [
        "def is_factor(a,b):\n",
        "  if b % a == 0:\n",
        "    return True\n",
        "  else:\n",
        "    return False\n",
        "\n",
        "is_factor(4, 1024)"
      ],
      "execution_count": 0,
      "outputs": []
    },
    {
      "cell_type": "markdown",
      "metadata": {
        "id": "VugS4qLGO-ap",
        "colab_type": "text"
      },
      "source": [
        "#Exercício 3:\n",
        "Escreva um programa que verifique se 147 é um fator de 360."
      ]
    },
    {
      "cell_type": "code",
      "metadata": {
        "id": "wTOEuA8hPCCS",
        "colab_type": "code",
        "colab": {}
      },
      "source": [
        ""
      ],
      "execution_count": 0,
      "outputs": []
    },
    {
      "cell_type": "markdown",
      "metadata": {
        "id": "0tft0Xs0PCa0",
        "colab_type": "text"
      },
      "source": [
        "#Introdução a Iteração ou Estrutura de Repetição\n",
        "Iterar é a ação de repetir algo. Na programação, iteração significa a repetição de um conjunto de instruções por uma quantidade finita de vezes ou então, enquanto uma condição for aceita.\n",
        "\n",
        "As estruturas de repetição são utilizadas quando queremos que um bloco de código seja executado várias vezes."
      ]
    },
    {
      "cell_type": "markdown",
      "metadata": {
        "id": "Ne6HS4zwPKTN",
        "colab_type": "text"
      },
      "source": [
        "#Exercício 4:\n",
        "Escreva um programa, sem utilizar as estruturas de repetição, que imprima 20 vezes a seguinte frase \"As estruturas de repetição são muito importantes!\"."
      ]
    },
    {
      "cell_type": "code",
      "metadata": {
        "id": "CvTurpKHPLMi",
        "colab_type": "code",
        "colab": {}
      },
      "source": [
        ""
      ],
      "execution_count": 0,
      "outputs": []
    },
    {
      "cell_type": "markdown",
      "metadata": {
        "id": "NEkJSO-TPOVD",
        "colab_type": "text"
      },
      "source": [
        "#Exercício 5:\n",
        "Achou fácil?\n",
        "Agora escreva um programa que imprima 1000 (mil) vezes a mesma frase a cima \"As estruturas de repetição são muito importantes!\". Também não é permitido utilizar as estruturas de repetição!"
      ]
    },
    {
      "cell_type": "code",
      "metadata": {
        "id": "Vj238A3yPPJo",
        "colab_type": "code",
        "colab": {}
      },
      "source": [
        ""
      ],
      "execution_count": 0,
      "outputs": []
    },
    {
      "cell_type": "markdown",
      "metadata": {
        "id": "yqotWWEEPR-d",
        "colab_type": "text"
      },
      "source": [
        "Em quantas linhas você escreveu seu código?\n",
        "Desistiu logo no segundo exercício? Achou que mil era muita coisa?\n",
        "\n",
        "Pois é, temos que entender que para mantermos um código limpo, que possa ser entendido por todos, que facilite a manutenção e que possa automatizar funções (esse é o motivo do computador e das linguagem de programação terem surgido), precisamos e muito das estruturas de repetições.\n",
        "\n",
        "Então, vamos ver agora como podemos escrever os dois programas acima, para imprimir vinte ou mil vezes a mesma frase, utilizando a mesma quantidade de linhas para escrever ambos os códigos."
      ]
    },
    {
      "cell_type": "markdown",
      "metadata": {
        "id": "xfVGWKjOPUwC",
        "colab_type": "text"
      },
      "source": [
        "Em Python, existem duas formas de criar uma estrutura de repetição, através das instruções *for* ou *while*.\n",
        "\n",
        "#A instrução *for*\n",
        "A instrução *for* é utilizada quando se quer iterar sobre um bloco de código um número de vezes determinado, isto é, você sabe quantas vezes precisará que aquele código seja repetido.\n"
      ]
    },
    {
      "cell_type": "code",
      "metadata": {
        "id": "Ga3WhklMmhmI",
        "colab_type": "code",
        "colab": {}
      },
      "source": [
        "for n in range(0, 20):\n",
        "  print (\"As estruturas de repetição são muito importantes!\")"
      ],
      "execution_count": 0,
      "outputs": []
    },
    {
      "cell_type": "markdown",
      "metadata": {
        "id": "gTNEd3jfPYVY",
        "colab_type": "text"
      },
      "source": [
        "#A instrução while\n",
        "A instrução $while$ é utilizada quando queremos que o bloco de código seja repetido até que uma condição seja satisfeita. Ou seja, é necessário que uma expressão booleana se mantenha verdadeira para que esse bloco de código continue a ser executado. Assim que essa expressão se tornar falsa, o bloco *while* irá parar.\n",
        "\n",
        "**Nota:** Na linguagem Python a indentação é obrigatória. assim como nas estruturas de controle, as estruturas de repetição também precisam ter uma identação correta para que o Python possa identificar os blocos de código.\n",
        "\n",
        "Então, vamos resolver as questões que vimos a cima e se tornaram muito trabalhosas por exigir a repetição de uma função muitas vezes. Usem as instruções *for* e *while* para revolser os exercícios."
      ]
    },
    {
      "cell_type": "markdown",
      "metadata": {
        "id": "wWDkHNPGPiK8",
        "colab_type": "text"
      },
      "source": [
        "Agora que já vimos como o *for* funciona, vamos resolver a mesma questão usando o *while*."
      ]
    },
    {
      "cell_type": "code",
      "metadata": {
        "id": "UyWIGumAPmbq",
        "colab_type": "code",
        "colab": {}
      },
      "source": [
        "n = 0\n",
        "while (n < 20):\n",
        "  print (\"As estruturas de repetição são muito importantes!\")\n",
        "  n += 1 #essa linha é a mesma coisa que escrever n = n + 1"
      ],
      "execution_count": 0,
      "outputs": []
    },
    {
      "cell_type": "markdown",
      "metadata": {
        "id": "GWa-YnR5Pe9A",
        "colab_type": "text"
      },
      "source": [
        "#Exercício 6:\n",
        "Resolva a sequinte questão: Como posso provar que tenho 20 linhas como saída no programa a cima, sem precisar contá-las?"
      ]
    },
    {
      "cell_type": "code",
      "metadata": {
        "id": "yck70qqtPh-T",
        "colab_type": "code",
        "colab": {}
      },
      "source": [
        ""
      ],
      "execution_count": 0,
      "outputs": []
    },
    {
      "cell_type": "markdown",
      "metadata": {
        "id": "cFmH_jB8PuFj",
        "colab_type": "text"
      },
      "source": [
        "#Exercício 7:\n",
        "Escreva um programa que receba como entrada dois números,  **a** e **b** e verifique se **a** é um fator de **b**. O programa deverá receber de entrada dois valores inteiros e exibir na saída, independente do resultado ser verdadeiro ou falso, uma resposta ao usuário. Faça o tratamento de erros.\n"
      ]
    },
    {
      "cell_type": "markdown",
      "metadata": {
        "id": "fdi9LPpRP2Tc",
        "colab_type": "text"
      },
      "source": [
        "#Exercício 8:\n",
        "Escreva um programa que imprima a tabuada do 8.\n"
      ]
    },
    {
      "cell_type": "markdown",
      "metadata": {
        "id": "ugrY_YkYP6Pb",
        "colab_type": "text"
      },
      "source": [
        "#Exercício 9:\n",
        "Escreva um programa que receba um número de entrada e imprima a tabuada desse número. Faça o tratamento de erros. "
      ]
    },
    {
      "cell_type": "markdown",
      "metadata": {
        "id": "Z7Jr3PawP-pD",
        "colab_type": "text"
      },
      "source": [
        "#Exercício 10:\n",
        "Escreva um programa que receba um número como   entrada e determine se este número é par ou ímpar  e informe o resultado ao usuário.  Faça o tratamento de erros."
      ]
    },
    {
      "cell_type": "markdown",
      "metadata": {
        "id": "Cq7JOu4nQCYu",
        "colab_type": "text"
      },
      "source": [
        "#Exercício 11:\n",
        "Escreva um programa que imprima todos os números ímpares no intervalo aberto de 1 a 500."
      ]
    },
    {
      "cell_type": "markdown",
      "metadata": {
        "id": "rGN6Yq71QF3G",
        "colab_type": "text"
      },
      "source": [
        "#Exercício 12:\n",
        "Escreva um programa que receba um número como entrada pelo usuário e diga se esse número é  ou não primo. O progroma deverá continuar a ler esses números até que o usuário digite 0. Faça o tratamento de erros."
      ]
    }
  ]
}