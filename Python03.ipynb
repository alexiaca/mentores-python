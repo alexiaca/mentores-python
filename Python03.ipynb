{
  "nbformat": 4,
  "nbformat_minor": 0,
  "metadata": {
    "colab": {
      "name": "Python-3.ipynb",
      "provenance": [],
      "toc_visible": true,
      "authorship_tag": "ABX9TyMR+3EWIErTwV1iSfAF9awP",
      "include_colab_link": true
    },
    "kernelspec": {
      "name": "python3",
      "display_name": "Python 3"
    }
  },
  "cells": [
    {
      "cell_type": "markdown",
      "metadata": {
        "id": "view-in-github",
        "colab_type": "text"
      },
      "source": [
        "<a href=\"https://colab.research.google.com/github/alexiaca/mentores-python/blob/master/Python03.ipynb\" target=\"_parent\"><img src=\"https://colab.research.google.com/assets/colab-badge.svg\" alt=\"Open In Colab\"/></a>"
      ]
    },
    {
      "cell_type": "markdown",
      "metadata": {
        "id": "EzK8dnbL3QzW",
        "colab_type": "text"
      },
      "source": [
        "#Conhecendo mais recursos da linguagem Python\n",
        "Agora que já aprendemos alguns conceitos básicos, podemos combinar eles com as instruções condicionais e de loop do Python para criar alguns programas que são um pouco mais avançados e úteis. \n",
        "\n"
      ]
    },
    {
      "cell_type": "markdown",
      "metadata": {
        "id": "5JfQ5B5T0HWe",
        "colab_type": "text"
      },
      "source": [
        "#Tomada de decisão\n",
        "A tomada de decisão, também chamada de desvio condicional, é  uma prática comum no desenvolvimento de software. Essa estrutura é utilizada para verificar expressões e assim decidir qual bloco de instrução deve ser executado, isto é, dependendo do resultando, que pode ser *True* (Verdadeiro) ou *False* (Falso), o programa executa um determinado bloco de instrução.\n",
        "\n"
      ]
    },
    {
      "cell_type": "markdown",
      "metadata": {
        "id": "zJ-h3MLx0QUV",
        "colab_type": "text"
      },
      "source": [
        "##A instrução if\n",
        "*If*, que significa “se” em português, é uma estrutura condicional onde podemos determinar o que deve acontecer mediando o valor lógico retornado, isto é, se for *True*, faça isso, se for *False*, faça aquilo.\n",
        "As expressões definidas no cabeçalho da estrutura *if* utilizam os operadores relacionais na construção das expressões, seja de maneira implicita ou explicita.\n",
        "\n",
        "Vamos ver na prática, como funciona o *if*, com o exemplo a seguir que irá verificar se o número fornecido pelo usuário é maior do que 0 (zero)."
      ]
    },
    {
      "cell_type": "code",
      "metadata": {
        "id": "n4T8g2d3DHec",
        "colab_type": "code",
        "colab": {
          "base_uri": "https://localhost:8080/",
          "height": 52
        },
        "outputId": "a1b9f405-024b-498b-bc74-9bfed4b58cd2"
      },
      "source": [
        "num = int(input (\"Digite um número:\"))\n",
        "if (num > 0):\n",
        "  print (\"O número digitado é maior do que zero.\")"
      ],
      "execution_count": 9,
      "outputs": [
        {
          "output_type": "stream",
          "text": [
            "Digite um número:3\n",
            "O número digitado é maior do que zero.\n"
          ],
          "name": "stdout"
        }
      ]
    },
    {
      "cell_type": "markdown",
      "metadata": {
        "id": "hFXmrw4QD59y",
        "colab_type": "text"
      },
      "source": [
        "Verifique que, no caso do usuário informar um número menor do que 0 (zero), ele fica sem um feedback, isto é, uma resposta do programa. Então, para corrigir esta questão, vamos alterar o código acima, de forma a sempre oferecer um feedback ao usuário, quer a operação seja True ou False."
      ]
    },
    {
      "cell_type": "code",
      "metadata": {
        "id": "Azl20nh0EPay",
        "colab_type": "code",
        "colab": {
          "base_uri": "https://localhost:8080/",
          "height": 52
        },
        "outputId": "6e46e46a-530a-4380-f96b-841cd8f2f386"
      },
      "source": [
        "num = int(input (\"Digite um número:\"))\n",
        "if (num > 0):\n",
        "  print (\"O número digitado é maior do que zero.\")\n",
        "else:\n",
        "  print (\"O número digitado é menor do que zero.\")"
      ],
      "execution_count": 11,
      "outputs": [
        {
          "output_type": "stream",
          "text": [
            "Digite um número:-3\n",
            "O número digitado é menor do que zero.\n"
          ],
          "name": "stdout"
        }
      ]
    },
    {
      "cell_type": "markdown",
      "metadata": {
        "id": "Q0ghbslfGZ0g",
        "colab_type": "text"
      },
      "source": [
        "##A instrução else\n",
        "A tomada de decisão é composta por uma expressão a ser avaliada e pelo que deve ocorrer caso a expressão seja verdadeira ou então, caso a expressão seja falsa. Por padrão, o bloco de instrução que estiver abaixo da instrução *if* será executado quando a expressão contida na estrutura *if* for verdadeira.\n",
        "A instrução *else* por sua vez, é um complemento da estrutura *if*. A palavra *else*, que significa “senão”, determina o bloco que será executado todas as vezes que a expressão definida for falsa.\n",
        "Resumindo, o bloco que estiver na linha seguinte a instrução *if* será executado toda vez que a expressão for **verdadeira** e o bloco que estiver na linha seguinte a instrução *else* será executado toda vez que a expressão for **falsa**."
      ]
    },
    {
      "cell_type": "markdown",
      "metadata": {
        "id": "iW84aiFCHs8A",
        "colab_type": "text"
      },
      "source": [
        "##Operadores relacionais em Python\n",
        "Descrição | Operador\n",
        "--- | ---\n",
        "Maior que | >\n",
        "Menor que | <\n",
        "Igual a | ==\n",
        "\n",
        "Como podemos ver, existem 3 operadores relacionais simples em Python. O operador que verifica se um operando **é maior** do que outro. O operador que verifica se um operando **é menor** do que outro e por fim, o operador que verifica se ambos os operandos **são iguais**.\n",
        "\n",
        "Além dos **operadores relacionais simples**, nós também temos os **operadores relacionais compostos**, que são formados pela junção de 2 (dois) operadores relacionais simples e a a função deles é simplificar as expressões. \n",
        "\n",
        "Descrição | Operador\n",
        "--- | ---\n",
        "Maior ou igual a | >=\n",
        "Menor ou igual a | <="
      ]
    },
    {
      "cell_type": "markdown",
      "metadata": {
        "id": "A9FeObRFfWlz",
        "colab_type": "text"
      },
      "source": [
        "#Introdução aos operadores lógicos\n",
        "Os operadores lógicos unem expressões lógicas formando assim, uma nova expressão, que é composta por duas ou mais sub-expressões. O resultado lógico de expressões compostas será a relação entre as sub-expressões. Como estudamos, toda **expressão lógica** avaliada resultará em um **valor lógico** e a relação entre vários valores lógicos é um outro valor lógico.\n",
        "\n",
        "Quando estudamos os operadores relacionais, aprendemos a obter o valor lógico entre dois operandos, que pode ser verdadeiro (True) ou falso (False). Esses valores, *True* e *False* são do tipo Booleano.\n",
        "\n",
        "A função dos operadores lógicos é unir duas ou mais expressões ligando-as com os **conectivos lógicos matemáticos** que são, o conectivo **E** (*and*) e o conectivo **OU** (*or*).\n",
        "\n",
        "##Valor lógico, o tipo de dado booleano\n",
        "O tipo de dado booleano, que em Python é representado pela classe *bool*, assume um dentre dois valores possíveis: *True* (verdadeiro) ou *False* (falso). Esses valores também podem ser representados pelos números **1** (verdadeiro) ou **0** (falso).\n",
        "\n",
        "A palavra booleano vem do sobrenome do filósofo e matemático George Boole, o criador da Álgebra Booleana.\n",
        "\n"
      ]
    },
    {
      "cell_type": "markdown",
      "metadata": {
        "id": "QpeKpqK01UFJ",
        "colab_type": "text"
      },
      "source": [
        "##Conectivos lógicos\n",
        "Existem dois conectivos lógicos que conhecemos bem, mas não necessariamente com esse nome. Eles são o **conectivo de conjunção**, **E** (*and*) e o **conectivo de disjunção OU** (*or*)\n",
        ".\n",
        "Na frase “A e B são caracteres iguais.”, temos uma expressão lógica que também pode ser representada através da linguagem matemática, ou com o uso de uma linguagem de programação. \n",
        "\n",
        "Resumindo, os **conectivos lógicos** devem ser entendidos como ferramenta de notação utilizada para unir duas ou mais expressões, tendo como resultada dessa união, uma nova expressão.\n",
        "\n"
      ]
    },
    {
      "cell_type": "markdown",
      "metadata": {
        "id": "Lavfqd851aGp",
        "colab_type": "text"
      },
      "source": [
        "##Tabela de valores lógicos\n",
        "p | q | p and q\n",
        "--- | --- | --- \n",
        "True | True | **True**\n",
        "True | False | False\n",
        "False |True | False\n",
        "False | False | False\n",
        "\n",
        "__________\n",
        "\n",
        "p | q | p or q\n",
        "--- | --- | --- \n",
        "True | True | True\n",
        "True | False | True\n",
        "False | True | True\n",
        "False | False | **False**\n",
        "\n",
        "Vejamos alguns exemplos:"
      ]
    },
    {
      "cell_type": "code",
      "metadata": {
        "id": "Dh_c3S7rjdKF",
        "colab_type": "code",
        "colab": {
          "base_uri": "https://localhost:8080/",
          "height": 35
        },
        "outputId": "4dde3209-d6c0-4263-8bcd-48529628ff35"
      },
      "source": [
        "x = 1 #Verifique que um único sinal de igual (=) no Python tem a função de atribuição.\n",
        "(x > 0) and (x<100)"
      ],
      "execution_count": 12,
      "outputs": [
        {
          "output_type": "execute_result",
          "data": {
            "text/plain": [
              "True"
            ]
          },
          "metadata": {
            "tags": []
          },
          "execution_count": 12
        }
      ]
    },
    {
      "cell_type": "code",
      "metadata": {
        "id": "7TbyqBN6ki9e",
        "colab_type": "code",
        "colab": {
          "base_uri": "https://localhost:8080/",
          "height": 35
        },
        "outputId": "eaad1bed-f48c-4a31-d937-11d206d231af"
      },
      "source": [
        "x = 1\n",
        "(x > 0) or (x < 100)"
      ],
      "execution_count": 13,
      "outputs": [
        {
          "output_type": "execute_result",
          "data": {
            "text/plain": [
              "True"
            ]
          },
          "metadata": {
            "tags": []
          },
          "execution_count": 13
        }
      ]
    },
    {
      "cell_type": "code",
      "metadata": {
        "id": "Gm1mdnCOk2m8",
        "colab_type": "code",
        "colab": {
          "base_uri": "https://localhost:8080/",
          "height": 35
        },
        "outputId": "dca595f6-9106-4168-fab8-82cc13127b0f"
      },
      "source": [
        "x =1 \n",
        "y = 102\n",
        "(x > 0) and (y < 100)"
      ],
      "execution_count": 14,
      "outputs": [
        {
          "output_type": "execute_result",
          "data": {
            "text/plain": [
              "False"
            ]
          },
          "metadata": {
            "tags": []
          },
          "execution_count": 14
        }
      ]
    },
    {
      "cell_type": "code",
      "metadata": {
        "id": "lKOJpWMolCjN",
        "colab_type": "code",
        "colab": {
          "base_uri": "https://localhost:8080/",
          "height": 35
        },
        "outputId": "35ac9894-1caa-475c-ab8b-e200262b6652"
      },
      "source": [
        "x =1\n",
        "y = 102\n",
        "(x > 0) or (y < 100)"
      ],
      "execution_count": 15,
      "outputs": [
        {
          "output_type": "execute_result",
          "data": {
            "text/plain": [
              "True"
            ]
          },
          "metadata": {
            "tags": []
          },
          "execution_count": 15
        }
      ]
    },
    {
      "cell_type": "markdown",
      "metadata": {
        "id": "_OToEwgolvhT",
        "colab_type": "text"
      },
      "source": [
        "#Exercício 1:\n",
        "Escreva um programa que aceite dois números como entrada pelo usuário e verifique se este número está entre o intervalo fechado de 0 a 100."
      ]
    },
    {
      "cell_type": "code",
      "metadata": {
        "id": "Eop1tSISmOpG",
        "colab_type": "code",
        "colab": {}
      },
      "source": [
        ""
      ],
      "execution_count": 0,
      "outputs": []
    },
    {
      "cell_type": "markdown",
      "metadata": {
        "id": "_DLBkKHnDEeE",
        "colab_type": "text"
      },
      "source": [
        "#Fatorando um número inteiro\n",
        "Um divisor, ou fator, é um número que se divide uniformemente em um número inteiro maior.\n",
        "\n",
        "Quando um número inteiro diferente de zero, **a**, divide outro número inteiro **b**, e o resto é 0 (zero), **a** é considerado um fator de **b**. Por exemplo, 2 (dois) é um fator de todos os números inteiros pares. Podemos escrever uma função como a apresentada abaixo para descobrir se qualquer número inteiro diferente de zero, **a**, é um fator de qualquer outro inteiro, **b**:\n",
        "\n",
        "O operador **%** (módulo) já foi apresentado na primeira aula. Então, para verificarmos se 4 (quatro) é um fator de 1024 (mil e vinte e quatro), podemos usar a função *is_factor()*:"
      ]
    },
    {
      "cell_type": "code",
      "metadata": {
        "id": "962mzK1r4Q1t",
        "colab_type": "code",
        "colab": {
          "base_uri": "https://localhost:8080/",
          "height": 35
        },
        "outputId": "5ec8c116-4eca-4420-d2b3-5616ef72bf19"
      },
      "source": [
        "def is_factor(a,b):\n",
        "  if b % a == 0:\n",
        "    return True\n",
        "  else:\n",
        "    return False\n",
        "\n",
        "is_factor(4, 1024)"
      ],
      "execution_count": 2,
      "outputs": [
        {
          "output_type": "execute_result",
          "data": {
            "text/plain": [
              "True"
            ]
          },
          "metadata": {
            "tags": []
          },
          "execution_count": 2
        }
      ]
    },
    {
      "cell_type": "markdown",
      "metadata": {
        "id": "c7Q--c755AmZ",
        "colab_type": "text"
      },
      "source": [
        "#Exercício 2:\n",
        "Escreva um programa que verifique se 147 é um fator de 360."
      ]
    },
    {
      "cell_type": "code",
      "metadata": {
        "id": "Fbvl7XIu5pJT",
        "colab_type": "code",
        "colab": {}
      },
      "source": [
        ""
      ],
      "execution_count": 0,
      "outputs": []
    },
    {
      "cell_type": "markdown",
      "metadata": {
        "id": "wYUo1UBxHBZm",
        "colab_type": "text"
      },
      "source": [
        "#Introdução a Iteração ou Estrutura de Repetição\n",
        "Iterar é a ação de repetir algo. Na programação, iteração significa a repetição de um conjunto de instruções por uma quantidade finita de vezes ou então, enquanto uma condição for aceita.\n",
        "\n",
        "As estruturas de repetição são utilizadas quando queremos que um bloco de código seja executado várias vezes."
      ]
    },
    {
      "cell_type": "markdown",
      "metadata": {
        "id": "FuVSQKIjovoe",
        "colab_type": "text"
      },
      "source": [
        "#Exercício 3:\n",
        "Escreva um programa, sem utilizar as estruturas de repetição, que imprima 20 vezes a seguinte frase \"As estruturas de repetição são muito importantes!\"."
      ]
    },
    {
      "cell_type": "code",
      "metadata": {
        "id": "uBp0OFF2o7Zp",
        "colab_type": "code",
        "colab": {}
      },
      "source": [
        ""
      ],
      "execution_count": 0,
      "outputs": []
    },
    {
      "cell_type": "markdown",
      "metadata": {
        "id": "ZWvPyKCopFv2",
        "colab_type": "text"
      },
      "source": [
        "#Exercício 4:\n",
        "Achou fácil?\n",
        "Agora escreva um programa que imprima 1000 (mil) vezes a mesma frase a cima \"As estruturas de repetição são muito importantes!\". Também não é permitido utilizar as estruturas de repetição!"
      ]
    },
    {
      "cell_type": "code",
      "metadata": {
        "id": "LOljLpEkpUps",
        "colab_type": "code",
        "colab": {}
      },
      "source": [
        ""
      ],
      "execution_count": 0,
      "outputs": []
    },
    {
      "cell_type": "markdown",
      "metadata": {
        "id": "nsGpc4X-pVpO",
        "colab_type": "text"
      },
      "source": [
        "Em quantas linhas você escreveu seu código?\n",
        "Desistiu logo no segundo exercício? Achou que mil era muita coisa?\n",
        "\n",
        "Pois é, temos que entender que para mantermos um código limpo, que possa ser entendido por todos, que facilite a manutenção e que possa automatizar funções (esse é o motivo do computador e das linguagem de programação terem surgido), precisamos e muito das estruturas de repetições.\n",
        "\n",
        "Então, vamos ver agora como podemos escrever os dois programas acima, para imprimir vinte ou mil vezes a mesma frase, utilizando a mesma quantidade de linhas para escrever ambos os códigos."
      ]
    },
    {
      "cell_type": "markdown",
      "metadata": {
        "id": "5EBlLHxeqRXY",
        "colab_type": "text"
      },
      "source": [
        "Em Python, existem duas formas de criar uma estrutura de repetição, através das instruções *for* ou *while*.\n",
        "\n",
        "##A instrução *for*\n",
        "A instrução *for* é utilizada quando se quer iterar sobre um bloco de código um número de vezes determinado, isto é, você sabe quantas vezes precisará que aquele código seja repetido.\n"
      ]
    },
    {
      "cell_type": "markdown",
      "metadata": {
        "id": "AdvlgjVV14xW",
        "colab_type": "text"
      },
      "source": [
        "##A instrução while\n",
        "A instrução $while$ é utilizada quando queremos que o bloco de código seja repetido até que uma condição seja satisfeita. Ou seja, é necessário que uma expressão booleana se mantenha verdadeira para que esse bloco de código continue a ser executado. Assim que essa expressão se tornar falsa, o bloco *while* irá parar.\n",
        "\n",
        "**Nota:** Na linguagem Python a indentação é obrigatória. assim como nas estruturas de controle, as estruturas de repetição também precisam ter uma identação correta para que o Python possa identificar os blocos de código.\n",
        "\n",
        "Então, vamos resolver as questões que vimos a cima e se tornaram muito trabalhosas por exigir a repetição de uma função muitas vezes. Usem as instruções *for* e *while* para revolser os exercícios."
      ]
    },
    {
      "cell_type": "code",
      "metadata": {
        "id": "DBKk1t9_wgId",
        "colab_type": "code",
        "colab": {
          "base_uri": "https://localhost:8080/",
          "height": 363
        },
        "outputId": "40892094-14cf-43d4-952a-7af08a140760"
      },
      "source": [
        "for n in range(0, 20):\n",
        "  print (\"As estruturas de repetição são muito importantes!\")"
      ],
      "execution_count": 25,
      "outputs": [
        {
          "output_type": "stream",
          "text": [
            "As estruturas de repetição são muito importantes!\n",
            "As estruturas de repetição são muito importantes!\n",
            "As estruturas de repetição são muito importantes!\n",
            "As estruturas de repetição são muito importantes!\n",
            "As estruturas de repetição são muito importantes!\n",
            "As estruturas de repetição são muito importantes!\n",
            "As estruturas de repetição são muito importantes!\n",
            "As estruturas de repetição são muito importantes!\n",
            "As estruturas de repetição são muito importantes!\n",
            "As estruturas de repetição são muito importantes!\n",
            "As estruturas de repetição são muito importantes!\n",
            "As estruturas de repetição são muito importantes!\n",
            "As estruturas de repetição são muito importantes!\n",
            "As estruturas de repetição são muito importantes!\n",
            "As estruturas de repetição são muito importantes!\n",
            "As estruturas de repetição são muito importantes!\n",
            "As estruturas de repetição são muito importantes!\n",
            "As estruturas de repetição são muito importantes!\n",
            "As estruturas de repetição são muito importantes!\n",
            "As estruturas de repetição são muito importantes!\n"
          ],
          "name": "stdout"
        }
      ]
    },
    {
      "cell_type": "markdown",
      "metadata": {
        "id": "ZsRsRwh8xQy_",
        "colab_type": "text"
      },
      "source": [
        "#Exercício 5:\n",
        "Resolva a sequinte questão: Como posso provar que tenho 20 linhas como saída no programa a cima, sem precisar contá-las?"
      ]
    },
    {
      "cell_type": "code",
      "metadata": {
        "id": "22EvPxU4xuxd",
        "colab_type": "code",
        "colab": {}
      },
      "source": [
        ""
      ],
      "execution_count": 0,
      "outputs": []
    },
    {
      "cell_type": "markdown",
      "metadata": {
        "id": "ecOWcs5gyNg1",
        "colab_type": "text"
      },
      "source": [
        "Agora que já vimos como o *for* funciona, vamos resolver a mesma questão usando o *while*."
      ]
    },
    {
      "cell_type": "code",
      "metadata": {
        "id": "wWtt4Kc7yU2G",
        "colab_type": "code",
        "colab": {
          "base_uri": "https://localhost:8080/",
          "height": 363
        },
        "outputId": "186d075a-6ed5-4483-fc18-f1d6f68f5030"
      },
      "source": [
        "n = 0\n",
        "while (n < 20):\n",
        "  print (n, \" - As estruturas de repetição são muito importantes!\")\n",
        "  n += 1 #essa linha é a mesma coisa que escrever n = n + 1"
      ],
      "execution_count": 23,
      "outputs": [
        {
          "output_type": "stream",
          "text": [
            "0  - As estruturas de repetição são muito importantes!\n",
            "1  - As estruturas de repetição são muito importantes!\n",
            "2  - As estruturas de repetição são muito importantes!\n",
            "3  - As estruturas de repetição são muito importantes!\n",
            "4  - As estruturas de repetição são muito importantes!\n",
            "5  - As estruturas de repetição são muito importantes!\n",
            "6  - As estruturas de repetição são muito importantes!\n",
            "7  - As estruturas de repetição são muito importantes!\n",
            "8  - As estruturas de repetição são muito importantes!\n",
            "9  - As estruturas de repetição são muito importantes!\n",
            "10  - As estruturas de repetição são muito importantes!\n",
            "11  - As estruturas de repetição são muito importantes!\n",
            "12  - As estruturas de repetição são muito importantes!\n",
            "13  - As estruturas de repetição são muito importantes!\n",
            "14  - As estruturas de repetição são muito importantes!\n",
            "15  - As estruturas de repetição são muito importantes!\n",
            "16  - As estruturas de repetição são muito importantes!\n",
            "17  - As estruturas de repetição são muito importantes!\n",
            "18  - As estruturas de repetição são muito importantes!\n",
            "19  - As estruturas de repetição são muito importantes!\n"
          ],
          "name": "stdout"
        }
      ]
    },
    {
      "cell_type": "markdown",
      "metadata": {
        "id": "VhJ5TMkJ5phP",
        "colab_type": "text"
      },
      "source": [
        "#Exercício 5:\n",
        "Escreva um programa que receba como entrada dois números,  **a** e **b** e verifique se **a** é um fator de **b**. O programa deverá receber de entrada dois valores inteiros e exibir na saída, independente do resultado ser verdadeiro ou falso, uma resposta ao usuário. Faça o tratamento de erros.\n"
      ]
    },
    {
      "cell_type": "markdown",
      "metadata": {
        "id": "l0Tfqonc88fs",
        "colab_type": "text"
      },
      "source": [
        "#Exercício 6:\n",
        "Escreva um programa que imprima a tabuada do 8.\n"
      ]
    },
    {
      "cell_type": "markdown",
      "metadata": {
        "id": "6EGyboFo9Bsi",
        "colab_type": "text"
      },
      "source": [
        "#Exercício 7:\n",
        "Escreva um programa que receba um número de entrada e imprima a tabuada desse número. Faça o tratamento de erros. "
      ]
    },
    {
      "cell_type": "markdown",
      "metadata": {
        "id": "ihvlAI1h9GyH",
        "colab_type": "text"
      },
      "source": [
        "#Exercício 8:\n",
        "Escreva um programa que receba um número como   entrada e determine se este número é par ou ímpar  e informe o resultado ao usuário.  Faça o tratamento de erros."
      ]
    },
    {
      "cell_type": "markdown",
      "metadata": {
        "id": "eUuoCzdr9LGH",
        "colab_type": "text"
      },
      "source": [
        "#Exercício 9:\n",
        "Escreva um programa que imprima todos os números ímpares no intervalo aberto de 1 a 500."
      ]
    },
    {
      "cell_type": "markdown",
      "metadata": {
        "id": "-vKlvtpP9P-N",
        "colab_type": "text"
      },
      "source": [
        "#Exercício 10:\n",
        "Escreva um programa que receba um número como entrada pelo usuário e diga se esse número é par o ímpar. O progroma deverá continuar a ler esses números até que o usuário digite 0. Faça o tratamento de erros."
      ]
    }
  ]
}