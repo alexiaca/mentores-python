{
  "nbformat": 4,
  "nbformat_minor": 0,
  "metadata": {
    "colab": {
      "name": "Desafio05.ipynb",
      "provenance": [],
      "authorship_tag": "ABX9TyPsD0oS0kvSWcgh4/8U2ZgD",
      "include_colab_link": true
    },
    "kernelspec": {
      "name": "python3",
      "display_name": "Python 3"
    }
  },
  "cells": [
    {
      "cell_type": "markdown",
      "metadata": {
        "id": "view-in-github",
        "colab_type": "text"
      },
      "source": [
        "<a href=\"https://colab.research.google.com/github/alexiaca/mentores-python/blob/master/Desafio05.ipynb\" target=\"_parent\"><img src=\"https://colab.research.google.com/assets/colab-badge.svg\" alt=\"Open In Colab\"/></a>"
      ]
    },
    {
      "cell_type": "markdown",
      "metadata": {
        "id": "M7zgcUMrElWX",
        "colab_type": "text"
      },
      "source": [
        "#Desafio 05\n",
        "1. Escreva um programa que receba duas expressões matemática e devolva o produto entre ambas.\n",
        "O programa deverá receber as expressões como dados de entrada do usuário, tratar os erros e ao final, devolver o resultado da multiplicação entre as expressões."
      ]
    }
  ]
}