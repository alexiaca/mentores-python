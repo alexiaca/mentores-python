{
  "nbformat": 4,
  "nbformat_minor": 0,
  "metadata": {
    "colab": {
      "name": "Desafio05.ipynb",
      "provenance": [],
      "authorship_tag": "ABX9TyNBX/JNmlydcjxGmznnWoYL",
      "include_colab_link": true
    },
    "kernelspec": {
      "name": "python3",
      "display_name": "Python 3"
    }
  },
  "cells": [
    {
      "cell_type": "markdown",
      "metadata": {
        "id": "view-in-github",
        "colab_type": "text"
      },
      "source": [
        "<a href=\"https://colab.research.google.com/github/alexiaca/mentores-python/blob/master/Desafio05.ipynb\" target=\"_parent\"><img src=\"https://colab.research.google.com/assets/colab-badge.svg\" alt=\"Open In Colab\"/></a>"
      ]
    },
    {
      "cell_type": "markdown",
      "metadata": {
        "id": "M7zgcUMrElWX",
        "colab_type": "text"
      },
      "source": [
        "#Desafio 05\n",
        "Crie uma função que recebe um número inteiro **n** e retorna uma lista contendo **n** pontos da curva dada por:\n",
        "\n",
        "$(x,\\ y) = (100\\ sin\\ t,\\ 200\\ sin\\ 2t)\\ onde\\ t\\in[0,\\ 2\\pi]$"
      ]
    }
  ]
}