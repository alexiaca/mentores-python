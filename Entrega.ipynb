{
  "nbformat": 4,
  "nbformat_minor": 0,
  "metadata": {
    "colab": {
      "name": "Entrega.ipynb",
      "provenance": [],
      "include_colab_link": true
    },
    "kernelspec": {
      "name": "python3",
      "display_name": "Python 3"
    }
  },
  "cells": [
    {
      "cell_type": "markdown",
      "metadata": {
        "id": "view-in-github",
        "colab_type": "text"
      },
      "source": [
        "<a href=\"https://colab.research.google.com/github/alexiaca/mentores-python/blob/master/Entrega.ipynb\" target=\"_parent\"><img src=\"https://colab.research.google.com/assets/colab-badge.svg\" alt=\"Open In Colab\"/></a>"
      ]
    },
    {
      "cell_type": "markdown",
      "metadata": {
        "id": "eL7K-h4Me10F",
        "colab_type": "text"
      },
      "source": [
        "#Como entregar os exercícios e desafios do curso?\n",
        "\n",
        "1. Clicar no link disponível no recurso Calendário da Plataforma Mentores.\n",
        "2. Ao abrir o notebook no navegador, clicar em *File -> Save a copy in Drive...&\n",
        "3. Ler o conteúdo da aula e realizar os exercícios, como por exemplo o proposto abaixo."
      ]
    },
    {
      "cell_type": "markdown",
      "metadata": {
        "id": "4e5fMhGtfRvX",
        "colab_type": "text"
      },
      "source": [
        "##Exercício:\n",
        "1. Imprima seu nome completo.\n",
        "\n",
        "**Obs.1:** Pare fazer esse exercício, clique na caixa de código logo abaixo dele, caso exista ou adicione uma clicando no botão + Code, localizado no canto superior esquerdo da barra de ferramentas.\n",
        "\n",
        "**Obs.2:** Para testar se seu código está funcioanando, clique no botão *Executar*, localizado no canto esquerdo da caixa de código.\n",
        "\n",
        "**Obs.3:** Se tudo estiver certo, clique na barra de endereços do seu notebook, copie o link e envie para o professor por email."
      ]
    },
    {
      "cell_type": "markdown",
      "metadata": {
        "id": "q5ae8iFiYKbE",
        "colab_type": "text"
      },
      "source": [
        "#Modelo de resposta"
      ]
    },
    {
      "cell_type": "code",
      "metadata": {
        "id": "9QCwdZfTYM42",
        "colab_type": "code",
        "colab": {
          "base_uri": "https://localhost:8080/",
          "height": 35
        },
        "outputId": "1059b9a4-0f0a-4074-cc58-6c6dc71dbfe7"
      },
      "source": [
        "\"Alexandra Camargo Alves\""
      ],
      "execution_count": 2,
      "outputs": [
        {
          "output_type": "execute_result",
          "data": {
            "application/vnd.google.colaboratory.intrinsic+json": {
              "type": "string"
            },
            "text/plain": [
              "'Alexandra Camargo Alves'"
            ]
          },
          "metadata": {
            "tags": []
          },
          "execution_count": 2
        }
      ]
    }
  ]
}