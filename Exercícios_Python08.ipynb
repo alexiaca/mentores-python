{
  "nbformat": 4,
  "nbformat_minor": 0,
  "metadata": {
    "colab": {
      "name": "Exercícios - Aula08.ipynb",
      "provenance": [],
      "toc_visible": true,
      "include_colab_link": true
    },
    "kernelspec": {
      "name": "python3",
      "display_name": "Python 3"
    }
  },
  "cells": [
    {
      "cell_type": "markdown",
      "metadata": {
        "id": "view-in-github",
        "colab_type": "text"
      },
      "source": [
        "<a href=\"https://colab.research.google.com/github/alexiaca/mentores-python/blob/master/Exerc%C3%ADcios_Python08.ipynb\" target=\"_parent\"><img src=\"https://colab.research.google.com/assets/colab-badge.svg\" alt=\"Open In Colab\"/></a>"
      ]
    },
    {
      "cell_type": "markdown",
      "metadata": {
        "id": "s6STTG-iOQDL",
        "colab_type": "text"
      },
      "source": [
        "#Exercícios - Python 08"
      ]
    },
    {
      "cell_type": "markdown",
      "metadata": {
        "id": "tMKohyL1AilP",
        "colab_type": "text"
      },
      "source": [
        "#Exercício 1\n",
        "Escreva um programa que tome a expressão $x^3 + 3x^2y + y^3 = (x + y)^3$, e obtenha a versão fatorada (lado esquerdo) e em seguida retorne a versão expandida dela (lado direito)."
      ]
    },
    {
      "cell_type": "markdown",
      "metadata": {
        "id": "YyS-dQ8Snkch",
        "colab_type": "text"
      },
      "source": [
        "#Exercício 2\n",
        "Formate a saída do programa acima para que tenha 3 casas decimais."
      ]
    },
    {
      "cell_type": "markdown",
      "metadata": {
        "id": "Gu37yTHIqj3X",
        "colab_type": "text"
      },
      "source": [
        "#Exercício 3\n",
        "Agora, experimente o programa anterior, com a seguinte expressão: x**2 + 3*x + x**3 + 2x.\n",
        "\n",
        "Explique o que aconteceu no programa e como fazê-lo funcionar como desejado."
      ]
    },
    {
      "cell_type": "code",
      "metadata": {
        "id": "_9X9IfkqskKl",
        "colab_type": "code",
        "colab": {}
      },
      "source": [
        "from sympy import sympify\n",
        "\n",
        "expr = input(\"Entre com uma expressão matemática: \")"
      ],
      "execution_count": 0,
      "outputs": []
    },
    {
      "cell_type": "markdown",
      "metadata": {
        "id": "DJqXH1JA5zmY",
        "colab_type": "text"
      },
      "source": [
        "#Exercício 4\n",
        "Escreva um programa que receba duas expressões matemática e devolva o produto entre ambas. O programa deverá receber as expressões como dados de entrada do usuário, tratar os erros e ao final, devolver o resultado da multiplicação entre as expressões."
      ]
    }
  ]
}