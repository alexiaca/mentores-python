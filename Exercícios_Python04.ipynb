{
  "nbformat": 4,
  "nbformat_minor": 0,
  "metadata": {
    "colab": {
      "name": "Exercícios -  Python04.ipynb",
      "provenance": [],
      "collapsed_sections": [],
      "toc_visible": true,
      "include_colab_link": true
    },
    "kernelspec": {
      "name": "python3",
      "display_name": "Python 3"
    }
  },
  "cells": [
    {
      "cell_type": "markdown",
      "metadata": {
        "id": "view-in-github",
        "colab_type": "text"
      },
      "source": [
        "<a href=\"https://colab.research.google.com/github/alexiaca/mentores-python/blob/master/Exerc%C3%ADcios_Python04.ipynb\" target=\"_parent\"><img src=\"https://colab.research.google.com/assets/colab-badge.svg\" alt=\"Open In Colab\"/></a>"
      ]
    },
    {
      "cell_type": "markdown",
      "metadata": {
        "id": "0pzP5L1B6PQ_",
        "colab_type": "text"
      },
      "source": [
        "#Exercícios -  Python04"
      ]
    },
    {
      "cell_type": "markdown",
      "metadata": {
        "id": "LDATl8qy7q0P",
        "colab_type": "text"
      },
      "source": [
        "#Exercício 1:\n",
        "O que acontece se passarmos somente a idade? Teste a função passando só a idade e explique o que você entendeu a partir do resultado."
      ]
    },
    {
      "cell_type": "markdown",
      "metadata": {
        "id": "eyd63gfOUcr6",
        "colab_type": "text"
      },
      "source": [
        "#Exercício 2:\n",
        "Defina uma função soma() que recebe dois números como parâmetros e calcula a soma entre eles."
      ]
    },
    {
      "cell_type": "markdown",
      "metadata": {
        "id": "lm6PAN7JUg3L",
        "colab_type": "text"
      },
      "source": [
        "#Exercício 3: \n",
        "Defina uma função tabuada, que receba um número como parâmetro e calcule seus múltiplos até 10."
      ]
    },
    {
      "cell_type": "markdown",
      "metadata": {
        "id": "RJMdcC5-WEF2",
        "colab_type": "text"
      },
      "source": [
        "#Exercício 4:\n",
        "Escreva uma função area_triangulo, que receba como parâmetro os três lados de um triângulo e calcule a área dos triângulos abaixo.\n",
        "\n",
        "![alt text](https://github.com/alexiaca/mentores-python/blob/master/t01.png?raw=true)\n",
        "![alt text](https://github.com/alexiaca/mentores-python/blob/master/t02.png?raw=true)\n",
        "![alt text](https://github.com/alexiaca/mentores-python/blob/master/t03.png?raw=true)"
      ]
    },
    {
      "cell_type": "markdown",
      "metadata": {
        "id": "60f-7JvLWwgX",
        "colab_type": "text"
      },
      "source": [
        "#Exercício 5:\n",
        "Escreva uma função area_poligono que receba como parâmetro a área de um triângulo e calcule a ârea dos polígonos abaixo. Reaproveite a função area_triangulo que você escreve no exercício acima.\n",
        "\n",
        "![alt text](https://github.com/alexiaca/mentores-python/blob/master/p01.png?raw=true)\n",
        "![alt text](https://github.com/alexiaca/mentores-python/blob/master/p02.png?raw=true)\n",
        "![alt text](https://github.com/alexiaca/mentores-python/blob/master/p03.png?raw=true)"
      ]
    },
    {
      "cell_type": "markdown",
      "metadata": {
        "id": "sC6ujhCEdcZ7",
        "colab_type": "text"
      },
      "source": [
        "#Exercício 6:\n",
        "Escreva uma função area_circulo, que receba como parâmetro o raio e retorne a área calculada."
      ]
    },
    {
      "cell_type": "markdown",
      "metadata": {
        "id": "X8W8RyeLdl2n",
        "colab_type": "text"
      },
      "source": [
        "#Exercício 7:\n",
        "Escreva uma função area_trapézio, que receba como parâmetro os lados a e b e a altura h e calcule a área de um trapézio."
      ]
    },
    {
      "cell_type": "markdown",
      "metadata": {
        "id": "k9uP22iI-JHn",
        "colab_type": "text"
      },
      "source": [
        "Nota: Esse material foi produzido a partir da compilação de materias de outros autores.\n",
        "\n",
        "1. Material disponibilizado pelo Prof. Leonardo de Oliveira Carvalho da UFF\n",
        "2. Apostila Pyton e Orientação a Objetos, disponível em https://www.caelum.com.br/apostila-python-orientacao-objetos/f"
      ]
    }
  ]
}