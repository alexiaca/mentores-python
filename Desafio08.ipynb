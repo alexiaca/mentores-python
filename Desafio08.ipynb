{
  "nbformat": 4,
  "nbformat_minor": 0,
  "metadata": {
    "colab": {
      "name": "Desafio08.ipynb",
      "provenance": [],
      "authorship_tag": "ABX9TyM26OTkJv1GUIpNG5U49+Uk",
      "include_colab_link": true
    },
    "kernelspec": {
      "name": "python3",
      "display_name": "Python 3"
    }
  },
  "cells": [
    {
      "cell_type": "markdown",
      "metadata": {
        "id": "view-in-github",
        "colab_type": "text"
      },
      "source": [
        "<a href=\"https://colab.research.google.com/github/alexiaca/mentores-python/blob/master/Desafio08.ipynb\" target=\"_parent\"><img src=\"https://colab.research.google.com/assets/colab-badge.svg\" alt=\"Open In Colab\"/></a>"
      ]
    },
    {
      "cell_type": "markdown",
      "metadata": {
        "id": "r9M_Wag6Msj_",
        "colab_type": "text"
      },
      "source": [
        "#Desafio 08\n",
        "Escreva um programa que receba duas expressões matemática e devolva o produto entre ambas.\n",
        "O programa deverá receber as expressões como dados de entrada do usuário, tratar os erros e ao final, devolver o resultado da multiplicação entre as expressões."
      ]
    }
  ]
}